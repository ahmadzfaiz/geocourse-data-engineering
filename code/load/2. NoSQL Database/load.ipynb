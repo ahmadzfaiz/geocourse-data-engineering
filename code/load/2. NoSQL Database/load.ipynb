{
 "cells": [
  {
   "cell_type": "code",
   "execution_count": 54,
   "metadata": {},
   "outputs": [],
   "source": [
    "from pymongo import MongoClient\n",
    "import fiona\n",
    "import geopandas as gpd\n",
    "import json"
   ]
  },
  {
   "cell_type": "markdown",
   "metadata": {},
   "source": [
    "## Setup MongoDB Connection"
   ]
  },
  {
   "cell_type": "code",
   "execution_count": 2,
   "metadata": {},
   "outputs": [],
   "source": [
    "mongo_uri = \"mongodb://localhost:27017\"\n",
    "\n",
    "client = MongoClient(mongo_uri)"
   ]
  },
  {
   "cell_type": "code",
   "execution_count": 3,
   "metadata": {},
   "outputs": [],
   "source": [
    "db = client.geocourse_data_engineering"
   ]
  },
  {
   "cell_type": "markdown",
   "metadata": {},
   "source": [
    "## Load data and store it to MongoDB"
   ]
  },
  {
   "cell_type": "code",
   "execution_count": 4,
   "metadata": {},
   "outputs": [],
   "source": [
    "file_path = \"../../transform/output.gpkg\""
   ]
  },
  {
   "cell_type": "code",
   "execution_count": 6,
   "metadata": {},
   "outputs": [
    {
     "data": {
      "text/plain": [
       "['airports_indonesia',\n",
       " 'brn_protected_areas',\n",
       " 'sgp_protected_areas',\n",
       " 'tls_protected_areas',\n",
       " 'twitter_word_counts',\n",
       " 'candi_jawatengah',\n",
       " 'admin_kawasan_jateng',\n",
       " 'rdtr_takengon',\n",
       " 'rdtr_takengon_vertices',\n",
       " 'indonesian_cities',\n",
       " 'twitter_users',\n",
       " 'twitter_context_annotations']"
      ]
     },
     "execution_count": 6,
     "metadata": {},
     "output_type": "execute_result"
    }
   ],
   "source": [
    "layers = fiona.listlayers(file_path)\n",
    "\n",
    "layers"
   ]
  },
  {
   "cell_type": "code",
   "execution_count": 25,
   "metadata": {},
   "outputs": [],
   "source": [
    "df_airport = gpd.read_file(file_path, layer=\"airports_indonesia\").to_geo_dict()"
   ]
  },
  {
   "cell_type": "code",
   "execution_count": 27,
   "metadata": {},
   "outputs": [
    {
     "data": {
      "text/plain": [
       "638"
      ]
     },
     "execution_count": 27,
     "metadata": {},
     "output_type": "execute_result"
    }
   ],
   "source": [
    "len(df_airport[\"features\"])"
   ]
  },
  {
   "cell_type": "code",
   "execution_count": 29,
   "metadata": {},
   "outputs": [
    {
     "data": {
      "text/plain": [
       "InsertManyResult([ObjectId('67cc7d56ca93a2f82c32d894'), ObjectId('67cc7d7eca93a2f82c32d895'), ObjectId('67cc7d7eca93a2f82c32d896'), ObjectId('67cc7d7eca93a2f82c32d897'), ObjectId('67cc7d7eca93a2f82c32d898'), ObjectId('67cc7d7eca93a2f82c32d899'), ObjectId('67cc7d7eca93a2f82c32d89a'), ObjectId('67cc7d7eca93a2f82c32d89b'), ObjectId('67cc7d7eca93a2f82c32d89c'), ObjectId('67cc7d7eca93a2f82c32d89d'), ObjectId('67cc7d7eca93a2f82c32d89e'), ObjectId('67cc7d7eca93a2f82c32d89f'), ObjectId('67cc7d7eca93a2f82c32d8a0'), ObjectId('67cc7d7eca93a2f82c32d8a1'), ObjectId('67cc7d7eca93a2f82c32d8a2'), ObjectId('67cc7d7eca93a2f82c32d8a3'), ObjectId('67cc7d7eca93a2f82c32d8a4'), ObjectId('67cc7d7eca93a2f82c32d8a5'), ObjectId('67cc7d7eca93a2f82c32d8a6'), ObjectId('67cc7d7eca93a2f82c32d8a7'), ObjectId('67cc7d7eca93a2f82c32d8a8'), ObjectId('67cc7d7eca93a2f82c32d8a9'), ObjectId('67cc7d7eca93a2f82c32d8aa'), ObjectId('67cc7d7eca93a2f82c32d8ab'), ObjectId('67cc7d7eca93a2f82c32d8ac'), ObjectId('67cc7d7eca93a2f82c32d8ad'), ObjectId('67cc7d7eca93a2f82c32d8ae'), ObjectId('67cc7d7eca93a2f82c32d8af'), ObjectId('67cc7d7eca93a2f82c32d8b0'), ObjectId('67cc7d7eca93a2f82c32d8b1'), ObjectId('67cc7d7eca93a2f82c32d8b2'), ObjectId('67cc7d7eca93a2f82c32d8b3'), ObjectId('67cc7d7eca93a2f82c32d8b4'), ObjectId('67cc7d7eca93a2f82c32d8b5'), ObjectId('67cc7d7eca93a2f82c32d8b6'), ObjectId('67cc7d7eca93a2f82c32d8b7'), ObjectId('67cc7d7eca93a2f82c32d8b8'), ObjectId('67cc7d7eca93a2f82c32d8b9'), ObjectId('67cc7d7eca93a2f82c32d8ba'), ObjectId('67cc7d7eca93a2f82c32d8bb'), ObjectId('67cc7d7eca93a2f82c32d8bc'), ObjectId('67cc7d7eca93a2f82c32d8bd'), ObjectId('67cc7d7eca93a2f82c32d8be'), ObjectId('67cc7d7eca93a2f82c32d8bf'), ObjectId('67cc7d7eca93a2f82c32d8c0'), ObjectId('67cc7d7eca93a2f82c32d8c1'), ObjectId('67cc7d7eca93a2f82c32d8c2'), ObjectId('67cc7d7eca93a2f82c32d8c3'), ObjectId('67cc7d7eca93a2f82c32d8c4'), ObjectId('67cc7d7eca93a2f82c32d8c5'), ObjectId('67cc7d7eca93a2f82c32d8c6'), ObjectId('67cc7d7eca93a2f82c32d8c7'), ObjectId('67cc7d7eca93a2f82c32d8c8'), ObjectId('67cc7d7eca93a2f82c32d8c9'), ObjectId('67cc7d7eca93a2f82c32d8ca'), ObjectId('67cc7d7eca93a2f82c32d8cb'), ObjectId('67cc7d7eca93a2f82c32d8cc'), ObjectId('67cc7d7eca93a2f82c32d8cd'), ObjectId('67cc7d7eca93a2f82c32d8ce'), ObjectId('67cc7d7eca93a2f82c32d8cf'), ObjectId('67cc7d7eca93a2f82c32d8d0'), ObjectId('67cc7d7eca93a2f82c32d8d1'), ObjectId('67cc7d7eca93a2f82c32d8d2'), ObjectId('67cc7d7eca93a2f82c32d8d3'), ObjectId('67cc7d7eca93a2f82c32d8d4'), ObjectId('67cc7d7eca93a2f82c32d8d5'), ObjectId('67cc7d7eca93a2f82c32d8d6'), ObjectId('67cc7d7eca93a2f82c32d8d7'), ObjectId('67cc7d7eca93a2f82c32d8d8'), ObjectId('67cc7d7eca93a2f82c32d8d9'), ObjectId('67cc7d7eca93a2f82c32d8da'), ObjectId('67cc7d7eca93a2f82c32d8db'), ObjectId('67cc7d7eca93a2f82c32d8dc'), ObjectId('67cc7d7eca93a2f82c32d8dd'), ObjectId('67cc7d7eca93a2f82c32d8de'), ObjectId('67cc7d7eca93a2f82c32d8df'), ObjectId('67cc7d7eca93a2f82c32d8e0'), ObjectId('67cc7d7eca93a2f82c32d8e1'), ObjectId('67cc7d7eca93a2f82c32d8e2'), ObjectId('67cc7d7eca93a2f82c32d8e3'), ObjectId('67cc7d7eca93a2f82c32d8e4'), ObjectId('67cc7d7eca93a2f82c32d8e5'), ObjectId('67cc7d7eca93a2f82c32d8e6'), ObjectId('67cc7d7eca93a2f82c32d8e7'), ObjectId('67cc7d7eca93a2f82c32d8e8'), ObjectId('67cc7d7eca93a2f82c32d8e9'), ObjectId('67cc7d7eca93a2f82c32d8ea'), ObjectId('67cc7d7eca93a2f82c32d8eb'), ObjectId('67cc7d7eca93a2f82c32d8ec'), ObjectId('67cc7d7eca93a2f82c32d8ed'), ObjectId('67cc7d7eca93a2f82c32d8ee'), ObjectId('67cc7d7eca93a2f82c32d8ef'), ObjectId('67cc7d7eca93a2f82c32d8f0'), ObjectId('67cc7d7eca93a2f82c32d8f1'), ObjectId('67cc7d7eca93a2f82c32d8f2'), ObjectId('67cc7d7eca93a2f82c32d8f3'), ObjectId('67cc7d7eca93a2f82c32d8f4'), ObjectId('67cc7d7eca93a2f82c32d8f5'), ObjectId('67cc7d7eca93a2f82c32d8f6'), ObjectId('67cc7d7eca93a2f82c32d8f7'), ObjectId('67cc7d7eca93a2f82c32d8f8'), ObjectId('67cc7d7eca93a2f82c32d8f9'), ObjectId('67cc7d7eca93a2f82c32d8fa'), ObjectId('67cc7d7eca93a2f82c32d8fb'), ObjectId('67cc7d7eca93a2f82c32d8fc'), ObjectId('67cc7d7eca93a2f82c32d8fd'), ObjectId('67cc7d7eca93a2f82c32d8fe'), ObjectId('67cc7d7eca93a2f82c32d8ff'), ObjectId('67cc7d7eca93a2f82c32d900'), ObjectId('67cc7d7eca93a2f82c32d901'), ObjectId('67cc7d7eca93a2f82c32d902'), ObjectId('67cc7d7eca93a2f82c32d903'), ObjectId('67cc7d7eca93a2f82c32d904'), ObjectId('67cc7d7eca93a2f82c32d905'), ObjectId('67cc7d7eca93a2f82c32d906'), ObjectId('67cc7d7eca93a2f82c32d907'), ObjectId('67cc7d7eca93a2f82c32d908'), ObjectId('67cc7d7eca93a2f82c32d909'), ObjectId('67cc7d7eca93a2f82c32d90a'), ObjectId('67cc7d7eca93a2f82c32d90b'), ObjectId('67cc7d7eca93a2f82c32d90c'), ObjectId('67cc7d7eca93a2f82c32d90d'), ObjectId('67cc7d7eca93a2f82c32d90e'), ObjectId('67cc7d7eca93a2f82c32d90f'), ObjectId('67cc7d7eca93a2f82c32d910'), ObjectId('67cc7d7eca93a2f82c32d911'), ObjectId('67cc7d7eca93a2f82c32d912'), ObjectId('67cc7d7eca93a2f82c32d913'), ObjectId('67cc7d7eca93a2f82c32d914'), ObjectId('67cc7d7eca93a2f82c32d915'), ObjectId('67cc7d7eca93a2f82c32d916'), ObjectId('67cc7d7eca93a2f82c32d917'), ObjectId('67cc7d7eca93a2f82c32d918'), ObjectId('67cc7d7eca93a2f82c32d919'), ObjectId('67cc7d7eca93a2f82c32d91a'), ObjectId('67cc7d7eca93a2f82c32d91b'), ObjectId('67cc7d7eca93a2f82c32d91c'), ObjectId('67cc7d7eca93a2f82c32d91d'), ObjectId('67cc7d7eca93a2f82c32d91e'), ObjectId('67cc7d7eca93a2f82c32d91f'), ObjectId('67cc7d7eca93a2f82c32d920'), ObjectId('67cc7d7eca93a2f82c32d921'), ObjectId('67cc7d7eca93a2f82c32d922'), ObjectId('67cc7d7eca93a2f82c32d923'), ObjectId('67cc7d7eca93a2f82c32d924'), ObjectId('67cc7d7eca93a2f82c32d925'), ObjectId('67cc7d7eca93a2f82c32d926'), ObjectId('67cc7d7eca93a2f82c32d927'), ObjectId('67cc7d7eca93a2f82c32d928'), ObjectId('67cc7d7eca93a2f82c32d929'), ObjectId('67cc7d7eca93a2f82c32d92a'), ObjectId('67cc7d7eca93a2f82c32d92b'), ObjectId('67cc7d7eca93a2f82c32d92c'), ObjectId('67cc7d7eca93a2f82c32d92d'), ObjectId('67cc7d7eca93a2f82c32d92e'), ObjectId('67cc7d7eca93a2f82c32d92f'), ObjectId('67cc7d7eca93a2f82c32d930'), ObjectId('67cc7d7eca93a2f82c32d931'), ObjectId('67cc7d7eca93a2f82c32d932'), ObjectId('67cc7d7eca93a2f82c32d933'), ObjectId('67cc7d7eca93a2f82c32d934'), ObjectId('67cc7d7eca93a2f82c32d935'), ObjectId('67cc7d7eca93a2f82c32d936'), ObjectId('67cc7d7eca93a2f82c32d937'), ObjectId('67cc7d7eca93a2f82c32d938'), ObjectId('67cc7d7eca93a2f82c32d939'), ObjectId('67cc7d7eca93a2f82c32d93a'), ObjectId('67cc7d7eca93a2f82c32d93b'), ObjectId('67cc7d7eca93a2f82c32d93c'), ObjectId('67cc7d7eca93a2f82c32d93d'), ObjectId('67cc7d7eca93a2f82c32d93e'), ObjectId('67cc7d7eca93a2f82c32d93f'), ObjectId('67cc7d7eca93a2f82c32d940'), ObjectId('67cc7d7eca93a2f82c32d941'), ObjectId('67cc7d7eca93a2f82c32d942'), ObjectId('67cc7d7eca93a2f82c32d943'), ObjectId('67cc7d7eca93a2f82c32d944'), ObjectId('67cc7d7eca93a2f82c32d945'), ObjectId('67cc7d7eca93a2f82c32d946'), ObjectId('67cc7d7eca93a2f82c32d947'), ObjectId('67cc7d7eca93a2f82c32d948'), ObjectId('67cc7d7eca93a2f82c32d949'), ObjectId('67cc7d7eca93a2f82c32d94a'), ObjectId('67cc7d7eca93a2f82c32d94b'), ObjectId('67cc7d7eca93a2f82c32d94c'), ObjectId('67cc7d7eca93a2f82c32d94d'), ObjectId('67cc7d7eca93a2f82c32d94e'), ObjectId('67cc7d7eca93a2f82c32d94f'), ObjectId('67cc7d7eca93a2f82c32d950'), ObjectId('67cc7d7eca93a2f82c32d951'), ObjectId('67cc7d7eca93a2f82c32d952'), ObjectId('67cc7d7eca93a2f82c32d953'), ObjectId('67cc7d7eca93a2f82c32d954'), ObjectId('67cc7d7eca93a2f82c32d955'), ObjectId('67cc7d7eca93a2f82c32d956'), ObjectId('67cc7d7eca93a2f82c32d957'), ObjectId('67cc7d7eca93a2f82c32d958'), ObjectId('67cc7d7eca93a2f82c32d959'), ObjectId('67cc7d7eca93a2f82c32d95a'), ObjectId('67cc7d7eca93a2f82c32d95b'), ObjectId('67cc7d7eca93a2f82c32d95c'), ObjectId('67cc7d7eca93a2f82c32d95d'), ObjectId('67cc7d7eca93a2f82c32d95e'), ObjectId('67cc7d7eca93a2f82c32d95f'), ObjectId('67cc7d7eca93a2f82c32d960'), ObjectId('67cc7d7eca93a2f82c32d961'), ObjectId('67cc7d7eca93a2f82c32d962'), ObjectId('67cc7d7eca93a2f82c32d963'), ObjectId('67cc7d7eca93a2f82c32d964'), ObjectId('67cc7d7eca93a2f82c32d965'), ObjectId('67cc7d7eca93a2f82c32d966'), ObjectId('67cc7d7eca93a2f82c32d967'), ObjectId('67cc7d7eca93a2f82c32d968'), ObjectId('67cc7d7eca93a2f82c32d969'), ObjectId('67cc7d7eca93a2f82c32d96a'), ObjectId('67cc7d7eca93a2f82c32d96b'), ObjectId('67cc7d7eca93a2f82c32d96c'), ObjectId('67cc7d7eca93a2f82c32d96d'), ObjectId('67cc7d7eca93a2f82c32d96e'), ObjectId('67cc7d7eca93a2f82c32d96f'), ObjectId('67cc7d7eca93a2f82c32d970'), ObjectId('67cc7d7eca93a2f82c32d971'), ObjectId('67cc7d7eca93a2f82c32d972'), ObjectId('67cc7d7eca93a2f82c32d973'), ObjectId('67cc7d7eca93a2f82c32d974'), ObjectId('67cc7d7eca93a2f82c32d975'), ObjectId('67cc7d7eca93a2f82c32d976'), ObjectId('67cc7d7eca93a2f82c32d977'), ObjectId('67cc7d7eca93a2f82c32d978'), ObjectId('67cc7d7eca93a2f82c32d979'), ObjectId('67cc7d7eca93a2f82c32d97a'), ObjectId('67cc7d7eca93a2f82c32d97b'), ObjectId('67cc7d7eca93a2f82c32d97c'), ObjectId('67cc7d7eca93a2f82c32d97d'), ObjectId('67cc7d7eca93a2f82c32d97e'), ObjectId('67cc7d7eca93a2f82c32d97f'), ObjectId('67cc7d7eca93a2f82c32d980'), ObjectId('67cc7d7eca93a2f82c32d981'), ObjectId('67cc7d7eca93a2f82c32d982'), ObjectId('67cc7d7eca93a2f82c32d983'), ObjectId('67cc7d7eca93a2f82c32d984'), ObjectId('67cc7d7eca93a2f82c32d985'), ObjectId('67cc7d7eca93a2f82c32d986'), ObjectId('67cc7d7eca93a2f82c32d987'), ObjectId('67cc7d7eca93a2f82c32d988'), ObjectId('67cc7d7eca93a2f82c32d989'), ObjectId('67cc7d7eca93a2f82c32d98a'), ObjectId('67cc7d7eca93a2f82c32d98b'), ObjectId('67cc7d7eca93a2f82c32d98c'), ObjectId('67cc7d7eca93a2f82c32d98d'), ObjectId('67cc7d7eca93a2f82c32d98e'), ObjectId('67cc7d7eca93a2f82c32d98f'), ObjectId('67cc7d7eca93a2f82c32d990'), ObjectId('67cc7d7eca93a2f82c32d991'), ObjectId('67cc7d7eca93a2f82c32d992'), ObjectId('67cc7d7eca93a2f82c32d993'), ObjectId('67cc7d7eca93a2f82c32d994'), ObjectId('67cc7d7eca93a2f82c32d995'), ObjectId('67cc7d7eca93a2f82c32d996'), ObjectId('67cc7d7eca93a2f82c32d997'), ObjectId('67cc7d7eca93a2f82c32d998'), ObjectId('67cc7d7eca93a2f82c32d999'), ObjectId('67cc7d7eca93a2f82c32d99a'), ObjectId('67cc7d7eca93a2f82c32d99b'), ObjectId('67cc7d7eca93a2f82c32d99c'), ObjectId('67cc7d7eca93a2f82c32d99d'), ObjectId('67cc7d7eca93a2f82c32d99e'), ObjectId('67cc7d7eca93a2f82c32d99f'), ObjectId('67cc7d7eca93a2f82c32d9a0'), ObjectId('67cc7d7eca93a2f82c32d9a1'), ObjectId('67cc7d7eca93a2f82c32d9a2'), ObjectId('67cc7d7eca93a2f82c32d9a3'), ObjectId('67cc7d7eca93a2f82c32d9a4'), ObjectId('67cc7d7eca93a2f82c32d9a5'), ObjectId('67cc7d7eca93a2f82c32d9a6'), ObjectId('67cc7d7eca93a2f82c32d9a7'), ObjectId('67cc7d7eca93a2f82c32d9a8'), ObjectId('67cc7d7eca93a2f82c32d9a9'), ObjectId('67cc7d7eca93a2f82c32d9aa'), ObjectId('67cc7d7eca93a2f82c32d9ab'), ObjectId('67cc7d7eca93a2f82c32d9ac'), ObjectId('67cc7d7eca93a2f82c32d9ad'), ObjectId('67cc7d7eca93a2f82c32d9ae'), ObjectId('67cc7d7eca93a2f82c32d9af'), ObjectId('67cc7d7eca93a2f82c32d9b0'), ObjectId('67cc7d7eca93a2f82c32d9b1'), ObjectId('67cc7d7eca93a2f82c32d9b2'), ObjectId('67cc7d7eca93a2f82c32d9b3'), ObjectId('67cc7d7eca93a2f82c32d9b4'), ObjectId('67cc7d7eca93a2f82c32d9b5'), ObjectId('67cc7d7eca93a2f82c32d9b6'), ObjectId('67cc7d7eca93a2f82c32d9b7'), ObjectId('67cc7d7eca93a2f82c32d9b8'), ObjectId('67cc7d7eca93a2f82c32d9b9'), ObjectId('67cc7d7eca93a2f82c32d9ba'), ObjectId('67cc7d7eca93a2f82c32d9bb'), ObjectId('67cc7d7eca93a2f82c32d9bc'), ObjectId('67cc7d7eca93a2f82c32d9bd'), ObjectId('67cc7d7eca93a2f82c32d9be'), ObjectId('67cc7d7eca93a2f82c32d9bf'), ObjectId('67cc7d7eca93a2f82c32d9c0'), ObjectId('67cc7d7eca93a2f82c32d9c1'), ObjectId('67cc7d7eca93a2f82c32d9c2'), ObjectId('67cc7d7eca93a2f82c32d9c3'), ObjectId('67cc7d7eca93a2f82c32d9c4'), ObjectId('67cc7d7eca93a2f82c32d9c5'), ObjectId('67cc7d7eca93a2f82c32d9c6'), ObjectId('67cc7d7eca93a2f82c32d9c7'), ObjectId('67cc7d7eca93a2f82c32d9c8'), ObjectId('67cc7d7eca93a2f82c32d9c9'), ObjectId('67cc7d7eca93a2f82c32d9ca'), ObjectId('67cc7d7eca93a2f82c32d9cb'), ObjectId('67cc7d7eca93a2f82c32d9cc'), ObjectId('67cc7d7eca93a2f82c32d9cd'), ObjectId('67cc7d7eca93a2f82c32d9ce'), ObjectId('67cc7d7eca93a2f82c32d9cf'), ObjectId('67cc7d7eca93a2f82c32d9d0'), ObjectId('67cc7d7eca93a2f82c32d9d1'), ObjectId('67cc7d7eca93a2f82c32d9d2'), ObjectId('67cc7d7eca93a2f82c32d9d3'), ObjectId('67cc7d7eca93a2f82c32d9d4'), ObjectId('67cc7d7eca93a2f82c32d9d5'), ObjectId('67cc7d7eca93a2f82c32d9d6'), ObjectId('67cc7d7eca93a2f82c32d9d7'), ObjectId('67cc7d7eca93a2f82c32d9d8'), ObjectId('67cc7d7eca93a2f82c32d9d9'), ObjectId('67cc7d7eca93a2f82c32d9da'), ObjectId('67cc7d7eca93a2f82c32d9db'), ObjectId('67cc7d7eca93a2f82c32d9dc'), ObjectId('67cc7d7eca93a2f82c32d9dd'), ObjectId('67cc7d7eca93a2f82c32d9de'), ObjectId('67cc7d7eca93a2f82c32d9df'), ObjectId('67cc7d7eca93a2f82c32d9e0'), ObjectId('67cc7d7eca93a2f82c32d9e1'), ObjectId('67cc7d7eca93a2f82c32d9e2'), ObjectId('67cc7d7eca93a2f82c32d9e3'), ObjectId('67cc7d7eca93a2f82c32d9e4'), ObjectId('67cc7d7eca93a2f82c32d9e5'), ObjectId('67cc7d7eca93a2f82c32d9e6'), ObjectId('67cc7d7eca93a2f82c32d9e7'), ObjectId('67cc7d7eca93a2f82c32d9e8'), ObjectId('67cc7d7eca93a2f82c32d9e9'), ObjectId('67cc7d7eca93a2f82c32d9ea'), ObjectId('67cc7d7eca93a2f82c32d9eb'), ObjectId('67cc7d7eca93a2f82c32d9ec'), ObjectId('67cc7d7eca93a2f82c32d9ed'), ObjectId('67cc7d7eca93a2f82c32d9ee'), ObjectId('67cc7d7eca93a2f82c32d9ef'), ObjectId('67cc7d7eca93a2f82c32d9f0'), ObjectId('67cc7d7eca93a2f82c32d9f1'), ObjectId('67cc7d7eca93a2f82c32d9f2'), ObjectId('67cc7d7eca93a2f82c32d9f3'), ObjectId('67cc7d7eca93a2f82c32d9f4'), ObjectId('67cc7d7eca93a2f82c32d9f5'), ObjectId('67cc7d7eca93a2f82c32d9f6'), ObjectId('67cc7d7eca93a2f82c32d9f7'), ObjectId('67cc7d7eca93a2f82c32d9f8'), ObjectId('67cc7d7eca93a2f82c32d9f9'), ObjectId('67cc7d7eca93a2f82c32d9fa'), ObjectId('67cc7d7eca93a2f82c32d9fb'), ObjectId('67cc7d7eca93a2f82c32d9fc'), ObjectId('67cc7d7eca93a2f82c32d9fd'), ObjectId('67cc7d7eca93a2f82c32d9fe'), ObjectId('67cc7d7eca93a2f82c32d9ff'), ObjectId('67cc7d7eca93a2f82c32da00'), ObjectId('67cc7d7eca93a2f82c32da01'), ObjectId('67cc7d7eca93a2f82c32da02'), ObjectId('67cc7d7eca93a2f82c32da03'), ObjectId('67cc7d7eca93a2f82c32da04'), ObjectId('67cc7d7eca93a2f82c32da05'), ObjectId('67cc7d7eca93a2f82c32da06'), ObjectId('67cc7d7eca93a2f82c32da07'), ObjectId('67cc7d7eca93a2f82c32da08'), ObjectId('67cc7d7eca93a2f82c32da09'), ObjectId('67cc7d7eca93a2f82c32da0a'), ObjectId('67cc7d7eca93a2f82c32da0b'), ObjectId('67cc7d7eca93a2f82c32da0c'), ObjectId('67cc7d7eca93a2f82c32da0d'), ObjectId('67cc7d7eca93a2f82c32da0e'), ObjectId('67cc7d7eca93a2f82c32da0f'), ObjectId('67cc7d7eca93a2f82c32da10'), ObjectId('67cc7d7eca93a2f82c32da11'), ObjectId('67cc7d7eca93a2f82c32da12'), ObjectId('67cc7d7eca93a2f82c32da13'), ObjectId('67cc7d7eca93a2f82c32da14'), ObjectId('67cc7d7eca93a2f82c32da15'), ObjectId('67cc7d7eca93a2f82c32da16'), ObjectId('67cc7d7eca93a2f82c32da17'), ObjectId('67cc7d7eca93a2f82c32da18'), ObjectId('67cc7d7eca93a2f82c32da19'), ObjectId('67cc7d7eca93a2f82c32da1a'), ObjectId('67cc7d7eca93a2f82c32da1b'), ObjectId('67cc7d7eca93a2f82c32da1c'), ObjectId('67cc7d7eca93a2f82c32da1d'), ObjectId('67cc7d7eca93a2f82c32da1e'), ObjectId('67cc7d7eca93a2f82c32da1f'), ObjectId('67cc7d7eca93a2f82c32da20'), ObjectId('67cc7d7eca93a2f82c32da21'), ObjectId('67cc7d7eca93a2f82c32da22'), ObjectId('67cc7d7eca93a2f82c32da23'), ObjectId('67cc7d7eca93a2f82c32da24'), ObjectId('67cc7d7eca93a2f82c32da25'), ObjectId('67cc7d7eca93a2f82c32da26'), ObjectId('67cc7d7eca93a2f82c32da27'), ObjectId('67cc7d7eca93a2f82c32da28'), ObjectId('67cc7d7eca93a2f82c32da29'), ObjectId('67cc7d7eca93a2f82c32da2a'), ObjectId('67cc7d7eca93a2f82c32da2b'), ObjectId('67cc7d7eca93a2f82c32da2c'), ObjectId('67cc7d7eca93a2f82c32da2d'), ObjectId('67cc7d7eca93a2f82c32da2e'), ObjectId('67cc7d7eca93a2f82c32da2f'), ObjectId('67cc7d7eca93a2f82c32da30'), ObjectId('67cc7d7eca93a2f82c32da31'), ObjectId('67cc7d7eca93a2f82c32da32'), ObjectId('67cc7d7eca93a2f82c32da33'), ObjectId('67cc7d7eca93a2f82c32da34'), ObjectId('67cc7d7eca93a2f82c32da35'), ObjectId('67cc7d7eca93a2f82c32da36'), ObjectId('67cc7d7eca93a2f82c32da37'), ObjectId('67cc7d7eca93a2f82c32da38'), ObjectId('67cc7d7eca93a2f82c32da39'), ObjectId('67cc7d7eca93a2f82c32da3a'), ObjectId('67cc7d7eca93a2f82c32da3b'), ObjectId('67cc7d7eca93a2f82c32da3c'), ObjectId('67cc7d7eca93a2f82c32da3d'), ObjectId('67cc7d7eca93a2f82c32da3e'), ObjectId('67cc7d7eca93a2f82c32da3f'), ObjectId('67cc7d7eca93a2f82c32da40'), ObjectId('67cc7d7eca93a2f82c32da41'), ObjectId('67cc7d7eca93a2f82c32da42'), ObjectId('67cc7d7eca93a2f82c32da43'), ObjectId('67cc7d7eca93a2f82c32da44'), ObjectId('67cc7d7eca93a2f82c32da45'), ObjectId('67cc7d7eca93a2f82c32da46'), ObjectId('67cc7d7eca93a2f82c32da47'), ObjectId('67cc7d7eca93a2f82c32da48'), ObjectId('67cc7d7eca93a2f82c32da49'), ObjectId('67cc7d7eca93a2f82c32da4a'), ObjectId('67cc7d7eca93a2f82c32da4b'), ObjectId('67cc7d7eca93a2f82c32da4c'), ObjectId('67cc7d7eca93a2f82c32da4d'), ObjectId('67cc7d7eca93a2f82c32da4e'), ObjectId('67cc7d7eca93a2f82c32da4f'), ObjectId('67cc7d7eca93a2f82c32da50'), ObjectId('67cc7d7eca93a2f82c32da51'), ObjectId('67cc7d7eca93a2f82c32da52'), ObjectId('67cc7d7eca93a2f82c32da53'), ObjectId('67cc7d7eca93a2f82c32da54'), ObjectId('67cc7d7eca93a2f82c32da55'), ObjectId('67cc7d7eca93a2f82c32da56'), ObjectId('67cc7d7eca93a2f82c32da57'), ObjectId('67cc7d7eca93a2f82c32da58'), ObjectId('67cc7d7eca93a2f82c32da59'), ObjectId('67cc7d7eca93a2f82c32da5a'), ObjectId('67cc7d7eca93a2f82c32da5b'), ObjectId('67cc7d7eca93a2f82c32da5c'), ObjectId('67cc7d7eca93a2f82c32da5d'), ObjectId('67cc7d7eca93a2f82c32da5e'), ObjectId('67cc7d7eca93a2f82c32da5f'), ObjectId('67cc7d7eca93a2f82c32da60'), ObjectId('67cc7d7eca93a2f82c32da61'), ObjectId('67cc7d7eca93a2f82c32da62'), ObjectId('67cc7d7eca93a2f82c32da63'), ObjectId('67cc7d7eca93a2f82c32da64'), ObjectId('67cc7d7eca93a2f82c32da65'), ObjectId('67cc7d7eca93a2f82c32da66'), ObjectId('67cc7d7eca93a2f82c32da67'), ObjectId('67cc7d7eca93a2f82c32da68'), ObjectId('67cc7d7eca93a2f82c32da69'), ObjectId('67cc7d7eca93a2f82c32da6a'), ObjectId('67cc7d7eca93a2f82c32da6b'), ObjectId('67cc7d7eca93a2f82c32da6c'), ObjectId('67cc7d7eca93a2f82c32da6d'), ObjectId('67cc7d7eca93a2f82c32da6e'), ObjectId('67cc7d7eca93a2f82c32da6f'), ObjectId('67cc7d7eca93a2f82c32da70'), ObjectId('67cc7d7eca93a2f82c32da71'), ObjectId('67cc7d7eca93a2f82c32da72'), ObjectId('67cc7d7eca93a2f82c32da73'), ObjectId('67cc7d7eca93a2f82c32da74'), ObjectId('67cc7d7eca93a2f82c32da75'), ObjectId('67cc7d7eca93a2f82c32da76'), ObjectId('67cc7d7eca93a2f82c32da77'), ObjectId('67cc7d7eca93a2f82c32da78'), ObjectId('67cc7d7eca93a2f82c32da79'), ObjectId('67cc7d7eca93a2f82c32da7a'), ObjectId('67cc7d7eca93a2f82c32da7b'), ObjectId('67cc7d7eca93a2f82c32da7c'), ObjectId('67cc7d7eca93a2f82c32da7d'), ObjectId('67cc7d7eca93a2f82c32da7e'), ObjectId('67cc7d7eca93a2f82c32da7f'), ObjectId('67cc7d7eca93a2f82c32da80'), ObjectId('67cc7d7eca93a2f82c32da81'), ObjectId('67cc7d7eca93a2f82c32da82'), ObjectId('67cc7d7eca93a2f82c32da83'), ObjectId('67cc7d7eca93a2f82c32da84'), ObjectId('67cc7d7eca93a2f82c32da85'), ObjectId('67cc7d7eca93a2f82c32da86'), ObjectId('67cc7d7eca93a2f82c32da87'), ObjectId('67cc7d7eca93a2f82c32da88'), ObjectId('67cc7d7eca93a2f82c32da89'), ObjectId('67cc7d7eca93a2f82c32da8a'), ObjectId('67cc7d7eca93a2f82c32da8b'), ObjectId('67cc7d7eca93a2f82c32da8c'), ObjectId('67cc7d7eca93a2f82c32da8d'), ObjectId('67cc7d7eca93a2f82c32da8e'), ObjectId('67cc7d7eca93a2f82c32da8f'), ObjectId('67cc7d7eca93a2f82c32da90'), ObjectId('67cc7d7eca93a2f82c32da91'), ObjectId('67cc7d7eca93a2f82c32da92'), ObjectId('67cc7d7eca93a2f82c32da93'), ObjectId('67cc7d7eca93a2f82c32da94'), ObjectId('67cc7d7eca93a2f82c32da95'), ObjectId('67cc7d7eca93a2f82c32da96'), ObjectId('67cc7d7eca93a2f82c32da97'), ObjectId('67cc7d7eca93a2f82c32da98'), ObjectId('67cc7d7eca93a2f82c32da99'), ObjectId('67cc7d7eca93a2f82c32da9a'), ObjectId('67cc7d7eca93a2f82c32da9b'), ObjectId('67cc7d7eca93a2f82c32da9c'), ObjectId('67cc7d7eca93a2f82c32da9d'), ObjectId('67cc7d7eca93a2f82c32da9e'), ObjectId('67cc7d7eca93a2f82c32da9f'), ObjectId('67cc7d7eca93a2f82c32daa0'), ObjectId('67cc7d7eca93a2f82c32daa1'), ObjectId('67cc7d7eca93a2f82c32daa2'), ObjectId('67cc7d7eca93a2f82c32daa3'), ObjectId('67cc7d7eca93a2f82c32daa4'), ObjectId('67cc7d7eca93a2f82c32daa5'), ObjectId('67cc7d7eca93a2f82c32daa6'), ObjectId('67cc7d7eca93a2f82c32daa7'), ObjectId('67cc7d7eca93a2f82c32daa8'), ObjectId('67cc7d7eca93a2f82c32daa9'), ObjectId('67cc7d7eca93a2f82c32daaa'), ObjectId('67cc7d7eca93a2f82c32daab'), ObjectId('67cc7d7eca93a2f82c32daac'), ObjectId('67cc7d7eca93a2f82c32daad'), ObjectId('67cc7d7eca93a2f82c32daae'), ObjectId('67cc7d7eca93a2f82c32daaf'), ObjectId('67cc7d7eca93a2f82c32dab0'), ObjectId('67cc7d7eca93a2f82c32dab1'), ObjectId('67cc7d7eca93a2f82c32dab2'), ObjectId('67cc7d7eca93a2f82c32dab3'), ObjectId('67cc7d7eca93a2f82c32dab4'), ObjectId('67cc7d7eca93a2f82c32dab5'), ObjectId('67cc7d7eca93a2f82c32dab6'), ObjectId('67cc7d7eca93a2f82c32dab7'), ObjectId('67cc7d7eca93a2f82c32dab8'), ObjectId('67cc7d7eca93a2f82c32dab9'), ObjectId('67cc7d7eca93a2f82c32daba'), ObjectId('67cc7d7eca93a2f82c32dabb'), ObjectId('67cc7d7eca93a2f82c32dabc'), ObjectId('67cc7d7eca93a2f82c32dabd'), ObjectId('67cc7d7eca93a2f82c32dabe'), ObjectId('67cc7d7eca93a2f82c32dabf'), ObjectId('67cc7d7eca93a2f82c32dac0'), ObjectId('67cc7d7eca93a2f82c32dac1'), ObjectId('67cc7d7eca93a2f82c32dac2'), ObjectId('67cc7d7eca93a2f82c32dac3'), ObjectId('67cc7d7eca93a2f82c32dac4'), ObjectId('67cc7d7eca93a2f82c32dac5'), ObjectId('67cc7d7eca93a2f82c32dac6'), ObjectId('67cc7d7eca93a2f82c32dac7'), ObjectId('67cc7d7eca93a2f82c32dac8'), ObjectId('67cc7d7eca93a2f82c32dac9'), ObjectId('67cc7d7eca93a2f82c32daca'), ObjectId('67cc7d7eca93a2f82c32dacb'), ObjectId('67cc7d7eca93a2f82c32dacc'), ObjectId('67cc7d7eca93a2f82c32dacd'), ObjectId('67cc7d7eca93a2f82c32dace'), ObjectId('67cc7d7eca93a2f82c32dacf'), ObjectId('67cc7d7eca93a2f82c32dad0'), ObjectId('67cc7d7eca93a2f82c32dad1'), ObjectId('67cc7d7eca93a2f82c32dad2'), ObjectId('67cc7d7eca93a2f82c32dad3'), ObjectId('67cc7d7eca93a2f82c32dad4'), ObjectId('67cc7d7eca93a2f82c32dad5'), ObjectId('67cc7d7eca93a2f82c32dad6'), ObjectId('67cc7d7eca93a2f82c32dad7'), ObjectId('67cc7d7eca93a2f82c32dad8'), ObjectId('67cc7d7eca93a2f82c32dad9'), ObjectId('67cc7d7eca93a2f82c32dada'), ObjectId('67cc7d7eca93a2f82c32dadb'), ObjectId('67cc7d7eca93a2f82c32dadc'), ObjectId('67cc7d7eca93a2f82c32dadd'), ObjectId('67cc7d7eca93a2f82c32dade'), ObjectId('67cc7d7eca93a2f82c32dadf'), ObjectId('67cc7d7eca93a2f82c32dae0'), ObjectId('67cc7d7eca93a2f82c32dae1'), ObjectId('67cc7d7eca93a2f82c32dae2'), ObjectId('67cc7d7eca93a2f82c32dae3'), ObjectId('67cc7d7eca93a2f82c32dae4'), ObjectId('67cc7d7eca93a2f82c32dae5'), ObjectId('67cc7d7eca93a2f82c32dae6'), ObjectId('67cc7d7eca93a2f82c32dae7'), ObjectId('67cc7d7eca93a2f82c32dae8'), ObjectId('67cc7d7eca93a2f82c32dae9'), ObjectId('67cc7d7eca93a2f82c32daea'), ObjectId('67cc7d7eca93a2f82c32daeb'), ObjectId('67cc7d7eca93a2f82c32daec'), ObjectId('67cc7d7eca93a2f82c32daed'), ObjectId('67cc7d7eca93a2f82c32daee'), ObjectId('67cc7d7eca93a2f82c32daef'), ObjectId('67cc7d7eca93a2f82c32daf0'), ObjectId('67cc7d7eca93a2f82c32daf1'), ObjectId('67cc7d7eca93a2f82c32daf2'), ObjectId('67cc7d7eca93a2f82c32daf3'), ObjectId('67cc7d7eca93a2f82c32daf4'), ObjectId('67cc7d7eca93a2f82c32daf5'), ObjectId('67cc7d7eca93a2f82c32daf6'), ObjectId('67cc7d7eca93a2f82c32daf7'), ObjectId('67cc7d7eca93a2f82c32daf8'), ObjectId('67cc7d7eca93a2f82c32daf9'), ObjectId('67cc7d7eca93a2f82c32dafa'), ObjectId('67cc7d7eca93a2f82c32dafb'), ObjectId('67cc7d7eca93a2f82c32dafc'), ObjectId('67cc7d7eca93a2f82c32dafd'), ObjectId('67cc7d7eca93a2f82c32dafe'), ObjectId('67cc7d7eca93a2f82c32daff'), ObjectId('67cc7d7eca93a2f82c32db00'), ObjectId('67cc7d7eca93a2f82c32db01'), ObjectId('67cc7d7eca93a2f82c32db02'), ObjectId('67cc7d7eca93a2f82c32db03'), ObjectId('67cc7d7eca93a2f82c32db04'), ObjectId('67cc7d7eca93a2f82c32db05'), ObjectId('67cc7d7eca93a2f82c32db06'), ObjectId('67cc7d7eca93a2f82c32db07'), ObjectId('67cc7d7eca93a2f82c32db08'), ObjectId('67cc7d7eca93a2f82c32db09'), ObjectId('67cc7d7eca93a2f82c32db0a'), ObjectId('67cc7d7eca93a2f82c32db0b'), ObjectId('67cc7d7eca93a2f82c32db0c'), ObjectId('67cc7d7eca93a2f82c32db0d'), ObjectId('67cc7d7eca93a2f82c32db0e'), ObjectId('67cc7d7eca93a2f82c32db0f'), ObjectId('67cc7d7eca93a2f82c32db10'), ObjectId('67cc7d7eca93a2f82c32db11')], acknowledged=True)"
      ]
     },
     "execution_count": 29,
     "metadata": {},
     "output_type": "execute_result"
    }
   ],
   "source": [
    "db[\"airport\"].insert_many(df_airport[\"features\"])"
   ]
  },
  {
   "cell_type": "code",
   "execution_count": 39,
   "metadata": {},
   "outputs": [
    {
     "name": "stdout",
     "output_type": "stream",
     "text": [
      "[{'_id': ObjectId('67cc7d56ca93a2f82c32d894'), 'id': '0', 'type': 'Feature', 'properties': {'id': 26751, 'ident': 'WADD', 'type': 'large_airport', 'name': 'Denpasar I Gusti Ngurah Rai International Airport', 'latitude_deg': -8.748409, 'longitude_deg': 115.167123, 'elevation_ft': 14.0, 'continent': 'AS', 'country_name': 'Indonesia', 'iso_country': 'ID', 'region_name': 'Bali', 'iso_region': 'ID-BA', 'local_region': 'BA', 'municipality': 'Kuta, Badung', 'scheduled_service': 1, 'gps_code': 'WADD', 'icao_code': 'WADD', 'iata_code': 'DPS', 'local_code': None, 'home_link': 'http://www.angkasapura1.co.id/eng/location/bali.htm', 'wikipedia_link': 'https://en.wikipedia.org/wiki/Ngurah_Rai_International_Airport', 'keywords': 'WRRR, Bali, Denpasar International Airport, Denpasar', 'score': 1200, 'last_updated': '2025-02-21T20:46:40+00:00', 'source': 'OurAirports'}, 'geometry': {'type': 'Point', 'coordinates': [115.167123, -8.748409, 14.0]}}, {'_id': ObjectId('67cc7d7eca93a2f82c32d895'), 'id': '1', 'type': 'Feature', 'properties': {'id': 26835, 'ident': 'WIII', 'type': 'large_airport', 'name': 'Soekarno-Hatta International Airport', 'latitude_deg': -6.1255698204, 'longitude_deg': 106.65599823, 'elevation_ft': 34.0, 'continent': 'AS', 'country_name': 'Indonesia', 'iso_country': 'ID', 'region_name': 'Banten', 'iso_region': 'ID-BT', 'local_region': 'BT', 'municipality': 'Jakarta', 'scheduled_service': 1, 'gps_code': 'WIII', 'icao_code': 'WIII', 'iata_code': 'CGK', 'local_code': None, 'home_link': 'http://www.jakartasoekarnohattaairport.com/', 'wikipedia_link': 'https://en.wikipedia.org/wiki/Soekarno-Hatta_International_Airport', 'keywords': 'JKT, Cengkareng, Java', 'score': 51600, 'last_updated': '2013-02-07T12:57:41+00:00', 'source': 'OurAirports'}, 'geometry': {'type': 'Point', 'coordinates': [106.65599823, -6.1255698204, 34.0]}}, {'_id': ObjectId('67cc7d7eca93a2f82c32d897'), 'id': '3', 'type': 'Feature', 'properties': {'id': 26789, 'ident': 'WARR', 'type': 'large_airport', 'name': 'Juanda International Airport', 'latitude_deg': -7.37983, 'longitude_deg': 112.787003, 'elevation_ft': 9.0, 'continent': 'AS', 'country_name': 'Indonesia', 'iso_country': 'ID', 'region_name': 'Jawa Timur (East Java)', 'iso_region': 'ID-JI', 'local_region': 'JI', 'municipality': 'Surabaya', 'scheduled_service': 1, 'gps_code': 'WARR', 'icao_code': 'WARR', 'iata_code': 'SUB', 'local_code': None, 'home_link': 'http://www.juanda-airport.com/', 'wikipedia_link': 'https://en.wikipedia.org/wiki/Juanda_International_Airport', 'keywords': 'WRSJ', 'score': 51150, 'last_updated': '2022-10-01T23:14:37+00:00', 'source': 'OurAirports'}, 'geometry': {'type': 'Point', 'coordinates': [112.787003, -7.37983, 9.0]}}, {'_id': ObjectId('67cc7d7eca93a2f82c32d89a'), 'id': '6', 'type': 'Feature', 'properties': {'id': 26745, 'ident': 'WAAA', 'type': 'large_airport', 'name': 'Hasanuddin International Airport', 'latitude_deg': -5.06163, 'longitude_deg': 119.554001, 'elevation_ft': 47.0, 'continent': 'AS', 'country_name': 'Indonesia', 'iso_country': 'ID', 'region_name': 'Sulawesi Selatan (South Sulawesi)', 'iso_region': 'ID-SN', 'local_region': 'SN', 'municipality': 'Ujung Pandang', 'scheduled_service': 1, 'gps_code': 'WAAA', 'icao_code': 'WAAA', 'iata_code': 'UPG', 'local_code': None, 'home_link': None, 'wikipedia_link': 'https://en.wikipedia.org/wiki/Hasanuddin_International_Airport', 'keywords': None, 'score': 1275, 'last_updated': '2022-09-19T16:31:03+00:00', 'source': 'OurAirports'}, 'geometry': {'type': 'Point', 'coordinates': [119.554001, -5.06163, 47.0]}}, {'_id': ObjectId('67cc7d7eca93a2f82c32d89c'), 'id': '8', 'type': 'Feature', 'properties': {'id': 309577, 'ident': 'WIMM', 'type': 'large_airport', 'name': 'Kualanamu International Airport', 'latitude_deg': 3.637847, 'longitude_deg': 98.870566, 'elevation_ft': 23.0, 'continent': 'AS', 'country_name': 'Indonesia', 'iso_country': 'ID', 'region_name': 'Sumatera Utara (North Sumatra)', 'iso_region': 'ID-SU', 'local_region': 'SU', 'municipality': 'Medan', 'scheduled_service': 1, 'gps_code': 'WIMM', 'icao_code': 'WIMM', 'iata_code': 'KNO', 'local_code': None, 'home_link': 'http://www.kualanamu-airport.co.id/', 'wikipedia_link': 'https://en.wikipedia.org/wiki/Kualanamu_International_Airport', 'keywords': None, 'score': 1000, 'last_updated': '2023-04-11T00:31:16+00:00', 'source': 'OurAirports'}, 'geometry': {'type': 'Point', 'coordinates': [98.870566, 3.637847, 23.0]}}, {'_id': ObjectId('67cc7d7eca93a2f82c32d89e'), 'id': '10', 'type': 'Feature', 'properties': {'id': 26755, 'ident': 'WAJJ', 'type': 'large_airport', 'name': 'Dortheys Hiyo Eluay International Airport', 'latitude_deg': -2.579627, 'longitude_deg': 140.519857, 'elevation_ft': 289.0, 'continent': 'AS', 'country_name': 'Indonesia', 'iso_country': 'ID', 'region_name': 'Papua', 'iso_region': 'ID-PA', 'local_region': 'PA', 'municipality': 'Sentani', 'scheduled_service': 1, 'gps_code': 'WAJJ', 'icao_code': 'WAJJ', 'iata_code': 'DJJ', 'local_code': None, 'home_link': 'https://sentani-airport.co.id/en', 'wikipedia_link': 'https://en.wikipedia.org/wiki/Dortheys_Hiyo_Eluay_International_Airport', 'keywords': 'Bandar Udara Internasional Dortheys Hiyo Eluay, Sentani International Airport, Hollandia, Jayapura', 'score': 1025, 'last_updated': '2022-10-17T11:05:34+00:00', 'source': 'OurAirports'}, 'geometry': {'type': 'Point', 'coordinates': [140.519857, -2.579627, 289.0]}}, {'_id': ObjectId('67cc7d7eca93a2f82c32d8a1'), 'id': '13', 'type': 'Feature', 'properties': {'id': 26760, 'ident': 'WALL', 'type': 'large_airport', 'name': 'Sultan Aji Muhammad Sulaiman Sepinggan International Airport', 'latitude_deg': -1.268342, 'longitude_deg': 116.89452, 'elevation_ft': 12.0, 'continent': 'AS', 'country_name': 'Indonesia', 'iso_country': 'ID', 'region_name': 'Kalimantan Timur (East Kalimantan)', 'iso_region': 'ID-KI', 'local_region': 'KI', 'municipality': 'Balikpapan', 'scheduled_service': 1, 'gps_code': 'WALL', 'icao_code': 'WALL', 'iata_code': 'BPN', 'local_code': None, 'home_link': 'http://sepinggan-airport.com/', 'wikipedia_link': 'https://en.wikipedia.org/wiki/Sultan_Aji_Muhamad_Sulaiman_Airport', 'keywords': 'WRLL, Balikpapan Airport, Sepinggan Airport, Sepinggang Airfield', 'score': 1000, 'last_updated': '2025-02-21T23:26:10+00:00', 'source': 'OurAirports'}, 'geometry': {'type': 'Point', 'coordinates': [116.89452, -1.268342, 12.0]}}, {'_id': ObjectId('67cc7d7eca93a2f82c32d8f4'), 'id': '96', 'type': 'Feature', 'properties': {'id': 507227, 'ident': 'ID-0277', 'type': 'large_airport', 'name': 'Dhoho International Airport', 'latitude_deg': -7.750278, 'longitude_deg': 111.947222, 'elevation_ft': 380.0, 'continent': 'AS', 'country_name': 'Indonesia', 'iso_country': 'ID', 'region_name': 'Jawa Timur (East Java)', 'iso_region': 'ID-JI', 'local_region': 'JI', 'municipality': 'Kediri', 'scheduled_service': 0, 'gps_code': 'WARD', 'icao_code': None, 'iata_code': 'DHX', 'local_code': None, 'home_link': 'https://www.kediri-airport.com/', 'wikipedia_link': 'https://en.wikipedia.org/wiki/Dhoho_International_Airport', 'keywords': 'Dhoho', 'score': 850, 'last_updated': '2024-04-03T12:39:53+00:00', 'source': 'OurAirports'}, 'geometry': {'type': 'Point', 'coordinates': [111.947222, -7.750278, 380.0]}}]\n",
      "8\n"
     ]
    }
   ],
   "source": [
    "find_data = db[\"airport\"].find({\n",
    "  \"properties.type\": \"large_airport\"\n",
    "})\n",
    "\n",
    "list_data = list(find_data)\n",
    "print(list_data)\n",
    "print(len(list_data))"
   ]
  },
  {
   "cell_type": "code",
   "execution_count": 42,
   "metadata": {},
   "outputs": [
    {
     "data": {
      "text/plain": [
       "['Denpasar I Gusti Ngurah Rai International Airport',\n",
       " 'Soekarno-Hatta International Airport',\n",
       " 'Juanda International Airport',\n",
       " 'Hasanuddin International Airport',\n",
       " 'Kualanamu International Airport',\n",
       " 'Dortheys Hiyo Eluay International Airport',\n",
       " 'Sultan Aji Muhammad Sulaiman Sepinggan International Airport',\n",
       " 'Dhoho International Airport']"
      ]
     },
     "execution_count": 42,
     "metadata": {},
     "output_type": "execute_result"
    }
   ],
   "source": [
    "[data[\"properties\"][\"name\"] for data in list_data]"
   ]
  },
  {
   "cell_type": "markdown",
   "metadata": {},
   "source": [
    "## Load the rest data"
   ]
  },
  {
   "cell_type": "code",
   "execution_count": 43,
   "metadata": {},
   "outputs": [
    {
     "name": "stdout",
     "output_type": "stream",
     "text": [
      "Layer 'brn_protected_areas' contains valid geometry\n",
      "Layer 'sgp_protected_areas' contains valid geometry\n",
      "Layer 'tls_protected_areas' contains valid geometry\n",
      "Layer 'twitter_word_counts' contains valid geometry\n",
      "Layer 'candi_jawatengah' contains valid geometry\n",
      "Layer 'admin_kawasan_jateng' contains valid geometry\n",
      "Layer 'rdtr_takengon' contains valid geometry\n",
      "Layer 'rdtr_takengon_vertices' contains valid geometry\n",
      "Layer 'indonesian_cities' contains valid geometry\n",
      "Layer 'twitter_users' has no valid geometries.\n",
      "Layer 'twitter_context_annotations' has no valid geometries.\n"
     ]
    }
   ],
   "source": [
    "geo_layers = []\n",
    "nongeo_layers = []\n",
    "\n",
    "for layer in layers[1:]:\n",
    "  with fiona.open(file_path, layer=layer) as src:\n",
    "    has_geometry = False      \n",
    "    for feature in src:\n",
    "      geometry = feature.get(\"geometry\")\n",
    "      if geometry:\n",
    "        geom_type = geometry[\"type\"]\n",
    "        print(f\"Layer '{layer}' contains valid geometry\")\n",
    "        has_geometry = True\n",
    "        break\n",
    "    \n",
    "    if has_geometry:\n",
    "      geo_layers.append(layer)\n",
    "    else:\n",
    "      nongeo_layers.append(layer)\n",
    "      print(f\"Layer '{layer}' has no valid geometries.\")"
   ]
  },
  {
   "cell_type": "code",
   "execution_count": 45,
   "metadata": {},
   "outputs": [
    {
     "data": {
      "text/plain": [
       "['brn_protected_areas',\n",
       " 'sgp_protected_areas',\n",
       " 'tls_protected_areas',\n",
       " 'twitter_word_counts',\n",
       " 'candi_jawatengah',\n",
       " 'admin_kawasan_jateng',\n",
       " 'rdtr_takengon',\n",
       " 'rdtr_takengon_vertices',\n",
       " 'indonesian_cities']"
      ]
     },
     "execution_count": 45,
     "metadata": {},
     "output_type": "execute_result"
    }
   ],
   "source": [
    "geo_layers"
   ]
  },
  {
   "cell_type": "code",
   "execution_count": 46,
   "metadata": {},
   "outputs": [
    {
     "data": {
      "text/plain": [
       "['twitter_users', 'twitter_context_annotations']"
      ]
     },
     "execution_count": 46,
     "metadata": {},
     "output_type": "execute_result"
    }
   ],
   "source": [
    "nongeo_layers"
   ]
  },
  {
   "cell_type": "code",
   "execution_count": 49,
   "metadata": {},
   "outputs": [
    {
     "name": "stdout",
     "output_type": "stream",
     "text": [
      "brn_protected_areas successfully uploaded into MongoDB\n",
      "sgp_protected_areas successfully uploaded into MongoDB\n",
      "tls_protected_areas successfully uploaded into MongoDB\n",
      "twitter_word_counts successfully uploaded into MongoDB\n",
      "candi_jawatengah successfully uploaded into MongoDB\n",
      "admin_kawasan_jateng successfully uploaded into MongoDB\n",
      "rdtr_takengon successfully uploaded into MongoDB\n",
      "rdtr_takengon_vertices successfully uploaded into MongoDB\n",
      "indonesian_cities successfully uploaded into MongoDB\n"
     ]
    }
   ],
   "source": [
    "for layer in geo_layers:\n",
    "  gdf = gpd.read_file(file_path, layer=layer)\n",
    "  geo_dict = gdf.to_geo_dict()\n",
    "  db[layer].insert_many(geo_dict[\"features\"])\n",
    "  print(f\"{layer} successfully uploaded into MongoDB\")"
   ]
  },
  {
   "cell_type": "code",
   "execution_count": 62,
   "metadata": {},
   "outputs": [
    {
     "name": "stdout",
     "output_type": "stream",
     "text": [
      "twitter_users successfully uploaded into MongoDB\n",
      "twitter_context_annotations successfully uploaded into MongoDB\n"
     ]
    }
   ],
   "source": [
    "for layer in nongeo_layers:\n",
    "  gdf = gpd.read_file(file_path, layer=layer)\n",
    "  json_dict = gdf.to_dict(orient=\"records\")\n",
    "  db[layer].insert_many(json_dict)\n",
    "  print(f\"{layer} successfully uploaded into MongoDB\")"
   ]
  },
  {
   "cell_type": "code",
   "execution_count": null,
   "metadata": {},
   "outputs": [],
   "source": []
  }
 ],
 "metadata": {
  "kernelspec": {
   "display_name": "venv",
   "language": "python",
   "name": "python3"
  },
  "language_info": {
   "codemirror_mode": {
    "name": "ipython",
    "version": 3
   },
   "file_extension": ".py",
   "mimetype": "text/x-python",
   "name": "python",
   "nbconvert_exporter": "python",
   "pygments_lexer": "ipython3",
   "version": "3.13.2"
  }
 },
 "nbformat": 4,
 "nbformat_minor": 2
}
