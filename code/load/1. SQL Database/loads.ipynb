{
 "cells": [
  {
   "cell_type": "code",
   "execution_count": 24,
   "metadata": {},
   "outputs": [],
   "source": [
    "import psycopg2\n",
    "from sqlalchemy import create_engine\n",
    "import pandas as pd\n",
    "import fiona\n",
    "import geopandas as gpd\n",
    "import shapely"
   ]
  },
  {
   "cell_type": "markdown",
   "metadata": {},
   "source": [
    "## Setup PostgreSQL/PostGIS Database"
   ]
  },
  {
   "cell_type": "markdown",
   "metadata": {},
   "source": [
    "### Create Postgres database"
   ]
  },
  {
   "cell_type": "code",
   "execution_count": 4,
   "metadata": {},
   "outputs": [],
   "source": [
    "conn = psycopg2.connect(\n",
    "  dbname=\"postgres\",\n",
    "  user=\"postgres\",\n",
    "  password=\"\",\n",
    "  host=\"localhost\",\n",
    "  port=\"5432\"\n",
    ")\n",
    "conn.autocommit = True "
   ]
  },
  {
   "cell_type": "code",
   "execution_count": 5,
   "metadata": {},
   "outputs": [
    {
     "name": "stdout",
     "output_type": "stream",
     "text": [
      "Database 'geocourse_data_engineering' created successfully.\n"
     ]
    }
   ],
   "source": [
    "cur = conn.cursor()\n",
    "\n",
    "# Create a new database\n",
    "db_name = \"geocourse_data_engineering\"\n",
    "cur.execute(f\"CREATE DATABASE {db_name};\")\n",
    "\n",
    "print(f\"Database '{db_name}' created successfully.\")\n",
    "\n",
    "# Close the connection\n",
    "cur.close()\n",
    "conn.close()"
   ]
  },
  {
   "cell_type": "markdown",
   "metadata": {},
   "source": [
    "### Create Postgis Extension"
   ]
  },
  {
   "cell_type": "code",
   "execution_count": 18,
   "metadata": {},
   "outputs": [],
   "source": [
    "conn = psycopg2.connect(\n",
    "  dbname=db_name,\n",
    "  user=\"postgres\",\n",
    "  password=\"\",\n",
    "  host=\"localhost\",\n",
    "  port=\"5432\"\n",
    ")\n",
    "conn.autocommit = True "
   ]
  },
  {
   "cell_type": "code",
   "execution_count": null,
   "metadata": {},
   "outputs": [
    {
     "name": "stdout",
     "output_type": "stream",
     "text": [
      "PostGIS extension successfully installed\n"
     ]
    }
   ],
   "source": [
    "cur = conn.cursor()\n",
    "\n",
    "# Create PostGIS extension\n",
    "cur.execute(f\"CREATE EXTENSION postgis;\")\n",
    "print(\"PostGIS extension successfully installed\")\n",
    "\n",
    "# Close the connection\n",
    "cur.close()\n",
    "conn.close()"
   ]
  },
  {
   "cell_type": "markdown",
   "metadata": {},
   "source": [
    "## Save data into PostGIS"
   ]
  },
  {
   "cell_type": "code",
   "execution_count": 8,
   "metadata": {},
   "outputs": [],
   "source": [
    "engine = create_engine(\"postgresql://postgres:@localhost:5432/geocourse_data_engineering\")"
   ]
  },
  {
   "cell_type": "code",
   "execution_count": 9,
   "metadata": {},
   "outputs": [],
   "source": [
    "file_path = \"../../transform/output.gpkg\""
   ]
  },
  {
   "cell_type": "code",
   "execution_count": 54,
   "metadata": {},
   "outputs": [
    {
     "data": {
      "text/plain": [
       "['airports_indonesia',\n",
       " 'brn_protected_areas',\n",
       " 'sgp_protected_areas',\n",
       " 'tls_protected_areas',\n",
       " 'twitter_word_counts',\n",
       " 'candi_jawatengah',\n",
       " 'admin_kawasan_jateng',\n",
       " 'rdtr_takengon',\n",
       " 'rdtr_takengon_vertices',\n",
       " 'indonesian_cities',\n",
       " 'twitter_users',\n",
       " 'twitter_context_annotations']"
      ]
     },
     "execution_count": 54,
     "metadata": {},
     "output_type": "execute_result"
    }
   ],
   "source": [
    "layers = fiona.listlayers(file_path)\n",
    "\n",
    "layers"
   ]
  },
  {
   "cell_type": "code",
   "execution_count": 11,
   "metadata": {},
   "outputs": [
    {
     "data": {
      "text/html": [
       "<div>\n",
       "<style scoped>\n",
       "    .dataframe tbody tr th:only-of-type {\n",
       "        vertical-align: middle;\n",
       "    }\n",
       "\n",
       "    .dataframe tbody tr th {\n",
       "        vertical-align: top;\n",
       "    }\n",
       "\n",
       "    .dataframe thead th {\n",
       "        text-align: right;\n",
       "    }\n",
       "</style>\n",
       "<table border=\"1\" class=\"dataframe\">\n",
       "  <thead>\n",
       "    <tr style=\"text-align: right;\">\n",
       "      <th></th>\n",
       "      <th>id</th>\n",
       "      <th>ident</th>\n",
       "      <th>type</th>\n",
       "      <th>name</th>\n",
       "      <th>latitude_deg</th>\n",
       "      <th>longitude_deg</th>\n",
       "      <th>elevation_ft</th>\n",
       "      <th>continent</th>\n",
       "      <th>country_name</th>\n",
       "      <th>iso_country</th>\n",
       "      <th>...</th>\n",
       "      <th>icao_code</th>\n",
       "      <th>iata_code</th>\n",
       "      <th>local_code</th>\n",
       "      <th>home_link</th>\n",
       "      <th>wikipedia_link</th>\n",
       "      <th>keywords</th>\n",
       "      <th>score</th>\n",
       "      <th>last_updated</th>\n",
       "      <th>source</th>\n",
       "      <th>geometry</th>\n",
       "    </tr>\n",
       "  </thead>\n",
       "  <tbody>\n",
       "    <tr>\n",
       "      <th>0</th>\n",
       "      <td>26751</td>\n",
       "      <td>WADD</td>\n",
       "      <td>large_airport</td>\n",
       "      <td>Denpasar I Gusti Ngurah Rai International Airport</td>\n",
       "      <td>-8.748409</td>\n",
       "      <td>115.167123</td>\n",
       "      <td>14.0</td>\n",
       "      <td>AS</td>\n",
       "      <td>Indonesia</td>\n",
       "      <td>ID</td>\n",
       "      <td>...</td>\n",
       "      <td>WADD</td>\n",
       "      <td>DPS</td>\n",
       "      <td>None</td>\n",
       "      <td>http://www.angkasapura1.co.id/eng/location/bal...</td>\n",
       "      <td>https://en.wikipedia.org/wiki/Ngurah_Rai_Inter...</td>\n",
       "      <td>WRRR, Bali, Denpasar International Airport, De...</td>\n",
       "      <td>1200</td>\n",
       "      <td>2025-02-21T20:46:40+00:00</td>\n",
       "      <td>OurAirports</td>\n",
       "      <td>POINT Z (115.16712 -8.74841 14)</td>\n",
       "    </tr>\n",
       "    <tr>\n",
       "      <th>1</th>\n",
       "      <td>26835</td>\n",
       "      <td>WIII</td>\n",
       "      <td>large_airport</td>\n",
       "      <td>Soekarno-Hatta International Airport</td>\n",
       "      <td>-6.125570</td>\n",
       "      <td>106.655998</td>\n",
       "      <td>34.0</td>\n",
       "      <td>AS</td>\n",
       "      <td>Indonesia</td>\n",
       "      <td>ID</td>\n",
       "      <td>...</td>\n",
       "      <td>WIII</td>\n",
       "      <td>CGK</td>\n",
       "      <td>None</td>\n",
       "      <td>http://www.jakartasoekarnohattaairport.com/</td>\n",
       "      <td>https://en.wikipedia.org/wiki/Soekarno-Hatta_I...</td>\n",
       "      <td>JKT, Cengkareng, Java</td>\n",
       "      <td>51600</td>\n",
       "      <td>2013-02-07T12:57:41+00:00</td>\n",
       "      <td>OurAirports</td>\n",
       "      <td>POINT Z (106.656 -6.12557 34)</td>\n",
       "    </tr>\n",
       "    <tr>\n",
       "      <th>2</th>\n",
       "      <td>26787</td>\n",
       "      <td>WARJ</td>\n",
       "      <td>medium_airport</td>\n",
       "      <td>Adisutjipto International Airport</td>\n",
       "      <td>-7.788180</td>\n",
       "      <td>110.431999</td>\n",
       "      <td>379.0</td>\n",
       "      <td>AS</td>\n",
       "      <td>Indonesia</td>\n",
       "      <td>ID</td>\n",
       "      <td>...</td>\n",
       "      <td>None</td>\n",
       "      <td>JOG</td>\n",
       "      <td>None</td>\n",
       "      <td>http://adisutjipto-airport.co.id/</td>\n",
       "      <td>https://en.wikipedia.org/wiki/Adisutjipto_Inte...</td>\n",
       "      <td>WIIJ, WARJ, Adisucupto</td>\n",
       "      <td>500</td>\n",
       "      <td>2022-10-01T23:14:17+00:00</td>\n",
       "      <td>OurAirports</td>\n",
       "      <td>POINT Z (110.432 -7.78818 379)</td>\n",
       "    </tr>\n",
       "    <tr>\n",
       "      <th>3</th>\n",
       "      <td>26789</td>\n",
       "      <td>WARR</td>\n",
       "      <td>large_airport</td>\n",
       "      <td>Juanda International Airport</td>\n",
       "      <td>-7.379830</td>\n",
       "      <td>112.787003</td>\n",
       "      <td>9.0</td>\n",
       "      <td>AS</td>\n",
       "      <td>Indonesia</td>\n",
       "      <td>ID</td>\n",
       "      <td>...</td>\n",
       "      <td>WARR</td>\n",
       "      <td>SUB</td>\n",
       "      <td>None</td>\n",
       "      <td>http://www.juanda-airport.com/</td>\n",
       "      <td>https://en.wikipedia.org/wiki/Juanda_Internati...</td>\n",
       "      <td>WRSJ</td>\n",
       "      <td>51150</td>\n",
       "      <td>2022-10-01T23:14:37+00:00</td>\n",
       "      <td>OurAirports</td>\n",
       "      <td>POINT Z (112.787 -7.37983 9)</td>\n",
       "    </tr>\n",
       "    <tr>\n",
       "      <th>4</th>\n",
       "      <td>299629</td>\n",
       "      <td>WADL</td>\n",
       "      <td>medium_airport</td>\n",
       "      <td>Lombok International Airport</td>\n",
       "      <td>-8.759962</td>\n",
       "      <td>116.278169</td>\n",
       "      <td>319.0</td>\n",
       "      <td>AS</td>\n",
       "      <td>Indonesia</td>\n",
       "      <td>ID</td>\n",
       "      <td>...</td>\n",
       "      <td>WADL</td>\n",
       "      <td>LOP</td>\n",
       "      <td>None</td>\n",
       "      <td>http://www.lombok-airport.co.id/</td>\n",
       "      <td>https://en.wikipedia.org/wiki/Lombok_Internati...</td>\n",
       "      <td>Zainuddin Abdul Madjid, Praya</td>\n",
       "      <td>500</td>\n",
       "      <td>2025-02-21T23:53:28+00:00</td>\n",
       "      <td>OurAirports</td>\n",
       "      <td>POINT Z (116.27817 -8.75996 319)</td>\n",
       "    </tr>\n",
       "  </tbody>\n",
       "</table>\n",
       "<p>5 rows × 26 columns</p>\n",
       "</div>"
      ],
      "text/plain": [
       "       id ident            type  \\\n",
       "0   26751  WADD   large_airport   \n",
       "1   26835  WIII   large_airport   \n",
       "2   26787  WARJ  medium_airport   \n",
       "3   26789  WARR   large_airport   \n",
       "4  299629  WADL  medium_airport   \n",
       "\n",
       "                                                name  latitude_deg  \\\n",
       "0  Denpasar I Gusti Ngurah Rai International Airport     -8.748409   \n",
       "1               Soekarno-Hatta International Airport     -6.125570   \n",
       "2                  Adisutjipto International Airport     -7.788180   \n",
       "3                       Juanda International Airport     -7.379830   \n",
       "4                       Lombok International Airport     -8.759962   \n",
       "\n",
       "   longitude_deg  elevation_ft continent country_name iso_country  ...  \\\n",
       "0     115.167123          14.0        AS    Indonesia          ID  ...   \n",
       "1     106.655998          34.0        AS    Indonesia          ID  ...   \n",
       "2     110.431999         379.0        AS    Indonesia          ID  ...   \n",
       "3     112.787003           9.0        AS    Indonesia          ID  ...   \n",
       "4     116.278169         319.0        AS    Indonesia          ID  ...   \n",
       "\n",
       "  icao_code iata_code local_code  \\\n",
       "0      WADD       DPS       None   \n",
       "1      WIII       CGK       None   \n",
       "2      None       JOG       None   \n",
       "3      WARR       SUB       None   \n",
       "4      WADL       LOP       None   \n",
       "\n",
       "                                           home_link  \\\n",
       "0  http://www.angkasapura1.co.id/eng/location/bal...   \n",
       "1        http://www.jakartasoekarnohattaairport.com/   \n",
       "2                  http://adisutjipto-airport.co.id/   \n",
       "3                     http://www.juanda-airport.com/   \n",
       "4                   http://www.lombok-airport.co.id/   \n",
       "\n",
       "                                      wikipedia_link  \\\n",
       "0  https://en.wikipedia.org/wiki/Ngurah_Rai_Inter...   \n",
       "1  https://en.wikipedia.org/wiki/Soekarno-Hatta_I...   \n",
       "2  https://en.wikipedia.org/wiki/Adisutjipto_Inte...   \n",
       "3  https://en.wikipedia.org/wiki/Juanda_Internati...   \n",
       "4  https://en.wikipedia.org/wiki/Lombok_Internati...   \n",
       "\n",
       "                                            keywords  score  \\\n",
       "0  WRRR, Bali, Denpasar International Airport, De...   1200   \n",
       "1                              JKT, Cengkareng, Java  51600   \n",
       "2                             WIIJ, WARJ, Adisucupto    500   \n",
       "3                                               WRSJ  51150   \n",
       "4                      Zainuddin Abdul Madjid, Praya    500   \n",
       "\n",
       "                last_updated       source                          geometry  \n",
       "0  2025-02-21T20:46:40+00:00  OurAirports   POINT Z (115.16712 -8.74841 14)  \n",
       "1  2013-02-07T12:57:41+00:00  OurAirports     POINT Z (106.656 -6.12557 34)  \n",
       "2  2022-10-01T23:14:17+00:00  OurAirports    POINT Z (110.432 -7.78818 379)  \n",
       "3  2022-10-01T23:14:37+00:00  OurAirports      POINT Z (112.787 -7.37983 9)  \n",
       "4  2025-02-21T23:53:28+00:00  OurAirports  POINT Z (116.27817 -8.75996 319)  \n",
       "\n",
       "[5 rows x 26 columns]"
      ]
     },
     "execution_count": 11,
     "metadata": {},
     "output_type": "execute_result"
    }
   ],
   "source": [
    "airport_gdf = gpd.read_file(file_path, layer=\"airports_indonesia\")\n",
    "\n",
    "airport_gdf.head()"
   ]
  },
  {
   "cell_type": "code",
   "execution_count": 12,
   "metadata": {},
   "outputs": [
    {
     "ename": "InvalidParameterValue",
     "evalue": "Column has Z dimension but geometry does not\nCONTEXT:  COPY airport_indonesia, line 197, column geometry: \"0101000020E6100000BF9A0304733E5D401F4AB4E4F134F3BF\"\n",
     "output_type": "error",
     "traceback": [
      "\u001b[0;31m---------------------------------------------------------------------------\u001b[0m",
      "\u001b[0;31mInvalidParameterValue\u001b[0m                     Traceback (most recent call last)",
      "Cell \u001b[0;32mIn[12], line 1\u001b[0m\n\u001b[0;32m----> 1\u001b[0m \u001b[43mairport_gdf\u001b[49m\u001b[38;5;241;43m.\u001b[39;49m\u001b[43mto_postgis\u001b[49m\u001b[43m(\u001b[49m\u001b[38;5;124;43m\"\u001b[39;49m\u001b[38;5;124;43mairport_indonesia\u001b[39;49m\u001b[38;5;124;43m\"\u001b[39;49m\u001b[43m,\u001b[49m\u001b[43m \u001b[49m\u001b[43mengine\u001b[49m\u001b[43m,\u001b[49m\u001b[43m \u001b[49m\u001b[43mif_exists\u001b[49m\u001b[38;5;241;43m=\u001b[39;49m\u001b[38;5;124;43m\"\u001b[39;49m\u001b[38;5;124;43mreplace\u001b[39;49m\u001b[38;5;124;43m\"\u001b[39;49m\u001b[43m,\u001b[49m\u001b[43m \u001b[49m\u001b[43mindex\u001b[49m\u001b[38;5;241;43m=\u001b[39;49m\u001b[38;5;28;43;01mFalse\u001b[39;49;00m\u001b[43m)\u001b[49m\n\u001b[1;32m      3\u001b[0m \u001b[38;5;28mprint\u001b[39m(\u001b[38;5;124m\"\u001b[39m\u001b[38;5;124mAirport data successfully uploaded into PostgreSQL/PostGIS\u001b[39m\u001b[38;5;124m\"\u001b[39m)\n",
      "File \u001b[0;32m~/Documents/Faiz/GitHub/Personal Project/geocourse-data-engineering/venv/lib/python3.13/site-packages/geopandas/geodataframe.py:2297\u001b[0m, in \u001b[0;36mGeoDataFrame.to_postgis\u001b[0;34m(self, name, con, schema, if_exists, index, index_label, chunksize, dtype)\u001b[0m\n\u001b[1;32m   2233\u001b[0m \u001b[38;5;28;01mdef\u001b[39;00m\u001b[38;5;250m \u001b[39m\u001b[38;5;21mto_postgis\u001b[39m(\n\u001b[1;32m   2234\u001b[0m     \u001b[38;5;28mself\u001b[39m,\n\u001b[1;32m   2235\u001b[0m     name,\n\u001b[0;32m   (...)\u001b[0m\n\u001b[1;32m   2242\u001b[0m     dtype\u001b[38;5;241m=\u001b[39m\u001b[38;5;28;01mNone\u001b[39;00m,\n\u001b[1;32m   2243\u001b[0m ):\n\u001b[1;32m   2244\u001b[0m \u001b[38;5;250m    \u001b[39m\u001b[38;5;124;03m\"\"\"\u001b[39;00m\n\u001b[1;32m   2245\u001b[0m \u001b[38;5;124;03m    Upload GeoDataFrame into PostGIS database.\u001b[39;00m\n\u001b[1;32m   2246\u001b[0m \n\u001b[0;32m   (...)\u001b[0m\n\u001b[1;32m   2295\u001b[0m \n\u001b[1;32m   2296\u001b[0m \u001b[38;5;124;03m    \"\"\"\u001b[39;00m\n\u001b[0;32m-> 2297\u001b[0m     \u001b[43mgeopandas\u001b[49m\u001b[38;5;241;43m.\u001b[39;49m\u001b[43mio\u001b[49m\u001b[38;5;241;43m.\u001b[39;49m\u001b[43msql\u001b[49m\u001b[38;5;241;43m.\u001b[39;49m\u001b[43m_write_postgis\u001b[49m\u001b[43m(\u001b[49m\n\u001b[1;32m   2298\u001b[0m \u001b[43m        \u001b[49m\u001b[38;5;28;43mself\u001b[39;49m\u001b[43m,\u001b[49m\u001b[43m \u001b[49m\u001b[43mname\u001b[49m\u001b[43m,\u001b[49m\u001b[43m \u001b[49m\u001b[43mcon\u001b[49m\u001b[43m,\u001b[49m\u001b[43m \u001b[49m\u001b[43mschema\u001b[49m\u001b[43m,\u001b[49m\u001b[43m \u001b[49m\u001b[43mif_exists\u001b[49m\u001b[43m,\u001b[49m\u001b[43m \u001b[49m\u001b[43mindex\u001b[49m\u001b[43m,\u001b[49m\u001b[43m \u001b[49m\u001b[43mindex_label\u001b[49m\u001b[43m,\u001b[49m\u001b[43m \u001b[49m\u001b[43mchunksize\u001b[49m\u001b[43m,\u001b[49m\u001b[43m \u001b[49m\u001b[43mdtype\u001b[49m\n\u001b[1;32m   2299\u001b[0m \u001b[43m    \u001b[49m\u001b[43m)\u001b[49m\n",
      "File \u001b[0;32m~/Documents/Faiz/GitHub/Personal Project/geocourse-data-engineering/venv/lib/python3.13/site-packages/geopandas/io/sql.py:455\u001b[0m, in \u001b[0;36m_write_postgis\u001b[0;34m(gdf, name, con, schema, if_exists, index, index_label, chunksize, dtype)\u001b[0m\n\u001b[1;32m    452\u001b[0m                 \u001b[38;5;28;01mraise\u001b[39;00m \u001b[38;5;167;01mValueError\u001b[39;00m(msg)\n\u001b[1;32m    454\u001b[0m \u001b[38;5;28;01mwith\u001b[39;00m _get_conn(con) \u001b[38;5;28;01mas\u001b[39;00m connection:\n\u001b[0;32m--> 455\u001b[0m     \u001b[43mgdf\u001b[49m\u001b[38;5;241;43m.\u001b[39;49m\u001b[43mto_sql\u001b[49m\u001b[43m(\u001b[49m\n\u001b[1;32m    456\u001b[0m \u001b[43m        \u001b[49m\u001b[43mname\u001b[49m\u001b[43m,\u001b[49m\n\u001b[1;32m    457\u001b[0m \u001b[43m        \u001b[49m\u001b[43mconnection\u001b[49m\u001b[43m,\u001b[49m\n\u001b[1;32m    458\u001b[0m \u001b[43m        \u001b[49m\u001b[43mschema\u001b[49m\u001b[38;5;241;43m=\u001b[39;49m\u001b[43mschema_name\u001b[49m\u001b[43m,\u001b[49m\n\u001b[1;32m    459\u001b[0m \u001b[43m        \u001b[49m\u001b[43mif_exists\u001b[49m\u001b[38;5;241;43m=\u001b[39;49m\u001b[43mif_exists\u001b[49m\u001b[43m,\u001b[49m\n\u001b[1;32m    460\u001b[0m \u001b[43m        \u001b[49m\u001b[43mindex\u001b[49m\u001b[38;5;241;43m=\u001b[39;49m\u001b[43mindex\u001b[49m\u001b[43m,\u001b[49m\n\u001b[1;32m    461\u001b[0m \u001b[43m        \u001b[49m\u001b[43mindex_label\u001b[49m\u001b[38;5;241;43m=\u001b[39;49m\u001b[43mindex_label\u001b[49m\u001b[43m,\u001b[49m\n\u001b[1;32m    462\u001b[0m \u001b[43m        \u001b[49m\u001b[43mchunksize\u001b[49m\u001b[38;5;241;43m=\u001b[39;49m\u001b[43mchunksize\u001b[49m\u001b[43m,\u001b[49m\n\u001b[1;32m    463\u001b[0m \u001b[43m        \u001b[49m\u001b[43mdtype\u001b[49m\u001b[38;5;241;43m=\u001b[39;49m\u001b[43mdtype\u001b[49m\u001b[43m,\u001b[49m\n\u001b[1;32m    464\u001b[0m \u001b[43m        \u001b[49m\u001b[43mmethod\u001b[49m\u001b[38;5;241;43m=\u001b[39;49m\u001b[43m_psql_insert_copy\u001b[49m\u001b[43m,\u001b[49m\n\u001b[1;32m    465\u001b[0m \u001b[43m    \u001b[49m\u001b[43m)\u001b[49m\n",
      "File \u001b[0;32m~/Documents/Faiz/GitHub/Personal Project/geocourse-data-engineering/venv/lib/python3.13/site-packages/pandas/util/_decorators.py:333\u001b[0m, in \u001b[0;36mdeprecate_nonkeyword_arguments.<locals>.decorate.<locals>.wrapper\u001b[0;34m(*args, **kwargs)\u001b[0m\n\u001b[1;32m    327\u001b[0m \u001b[38;5;28;01mif\u001b[39;00m \u001b[38;5;28mlen\u001b[39m(args) \u001b[38;5;241m>\u001b[39m num_allow_args:\n\u001b[1;32m    328\u001b[0m     warnings\u001b[38;5;241m.\u001b[39mwarn(\n\u001b[1;32m    329\u001b[0m         msg\u001b[38;5;241m.\u001b[39mformat(arguments\u001b[38;5;241m=\u001b[39m_format_argument_list(allow_args)),\n\u001b[1;32m    330\u001b[0m         \u001b[38;5;167;01mFutureWarning\u001b[39;00m,\n\u001b[1;32m    331\u001b[0m         stacklevel\u001b[38;5;241m=\u001b[39mfind_stack_level(),\n\u001b[1;32m    332\u001b[0m     )\n\u001b[0;32m--> 333\u001b[0m \u001b[38;5;28;01mreturn\u001b[39;00m \u001b[43mfunc\u001b[49m\u001b[43m(\u001b[49m\u001b[38;5;241;43m*\u001b[39;49m\u001b[43margs\u001b[49m\u001b[43m,\u001b[49m\u001b[43m \u001b[49m\u001b[38;5;241;43m*\u001b[39;49m\u001b[38;5;241;43m*\u001b[39;49m\u001b[43mkwargs\u001b[49m\u001b[43m)\u001b[49m\n",
      "File \u001b[0;32m~/Documents/Faiz/GitHub/Personal Project/geocourse-data-engineering/venv/lib/python3.13/site-packages/pandas/core/generic.py:3087\u001b[0m, in \u001b[0;36mNDFrame.to_sql\u001b[0;34m(self, name, con, schema, if_exists, index, index_label, chunksize, dtype, method)\u001b[0m\n\u001b[1;32m   2889\u001b[0m \u001b[38;5;250m\u001b[39m\u001b[38;5;124;03m\"\"\"\u001b[39;00m\n\u001b[1;32m   2890\u001b[0m \u001b[38;5;124;03mWrite records stored in a DataFrame to a SQL database.\u001b[39;00m\n\u001b[1;32m   2891\u001b[0m \n\u001b[0;32m   (...)\u001b[0m\n\u001b[1;32m   3083\u001b[0m \u001b[38;5;124;03m[(1,), (None,), (2,)]\u001b[39;00m\n\u001b[1;32m   3084\u001b[0m \u001b[38;5;124;03m\"\"\"\u001b[39;00m  \u001b[38;5;66;03m# noqa: E501\u001b[39;00m\n\u001b[1;32m   3085\u001b[0m \u001b[38;5;28;01mfrom\u001b[39;00m\u001b[38;5;250m \u001b[39m\u001b[38;5;21;01mpandas\u001b[39;00m\u001b[38;5;21;01m.\u001b[39;00m\u001b[38;5;21;01mio\u001b[39;00m\u001b[38;5;250m \u001b[39m\u001b[38;5;28;01mimport\u001b[39;00m sql\n\u001b[0;32m-> 3087\u001b[0m \u001b[38;5;28;01mreturn\u001b[39;00m \u001b[43msql\u001b[49m\u001b[38;5;241;43m.\u001b[39;49m\u001b[43mto_sql\u001b[49m\u001b[43m(\u001b[49m\n\u001b[1;32m   3088\u001b[0m \u001b[43m    \u001b[49m\u001b[38;5;28;43mself\u001b[39;49m\u001b[43m,\u001b[49m\n\u001b[1;32m   3089\u001b[0m \u001b[43m    \u001b[49m\u001b[43mname\u001b[49m\u001b[43m,\u001b[49m\n\u001b[1;32m   3090\u001b[0m \u001b[43m    \u001b[49m\u001b[43mcon\u001b[49m\u001b[43m,\u001b[49m\n\u001b[1;32m   3091\u001b[0m \u001b[43m    \u001b[49m\u001b[43mschema\u001b[49m\u001b[38;5;241;43m=\u001b[39;49m\u001b[43mschema\u001b[49m\u001b[43m,\u001b[49m\n\u001b[1;32m   3092\u001b[0m \u001b[43m    \u001b[49m\u001b[43mif_exists\u001b[49m\u001b[38;5;241;43m=\u001b[39;49m\u001b[43mif_exists\u001b[49m\u001b[43m,\u001b[49m\n\u001b[1;32m   3093\u001b[0m \u001b[43m    \u001b[49m\u001b[43mindex\u001b[49m\u001b[38;5;241;43m=\u001b[39;49m\u001b[43mindex\u001b[49m\u001b[43m,\u001b[49m\n\u001b[1;32m   3094\u001b[0m \u001b[43m    \u001b[49m\u001b[43mindex_label\u001b[49m\u001b[38;5;241;43m=\u001b[39;49m\u001b[43mindex_label\u001b[49m\u001b[43m,\u001b[49m\n\u001b[1;32m   3095\u001b[0m \u001b[43m    \u001b[49m\u001b[43mchunksize\u001b[49m\u001b[38;5;241;43m=\u001b[39;49m\u001b[43mchunksize\u001b[49m\u001b[43m,\u001b[49m\n\u001b[1;32m   3096\u001b[0m \u001b[43m    \u001b[49m\u001b[43mdtype\u001b[49m\u001b[38;5;241;43m=\u001b[39;49m\u001b[43mdtype\u001b[49m\u001b[43m,\u001b[49m\n\u001b[1;32m   3097\u001b[0m \u001b[43m    \u001b[49m\u001b[43mmethod\u001b[49m\u001b[38;5;241;43m=\u001b[39;49m\u001b[43mmethod\u001b[49m\u001b[43m,\u001b[49m\n\u001b[1;32m   3098\u001b[0m \u001b[43m\u001b[49m\u001b[43m)\u001b[49m\n",
      "File \u001b[0;32m~/Documents/Faiz/GitHub/Personal Project/geocourse-data-engineering/venv/lib/python3.13/site-packages/pandas/io/sql.py:842\u001b[0m, in \u001b[0;36mto_sql\u001b[0;34m(frame, name, con, schema, if_exists, index, index_label, chunksize, dtype, method, engine, **engine_kwargs)\u001b[0m\n\u001b[1;32m    837\u001b[0m     \u001b[38;5;28;01mraise\u001b[39;00m \u001b[38;5;167;01mNotImplementedError\u001b[39;00m(\n\u001b[1;32m    838\u001b[0m         \u001b[38;5;124m\"\u001b[39m\u001b[38;5;124m'\u001b[39m\u001b[38;5;124mframe\u001b[39m\u001b[38;5;124m'\u001b[39m\u001b[38;5;124m argument should be either a Series or a DataFrame\u001b[39m\u001b[38;5;124m\"\u001b[39m\n\u001b[1;32m    839\u001b[0m     )\n\u001b[1;32m    841\u001b[0m \u001b[38;5;28;01mwith\u001b[39;00m pandasSQL_builder(con, schema\u001b[38;5;241m=\u001b[39mschema, need_transaction\u001b[38;5;241m=\u001b[39m\u001b[38;5;28;01mTrue\u001b[39;00m) \u001b[38;5;28;01mas\u001b[39;00m pandas_sql:\n\u001b[0;32m--> 842\u001b[0m     \u001b[38;5;28;01mreturn\u001b[39;00m \u001b[43mpandas_sql\u001b[49m\u001b[38;5;241;43m.\u001b[39;49m\u001b[43mto_sql\u001b[49m\u001b[43m(\u001b[49m\n\u001b[1;32m    843\u001b[0m \u001b[43m        \u001b[49m\u001b[43mframe\u001b[49m\u001b[43m,\u001b[49m\n\u001b[1;32m    844\u001b[0m \u001b[43m        \u001b[49m\u001b[43mname\u001b[49m\u001b[43m,\u001b[49m\n\u001b[1;32m    845\u001b[0m \u001b[43m        \u001b[49m\u001b[43mif_exists\u001b[49m\u001b[38;5;241;43m=\u001b[39;49m\u001b[43mif_exists\u001b[49m\u001b[43m,\u001b[49m\n\u001b[1;32m    846\u001b[0m \u001b[43m        \u001b[49m\u001b[43mindex\u001b[49m\u001b[38;5;241;43m=\u001b[39;49m\u001b[43mindex\u001b[49m\u001b[43m,\u001b[49m\n\u001b[1;32m    847\u001b[0m \u001b[43m        \u001b[49m\u001b[43mindex_label\u001b[49m\u001b[38;5;241;43m=\u001b[39;49m\u001b[43mindex_label\u001b[49m\u001b[43m,\u001b[49m\n\u001b[1;32m    848\u001b[0m \u001b[43m        \u001b[49m\u001b[43mschema\u001b[49m\u001b[38;5;241;43m=\u001b[39;49m\u001b[43mschema\u001b[49m\u001b[43m,\u001b[49m\n\u001b[1;32m    849\u001b[0m \u001b[43m        \u001b[49m\u001b[43mchunksize\u001b[49m\u001b[38;5;241;43m=\u001b[39;49m\u001b[43mchunksize\u001b[49m\u001b[43m,\u001b[49m\n\u001b[1;32m    850\u001b[0m \u001b[43m        \u001b[49m\u001b[43mdtype\u001b[49m\u001b[38;5;241;43m=\u001b[39;49m\u001b[43mdtype\u001b[49m\u001b[43m,\u001b[49m\n\u001b[1;32m    851\u001b[0m \u001b[43m        \u001b[49m\u001b[43mmethod\u001b[49m\u001b[38;5;241;43m=\u001b[39;49m\u001b[43mmethod\u001b[49m\u001b[43m,\u001b[49m\n\u001b[1;32m    852\u001b[0m \u001b[43m        \u001b[49m\u001b[43mengine\u001b[49m\u001b[38;5;241;43m=\u001b[39;49m\u001b[43mengine\u001b[49m\u001b[43m,\u001b[49m\n\u001b[1;32m    853\u001b[0m \u001b[43m        \u001b[49m\u001b[38;5;241;43m*\u001b[39;49m\u001b[38;5;241;43m*\u001b[39;49m\u001b[43mengine_kwargs\u001b[49m\u001b[43m,\u001b[49m\n\u001b[1;32m    854\u001b[0m \u001b[43m    \u001b[49m\u001b[43m)\u001b[49m\n",
      "File \u001b[0;32m~/Documents/Faiz/GitHub/Personal Project/geocourse-data-engineering/venv/lib/python3.13/site-packages/pandas/io/sql.py:2018\u001b[0m, in \u001b[0;36mSQLDatabase.to_sql\u001b[0;34m(self, frame, name, if_exists, index, index_label, schema, chunksize, dtype, method, engine, **engine_kwargs)\u001b[0m\n\u001b[1;32m   2006\u001b[0m sql_engine \u001b[38;5;241m=\u001b[39m get_engine(engine)\n\u001b[1;32m   2008\u001b[0m table \u001b[38;5;241m=\u001b[39m \u001b[38;5;28mself\u001b[39m\u001b[38;5;241m.\u001b[39mprep_table(\n\u001b[1;32m   2009\u001b[0m     frame\u001b[38;5;241m=\u001b[39mframe,\n\u001b[1;32m   2010\u001b[0m     name\u001b[38;5;241m=\u001b[39mname,\n\u001b[0;32m   (...)\u001b[0m\n\u001b[1;32m   2015\u001b[0m     dtype\u001b[38;5;241m=\u001b[39mdtype,\n\u001b[1;32m   2016\u001b[0m )\n\u001b[0;32m-> 2018\u001b[0m total_inserted \u001b[38;5;241m=\u001b[39m \u001b[43msql_engine\u001b[49m\u001b[38;5;241;43m.\u001b[39;49m\u001b[43minsert_records\u001b[49m\u001b[43m(\u001b[49m\n\u001b[1;32m   2019\u001b[0m \u001b[43m    \u001b[49m\u001b[43mtable\u001b[49m\u001b[38;5;241;43m=\u001b[39;49m\u001b[43mtable\u001b[49m\u001b[43m,\u001b[49m\n\u001b[1;32m   2020\u001b[0m \u001b[43m    \u001b[49m\u001b[43mcon\u001b[49m\u001b[38;5;241;43m=\u001b[39;49m\u001b[38;5;28;43mself\u001b[39;49m\u001b[38;5;241;43m.\u001b[39;49m\u001b[43mcon\u001b[49m\u001b[43m,\u001b[49m\n\u001b[1;32m   2021\u001b[0m \u001b[43m    \u001b[49m\u001b[43mframe\u001b[49m\u001b[38;5;241;43m=\u001b[39;49m\u001b[43mframe\u001b[49m\u001b[43m,\u001b[49m\n\u001b[1;32m   2022\u001b[0m \u001b[43m    \u001b[49m\u001b[43mname\u001b[49m\u001b[38;5;241;43m=\u001b[39;49m\u001b[43mname\u001b[49m\u001b[43m,\u001b[49m\n\u001b[1;32m   2023\u001b[0m \u001b[43m    \u001b[49m\u001b[43mindex\u001b[49m\u001b[38;5;241;43m=\u001b[39;49m\u001b[43mindex\u001b[49m\u001b[43m,\u001b[49m\n\u001b[1;32m   2024\u001b[0m \u001b[43m    \u001b[49m\u001b[43mschema\u001b[49m\u001b[38;5;241;43m=\u001b[39;49m\u001b[43mschema\u001b[49m\u001b[43m,\u001b[49m\n\u001b[1;32m   2025\u001b[0m \u001b[43m    \u001b[49m\u001b[43mchunksize\u001b[49m\u001b[38;5;241;43m=\u001b[39;49m\u001b[43mchunksize\u001b[49m\u001b[43m,\u001b[49m\n\u001b[1;32m   2026\u001b[0m \u001b[43m    \u001b[49m\u001b[43mmethod\u001b[49m\u001b[38;5;241;43m=\u001b[39;49m\u001b[43mmethod\u001b[49m\u001b[43m,\u001b[49m\n\u001b[1;32m   2027\u001b[0m \u001b[43m    \u001b[49m\u001b[38;5;241;43m*\u001b[39;49m\u001b[38;5;241;43m*\u001b[39;49m\u001b[43mengine_kwargs\u001b[49m\u001b[43m,\u001b[49m\n\u001b[1;32m   2028\u001b[0m \u001b[43m\u001b[49m\u001b[43m)\u001b[49m\n\u001b[1;32m   2030\u001b[0m \u001b[38;5;28mself\u001b[39m\u001b[38;5;241m.\u001b[39mcheck_case_sensitive(name\u001b[38;5;241m=\u001b[39mname, schema\u001b[38;5;241m=\u001b[39mschema)\n\u001b[1;32m   2031\u001b[0m \u001b[38;5;28;01mreturn\u001b[39;00m total_inserted\n",
      "File \u001b[0;32m~/Documents/Faiz/GitHub/Personal Project/geocourse-data-engineering/venv/lib/python3.13/site-packages/pandas/io/sql.py:1558\u001b[0m, in \u001b[0;36mSQLAlchemyEngine.insert_records\u001b[0;34m(self, table, con, frame, name, index, schema, chunksize, method, **engine_kwargs)\u001b[0m\n\u001b[1;32m   1555\u001b[0m \u001b[38;5;28;01mfrom\u001b[39;00m\u001b[38;5;250m \u001b[39m\u001b[38;5;21;01msqlalchemy\u001b[39;00m\u001b[38;5;250m \u001b[39m\u001b[38;5;28;01mimport\u001b[39;00m exc\n\u001b[1;32m   1557\u001b[0m \u001b[38;5;28;01mtry\u001b[39;00m:\n\u001b[0;32m-> 1558\u001b[0m     \u001b[38;5;28;01mreturn\u001b[39;00m \u001b[43mtable\u001b[49m\u001b[38;5;241;43m.\u001b[39;49m\u001b[43minsert\u001b[49m\u001b[43m(\u001b[49m\u001b[43mchunksize\u001b[49m\u001b[38;5;241;43m=\u001b[39;49m\u001b[43mchunksize\u001b[49m\u001b[43m,\u001b[49m\u001b[43m \u001b[49m\u001b[43mmethod\u001b[49m\u001b[38;5;241;43m=\u001b[39;49m\u001b[43mmethod\u001b[49m\u001b[43m)\u001b[49m\n\u001b[1;32m   1559\u001b[0m \u001b[38;5;28;01mexcept\u001b[39;00m exc\u001b[38;5;241m.\u001b[39mStatementError \u001b[38;5;28;01mas\u001b[39;00m err:\n\u001b[1;32m   1560\u001b[0m     \u001b[38;5;66;03m# GH34431\u001b[39;00m\n\u001b[1;32m   1561\u001b[0m     \u001b[38;5;66;03m# https://stackoverflow.com/a/67358288/6067848\u001b[39;00m\n\u001b[1;32m   1562\u001b[0m     msg \u001b[38;5;241m=\u001b[39m \u001b[38;5;124mr\u001b[39m\u001b[38;5;124m\"\"\"\u001b[39m\u001b[38;5;124m(\u001b[39m\u001b[38;5;124m\\\u001b[39m\u001b[38;5;124m(1054, \u001b[39m\u001b[38;5;124m\"\u001b[39m\u001b[38;5;124mUnknown column \u001b[39m\u001b[38;5;124m'\u001b[39m\u001b[38;5;124minf(e0)?\u001b[39m\u001b[38;5;124m'\u001b[39m\u001b[38;5;124m in \u001b[39m\u001b[38;5;124m'\u001b[39m\u001b[38;5;124mfield list\u001b[39m\u001b[38;5;124m'\u001b[39m\u001b[38;5;124m\"\u001b[39m\u001b[38;5;124m\\\u001b[39m\u001b[38;5;124m))(?#\u001b[39m\n\u001b[1;32m   1563\u001b[0m \u001b[38;5;124m    )|inf can not be used with MySQL\u001b[39m\u001b[38;5;124m\"\"\"\u001b[39m\n",
      "File \u001b[0;32m~/Documents/Faiz/GitHub/Personal Project/geocourse-data-engineering/venv/lib/python3.13/site-packages/pandas/io/sql.py:1119\u001b[0m, in \u001b[0;36mSQLTable.insert\u001b[0;34m(self, chunksize, method)\u001b[0m\n\u001b[1;32m   1116\u001b[0m     \u001b[38;5;28;01mbreak\u001b[39;00m\n\u001b[1;32m   1118\u001b[0m chunk_iter \u001b[38;5;241m=\u001b[39m \u001b[38;5;28mzip\u001b[39m(\u001b[38;5;241m*\u001b[39m(arr[start_i:end_i] \u001b[38;5;28;01mfor\u001b[39;00m arr \u001b[38;5;129;01min\u001b[39;00m data_list))\n\u001b[0;32m-> 1119\u001b[0m num_inserted \u001b[38;5;241m=\u001b[39m \u001b[43mexec_insert\u001b[49m\u001b[43m(\u001b[49m\u001b[43mconn\u001b[49m\u001b[43m,\u001b[49m\u001b[43m \u001b[49m\u001b[43mkeys\u001b[49m\u001b[43m,\u001b[49m\u001b[43m \u001b[49m\u001b[43mchunk_iter\u001b[49m\u001b[43m)\u001b[49m\n\u001b[1;32m   1120\u001b[0m \u001b[38;5;66;03m# GH 46891\u001b[39;00m\n\u001b[1;32m   1121\u001b[0m \u001b[38;5;28;01mif\u001b[39;00m num_inserted \u001b[38;5;129;01mis\u001b[39;00m \u001b[38;5;129;01mnot\u001b[39;00m \u001b[38;5;28;01mNone\u001b[39;00m:\n",
      "File \u001b[0;32m~/Documents/Faiz/GitHub/Personal Project/geocourse-data-engineering/venv/lib/python3.13/site-packages/geopandas/io/sql.py:342\u001b[0m, in \u001b[0;36m_psql_insert_copy\u001b[0;34m(tbl, conn, keys, data_iter)\u001b[0m\n\u001b[1;32m    340\u001b[0m         copy\u001b[38;5;241m.\u001b[39mwrite(s_buf\u001b[38;5;241m.\u001b[39mread())\n\u001b[1;32m    341\u001b[0m \u001b[38;5;28;01melse\u001b[39;00m:  \u001b[38;5;66;03m# otherwise use psycopg2 method\u001b[39;00m\n\u001b[0;32m--> 342\u001b[0m     \u001b[43mcur\u001b[49m\u001b[38;5;241;43m.\u001b[39;49m\u001b[43mcopy_expert\u001b[49m\u001b[43m(\u001b[49m\u001b[43msql\u001b[49m\u001b[43m,\u001b[49m\u001b[43m \u001b[49m\u001b[43ms_buf\u001b[49m\u001b[43m)\u001b[49m\n",
      "\u001b[0;31mInvalidParameterValue\u001b[0m: Column has Z dimension but geometry does not\nCONTEXT:  COPY airport_indonesia, line 197, column geometry: \"0101000020E6100000BF9A0304733E5D401F4AB4E4F134F3BF\"\n"
     ]
    }
   ],
   "source": [
    "airport_gdf.to_postgis(\"airport_indonesia\", engine, if_exists=\"replace\", index=False)\n",
    "\n",
    "print(\"Airport data successfully uploaded into PostgreSQL/PostGIS\")"
   ]
  },
  {
   "cell_type": "code",
   "execution_count": 20,
   "metadata": {},
   "outputs": [],
   "source": [
    "def to_2d(geom):\n",
    "  if geom.has_z:\n",
    "    return shapely.wkb.loads(shapely.wkb.dumps(geom, output_dimension=2))\n",
    "  return geom \n",
    "\n",
    "airport_gdf.geometry = airport_gdf.geometry.apply(to_2d)"
   ]
  },
  {
   "cell_type": "code",
   "execution_count": 41,
   "metadata": {},
   "outputs": [
    {
     "name": "stdout",
     "output_type": "stream",
     "text": [
      "Airport data successfully uploaded into PostgreSQL/PostGIS\n"
     ]
    }
   ],
   "source": [
    "airport_gdf.to_postgis(\"airport_indonesia\", engine, if_exists=\"replace\", index=False)\n",
    "\n",
    "print(\"Airport data successfully uploaded into PostgreSQL/PostGIS\")"
   ]
  },
  {
   "cell_type": "markdown",
   "metadata": {},
   "source": [
    "### Check if data is saved into PostGIS"
   ]
  },
  {
   "cell_type": "code",
   "execution_count": null,
   "metadata": {},
   "outputs": [
    {
     "data": {
      "text/html": [
       "<div>\n",
       "<style scoped>\n",
       "    .dataframe tbody tr th:only-of-type {\n",
       "        vertical-align: middle;\n",
       "    }\n",
       "\n",
       "    .dataframe tbody tr th {\n",
       "        vertical-align: top;\n",
       "    }\n",
       "\n",
       "    .dataframe thead th {\n",
       "        text-align: right;\n",
       "    }\n",
       "</style>\n",
       "<table border=\"1\" class=\"dataframe\">\n",
       "  <thead>\n",
       "    <tr style=\"text-align: right;\">\n",
       "      <th></th>\n",
       "      <th>id</th>\n",
       "      <th>type</th>\n",
       "      <th>name</th>\n",
       "      <th>geometry</th>\n",
       "    </tr>\n",
       "  </thead>\n",
       "  <tbody>\n",
       "    <tr>\n",
       "      <th>0</th>\n",
       "      <td>26751</td>\n",
       "      <td>large_airport</td>\n",
       "      <td>Denpasar I Gusti Ngurah Rai International Airport</td>\n",
       "      <td>POINT (115.16712 -8.74841)</td>\n",
       "    </tr>\n",
       "    <tr>\n",
       "      <th>1</th>\n",
       "      <td>26835</td>\n",
       "      <td>large_airport</td>\n",
       "      <td>Soekarno-Hatta International Airport</td>\n",
       "      <td>POINT (106.656 -6.12557)</td>\n",
       "    </tr>\n",
       "    <tr>\n",
       "      <th>2</th>\n",
       "      <td>26787</td>\n",
       "      <td>medium_airport</td>\n",
       "      <td>Adisutjipto International Airport</td>\n",
       "      <td>POINT (110.432 -7.78818)</td>\n",
       "    </tr>\n",
       "    <tr>\n",
       "      <th>3</th>\n",
       "      <td>26789</td>\n",
       "      <td>large_airport</td>\n",
       "      <td>Juanda International Airport</td>\n",
       "      <td>POINT (112.787 -7.37983)</td>\n",
       "    </tr>\n",
       "    <tr>\n",
       "      <th>4</th>\n",
       "      <td>299629</td>\n",
       "      <td>medium_airport</td>\n",
       "      <td>Lombok International Airport</td>\n",
       "      <td>POINT (116.27817 -8.75996)</td>\n",
       "    </tr>\n",
       "  </tbody>\n",
       "</table>\n",
       "</div>"
      ],
      "text/plain": [
       "       id            type                                               name  \\\n",
       "0   26751   large_airport  Denpasar I Gusti Ngurah Rai International Airport   \n",
       "1   26835   large_airport               Soekarno-Hatta International Airport   \n",
       "2   26787  medium_airport                  Adisutjipto International Airport   \n",
       "3   26789   large_airport                       Juanda International Airport   \n",
       "4  299629  medium_airport                       Lombok International Airport   \n",
       "\n",
       "                     geometry  \n",
       "0  POINT (115.16712 -8.74841)  \n",
       "1    POINT (106.656 -6.12557)  \n",
       "2    POINT (110.432 -7.78818)  \n",
       "3    POINT (112.787 -7.37983)  \n",
       "4  POINT (116.27817 -8.75996)  "
      ]
     },
     "execution_count": 42,
     "metadata": {},
     "output_type": "execute_result"
    }
   ],
   "source": [
    "query = \"SELECT id, type, name, geometry FROM airport_indonesia\"\n",
    "\n",
    "df = gpd.read_postgis(query, engine, geom_col=\"geometry\")\n",
    "\n",
    "df.head()"
   ]
  },
  {
   "cell_type": "code",
   "execution_count": 34,
   "metadata": {},
   "outputs": [
    {
     "name": "stdout",
     "output_type": "stream",
     "text": [
      "<class 'geopandas.geodataframe.GeoDataFrame'>\n",
      "RangeIndex: 638 entries, 0 to 637\n",
      "Data columns (total 4 columns):\n",
      " #   Column    Non-Null Count  Dtype   \n",
      "---  ------    --------------  -----   \n",
      " 0   id        638 non-null    int64   \n",
      " 1   type      638 non-null    object  \n",
      " 2   name      638 non-null    object  \n",
      " 3   geometry  638 non-null    geometry\n",
      "dtypes: geometry(1), int64(1), object(2)\n",
      "memory usage: 20.1+ KB\n"
     ]
    }
   ],
   "source": [
    "df.info()"
   ]
  },
  {
   "cell_type": "markdown",
   "metadata": {},
   "source": [
    "### Upload all layers into PostGIS"
   ]
  },
  {
   "cell_type": "code",
   "execution_count": 64,
   "metadata": {},
   "outputs": [
    {
     "name": "stdout",
     "output_type": "stream",
     "text": [
      "Layer 'brn_protected_areas' contains valid geometry\n",
      "Layer 'sgp_protected_areas' contains valid geometry\n",
      "Layer 'tls_protected_areas' contains valid geometry\n",
      "Layer 'twitter_word_counts' contains valid geometry\n",
      "Layer 'candi_jawatengah' contains valid geometry\n",
      "Layer 'admin_kawasan_jateng' contains valid geometry\n",
      "Layer 'rdtr_takengon' contains valid geometry\n",
      "Layer 'rdtr_takengon_vertices' contains valid geometry\n",
      "Layer 'indonesian_cities' contains valid geometry\n",
      "Layer 'twitter_users' has no valid geometries.\n",
      "Layer 'twitter_context_annotations' has no valid geometries.\n"
     ]
    }
   ],
   "source": [
    "geo_layers = []\n",
    "nongeo_layers = []\n",
    "\n",
    "for layer in layers[1:]:\n",
    "  with fiona.open(file_path, layer=layer) as src:\n",
    "    has_geometry = False      \n",
    "    for feature in src:\n",
    "      geometry = feature.get(\"geometry\")\n",
    "      if geometry:\n",
    "        geom_type = geometry[\"type\"]\n",
    "        print(f\"Layer '{layer}' contains valid geometry\")\n",
    "        has_geometry = True\n",
    "        break\n",
    "    \n",
    "    if has_geometry:\n",
    "      geo_layers.append(layer)\n",
    "    else:\n",
    "      nongeo_layers.append(layer)\n",
    "      print(f\"Layer '{layer}' has no valid geometries.\")"
   ]
  },
  {
   "cell_type": "code",
   "execution_count": 65,
   "metadata": {},
   "outputs": [
    {
     "data": {
      "text/plain": [
       "['brn_protected_areas',\n",
       " 'sgp_protected_areas',\n",
       " 'tls_protected_areas',\n",
       " 'twitter_word_counts',\n",
       " 'candi_jawatengah',\n",
       " 'admin_kawasan_jateng',\n",
       " 'rdtr_takengon',\n",
       " 'rdtr_takengon_vertices',\n",
       " 'indonesian_cities']"
      ]
     },
     "execution_count": 65,
     "metadata": {},
     "output_type": "execute_result"
    }
   ],
   "source": [
    "geo_layers"
   ]
  },
  {
   "cell_type": "code",
   "execution_count": 66,
   "metadata": {},
   "outputs": [
    {
     "data": {
      "text/plain": [
       "['twitter_users', 'twitter_context_annotations']"
      ]
     },
     "execution_count": 66,
     "metadata": {},
     "output_type": "execute_result"
    }
   ],
   "source": [
    "nongeo_layers"
   ]
  },
  {
   "cell_type": "code",
   "execution_count": 67,
   "metadata": {},
   "outputs": [
    {
     "name": "stdout",
     "output_type": "stream",
     "text": [
      "brn_protected_areas successfully uploaded into PostgreSQL/PostGIS\n",
      "sgp_protected_areas successfully uploaded into PostgreSQL/PostGIS\n",
      "tls_protected_areas successfully uploaded into PostgreSQL/PostGIS\n",
      "twitter_word_counts successfully uploaded into PostgreSQL/PostGIS\n",
      "candi_jawatengah successfully uploaded into PostgreSQL/PostGIS\n",
      "admin_kawasan_jateng successfully uploaded into PostgreSQL/PostGIS\n",
      "rdtr_takengon successfully uploaded into PostgreSQL/PostGIS\n",
      "rdtr_takengon_vertices successfully uploaded into PostgreSQL/PostGIS\n",
      "indonesian_cities successfully uploaded into PostgreSQL/PostGIS\n"
     ]
    }
   ],
   "source": [
    "for layer in geo_layers:\n",
    "  gdf = gpd.read_file(file_path, layer=layer)\n",
    "  gdf.to_postgis(layer, engine, if_exists=\"replace\", index=False)\n",
    "  print(f\"{layer} successfully uploaded into PostgreSQL/PostGIS\")"
   ]
  },
  {
   "cell_type": "code",
   "execution_count": 69,
   "metadata": {},
   "outputs": [
    {
     "name": "stdout",
     "output_type": "stream",
     "text": [
      "twitter_users successfully uploaded into PostgreSQL\n",
      "twitter_context_annotations successfully uploaded into PostgreSQL\n"
     ]
    }
   ],
   "source": [
    "for layer in nongeo_layers:\n",
    "  gdf = gpd.read_file(file_path, layer=layer)\n",
    "  gdf.to_sql(layer, engine, if_exists=\"replace\", index=False)\n",
    "  print(f\"{layer} successfully uploaded into PostgreSQL\")"
   ]
  },
  {
   "cell_type": "code",
   "execution_count": null,
   "metadata": {},
   "outputs": [],
   "source": []
  }
 ],
 "metadata": {
  "kernelspec": {
   "display_name": "venv",
   "language": "python",
   "name": "python3"
  },
  "language_info": {
   "codemirror_mode": {
    "name": "ipython",
    "version": 3
   },
   "file_extension": ".py",
   "mimetype": "text/x-python",
   "name": "python",
   "nbconvert_exporter": "python",
   "pygments_lexer": "ipython3",
   "version": "3.13.2"
  }
 },
 "nbformat": 4,
 "nbformat_minor": 2
}
