{
 "cells": [
  {
   "cell_type": "code",
   "execution_count": 2,
   "metadata": {},
   "outputs": [],
   "source": [
    "import requests\n",
    "import json\n",
    "from xml.dom.minidom import parseString"
   ]
  },
  {
   "cell_type": "code",
   "execution_count": 4,
   "metadata": {},
   "outputs": [],
   "source": [
    "WFS_BASE_URL = \"http://geoportal.jatengprov.go.id/geoserver/wfs\""
   ]
  },
  {
   "cell_type": "markdown",
   "metadata": {},
   "source": [
    "## GetCapabilities"
   ]
  },
  {
   "cell_type": "code",
   "execution_count": 46,
   "metadata": {},
   "outputs": [
    {
     "data": {
      "text/plain": [
       "<Response [200]>"
      ]
     },
     "execution_count": 46,
     "metadata": {},
     "output_type": "execute_result"
    }
   ],
   "source": [
    "params = {\n",
    "  \"service\": \"wfs\",\n",
    "  \"version\": \"2.0.0\",\n",
    "  \"request\": \"GetCapabilities\",\n",
    "}\n",
    "\n",
    "response = requests.get(WFS_BASE_URL, params=params)\n",
    "\n",
    "response"
   ]
  },
  {
   "cell_type": "code",
   "execution_count": 47,
   "metadata": {},
   "outputs": [
    {
     "data": {
      "text/plain": [
       "'<?xml version=\"1.0\" encoding=\"UTF-8\"?><wfs:WFS_Capabilities version=\"2.0.0\" xmlns:xsi=\"http://www.w3.org/2001/XMLSchema-instance\" xmlns=\"http://www.opengis.net/wfs/2.0\" xmlns:wfs=\"http://www.opengis.net/wfs/2.0\" xmlns:ows=\"http://www.opengis.net/ows/1.1\" xmlns:gml=\"http://www.opengis.net/gml/3.2\" xmlns:fes=\"http://www.opengis.net/fes/2.0\" xmlns:xlink=\"http://www.w3.org/1999/xlink\" xmlns:xs=\"http://www.w3.org/2001/XMLSchema\" xsi:schemaLocation=\"http://www.opengis.net/wfs/2.0 http://geoportal.jatengprov.go.id/geoserver/schemas/wfs/2.0/wfs.xsd\" xmlns:xml=\"http://www.w3.org/XML/1998/namespace\" xmlns:OPDJATENG=\"OPDJATENG\" xmlns:DishanpanJawaTengah=\"DishanpanJawaTengah\" xmlns:DisdikbudJawaTengah=\"DisdikbudJawaTengah\" xmlns:Satpolpp=\"Satpolpp\" xmlns:BappedaJawaTengah=\"BappedaJawaTengah\" xmlns:DinaskpJawaTengah=\"DinaskpJawaTengah\" xmlns:DisporaparJawaTengah=\"DisporaparJawaTengah\" xmlns:DistanbunJawaTengah=\"DistanbunJawaTengah\" xmlns:Dpusdataru=\"Dpusdataru\" xmlns:BKDJawaTengah=\"BKDJawaTengah\" xmlns:DinasesdmJawaTengah=\"DinasesdmJawaTengah\" xmlns:DpubmckJawaTengah=\"DpubmckJawaTengah\" xmlns:DinaslhkJawaTengah=\"DinaslhkJawaTengah\" xmlns:BiroPemotdaksJawaTengah=\"BiroPemotdaksJawaTengah\" xmlns:DishubJawaTengah=\"DishubJawaTengah\" xmlns:DisperindagJawaTengah=\"DisperindagJawaTengah\" xmlns:DisnakertransJawaTengah=\"DisnakertransJawaTengah\" xmlns:ADMIN=\"ADMIN\" xmlns:DisperakimJawaTengah=\"DisperakimJawaTengah\" xmlns:DinkopukmJawaTengah=\"DinkopukmJawaTengah\" xmlns:DiskominfoJawaTengah=\"DiskominfoJawaTengah\" xmlns:DinkesJawaTengah=\"DinkesJawaTengah\" xmlns:DispermasdesJawaTengah=\"DispermasdesJawaTengah\" xmlns:Kabkota=\"Kabkota\" xmlns:Kesbangpol=\"Kesbangpol\" xmlns:KUGI=\"KUGI\" xmlns:Walidatadaerah=\"Walidatadaerah\" xmlns:DinsosJawaTengah=\"DinsosJawaTengah\" xmlns:DisnakeswanJawaTengah=\"DisnakeswanJawaTengah\" xmlns:BPBDJawaTengah=\"BPBDJawaTengah\" xmlns:BapendaJawaTengah=\"BapendaJawaTengah\" xmlns:BPKADJawaTengah=\"BPKADJawaTengah\" xmlns:geodata=\"geodata\" xmlns:DpmptspJawaTengah=\"DpmptspJawaTengah\" updateSequence=\"7956\"><ows:ServiceIdentification><ows:Title>GeoServer Web Feature Service</ows:Title><ows:Abstract>This is the reference implementation of WFS 1.0.0 and WFS 1.1.0, supports all WFS operations including Transaction.</ows:Abstract><ows:Keywords><ows:Keyword>WFS</ows:Keyword><ows:Keyword>WMS</ows:Keyword><ows:Keyword>GEOSERVER</ows:Keyword></ows:Keywords><ows:ServiceType>WFS</ows:ServiceType><ows:ServiceTypeVersion>2.0.0</ows:ServiceTypeVersion><ows:Fees>NONE</ows:Fees><ows:AccessConstraints>NONE</ows:AccessConstraints></ows:ServiceIdentification><ows:ServiceProvider><ows:ProviderName>Provinsi Jawa Tengah</ows:ProviderName><ows:ServiceContact><ows:IndividualName>(024) 8319140</ows:IndividualName><ows:PositionName>Jl. Menteri Supeno 1 / 2 , Semarang 50243</ows:PositionName><ows:ContactInfo><ows:Phone><ows:Voice/><ows:Facsimile>(024) 8443916</ows:Facsimile></ows:Phone><ows:Address><ows:DeliveryPoint/><ows:City>Semarang</ows:City><ows:AdministrativeArea>Jawa Tengah</ows:AdministrativeArea><ows:PostalCode>50243</ows:PostalCode><ows:Country>Indonesia</ows:Country><ows:ElectronicMailAddress>diskominfo@jatengprov.go.id</ows:ElectronicMailAddress></ows:Address></ows:ContactInfo></ows:ServiceContact></ows:ServiceProvider><ows:OperationsMetadata><ows:Operation name=\"GetCapabilities\"><ows:DCP><ows:HTTP><ows:Get xlink:href=\"http://geoportal.jatengprov.go.id/geoserver/wfs\"/><ows:Post xlink:href=\"http://geoportal.jatengprov.go.id/geoserver/wfs\"/></ows:HTTP></ows:DCP><ows:Parameter name=\"AcceptVersions\"><ows:AllowedValues><ows:Value>1.0.0</ows:Value><ows:Value>1.1.0</ows:Value><ows:Value>2.0.0</ows:Value></ows:AllowedValues></ows:Parameter><ows:Parameter name=\"AcceptFormats\"><ows:AllowedValues><ows:Value>text/xml</ows:Value></ows:AllowedValues></ows:Parameter></ows:Operation><ows:Operation name=\"DescribeFeatureType\"><ows:DCP><ows:HTTP><ows:Get xlink:href=\"http://geoportal.jatengprov.go.id/geoserver/wfs\"/><ows:Post xlink:href=\"http://geoportal.jatengprov.go.id/geoserver/wfs\"/></ows:HTTP></ows:DCP><ows:Parameter name=\"outputFormat\"><ows:AllowedValues><ows:Value>text/xml; subtype=gml/3.2</ows:Value></ows:AllowedValues></ows:Parameter></ows:Operation><ows:Operation name=\"GetFeature\"><ows:DCP><ows:HTTP><ows:Get xlink:href=\"http://geoportal.jatengprov.go.id/geoserver/wfs\"/><ows:Post xlink:href=\"http://geoportal.jatengprov.go.id/geoserver/wfs\"/></ows:HTTP></ows:DCP><ows:Parameter name=\"resultType\"><ows:AllowedValues><ows:Value>results</ows:Value><ows:Value>hits</ows:Value></ows:AllowedValues></ows:Parameter><ows:Parameter name=\"outputFormat\"><ows:AllowedValues><ows:Value>text/xml; subtype=gml/3.2</ows:Value><ows:Value>GML2</ows:Value><ows:Value>KML</ows:Value><ows:Value>SHAPE-ZIP</ows:Value><ows:Value>application/gml+xml; version=3.2</ows:Value><ows:Value>application/json</ows:Value><ows:Value>application/vnd.google-earth.kml xml</ows:Value><ows:Value>application/vnd.google-earth.kml+xml</ows:Value><ows:Value>csv</ows:Value><ows:Value>gml3</ows:Value><ows:Value>gml32</ows:Value><ows:Value>json</ows:Value><ows:Value>text/xml; subtype=gml/2.1.2</ows:Value><ows:Value>text/xml; subtype=gml/3.1.1</ows:Value></ows:AllowedValues></ows:Parameter><ows:Constraint name=\"PagingIsTransactionSafe\"><ows:NoValues/><ows:DefaultValue>FALSE</ows:DefaultValue></ows:Constraint><ows:Constraint name=\"CountDefault\"><ows:NoValues/><ows:DefaultValue>1000000</ows:DefaultValue></ows:Constraint></ows:Operation><ows:Operation name=\"GetPropertyValue\"><ows:DCP><ows:HTTP><ows:Get xlink:href=\"http://geoportal.jatengprov.go.id/geoserver/wfs\"/><ows:Post xlink:href=\"http://geoportal.jatengprov.go.id/geoserver/wfs\"/></ows:HTTP></ows:DCP><ows:Parameter name=\"resolve\"><ows:AllowedValues><ows:Value>none</ows:Value></ows:AllowedValues></ows:Parameter></ows:Operation><ows:Operation name=\"ListStoredQueries\"><ows:DCP><ows:HTTP><ows:Get xlink:href=\"http://geoportal.jatengprov.go.id/geoserver/wfs\"/><ows:Post xlink:href=\"http://geoportal.jatengprov.go.id/geoserver/wfs\"/></ows:HTTP></ows:DCP></ows:Operation><ows:Operation name=\"DescribeStoredQueries\"><ows:DCP><ows:HTTP><ows:Get xlink:href=\"http://geoportal.jatengprov.go.id/geoserver/wfs\"/><ows:Post xlink:href=\"http://geoportal.jatengprov.go.id/geoserver/wfs\"/></ows:HTTP></ows:DCP></ows:Operation><ows:Operation name=\"CreateStoredQuery\"><ows:DCP><ows:HTTP><ows:Post xlink:href=\"http://geoportal.jatengprov.go.id/geoserver/wfs\"/></ows:HTTP></ows:DCP></ows:Operation><ows:Operation name=\"DropStoredQuery\"><ows:DCP><ows:HTTP><ows:Get xlink:href=\"http://geoportal.jatengprov.go.id/geoserver/wfs\"/><ows:Post xlink:href=\"http://geoportal.jatengprov.go.id/geoserver/wfs\"/></ows:HTTP></ows:DCP></ows:Operation><ows:Operation name=\"LockFeature\"><ows:DCP><ows:HTTP><ows:Get xlink:href=\"http://geoportal.jatengprov.go.id/geoserver/wfs\"/><ows:Post xlink:href=\"http://geoportal.jatengprov.go.id/geoserver/wfs\"/></ows:HTTP></ows:DCP><ows:Parameter name=\"releaseAction\"><ows:AllowedValues><ows:Value>ALL</ows:Value><ows:Value>SOME</ows:Value></ows:AllowedValues></ows:Parameter></ows:Operation><ows:Operation name=\"GetFeatureWithLock\"><ows:DCP><ows:HTTP><ows:Get xlink:href=\"http://geoportal.jatengprov.go.id/geoserver/wfs\"/><ows:Post xlink:href=\"http://geoportal.jatengprov.go.id/geoserver/wfs\"/></ows:HTTP></ows:DCP><ows:Parameter name=\"resultType\"><ows:AllowedValues><ows:Value>results</ows:Value><ows:Value>hits</ows:Value></ows:AllowedValues></ows:Parameter><ows:Parameter name=\"outputFormat\"><ows:AllowedValues><ows:Value>text/xml; subtype=gml/3.2</ows:Value><ows:Value>GML2</ows:Value><ows:Value>KML</ows:Value><ows:Value>SHAPE-ZIP</ows:Value><ows:Value>application/gml+xml; version=3.2</ows:Value><ows:Value>application/json</ows:Value><ows:Value>application/vnd.google-earth.kml xml</ows:Value><ows:Value>application/vnd.google-earth.kml+xml</ows:Value><ows:Value>csv</ows:Value><ows:Value>gml3</ows:Value><ows:Value>gml32</ows:Value><ows:Value>json</ows:Value><ows:Value>text/xml; subtype=gml/2.1.2</ows:Value><ows:Value>text/xml; subtype=gml/3.1.1</ows:Value></ows:AllowedValues></ows:Parameter><ows:Constraint name=\"PagingIsTransactionSafe\"><ows:NoValues/><ows:DefaultValue>FALSE</ows:DefaultValue></ows:Constraint><ows:Constraint name=\"CountDefault\"><ows:NoValues/><ows:DefaultValue>1000000</ows:DefaultValue></ows:Constraint></ows:Operation><ows:Operation name=\"Transaction\"><ows:DCP><ows:HTTP><ows:Get xlink:href=\"http://geoportal.jatengprov.go.id/geoserver/wfs\"/><ows:Post xlink:href=\"http://geoportal.jatengprov.go.id/geoserver/wfs\"/></ows:HTTP></ows:DCP><ows:Parameter name=\"inputFormat\"><ows:AllowedValues><ows:Value>text/xml; subtype=gml/3.2</ows:Value></ows:AllowedValues></ows:Parameter><ows:Parameter name=\"releaseAction\"><ows:AllowedValues><ows:Value>ALL</ows:Value><ows:Value>SOME</ows:Value></ows:AllowedValues></ows:Parameter></ows:Operation><ows:Constraint name=\"ImplementsBasicWFS\"><ows:NoValues/><ows:DefaultValue>TRUE</ows:DefaultValue></ows:Constraint><ows:Constraint name=\"ImplementsTransactionalWFS\"><ows:NoValues/><ows:DefaultValue>TRUE</ows:DefaultValue></ows:Constraint><ows:Constraint name=\"ImplementsLockingWFS\"><ows:NoValues/><ows:DefaultValue>TRUE</ows:DefaultValue></ows:Constraint><ows:Constraint name=\"KVPEncoding\"><ows:NoValues/><ows:DefaultValue>TRUE</ows:DefaultValue></ows:Constraint><ows:Constraint name=\"XMLEncoding\"><ows:NoValues/><ows:DefaultValue>TRUE</ows:DefaultValue></ows:Constraint><ows:Constraint name=\"SOAPEncoding\"><ows:NoValues/><ows:DefaultValue>TRUE</ows:DefaultValue></ows:Constraint><ows:Constraint name=\"ImplementsInheritance\"><ows:NoValues/><ows:DefaultValue>FALSE</ows:DefaultValue></ows:Constraint><ows:Constraint name=\"ImplementsRemoteResolve\"><ows:NoValues/><ows:DefaultValue>FALSE</ows:DefaultValue></ows:Constraint><ows:Constraint name=\"ImplementsResultPaging\"><ows:NoValues/><ows:DefaultValue>TRUE</ows:DefaultValue></ows:Constraint><ows:Constraint name=\"ImplementsStandardJoins\"><ows:NoValues/><ows:DefaultValue>TRUE</ows:DefaultValue></ows:Constraint><ows:Constraint name=\"ImplementsSpatialJoins\"><ows:NoValues/><ows:DefaultValue>TRUE</ows:DefaultValue></ows:Constraint><ows:Constraint name=\"ImplementsTemporalJoins\"><ows:NoValues/><ows:DefaultValue>TRUE</ows:DefaultValue></ows:Constraint><ows:Constraint name=\"ImplementsFeatureVersioning\"><ows:NoValues/><ows:DefaultValue>FALSE</ows:DefaultValue></ows:Constraint><ows:Constraint name=\"ManageStoredQueries\"><ows:NoValues/><ows:DefaultValue>TRUE</ows:DefaultValue></ows:Constraint><ows:Constraint name=\"PagingIsTransactionSafe\"><ows:NoValues/><ows:DefaultValue>FALSE</ows:DefaultValue></ows:Constraint><ows:Constraint name=\"QueryExpressions\"><ows:AllowedValues><ows:Value>wfs:Query</ows:Value><ows:Value>wfs:StoredQuery</ows:Value></ows:AllowedValues></ows:Constraint></ows:OperationsMetadata><FeatureTypeList><FeatureType xmlns:ADMIN=\"ADMIN\"><Name>ADMIN:adm_jateng_bts_desa_250k_330020200517094901</Name><Title>ADM_JATENG_BTS_DESA_250K</Title><Abstract>ADM_JATENG_BTS_DESA_250K</Abstract><ows:Keywords><ows:Keyword>features</ows:Keyword><ows:Keyword>adm_jateng_bts_desa_250k_330020200517094901</ows:Keyword></ows:Keywords><DefaultCRS>urn:ogc:def:crs:EPSG::4326</DefaultCRS><ows:WGS84BoundingBox><ows:LowerCorner>108.540176391602 -8.22111988067627</ows:LowerCorner><ows:UpperCorner>111.707092285156 -6.37127590179443</ows:UpperCorner></ows:WGS84BoundingBox></FeatureType><FeatureType xmlns:ADMIN=\"ADMIN\"><Name>ADMIN:adm_semarang_bts_rw_330020220720082500</Name><Title>Adm_Semarang_Bts_RW_AR</Title><Abstract>Batas Administrasi Rukun Warga (RW) di Kota Semarang</Abstract><ows:Keywords><ows:Keyword>features</ows:Keyword><ows:Keyword>adm_semarang_bts_rw_330020220720082500</ows:Keyword></ows:Keywords><DefaultCRS>urn:ogc:def:crs:EPSG::4326</DefaultCRS><ows:WGS84BoundingBox><ows:LowerCorner>110.2672863 -7.1144639</ows:LowerCorner><ows:UpperCorner>110.5088836 -6.9319917</ows:UpperCorner></ows:WGS84BoundingBox></FeatureType><FeatureType xmlns:DispermasdesJawaTengah=\"DispermasdesJawaTengah\"><Name>DispermasdesJawaTengah:air_minum_kemasan_jawa_tengah_330020201116102906</Name><Title>Air_Minum_Kemasan_Jawa_Tengah</Title><Abstract>Air Minum Kemasan Jawa Tengah</Abstract><ows:Keywords><ows:Keyword>features</ows:Keyword><ows:Keyword>air_minum_kemasan_jawa_tengah_330020201116102906</ows:Keyword></ows:Keywords><DefaultCRS>urn:ogc:def:crs:EPSG::4326</DefaultCRS><ows:WGS84BoundingBox><ows:LowerCorner>108.540176391602 -8.22111988067627</ows:LowerCorner><ows:UpperCorner>111.707092285156 -6.37127590179443</ows:UpperCorner></ows:WGS84BoundingBox></FeatureType><FeatureType xmlns:DispermasdesJawaTengah=\"DispermasdesJawaTengah\"><Name>DispermasdesJawaTengah:air_minum_ledeng_jawa_tengah_330020201116103129</Name><Title>Air_Minum_Ledeng_Jawa_Tengah</Title><Abstract>Air Minum Ledeng Jawa Tengah</Abstract><ows:Keywords><ows:Keyword>features</ows:Keyword><ows:Keyword>air_minum_ledeng_jawa_tengah_330020201116103129</ows:Keyword></ows:Keywords><DefaultCRS>urn:ogc:def:crs:EPSG::4326</DefaultCRS><ows:WGS84BoundingBox><ows:LowerCorner>108.55585483913 -8.21196175812861</ows:LowerCorner><ows:UpperCorner>111.691411993269 -5.72569801255321</ows:UpperCorner></ows:WGS84BoundingBox></FeatureType><FeatureType xmlns:DispermasdesJawaTengah=\"DispermasdesJawaTengah\"><Name>DispermasdesJawaTengah:air_minum_sumber_lainnya_jawa_tengah_330020201116103303</Name><Title>Air_Minum_Sumber_Lainnya_Jawa_Tengah</Title><Abstract>Air Minum Sumber Lainnya Jawa Tengah</Abstract><ows:Keywords><ows:Keyword>features</ows:Keyword><ows:Keyword>air_minum_sumber_lainnya_jawa_tengah_330020201116103303</ows:Keyword></ows:Keywords><DefaultCRS>urn:ogc:def:crs:EPSG::4326</DefaultCRS><ows:WGS84BoundingBox><ows:LowerCorner>108.540176391602 -8.22111988067627</ows:LowerCorner><ows:UpperCorner>111.707092285156 -6.37127590179443</ows:UpperCorner></ows:WGS84BoundingBox></FeatureType><FeatureType xmlns:DispermasdesJawaTengah=\"DispermasdesJawaTengah\"><Name>DispermasdesJawaTengah:air_minum_sumber_terlindungi_jawa_tengah_330020201116103538</Name><Title>Air_Minum_Sumber_Terlindungi_Jawa_Tengah</Title><Abstract>Air Minum Sumber Terlindungi Jawa Tengah</Abstract><ows:Keywords><ows:Keyword>features</ows:Keyword><ows:Keyword>air_minum_sumber_terlindungi_jawa_tengah_330020201116103538</ows:Keyword></ows:Keywords><DefaultCRS>urn:ogc:def:crs:EPSG::4326</DefaultCRS><ows:WGS84BoundingBox><ows:LowerCorner>108.55585483913 -8.21196175812861</ows:LowerCorner><ows:UpperCorner>111.691411993269 -5.72569801255321</ows:UpperCorner></ows:WGS84BoundingBox></FeatureType><FeatureType xmlns:ADMIN=\"ADMIN\"><Name>ADMIN:adm_jateng_bts_kabupaten_kota_250k_330020190617103125</Name><Title>Batas Kabupaten Kota Jawa Tengah 250K</Title><Abstract>null</Abstract><ows:Keywords><ows:Keyword>features</ows:Keyword><ows:Keyword>adm_jateng_bts_kabupaten_kota_250k_330020190617103125</ows:Keyword></ows:Keywords><DefaultCRS>urn:ogc:def:crs:EPSG::4326</DefaultCRS><ows:WGS84BoundingBox><ows:LowerCorner>108.555854839065 -8.21196175806421</ows:LowerCorner><ows:UpperCorner>111.691411993135 -5.72569801277643</ows:UpperCorner></ows:WGS84BoundingBox></FeatureType><FeatureType xmlns:ADMIN=\"ADMIN\"><Name>ADMIN:adm_jateng_bts_kecamatan_250k_330020190617103256</Name><Title>Batas Kecamatan Jawa Tengah 250K</Title><Abstract>null</Abstract><ows:Keywords><ows:Keyword>features</ows:Keyword><ows:Keyword>adm_jateng_bts_kecamatan_250k_330020190617103256</ows:Keyword></ows:Keywords><DefaultCRS>urn:ogc:def:crs:EPSG::4326</DefaultCRS><ows:WGS84BoundingBox><ows:LowerCorner>108.55585483913 -8.21196175812855</ows:LowerCorner><ows:UpperCorner>111.691411993269 -5.72569801255309</ows:UpperCorner></ows:WGS84BoundingBox></FeatureType><FeatureType xmlns:ADMIN=\"ADMIN\"><Name>ADMIN:budidaya_rumput_laut_jawa_tengah_2018_330020210104114146</Name><Title>Budidaya_Rumput_Laut_jawa_Tengah_2018</Title><Abstract>Potensi Lokasi Kesesuaian Budidaya Rumput Laut Provinsi Jawa Tengah Tahun 2018</Abstract><ows:Keywords><ows:Keyword>features</ows:Keyword><ows:Keyword>budidaya_rumput_laut_jawa_tengah_2018_330020210104114146</ows:Keyword></ows:Keywords><DefaultCRS>urn:ogc:def:crs:EPSG::32646</DefaultCRS><ows:WGS84BoundingBox><ows:LowerCorner>108.61456949263851 -7.018573438781015</ows:LowerCorner><ows:UpperCorner>111.87563301656925 -5.500666110463199</ows:UpperCorner></ows:WGS84BoundingBox></FeatureType><FeatureType xmlns:DinasesdmJawaTengah=\"DinasesdmJawaTengah\"><Name>DinasesdmJawaTengah:cat_jateng_region_330020231213140345</Name><Title>CAT_JATENG_region</Title><Abstract>null</Abstract><ows:Keywords><ows:Keyword>cat_jateng_region_330020231213140345</ows:Keyword><ows:Keyword>features</ows:Keyword></ows:Keywords><DefaultCRS>urn:ogc:def:crs:EPSG::4326</DefaultCRS><ows:WGS84BoundingBox><ows:LowerCorner>108.550992 -8.249207</ows:LowerCorner><ows:UpperCorner>111.939563 -6.407545</ows:UpperCorner></ows:WGS84BoundingBox></FeatureType><FeatureType xmlns:ADMIN=\"ADMIN\"><Name>ADMIN:candi_di_jawa_tengah_330020220822074546</Name><Title>Candi_di_Jawa_Tengah_PT</Title><Abstract>Tempat Ibadah Candi di Jawa Tengah</Abstract><ows:Keywords><ows:Keyword>features</ows:Keyword><ows:Keyword>candi_di_jawa_tengah_330020220822074546</ows:Keyword></ows:Keywords><DefaultCRS>urn:ogc:def:crs:EPSG::3857</DefaultCRS><ows:WGS84BoundingBox><ows:LowerCorner>109.90692414097157 -7.76104566382751</ows:LowerCorner><ows:UpperCorner>110.50464613604936 -7.205043803252967</ows:UpperCorner></ows:WGS84BoundingBox></FeatureType><FeatureType xmlns:DinasesdmJawaTengah=\"DinasesdmJawaTengah\"><Name>DinasesdmJawaTengah:cekungan_air_tanah_jawa_tengah_330020201112100857</Name><Title>Cekungan_Air_Tanah_Jawa_Tengah</Title><Abstract>Cekungan Air Tanah Jawa Tengah</Abstract><ows:Keywords><ows:Keyword>cekungan_air_tanah_jawa_tengah_330020201112100857</ows:Keyword><ows:Keyword>features</ows:Keyword></ows:Keywords><DefaultCRS>urn:ogc:def:crs:EPSG::4326</DefaultCRS><ows:WGS84BoundingBox><ows:LowerCorner>108.543045043945 -8.22052097320557</ows:LowerCorner><ows:UpperCorner>111.709411621094 -6.39672565460205</ows:UpperCorner></ows:WGS84BoundingBox></FeatureType><FeatureType xmlns:ADMIN=\"ADMIN\"><Name>ADMIN:depo_bbm_330020190515113348</Name><Title>DEPO_BBM_JAWA TENGAH</Title><Abstract>undefined</Abstract><ows:Keywords><ows:Keyword>features</ows:Keyword><ows:Keyword>depo_bbm_330020190515113348</ows:Keyword></ows:Keywords><DefaultCRS>urn:ogc:def:crs:EPSG::32749</DefaultCRS><ows:WGS84BoundingBox><ows:LowerCorner>108.96337110811207 -7.78488583896718</ows:LowerCorner><ows:UpperCorner>111.60408134956495 -6.710024906296904</ows:UpperCorner></ows:WGS84BoundingBox></FeatureType><FeatureType xmlns:Dpusdataru=\"Dpusdataru\"><Name>Dpusdataru:danau_provinsi_jawa_tengah_330020200826142727</Name><Title>Danau_Provinsi_Jawa_Tengah</Title><Abstract>Danau Provinsi Jawa Tengah</Abstract><ows:Keywords><ows:Keyword>danau_provinsi_jawa_tengah_330020200826142727</ows:Keyword><ows:Keyword>features</ows:Keyword></ows:Keywords><DefaultCRS>urn:ogc:def:crs:EPSG::32749</DefaultCRS><ows:WGS84BoundingBox><ows:LowerCorner>108.78998057464455 -7.984417428291692</ows:LowerCorner><ows:UpperCorner>111.6115463424496 -6.647224275325419</ows:UpperCorner></ows:WGS84BoundingBox></FeatureType><FeatureType xmlns:DisporaparJawaTengah=\"DisporaparJawaTengah\"><Name>DisporaparJawaTengah:daya_tarik_wisata_pt_330020231227082506</Name><Title>Daya_Tarik_Wisata_PT</Title><Abstract>null</Abstract><ows:Keywords><ows:Keyword>features</ows:Keyword><ows:Keyword>daya_tarik_wisata_pt_330020231227082506</ows:Keyword></ows:Keywords><DefaultCRS>urn:ogc:def:crs:EPSG::4326</DefaultCRS><ows:WGS84BoundingBox><ows:LowerCorner>108.807762557313 -7.87853462126809</ows:LowerCorner><ows:UpperCorner>111.411945689197 -5.84127516280239</ows:UpperCorner></ows:WGS84BoundingBox></FeatureType><FeatureType xmlns:ADMIN=\"ADMIN\"><Name>ADMIN:fasilitas_kesehatan_vaksinasi_jawa_tengah_330020210426124814</Name><Title>Fasilitas_Kesehatan_Vaksinasi_Jawa_Tengah</Title><Abstract>Fasilitas nKesehatan Vaksinasi Jawa Tengah</Abstract><ows:Keywords><ows:Keyword>features</ows:Keyword><ows:Keyword>fasilitas_kesehatan_vaksinasi_jawa_tengah_330020210426124814</ows:Keyword></ows:Keywords><DefaultCRS>urn:ogc:def:crs:EPSG::4326</DefaultCRS><ows:WGS84BoundingBox><ows:LowerCorner>108.61208 -8.16279999999995</ows:LowerCorner><ows:UpperCorner>111.67232768 -5.83822999999995</ows:UpperCorner></ows:WGS84BoundingBox></FeatureType><FeatureType xmlns:DisporaparJawaTengah=\"DisporaparJawaTengah\"><Name>DisporaparJawaTengah:geospasial_deswita_pt_330020231227082250</Name><Title>GEOSPASIAL_DESWITA_PT</Title><Abstract>null</Abstract><ows:Keywords><ows:Keyword>features</ows:Keyword><ows:Keyword>geospasial_deswita_pt_330020231227082250</ows:Keyword></ows:Keywords><DefaultCRS>urn:ogc:def:crs:EPSG::4326</DefaultCRS><ows:WGS84BoundingBox><ows:LowerCorner>-7.86242365302139 108.827347397817</ows:LowerCorner><ows:UpperCorner>-6.55499925461606 111.583467337464</ows:UpperCorner></ows:WGS84BoundingBox></FeatureType><FeatureType xmlns:ADMIN=\"ADMIN\"><Name>ADMIN:kontur_330020190510095118</Name><Title>Garis Kontur Jawa Tengah</Title><Abstract>undefined</Abstract><ows:Keywords><ows:Keyword>features</ows:Keyword><ows:Keyword>kontur_330020190510095118</ows:Keyword></ows:Keywords><DefaultCRS>urn:ogc:def:crs:EPSG::32749</DefaultCRS><ows:WGS84BoundingBox><ows:LowerCorner>108.27611284847853 -8.264526254691376</ows:LowerCorner><ows:UpperCorner>111.86107433172143 -6.22633624263489</ows:UpperCorner></ows:WGS84BoundingBox></FeatureType><FeatureType xmlns:ADMIN=\"ADMIN\"><Name>ADMIN:garispantaijawatengah_ln_25k_330020190515102758</Name><Title>Garis_Pantai_Jawa_Tengah_LN_250K</Title><Abstract>undefined</Abstract><ows:Keywords><ows:Keyword>features</ows:Keyword><ows:Keyword>garispantaijawatengah_ln_25k_330020190515102758</ows:Keyword></ows:Keywords><DefaultCRS>urn:ogc:def:crs:EPSG::4326</DefaultCRS><ows:WGS84BoundingBox><ows:LowerCorner>108.818977355957 -6.96198797225952</ows:LowerCorner><ows:UpperCorner>111.480743408203 -5.71627759933472</ows:UpperCorner></ows:WGS84BoundingBox></FeatureType><FeatureType xmlns:ADMIN=\"ADMIN\"><Name>ADMIN:geologi_jawa_tengah_330020210419095955</Name><Title>Geologi_Jawa_Tengah</Title><Abstract>Peta Geologi Jawa Tengah</Abstract><ows:Keywords><ows:Keyword>features</ows:Keyword><ows:Keyword>geologi_jawa_tengah_330020210419095955</ows:Keyword></ows:Keywords><DefaultCRS>urn:ogc:def:crs:EPSG::4326</DefaultCRS><ows:WGS84BoundingBox><ows:LowerCorner>108.540176391602 -8.22352886199951</ows:LowerCorner><ows:UpperCorner>111.70694732666 -5.86989402770996</ows:UpperCorner></ows:WGS84BoundingBox></FeatureType><FeatureType xmlns:DinasesdmJawaTengah=\"DinasesdmJawaTengah\"><Name>DinasesdmJawaTengah:gerakan_tanah_jawa_tengah_330020201103112213</Name><Title>Gerakan_Tanah_Jawa_Tengah</Title><Abstract>Gerakan Tanah Jawa Tengah</Abstract><ows:Keywords><ows:Keyword>features</ows:Keyword><ows:Keyword>gerakan_tanah_jawa_tengah_330020201103112213</ows:Keyword></ows:Keywords><DefaultCRS>urn:ogc:def:crs:EPSG::4326</DefaultCRS><ows:WGS84BoundingBox><ows:LowerCorner>108.540679931641 -8.21053981781006</ows:LowerCorner><ows:UpperCorner>111.707290649414 -6.40081882476807</ows:UpperCorner></ows:WGS84BoundingBox></FeatureType><FeatureType xmlns:ADMIN=\"ADMIN\"><Name>ADMIN:gereja_di_jawa_tengah_330020220815131454</Name><Title>Gereja_di_Jawa_Tengah_PT</Title><Abstract>Tempat Ibadah Gereja di Jawa Tengah</Abstract><ows:Keywords><ows:Keyword>features</ows:Keyword><ows:Keyword>gereja_di_jawa_tengah_330020220815131454</ows:Keyword></ows:Keywords><DefaultCRS>urn:ogc:def:crs:EPSG::3857</DefaultCRS><ows:WGS84BoundingBox><ows:LowerCorner>108.59673999991445 -8.083709999637385</ows:LowerCorner><ows:UpperCorner>111.62404000010778 -6.481120000015565</ows:UpperCorner></ows:WGS84BoundingBox></FeatureType><FeatureType xmlns:DinaslhkJawaTengah=\"DinaslhkJawaTengah\"><Name>DinaslhkJawaTengah:hutan_rakyat_16102018_330020200819105853</Name><Title>Hutan_Rakyat_16/10/2018</Title><Abstract>Hutan Rakyat Provinsi Jawa Tengah (Data 16/10/2018)</Abstract><ows:Keywords><ows:Keyword>features</ows:Keyword><ows:Keyword>hutan_rakyat_16102018_330020200819105853</ows:Keyword></ows:Keywords><DefaultCRS>urn:ogc:def:crs:EPSG::32749</DefaultCRS><ows:WGS84BoundingBox><ows:LowerCorner>108.53484967643725 -8.220954394981735</ows:LowerCorner><ows:UpperCorner>111.69909511884994 -6.390313951668957</ows:UpperCorner></ows:WGS84BoundingBox></FeatureType><FeatureType xmlns:DpmptspJawaTengah=\"DpmptspJawaTengah\"><Name>DpmptspJawaTengah:jalan_eksisting_final_330020200108121209</Name><Title>JALAN_EKSISTING_KLATEN</Title><Abstract>JALAN EKSISTING KLATEN</Abstract><ows:Keywords><ows:Keyword>features</ows:Keyword><ows:Keyword>jalan_eksisting_final_330020200108121209</ows:Keyword></ows:Keywords><DefaultCRS>urn:ogc:def:crs:EPSG::32749</DefaultCRS><ows:WGS84BoundingBox><ows:LowerCorner>110.46147899588503 -7.807616121484251</ows:LowerCorner><ows:UpperCorner>110.78729033028895 -7.566635436504145</ows:UpperCorner></ows:WGS84BoundingBox></FeatureType><FeatureType xmlns:DpubmckJawaTengah=\"DpubmckJawaTengah\"><Name>DpubmckJawaTengah:jalan_provinsi_ln_25k_330020231228114019</Name><Title>JALAN_PROVINSI_LN_25K</Title><Abstract>Peta Jaringan Jalan Provinsi Jawa Tengah\\nSkala 25000\\nTahun 2023\\nSumber SK Status Jalan Provinsi Jawa Tengah</Abstract><ows:Keywords><ows:Keyword>features</ows:Keyword><ows:Keyword>jalan_provinsi_ln_25k_330020231228114019</ows:Keyword></ows:Keywords><DefaultCRS>urn:ogc:def:crs:EPSG::4326</DefaultCRS><ows:WGS84BoundingBox><ows:LowerCorner>108.683715820312 -8.10873699188232</ows:LowerCorner><ows:UpperCorner>111.62907409668 -6.47091484069824</ows:UpperCorner></ows:WGS84BoundingBox></FeatureType><FeatureType xmlns:ADMIN=\"ADMIN\"><Name>ADMIN:jaringan_pipa_330020190520102849</Name><Title>JARINGAN_PIPA_JAWA TENGAH</Title><Abstract>undefined</Abstract><ows:Keywords><ows:Keyword>features</ows:Keyword><ows:Keyword>jaringan_pipa_330020190520102849</ows:Keyword></ows:Keywords><DefaultCRS>urn:ogc:def:crs:EPSG::32749</DefaultCRS><ows:WGS84BoundingBox><ows:LowerCorner>108.77916552535159 -7.522261249613585</ows:LowerCorner><ows:UpperCorner>111.77433167929301 -6.2493558222531105</ows:UpperCorner></ows:WGS84BoundingBox></FeatureType><FeatureType xmlns:ADMIN=\"ADMIN\"><Name>ADMIN:jaringan_sutet_330020190520103140</Name><Title>JARINGAN_SUTET_JAWA TENGAH</Title><Abstract>undefined</Abstract><ows:Keywords><ows:Keyword>features</ows:Keyword><ows:Keyword>jaringan_sutet_330020190520103140</ows:Keyword></ows:Keywords><DefaultCRS>urn:ogc:def:crs:EPSG::32749</DefaultCRS><ows:WGS84BoundingBox><ows:LowerCorner>108.66318890458037 -7.945133326696399</ows:LowerCorner><ows:UpperCorner>111.7169853830265 -6.480999452431098</ows:UpperCorner></ows:WGS84BoundingBox></FeatureType><FeatureType xmlns:DpubmckJawaTengah=\"DpubmckJawaTengah\"><Name>DpubmckJawaTengah:jalan_prov_jateng_bpt_kusus_pusdatin_330020191021205318</Name><Title>Jalan_Prov_Jateng_BPT_kusus_pusdatin</Title><Abstract>Jalan Provinsi Jawa Tengah BPT Khusus PUSDATIN</Abstract><ows:Keywords><ows:Keyword>features</ows:Keyword><ows:Keyword>jalan_prov_jateng_bpt_kusus_pusdatin_330020191021205318</ows:Keyword></ows:Keywords><DefaultCRS>urn:ogc:def:crs:EPSG::4326</DefaultCRS><ows:WGS84BoundingBox><ows:LowerCorner>108.683715820312 -8.06349945068359</ows:LowerCorner><ows:UpperCorner>111.628868103027 -6.47113990783691</ows:UpperCorner></ows:WGS84BoundingBox></FeatureType><FeatureType xmlns:ADMIN=\"ADMIN\"><Name>ADMIN:rs_buffer_14_km_330020200507124457</Name><Title>Jangkauan_Pelayanan_RS_14_km</Title><Abstract>Jangkauan Pelayanan RS 14 km</Abstract><ows:Keywords><ows:Keyword>features</ows:Keyword><ows:Keyword>rs_buffer_14_km_330020200507124457</ows:Keyword></ows:Keywords><DefaultCRS>urn:ogc:def:crs:EPSG::4326</DefaultCRS><ows:WGS84BoundingBox><ows:LowerCorner>108.633043137731 -8.20589722217903</ows:LowerCorner><ows:UpperCorner>111.712721554156 -6.37595009122367</ows:UpperCorner></ows:WGS84BoundingBox></FeatureType><FeatureType xmlns:ADMIN=\"ADMIN\"><Name>ADMIN:rs_buffer_1500_m_330020200507124933</Name><Title>Jangkauan_Pelayanan_RS_1500_m</Title><Abstract>Jangkauan Pelayanan RS 1500 m</Abstract><ows:Keywords><ows:Keyword>features</ows:Keyword><ows:Keyword>rs_buffer_1500_m_330020200507124933</ows:Keyword></ows:Keywords><DefaultCRS>urn:ogc:def:crs:EPSG::4326</DefaultCRS><ows:WGS84BoundingBox><ows:LowerCorner>108.746201222708 -8.0928650054156</ows:LowerCorner><ows:UpperCorner>111.599599459148 -6.48898202829793</ows:UpperCorner></ows:WGS84BoundingBox></FeatureType><FeatureType xmlns:ADMIN=\"ADMIN\"><Name>ADMIN:rs_buffer_3_km_330020200507124644</Name><Title>Jangkauan_Pelayanan_RS_3_km</Title><Abstract>Jangkauan Pelayanan RS 3 km</Abstract><ows:Keywords><ows:Keyword>rs_buffer_3_km_330020200507124644</ows:Keyword><ows:Keyword>features</ows:Keyword></ows:Keywords><DefaultCRS>urn:ogc:def:crs:EPSG::4326</DefaultCRS><ows:WGS84BoundingBox><ows:LowerCorner>108.718215942383 -8.11459159851074</ows:LowerCorner><ows:UpperCorner>111.627578735352 -6.46726322174072</ows:UpperCorner></ows:WGS84BoundingBox></FeatureType><FeatureType xmlns:ADMIN=\"ADMIN\"><Name>ADMIN:rs_buffer_7_km_330020200507124602</Name><Title>Jangkauan_Pelayanan_RS_7_km</Title><Abstract>Jangkauan Pelayanan RS 7 km</Abstract><ows:Keywords><ows:Keyword>rs_buffer_7_km_330020200507124602</ows:Keyword><ows:Keyword>features</ows:Keyword></ows:Keywords><DefaultCRS>urn:ogc:def:crs:EPSG::4326</DefaultCRS><ows:WGS84BoundingBox><ows:LowerCorner>108.696399968484 -8.14260420911688</ows:LowerCorner><ows:UpperCorner>111.649384879908 -6.43924803706722</ows:UpperCorner></ows:WGS84BoundingBox></FeatureType><FeatureType xmlns:ADMIN=\"ADMIN\"><Name>ADMIN:rencana_jaringan_jalan_330020190617102456</Name><Title>Jaringan Jalan Jawa Tengah</Title><Abstract>undefined</Abstract><ows:Keywords><ows:Keyword>features</ows:Keyword><ows:Keyword>rencana_jaringan_jalan_330020190617102456</ows:Keyword></ows:Keywords><DefaultCRS>urn:ogc:def:crs:EPSG::32749</DefaultCRS><ows:WGS84BoundingBox><ows:LowerCorner>108.57612308806833 -8.204151419276826</ows:LowerCorner><ows:UpperCorner>111.69905638910559 -6.473338213467472</ows:UpperCorner></ows:WGS84BoundingBox></FeatureType><FeatureType xmlns:ADMIN=\"ADMIN\"><Name>ADMIN:sungai_jawa_tengah_25k_330020190429153528</Name><Title>Jaringan Sungai Jawa Tengah 25K</Title><Abstract>undefined</Abstract><ows:Keywords><ows:Keyword>features</ows:Keyword><ows:Keyword>sungai_jawa_tengah_25k_330020190429153528</ows:Keyword></ows:Keywords><DefaultCRS>urn:ogc:def:crs:EPSG::4326</DefaultCRS><ows:WGS84BoundingBox><ows:LowerCorner>108.540458679199 -8.22025585174561</ows:LowerCorner><ows:UpperCorner>111.694534301758 -6.39516448974609</ows:UpperCorner></ows:WGS84BoundingBox></FeatureType><FeatureType xmlns:ADMIN=\"ADMIN\"><Name>ADMIN:jaringan_irigasi_330020190520102617</Name><Title>Jaringan_Irigasi_Jawa Tengah</Title><Abstract>undefined</Abstract><ows:Keywords><ows:Keyword>features</ows:Keyword><ows:Keyword>jaringan_irigasi_330020190520102617</ows:Keyword></ows:Keywords><DefaultCRS>urn:ogc:def:crs:EPSG::32749</DefaultCRS><ows:WGS84BoundingBox><ows:LowerCorner>108.88796934993276 -7.2158723153089275</ows:LowerCorner><ows:UpperCorner>111.19781121186114 -6.651633211578252</ows:UpperCorner></ows:WGS84BoundingBox></FeatureType><FeatureType xmlns:Dpusdataru=\"Dpusdataru\"><Name>Dpusdataru:jaringan_jalan_provinsi_jawa_tengah_330020200826111550</Name><Title>Jaringan_Jalan_Provinsi_Jawa_Tengah</Title><Abstract>Jaringan Jalan Provinsi Jawa Tengah</Abstract><ows:Keywords><ows:Keyword>features</ows:Keyword><ows:Keyword>jaringan_jalan_provinsi_jawa_tengah_330020200826111550</ows:Keyword></ows:Keywords><DefaultCRS>urn:ogc:def:crs:EPSG::32749</DefaultCRS><ows:WGS84BoundingBox><ows:LowerCorner>108.5376413772404 -8.084729822115316</ows:LowerCorner><ows:UpperCorner>111.70128234955527 -6.473151297839296</ows:UpperCorner></ows:WGS84BoundingBox></FeatureType><FeatureType xmlns:ADMIN=\"ADMIN\"><Name>ADMIN:kawasan_budidaya_330020190515112635</Name><Title>KAWASAN_BUDIDAYA_JAWA TENGAH</Title><Abstract>undefined</Abstract><ows:Keywords><ows:Keyword>features</ows:Keyword><ows:Keyword>kawasan_budidaya_330020190515112635</ows:Keyword></ows:Keywords><DefaultCRS>urn:ogc:def:crs:EPSG::32749</DefaultCRS><ows:WGS84BoundingBox><ows:LowerCorner>108.55176184088506 -8.211746199963404</ows:LowerCorner><ows:UpperCorner>111.69340891136136 -6.398403540821259</ows:UpperCorner></ows:WGS84BoundingBox></FeatureType><FeatureType xmlns:ADMIN=\"ADMIN\"><Name>ADMIN:kawasan_lindung_330020190515112507</Name><Title>KAWASAN_LINDUNG_JAWA TENGAH</Title><Abstract>undefined</Abstract><ows:Keywords><ows:Keyword>kawasan_lindung_330020190515112507</ows:Keyword><ows:Keyword>features</ows:Keyword></ows:Keywords><DefaultCRS>urn:ogc:def:crs:EPSG::32749</DefaultCRS><ows:WGS84BoundingBox><ows:LowerCorner>108.56108793072697 -8.096921443164478</ows:LowerCorner><ows:UpperCorner>111.6630011615404 -6.40144851939717</ows:UpperCorner></ows:WGS84BoundingBox></FeatureType><FeatureType xmlns:DinaskpJawaTengah=\"DinaskpJawaTengah\"><Name>DinaskpJawaTengah:kk_14_330020191021210404</Name><Title>KK_14</Title><Abstract>Kawasan Konservasi</Abstract><ows:Keywords><ows:Keyword>features</ows:Keyword><ows:Keyword>kk_14_330020191021210404</ows:Keyword></ows:Keywords><DefaultCRS>urn:ogc:def:crs:EPSG::32749</DefaultCRS><ows:WGS84BoundingBox><ows:LowerCorner>109.19346848837884 -6.8180207194566</ows:LowerCorner><ows:UpperCorner>109.20883687390122 -6.805243026153163</ows:UpperCorner></ows:WGS84BoundingBox></FeatureType><FeatureType xmlns:DpmptspJawaTengah=\"DpmptspJawaTengah\"><Name>DpmptspJawaTengah:kawasan_industri_pt_50k_330020231112233305</Name><Title>Kawasan Industri Jawa Tengah</Title><Abstract>Persebaran Kawasan Industri di Jawa Tengah</Abstract><ows:Keywords><ows:Keyword>features</ows:Keyword><ows:Keyword>kawasan_industri_pt_50k_330020231112233305</ows:Keyword></ows:Keywords><DefaultCRS>urn:ogc:def:crs:EPSG::4326</DefaultCRS><ows:WGS84BoundingBox><ows:LowerCorner>109.798027254087 -7.02509861691988</ows:LowerCorner><ows:UpperCorner>110.549918647616 -6.92726796389182</ows:UpperCorner></ows:WGS84BoundingBox></FeatureType><FeatureType xmlns:DishubJawaTengah=\"DishubJawaTengah\"><Name>DishubJawaTengah:lpjukebutuhan_330020191022093245</Name><Title>Kebutuhan LPJU</Title><Abstract>Kebutuhan LPJU di Jawa Tengah</Abstract><ows:Keywords><ows:Keyword>features</ows:Keyword><ows:Keyword>lpjukebutuhan_330020191022093245</ows:Keyword></ows:Keywords><DefaultCRS>urn:ogc:def:crs:EPSG::4326</DefaultCRS><ows:WGS84BoundingBox><ows:LowerCorner>100.93334 -9.16782</ows:LowerCorner><ows:UpperCorner>111.59681 -6.71564</ows:UpperCorner></ows:WGS84BoundingBox></FeatureType><FeatureType xmlns:Dpusdataru=\"Dpusdataru\"><Name>Dpusdataru:kew_prov_jateng_di_fungsional_330020211006103256</Name><Title>Kew_Prov_Jateng_DI_Fungsional</Title><Abstract>null</Abstract><ows:Keywords><ows:Keyword>features</ows:Keyword><ows:Keyword>kew_prov_jateng_di_fungsional_330020211006103256</ows:Keyword></ows:Keywords><DefaultCRS>urn:ogc:def:crs:EPSG::4326</DefaultCRS><ows:WGS84BoundingBox><ows:LowerCorner>108.727471756 -7.79879953299996</ows:LowerCorner><ows:UpperCorner>111.270327 -6.43638119499997</ows:UpperCorner></ows:WGS84BoundingBox></FeatureType><FeatureType xmlns:DispermasdesJawaTengah=\"DispermasdesJawaTengah\"><Name>DispermasdesJawaTengah:klasifikasi_bumdes_jawa_tengah_2019_330020201217104609</Name><Title>Klasifikasi_BUMDes_Jawa_Tengah_2019</Title><Abstract>Klasifikasi BUMDes Jawa Tengah 2019</Abstract><ows:Keywords><ows:Keyword>features</ows:Keyword><ows:Keyword>klasifikasi_bumdes_jawa_tengah_2019_330020201217104609</ows:Keyword></ows:Keywords><DefaultCRS>urn:ogc:def:crs:EPSG::4326</DefaultCRS><ows:WGS84BoundingBox><ows:LowerCorner>108.671485900879 -8.22111988067627</ows:LowerCorner><ows:UpperCorner>111.653472900391 -6.37127590179443</ows:UpperCorner></ows:WGS84BoundingBox></FeatureType><FeatureType xmlns:DispermasdesJawaTengah=\"DispermasdesJawaTengah\"><Name>DispermasdesJawaTengah:klasifikasi_bumdes_jawa_tengah_2020_330020201217104703</Name><Title>Klasifikasi_BUMDes_Jawa_Tengah_2020</Title><Abstract>Klasifikasi BUMDes Jawa Tengah 2020</Abstract><ows:Keywords><ows:Keyword>features</ows:Keyword><ows:Keyword>klasifikasi_bumdes_jawa_tengah_2020_330020201217104703</ows:Keyword></ows:Keywords><DefaultCRS>urn:ogc:def:crs:EPSG::4326</DefaultCRS><ows:WGS84BoundingBox><ows:LowerCorner>108.540321350098 -8.22111988067627</ows:LowerCorner><ows:UpperCorner>111.678573608398 -6.37127590179443</ows:UpperCorner></ows:WGS84BoundingBox></FeatureType><FeatureType xmlns:ADMIN=\"ADMIN\"><Name>ADMIN:klenteng_di_jawa_tengah_330020220819095859</Name><Title>Klenteng_di_Jawa_Tengah_PT</Title><Abstract>Tempat Ibadah Klenteng di Jawa Tengah</Abstract><ows:Keywords><ows:Keyword>features</ows:Keyword><ows:Keyword>klenteng_di_jawa_tengah_330020220819095859</ows:Keyword></ows:Keywords><DefaultCRS>urn:ogc:def:crs:EPSG::3857</DefaultCRS><ows:WGS84BoundingBox><ows:LowerCorner>109.00895999996112 -7.732659999546502</ows:LowerCorner><ows:UpperCorner>110.83380999929543 -6.847559999653601</ows:UpperCorner></ows:WGS84BoundingBox></FeatureType><FeatureType xmlns:Dpusdataru=\"Dpusdataru\"><Name>Dpusdataru:kw_prov_jateng_bendung_330020211006103445</Name><Title>Kw_Prov_Jateng_Bendung</Title><Abstract>null</Abstract><ows:Keywords><ows:Keyword>features</ows:Keyword><ows:Keyword>kw_prov_jateng_bendung_330020211006103445</ows:Keyword></ows:Keywords><DefaultCRS>urn:ogc:def:crs:EPSG::4326</DefaultCRS><ows:WGS84BoundingBox><ows:LowerCorner>108.758785128 -7.77458520699997</ows:LowerCorner><ows:UpperCorner>111.251355 -6.53951843599998</ows:UpperCorner></ows:WGS84BoundingBox></FeatureType><FeatureType xmlns:Dpusdataru=\"Dpusdataru\"><Name>Dpusdataru:kw_prov_jateng_sal_irigasi_330020211006103610</Name><Title>Kw_Prov_Jateng_Sal_Irigasi</Title><Abstract>null</Abstract><ows:Keywords><ows:Keyword>features</ows:Keyword><ows:Keyword>kw_prov_jateng_sal_irigasi_330020211006103610</ows:Keyword></ows:Keywords><DefaultCRS>urn:ogc:def:crs:EPSG::4326</DefaultCRS><ows:WGS84BoundingBox><ows:LowerCorner>108.738060256 -7.78320816499996</ows:LowerCorner><ows:UpperCorner>111.263334756 -6.43138535599996</ows:UpperCorner></ows:WGS84BoundingBox></FeatureType><FeatureType xmlns:DistanbunJawaTengah=\"DistanbunJawaTengah\"><Name>DistanbunJawaTengah:lahanp2bjateng1_ar_330020231114080831</Name><Title>LAHANP2BJATENG1_AR</Title><Abstract>Peta LP2B Jawa Tengah\\nSkala 50K\\nTahun 2022\\nSumber Distanbun Jateng</Abstract><ows:Keywords><ows:Keyword>features</ows:Keyword><ows:Keyword>lahanp2bjateng1_ar_330020231114080831</ows:Keyword></ows:Keywords><DefaultCRS>urn:ogc:def:crs:EPSG::4326</DefaultCRS><ows:WGS84BoundingBox><ows:LowerCorner>108.542274475098 -7.89764738082886</ows:LowerCorner><ows:UpperCorner>111.704040527344 -6.39706230163574</ows:UpperCorner></ows:WGS84BoundingBox></FeatureType><FeatureType xmlns:ADMIN=\"ADMIN\"><Name>ADMIN:lokas_bank_di_kota_semarang_330020220615141125</Name><Title>Lokasi_Bank_di_Kota_Semarang_PT</Title><Abstract>Titik Lokasi Bank di Kota Semarang</Abstract><ows:Keywords><ows:Keyword>features</ows:Keyword><ows:Keyword>lokas_bank_di_kota_semarang_330020220615141125</ows:Keyword></ows:Keywords><DefaultCRS>urn:ogc:def:crs:EPSG::4326</DefaultCRS><ows:WGS84BoundingBox><ows:LowerCorner>110.3097256 -7.0744938</ows:LowerCorner><ows:UpperCorner>110.4754686 -6.9482659</ows:UpperCorner></ows:WGS84BoundingBox></FeatureType><FeatureType xmlns:ADMIN=\"ADMIN\"><Name>ADMIN:lokasi_wisata_di_jawa_tengah_330020220808100109</Name><Title>Lokasi_Wisata_di_Jawa_Tengah_PT</Title><Abstract>Lokasi Destinasi Wisata di Provinsi Jawa Tengah</Abstract><ows:Keywords><ows:Keyword>features</ows:Keyword><ows:Keyword>lokasi_wisata_di_jawa_tengah_330020220808100109</ows:Keyword></ows:Keywords><DefaultCRS>urn:ogc:def:crs:EPSG::4326</DefaultCRS><ows:WGS84BoundingBox><ows:LowerCorner>109.1426666 -7.76022222199992</ows:LowerCorner><ows:UpperCorner>111.44058 -6.69575999999995</ows:UpperCorner></ows:WGS84BoundingBox></FeatureType><FeatureType xmlns:ADMIN=\"ADMIN\"><Name>ADMIN:mangrove_jawa_tengah_2019_330020210104102956</Name><Title>Mangrove_Jawa_Tengah_2019</Title><Abstract>Mangrove Jawa Tengah 2019</Abstract><ows:Keywords><ows:Keyword>features</ows:Keyword><ows:Keyword>mangrove_jawa_tengah_2019_330020210104102956</ows:Keyword></ows:Keywords><DefaultCRS>urn:ogc:def:crs:EPSG::32749</DefaultCRS><ows:WGS84BoundingBox><ows:LowerCorner>108.7841320919867 -7.828645557747441</ows:LowerCorner><ows:UpperCorner>111.44509330929287 -6.40603182275051</ows:UpperCorner></ows:WGS84BoundingBox></FeatureType><FeatureType xmlns:ADMIN=\"ADMIN\"><Name>ADMIN:masjid_di_jawa_tengah_330020220815142410</Name><Title>Masjid_di_Jawa_Tengah_PT</Title><Abstract>Tempat Ibadah Masjid di Jawa Tengah</Abstract><ows:Keywords><ows:Keyword>features</ows:Keyword><ows:Keyword>masjid_di_jawa_tengah_330020220815142410</ows:Keyword></ows:Keywords><DefaultCRS>urn:ogc:def:crs:EPSG::3857</DefaultCRS><ows:WGS84BoundingBox><ows:LowerCorner>108.5837342038074 -8.172125216860428</ows:LowerCorner><ows:UpperCorner>111.70602660312728 -6.397990392396507</ows:UpperCorner></ows:WGS84BoundingBox></FeatureType><FeatureType xmlns:ADMIN=\"ADMIN\"><Name>ADMIN:pelabuhan_laut_330020190515113639</Name><Title>PELABUHAN_LAUT_JAWA TENGAH</Title><Abstract>undefined</Abstract><ows:Keywords><ows:Keyword>features</ows:Keyword><ows:Keyword>pelabuhan_laut_330020190515113639</ows:Keyword></ows:Keywords><DefaultCRS>urn:ogc:def:crs:EPSG::32749</DefaultCRS><ows:WGS84BoundingBox><ows:LowerCorner>108.95229033278582 -7.741420095002263</ows:LowerCorner><ows:UpperCorner>111.44069339811583 -6.573889470707134</ows:UpperCorner></ows:WGS84BoundingBox></FeatureType><FeatureType xmlns:ADMIN=\"ADMIN\"><Name>ADMIN:pelabuhan_udara_330020190515114335</Name><Title>PELABUHAN_UDARA_JAWA TENGAH</Title><Abstract>undefined</Abstract><ows:Keywords><ows:Keyword>features</ows:Keyword><ows:Keyword>pelabuhan_udara_330020190515114335</ows:Keyword></ows:Keywords><DefaultCRS>urn:ogc:def:crs:EPSG::32749</DefaultCRS><ows:WGS84BoundingBox><ows:LowerCorner>109.00117224405433 -7.728182351019006</ows:LowerCorner><ows:UpperCorner>111.5283438863304 -6.964610138040526</ows:UpperCorner></ows:WGS84BoundingBox></FeatureType><FeatureType xmlns:ADMIN=\"ADMIN\"><Name>ADMIN:pengembangan_listrik_330020190520103318</Name><Title>PENGEMBANGAN_LISTRIK_JAWA TENGAH</Title><Abstract>undefined</Abstract><ows:Keywords><ows:Keyword>features</ows:Keyword><ows:Keyword>pengembangan_listrik_330020190520103318</ows:Keyword></ows:Keywords><DefaultCRS>urn:ogc:def:crs:EPSG::32749</DefaultCRS><ows:WGS84BoundingBox><ows:LowerCorner>108.84133056487033 -7.944096082200028</ows:LowerCorner><ows:UpperCorner>111.56927827532014 -6.428312553429455</ows:UpperCorner></ows:WGS84BoundingBox></FeatureType><FeatureType xmlns:ADMIN=\"ADMIN\"><Name>ADMIN:penggunaantanahjawatengah_ar_25k_330020190515103001</Name><Title>PENGGUNAAN TANAH JAWA TENGAH_AR_25K</Title><Abstract>undefined</Abstract><ows:Keywords><ows:Keyword>penggunaantanahjawatengah_ar_25k_330020190515103001</ows:Keyword><ows:Keyword>features</ows:Keyword></ows:Keywords><DefaultCRS>urn:ogc:def:crs:EPSG::4326</DefaultCRS><ows:WGS84BoundingBox><ows:LowerCorner>108.548316955566 -7.89844226837158</ows:LowerCorner><ows:UpperCorner>110.131050109863 -6.96255540847778</ows:UpperCorner></ows:WGS84BoundingBox></FeatureType><FeatureType xmlns:ADMIN=\"ADMIN\"><Name>ADMIN:pasien_covid19_240420_330020200507150712</Name><Title>Pasien_Covid19_Jawa_Tengah_240420</Title><Abstract>Pasien Covid19 Jawa Tengah 240420</Abstract><ows:Keywords><ows:Keyword>features</ows:Keyword><ows:Keyword>pasien_covid19_240420_330020200507150712</ows:Keyword></ows:Keywords><DefaultCRS>urn:ogc:def:crs:EPSG::4326</DefaultCRS><ows:WGS84BoundingBox><ows:LowerCorner>108.652765232593 -8.07475481656595</ows:LowerCorner><ows:UpperCorner>111.605733434673 -6.44649421059069</ows:UpperCorner></ows:WGS84BoundingBox></FeatureType><FeatureType xmlns:Dpusdataru=\"Dpusdataru\"><Name>Dpusdataru:pembagian_wp_provinsi_jawa_tengah_330020200826150415</Name><Title>Pembagian_WP_Provinsi_Jawa_Tengah</Title><Abstract>Pembagian WP Provinsi Jawa Tengah</Abstract><ows:Keywords><ows:Keyword>features</ows:Keyword><ows:Keyword>pembagian_wp_provinsi_jawa_tengah_330020200826150415</ows:Keyword></ows:Keywords><DefaultCRS>urn:ogc:def:crs:EPSG::32749</DefaultCRS><ows:WGS84BoundingBox><ows:LowerCorner>108.55055890607079 -8.211912280326898</ows:LowerCorner><ows:UpperCorner>111.69393294586042 -5.721012803632669</ows:UpperCorner></ows:WGS84BoundingBox></FeatureType><FeatureType xmlns:DpmptspJawaTengah=\"DpmptspJawaTengah\"><Name>DpmptspJawaTengah:kawasan_industri_pt_5k_330020230904140056</Name><Title>Persebaran Kawasan Industri di Jawa Tengah</Title><Abstract>Peta Persebaran Kawasan Industri di Jawa Tengah\\nSkala 5K\\nTahun 2023\\nSumber Bidang Perencanaan dan Pengembangan</Abstract><ows:Keywords><ows:Keyword>features</ows:Keyword><ows:Keyword>kawasan_industri_pt_5k_330020230904140056</ows:Keyword></ows:Keywords><DefaultCRS>urn:ogc:def:crs:EPSG::4326</DefaultCRS><ows:WGS84BoundingBox><ows:LowerCorner>109.7980273 -6.974403355</ows:LowerCorner><ows:UpperCorner>110.5499186 -6.927267964</ows:UpperCorner></ows:WGS84BoundingBox></FeatureType><FeatureType xmlns:ADMIN=\"ADMIN\"><Name>ADMIN:potensi_banjir_jateng_12_01_20_330020200225103336</Name><Title>Potensi_Banjir_Jateng_12-01-20</Title><Abstract>null</Abstract><ows:Keywords><ows:Keyword>features</ows:Keyword><ows:Keyword>potensi_banjir_jateng_12_01_20_330020200225103336</ows:Keyword></ows:Keywords><DefaultCRS>urn:ogc:def:crs:EPSG::4030</DefaultCRS><ows:WGS84BoundingBox><ows:LowerCorner>108.559995209911 -7.50061486938068</ows:LowerCorner><ows:UpperCorner>110.909049324367 -6.46009709650377</ows:UpperCorner></ows:WGS84BoundingBox></FeatureType><FeatureType xmlns:DinasesdmJawaTengah=\"DinasesdmJawaTengah\"><Name>DinasesdmJawaTengah:potensi_mineral_batuan_330020231213142741</Name><Title>Potensi_MIneral_Batuan</Title><Abstract>null</Abstract><ows:Keywords><ows:Keyword>potensi_mineral_batuan_330020231213142741</ows:Keyword><ows:Keyword>features</ows:Keyword></ows:Keywords><DefaultCRS>urn:ogc:def:crs:EPSG::32749</DefaultCRS><ows:WGS84BoundingBox><ows:LowerCorner>108.7331113175825 -8.157813383126404</ows:LowerCorner><ows:UpperCorner>111.58017913220834 -6.3993375156107515</ows:UpperCorner></ows:WGS84BoundingBox></FeatureType><FeatureType xmlns:DpmptspJawaTengah=\"DpmptspJawaTengah\"><Name>DpmptspJawaTengah:proyek_investasi_pt_330020231112234116</Name><Title>Proyek Investasi Jawa Tengah</Title><Abstract>Persebaran Proyek Investasi di Jawa Tengah\\nSkala 50.000\\nTahun 2023\\nSumber https://cjip.jatengprov.go.id/</Abstract><ows:Keywords><ows:Keyword>features</ows:Keyword><ows:Keyword>proyek_investasi_pt_330020231112234116</ows:Keyword></ows:Keywords><DefaultCRS>urn:ogc:def:crs:EPSG::4326</DefaultCRS><ows:WGS84BoundingBox><ows:LowerCorner>108.751167297363 -7.9170880317688</ows:LowerCorner><ows:UpperCorner>111.434455871582 -5.81595754623413</ows:UpperCorner></ows:WGS84BoundingBox></FeatureType><FeatureType xmlns:ADMIN=\"ADMIN\"><Name>ADMIN:pura_di_jawa_tengah_330020220816080401</Name><Title>Pura_di_Jawa_Tengah_PT</Title><Abstract>Tempat Ibadah Pura di Jawa Tengah</Abstract><ows:Keywords><ows:Keyword>features</ows:Keyword><ows:Keyword>pura_di_jawa_tengah_330020220816080401</ows:Keyword></ows:Keywords><DefaultCRS>urn:ogc:def:crs:EPSG::3857</DefaultCRS><ows:WGS84BoundingBox><ows:LowerCorner>110.29714999955699 -7.747690000353299</ows:LowerCorner><ows:UpperCorner>111.1221399994713 -6.984629999843108</ows:UpperCorner></ows:WGS84BoundingBox></FeatureType><FeatureType xmlns:ADMIN=\"ADMIN\"><Name>ADMIN:rel_kereta_api_330020190515114711</Name><Title>REL_KERETA_API_JAWA TENGAH</Title><Abstract>undefined</Abstract><ows:Keywords><ows:Keyword>features</ows:Keyword><ows:Keyword>rel_kereta_api_330020190515114711</ows:Keyword></ows:Keywords><DefaultCRS>urn:ogc:def:crs:EPSG::32749</DefaultCRS><ows:WGS84BoundingBox><ows:LowerCorner>108.67944824811711 -7.880398395341404</ows:LowerCorner><ows:UpperCorner>111.6758367062095 -6.714737381582189</ows:UpperCorner></ows:WGS84BoundingBox></FeatureType><FeatureType xmlns:ADMIN=\"ADMIN\"><Name>ADMIN:rs_rujukan_virus_corona_jawa_tengah_330020200319090754</Name><Title>RS_Rujukan_Virus_Corona_Jawa_Tengah</Title><Abstract>58 Rumah Sakit Rujukan Virus Corona Jawa Tengah</Abstract><ows:Keywords><ows:Keyword>features</ows:Keyword><ows:Keyword>rs_rujukan_virus_corona_jawa_tengah_330020200319090754</ows:Keyword></ows:Keywords><DefaultCRS>urn:ogc:def:crs:EPSG::4326</DefaultCRS><ows:WGS84BoundingBox><ows:LowerCorner>109.015836213 -7.80489397099996</ows:LowerCorner><ows:UpperCorner>111.420417462 -6.60609178999994</ows:UpperCorner></ows:WGS84BoundingBox></FeatureType><FeatureType xmlns:ADMIN=\"ADMIN\"><Name>ADMIN:rs_rujukan_covid19_jawa_tengah_330020200507150557</Name><Title>RS_dan_Labkes_Rujukan_Covid19_Jawa_Tengah</Title><Abstract>RS dan Labkes Rujukan Covid19 Jawa Tengah</Abstract><ows:Keywords><ows:Keyword>features</ows:Keyword><ows:Keyword>rs_rujukan_covid19_jawa_tengah_330020200507150557</ows:Keyword></ows:Keywords><DefaultCRS>urn:ogc:def:crs:EPSG::4326</DefaultCRS><ows:WGS84BoundingBox><ows:LowerCorner>108.759783 -8.079311</ows:LowerCorner><ows:UpperCorner>111.586022 -6.50254582697388</ows:UpperCorner></ows:WGS84BoundingBox></FeatureType><FeatureType xmlns:DisperakimJawaTengah=\"DisperakimJawaTengah\"><Name>DisperakimJawaTengah:rtlh_2020_apbd_provinsi_jawa_tengah_330020211006133454</Name><Title>RTLH_2020_APBD_Provinsi_Jawa_Tengah</Title><Abstract>RTLH_2020_APBD_Provinsi_Jawa_Tengah</Abstract><ows:Keywords><ows:Keyword>features</ows:Keyword><ows:Keyword>rtlh_2020_apbd_provinsi_jawa_tengah_330020211006133454</ows:Keyword></ows:Keywords><DefaultCRS>urn:ogc:def:crs:EPSG::4326</DefaultCRS><ows:WGS84BoundingBox><ows:LowerCorner>108.55585483913 -8.21196175812861</ows:LowerCorner><ows:UpperCorner>111.677822314448 -5.79406876965794</ows:UpperCorner></ows:WGS84BoundingBox></FeatureType><FeatureType xmlns:ADMIN=\"ADMIN\"><Name>ADMIN:rtrwp_330020200106083814</Name><Title>RTRWP  Jawa Tengah</Title><Abstract>undefined</Abstract><ows:Keywords><ows:Keyword>features</ows:Keyword><ows:Keyword>rtrwp_330020200106083814</ows:Keyword></ows:Keywords><DefaultCRS>urn:ogc:def:crs:EPSG::4326</DefaultCRS><ows:WGS84BoundingBox><ows:LowerCorner>108.540168762207 -8.22096347808838</ows:LowerCorner><ows:UpperCorner>111.707077026367 -6.37127685546875</ows:UpperCorner></ows:WGS84BoundingBox></FeatureType><FeatureType xmlns:ADMIN=\"ADMIN\"><Name>ADMIN:rumah_pompa_330020220714093447</Name><Title>Rumah_Pompa_di_Kota_Semarang_PT</Title><Abstract>Lokasi Rumah Pompa di Kota Semarang</Abstract><ows:Keywords><ows:Keyword>features</ows:Keyword><ows:Keyword>rumah_pompa_330020220714093447</ows:Keyword></ows:Keywords><DefaultCRS>urn:ogc:def:crs:EPSG::4326</DefaultCRS><ows:WGS84BoundingBox><ows:LowerCorner>110.3075042 -7.09527345251103</ows:LowerCorner><ows:UpperCorner>110.488912626064 -6.94702014681962</ows:UpperCorner></ows:WGS84BoundingBox></FeatureType><FeatureType xmlns:DisperakimJawaTengah=\"DisperakimJawaTengah\"><Name>DisperakimJawaTengah:rusun_330020231110093842</Name><Title>Rusun</Title><Abstract>Dinas Perumahan Rakyat dan Kawasan Permukiman Provinsi Jawa Tengah</Abstract><ows:Keywords><ows:Keyword>features</ows:Keyword><ows:Keyword>rusun_330020231110093842</ows:Keyword></ows:Keywords><DefaultCRS>urn:ogc:def:crs:EPSG::4326</DefaultCRS><ows:WGS84BoundingBox><ows:LowerCorner>-0.557892858982086 -7.7743992805481</ows:LowerCorner><ows:UpperCorner>112.13646697998 0.0386786013841629</ows:UpperCorner></ows:WGS84BoundingBox></FeatureType><FeatureType xmlns:ADMIN=\"ADMIN\"><Name>ADMIN:stasiun_kereta_api_330020190515115017</Name><Title>STASIUN_KERETA_API_JAWA TENGAH</Title><Abstract>undefined</Abstract><ows:Keywords><ows:Keyword>stasiun_kereta_api_330020190515115017</ows:Keyword><ows:Keyword>features</ows:Keyword></ows:Keywords><DefaultCRS>urn:ogc:def:crs:EPSG::32749</DefaultCRS><ows:WGS84BoundingBox><ows:LowerCorner>109.04328499527793 -7.807532111416828</ows:LowerCorner><ows:UpperCorner>111.64348009193684 -6.719527110711207</ows:UpperCorner></ows:WGS84BoundingBox></FeatureType><FeatureType xmlns:ADMIN=\"ADMIN\"><Name>ADMIN:sarana_stasiun_kereta_api_330020190515114850</Name><Title>Sarana_Stasiun_Kereta_Api_Jawa Tengah</Title><Abstract>undefined</Abstract><ows:Keywords><ows:Keyword>features</ows:Keyword><ows:Keyword>sarana_stasiun_kereta_api_330020190515114850</ows:Keyword></ows:Keywords><DefaultCRS>urn:ogc:def:crs:EPSG::32749</DefaultCRS><ows:WGS84BoundingBox><ows:LowerCorner>109.04328499527793 -7.807532111416828</ows:LowerCorner><ows:UpperCorner>111.64348009193684 -6.719527110711207</ows:UpperCorner></ows:WGS84BoundingBox></FeatureType><FeatureType xmlns:ADMIN=\"ADMIN\"><Name>ADMIN:sarana_terminal_penumpang_330020190515115119</Name><Title>Sarana_Terminal_Penumpang_Jawa Tengah</Title><Abstract>undefined</Abstract><ows:Keywords><ows:Keyword>features</ows:Keyword><ows:Keyword>sarana_terminal_penumpang_330020190515115119</ows:Keyword></ows:Keywords><DefaultCRS>urn:ogc:def:crs:EPSG::32749</DefaultCRS><ows:WGS84BoundingBox><ows:LowerCorner>109.04457448137873 -7.815140231574729</ows:LowerCorner><ows:UpperCorner>111.42414465351888 -6.580700742581305</ows:UpperCorner></ows:WGS84BoundingBox></FeatureType><FeatureType xmlns:ADMIN=\"ADMIN\"><Name>ADMIN:sarana_transportasi_laut_330020190515114048</Name><Title>Sarana_Transportasi_Laut_Jawa Tengah</Title><Abstract>undefined</Abstract><ows:Keywords><ows:Keyword>sarana_transportasi_laut_330020190515114048</ows:Keyword><ows:Keyword>features</ows:Keyword></ows:Keywords><DefaultCRS>urn:ogc:def:crs:EPSG::32749</DefaultCRS><ows:WGS84BoundingBox><ows:LowerCorner>108.95229033278582 -7.741420095002263</ows:LowerCorner><ows:UpperCorner>111.44069339811583 -5.882234992808643</ows:UpperCorner></ows:WGS84BoundingBox></FeatureType><FeatureType xmlns:ADMIN=\"ADMIN\"><Name>ADMIN:sarana_transportasi_sungai_330020190515113202</Name><Title>Sarana_Transportasi_Sungai_Jawa Tengah</Title><Abstract>undefined</Abstract><ows:Keywords><ows:Keyword>features</ows:Keyword><ows:Keyword>sarana_transportasi_sungai_330020190515113202</ows:Keyword></ows:Keywords><DefaultCRS>urn:ogc:def:crs:EPSG::32749</DefaultCRS><ows:WGS84BoundingBox><ows:LowerCorner>109.00095000024898 -7.743493594218809</ows:LowerCorner><ows:UpperCorner>110.6643422908422 -6.549312534680497</ows:UpperCorner></ows:WGS84BoundingBox></FeatureType><FeatureType xmlns:ADMIN=\"ADMIN\"><Name>ADMIN:sarana_transportasi_udara_330020190515114514</Name><Title>Sarana_Transportasi_Udara_Jawa Tengah</Title><Abstract>undefined</Abstract><ows:Keywords><ows:Keyword>sarana_transportasi_udara_330020190515114514</ows:Keyword><ows:Keyword>features</ows:Keyword></ows:Keywords><DefaultCRS>urn:ogc:def:crs:EPSG::32749</DefaultCRS><ows:WGS84BoundingBox><ows:LowerCorner>109.00117224405433 -7.728182351019006</ows:LowerCorner><ows:UpperCorner>111.5283438863304 -5.836907547443733</ows:UpperCorner></ows:WGS84BoundingBox></FeatureType><FeatureType xmlns:DishubJawaTengah=\"DishubJawaTengah\"><Name>DishubJawaTengah:shelter_330020231106080821</Name><Title>Shelter</Title><Abstract>shelter</Abstract><ows:Keywords><ows:Keyword>features</ows:Keyword><ows:Keyword>shelter_330020231106080821</ows:Keyword></ows:Keywords><DefaultCRS>urn:ogc:def:crs:EPSG::32749</DefaultCRS><ows:WGS84BoundingBox><ows:LowerCorner>109.21933922723852 -7.819860853929685</ows:LowerCorner><ows:UpperCorner>110.9295314180945 -6.918294554782156</ows:UpperCorner></ows:WGS84BoundingBox></FeatureType><FeatureType xmlns:ADMIN=\"ADMIN\"><Name>ADMIN:sistem_lahan_jawa_tengah_330020190515110117</Name><Title>Sistem_Lahan_Jawa_Tengah</Title><Abstract>null</Abstract><ows:Keywords><ows:Keyword>features</ows:Keyword><ows:Keyword>sistem_lahan_jawa_tengah_330020190515110117</ows:Keyword></ows:Keywords><DefaultCRS>urn:ogc:def:crs:EPSG::4326</DefaultCRS><ows:WGS84BoundingBox><ows:LowerCorner>108.555854839 -8.21192645999989</ows:LowerCorner><ows:UpperCorner>111.691610952 -5.73125047074191</ows:UpperCorner></ows:WGS84BoundingBox></FeatureType><FeatureType xmlns:ADMIN=\"ADMIN\"><Name>ADMIN:stasiun_pompa_bahan_bakar_umum_330020220613104935</Name><Title>Stasiun_Pompa_Bahan_Bakar_Umum_di_Kota_Semarang_PT</Title><Abstract>Lokasi Stasiun Pompa Bahan Bakar Umum di Kota Semarang</Abstract><ows:Keywords><ows:Keyword>features</ows:Keyword><ows:Keyword>stasiun_pompa_bahan_bakar_umum_330020220613104935</ows:Keyword></ows:Keywords><DefaultCRS>urn:ogc:def:crs:EPSG::4326</DefaultCRS><ows:WGS84BoundingBox><ows:LowerCorner>110.291583 -7.1110759</ows:LowerCorner><ows:UpperCorner>110.4931578 -6.9480256</ows:UpperCorner></ows:WGS84BoundingBox></FeatureType><FeatureType xmlns:Dpusdataru=\"Dpusdataru\"><Name>Dpusdataru:sungai_provinsi_jawa_tengah_330020200826142826</Name><Title>Sungai_Provinsi_Jawa_Tengah</Title><Abstract>Sungai Provinsi Jawa Tengah</Abstract><ows:Keywords><ows:Keyword>features</ows:Keyword><ows:Keyword>sungai_provinsi_jawa_tengah_330020200826142826</ows:Keyword></ows:Keywords><DefaultCRS>urn:ogc:def:crs:EPSG::32749</DefaultCRS><ows:WGS84BoundingBox><ows:LowerCorner>108.55056077203979 -8.211607455344444</ows:LowerCorner><ows:UpperCorner>111.69390782106204 -5.728372178740943</ows:UpperCorner></ows:WGS84BoundingBox></FeatureType><FeatureType xmlns:ADMIN=\"ADMIN\"><Name>ADMIN:supermarket_330020220713132235</Name><Title>Supermarket_di_Kota_Semarang_PT</Title><Abstract>Lokasi Supermarket di Kota Semarang</Abstract><ows:Keywords><ows:Keyword>features</ows:Keyword><ows:Keyword>supermarket_330020220713132235</ows:Keyword></ows:Keywords><DefaultCRS>urn:ogc:def:crs:EPSG::4326</DefaultCRS><ows:WGS84BoundingBox><ows:LowerCorner>110.333794421531 -7.06721294714842</ows:LowerCorner><ows:UpperCorner>110.4949001 -6.96232440516121</ows:UpperCorner></ows:WGS84BoundingBox></FeatureType><FeatureType xmlns:ADMIN=\"ADMIN\"><Name>ADMIN:terminal_angkutan_penumpang_330020190515115221</Name><Title>TERMINAL_ANGKUTAN_PENUMPANG_JAWA TENGAH</Title><Abstract>undefined</Abstract><ows:Keywords><ows:Keyword>features</ows:Keyword><ows:Keyword>terminal_angkutan_penumpang_330020190515115221</ows:Keyword></ows:Keywords><DefaultCRS>urn:ogc:def:crs:EPSG::32749</DefaultCRS><ows:WGS84BoundingBox><ows:LowerCorner>109.04457448137873 -7.815140231574729</ows:LowerCorner><ows:UpperCorner>111.42414465351888 -6.580700742581305</ows:UpperCorner></ows:WGS84BoundingBox></FeatureType><FeatureType xmlns:DishubJawaTengah=\"DishubJawaTengah\"><Name>DishubJawaTengah:terminaltipeb_330020191022084025</Name><Title>Terminal Tipe B</Title><Abstract>Terminal Tipe B di Jawa Tengah</Abstract><ows:Keywords><ows:Keyword>features</ows:Keyword><ows:Keyword>terminaltipeb_330020191022084025</ows:Keyword></ows:Keywords><DefaultCRS>urn:ogc:def:crs:EPSG::4326</DefaultCRS><ows:WGS84BoundingBox><ows:LowerCorner>108.8631153 -8.05455287966973</ows:LowerCorner><ows:UpperCorner>111.444185972214 -6.8751204</ows:UpperCorner></ows:WGS84BoundingBox></FeatureType><FeatureType xmlns:ADMIN=\"ADMIN\"><Name>ADMIN:tipe_gunung_api_jawa_tengah_pt_330020221101090631</Name><Title>Tipe_Gunung_Api_Jawa_Tengah_PT</Title><Abstract>Tipe Gunung Api Jawa Tengah PT</Abstract><ows:Keywords><ows:Keyword>features</ows:Keyword><ows:Keyword>tipe_gunung_api_jawa_tengah_pt_330020221101090631</ows:Keyword></ows:Keywords><DefaultCRS>urn:ogc:def:crs:EPSG::4326</DefaultCRS><ows:WGS84BoundingBox><ows:LowerCorner>109.220017830528 -7.62735383420784</ows:LowerCorner><ows:UpperCorner>111.194375764639 -7.19026822319422</ows:UpperCorner></ows:WGS84BoundingBox></FeatureType><FeatureType xmlns:BapendaJawaTengah=\"BapendaJawaTengah\"><Name>BapendaJawaTengah:samsat_pt_330020230705100335</Name><Title>Titik Lokasi Samsat Jawa Tengah</Title><Abstract>Titik Lokasi Samsat Jawa Tengah\\nTahun 2023</Abstract><ows:Keywords><ows:Keyword>features</ows:Keyword><ows:Keyword>samsat_pt_330020230705100335</ows:Keyword></ows:Keywords><DefaultCRS>urn:ogc:def:crs:EPSG::4326</DefaultCRS><ows:WGS84BoundingBox><ows:LowerCorner>108.74401 -7.95534</ows:LowerCorner><ows:UpperCorner>111.58949 -6.59241</ows:UpperCorner></ows:WGS84BoundingBox></FeatureType><FeatureType xmlns:ADMIN=\"ADMIN\"><Name>ADMIN:titik_pusat_kota_330020190429145333</Name><Title>Titik Pusat Kabupaten/Kota Jawa Tengah</Title><Abstract>undefined</Abstract><ows:Keywords><ows:Keyword>features</ows:Keyword><ows:Keyword>titik_pusat_kota_330020190429145333</ows:Keyword></ows:Keywords><DefaultCRS>urn:ogc:def:crs:EPSG::32749</DefaultCRS><ows:WGS84BoundingBox><ows:LowerCorner>109.00572306734142 -7.813380985342285</ows:LowerCorner><ows:UpperCorner>111.42544112594746 -6.588627637649232</ows:UpperCorner></ows:WGS84BoundingBox></FeatureType><FeatureType xmlns:ADMIN=\"ADMIN\"><Name>ADMIN:titik_pusat_kota_kecamatan_330020190429145442</Name><Title>Titik Pusat Kecamatan Jawa Tengah</Title><Abstract>undefined</Abstract><ows:Keywords><ows:Keyword>features</ows:Keyword><ows:Keyword>titik_pusat_kota_kecamatan_330020190429145442</ows:Keyword></ows:Keywords><DefaultCRS>urn:ogc:def:crs:EPSG::32749</DefaultCRS><ows:WGS84BoundingBox><ows:LowerCorner>108.58443009487816 -8.059843359917183</ows:LowerCorner><ows:UpperCorner>111.67134371070637 -6.471370932480569</ows:UpperCorner></ows:WGS84BoundingBox></FeatureType><FeatureType xmlns:Dpusdataru=\"Dpusdataru\"><Name>Dpusdataru:toponimi_daratan_provinsi_jawa_tengah_330020200826143011</Name><Title>Toponimi_Daratan_Provinsi_Jawa_Tengah</Title><Abstract>Toponimi Daratan Provinsi Jawa Tengah</Abstract><ows:Keywords><ows:Keyword>features</ows:Keyword><ows:Keyword>toponimi_daratan_provinsi_jawa_tengah_330020200826143011</ows:Keyword></ows:Keywords><DefaultCRS>urn:ogc:def:crs:EPSG::32749</DefaultCRS><ows:WGS84BoundingBox><ows:LowerCorner>108.74643559272786 -8.224157366021192</ows:LowerCorner><ows:UpperCorner>111.47785266278385 -5.712803226242403</ows:UpperCorner></ows:WGS84BoundingBox></FeatureType><FeatureType xmlns:Dpusdataru=\"Dpusdataru\"><Name>Dpusdataru:toponimi_pulau_provinsi_jawa_tengah_330020200826143119</Name><Title>Toponimi_Pulau_Provinsi_Jawa_Tengah</Title><Abstract>Toponimi Pulau Provinsi Jawa Tengah</Abstract><ows:Keywords><ows:Keyword>features</ows:Keyword><ows:Keyword>toponimi_pulau_provinsi_jawa_tengah_330020200826143119</ows:Keyword></ows:Keywords><DefaultCRS>urn:ogc:def:crs:EPSG::32749</DefaultCRS><ows:WGS84BoundingBox><ows:LowerCorner>108.86200036567826 -7.730910286425364</ows:LowerCorner><ows:UpperCorner>111.38450088852935 -5.734394083615604</ows:UpperCorner></ows:WGS84BoundingBox></FeatureType><FeatureType xmlns:Dpusdataru=\"Dpusdataru\"><Name>Dpusdataru:tutupan_lahan_provinsi_jawa_tengah_330020200826103158</Name><Title>Tutupan_Lahan_Provinsi_Jawa_Tengah_AR</Title><Abstract>Tutupan Lahan Garis Pantai Provinsi Jawa Tengah</Abstract><ows:Keywords><ows:Keyword>features</ows:Keyword><ows:Keyword>tutupan_lahan_provinsi_jawa_tengah_330020200826103158</ows:Keyword></ows:Keywords><DefaultCRS>urn:ogc:def:crs:EPSG::32749</DefaultCRS><ows:WGS84BoundingBox><ows:LowerCorner>108.53510931171029 -8.221073738036434</ows:LowerCorner><ows:UpperCorner>111.70966750706349 -6.365443064559852</ows:UpperCorner></ows:WGS84BoundingBox></FeatureType><FeatureType xmlns:DinkopukmJawaTengah=\"DinkopukmJawaTengah\"><Name>DinkopukmJawaTengah:umkm_jawa_tengah_shogit_330020200728104215</Name><Title>UMKM_Jawa_Tengah_Shogit</Title><Abstract>UMKM_Jawa_Tengah_Shogit</Abstract><ows:Keywords><ows:Keyword>features</ows:Keyword><ows:Keyword>umkm_jawa_tengah_shogit_330020200728104215</ows:Keyword></ows:Keywords><DefaultCRS>urn:ogc:def:crs:EPSG::4326</DefaultCRS><ows:WGS84BoundingBox><ows:LowerCorner>-Infinity -Infinity</ows:LowerCorner><ows:UpperCorner>111.5429239 -6.57617659999994</ows:UpperCorner></ows:WGS84BoundingBox></FeatureType><FeatureType xmlns:ADMIN=\"ADMIN\"><Name>ADMIN:wihara_di_jawa_tengah_330020220818073021</Name><Title>Wihara_di_Jawa_Tengah_PT</Title><Abstract>Tempat Ibadah Wihara di Jawa Tengah</Abstract><ows:Keywords><ows:Keyword>features</ows:Keyword><ows:Keyword>wihara_di_jawa_tengah_330020220818073021</ows:Keyword></ows:Keywords><DefaultCRS>urn:ogc:def:crs:EPSG::3857</DefaultCRS><ows:WGS84BoundingBox><ows:LowerCorner>109.0207299999015 -7.749360000284573</ows:LowerCorner><ows:UpperCorner>111.33326000040306 -6.530110000039887</ows:UpperCorner></ows:WGS84BoundingBox></FeatureType><FeatureType xmlns:DpmptspJawaTengah=\"DpmptspJawaTengah\"><Name>DpmptspJawaTengah:peluang_potensi_investasi_jawa_tengah_330020200623083723</Name><Title>peluang_potensi_investasi_jawa_tengah</Title><Abstract>Peluang Potensi Investasi Jawa Tengah</Abstract><ows:Keywords><ows:Keyword>features</ows:Keyword><ows:Keyword>peluang_potensi_investasi_jawa_tengah_330020200623083723</ows:Keyword></ows:Keywords><DefaultCRS>urn:ogc:def:crs:EPSG::4326</DefaultCRS><ows:WGS84BoundingBox><ows:LowerCorner>108.909 -7.85622</ows:LowerCorner><ows:UpperCorner>111.63 -6.42296</ows:UpperCorner></ows:WGS84BoundingBox></FeatureType><FeatureType xmlns:DisperakimJawaTengah=\"DisperakimJawaTengah\"><Name>DisperakimJawaTengah:twii_kedungsepur_rtlh_330020191021205516</Name><Title>twii_kedungsepur_rtlh</Title><Abstract>Data penanganan RTLH di Wilayah Pengembangan Kedungsepur s.d. status TW II TA 2019</Abstract><ows:Keywords><ows:Keyword>features</ows:Keyword><ows:Keyword>twii_kedungsepur_rtlh_330020191021205516</ows:Keyword></ows:Keywords><DefaultCRS>urn:ogc:def:crs:EPSG::4326</DefaultCRS><ows:WGS84BoundingBox><ows:LowerCorner>-1.0 -1.0</ows:LowerCorner><ows:UpperCorner>0.0 0.0</ows:UpperCorner></ows:WGS84BoundingBox></FeatureType></FeatureTypeList><fes:Filter_Capabilities><fes:Conformance><fes:Constraint name=\"ImplementsQuery\"><ows:NoValues/><ows:DefaultValue>TRUE</ows:DefaultValue></fes:Constraint><fes:Constraint name=\"ImplementsAdHocQuery\"><ows:NoValues/><ows:DefaultValue>TRUE</ows:DefaultValue></fes:Constraint><fes:Constraint name=\"ImplementsFunctions\"><ows:NoValues/><ows:DefaultValue>TRUE</ows:DefaultValue></fes:Constraint><fes:Constraint name=\"ImplementsMinStandardFilter\"><ows:NoValues/><ows:DefaultValue>TRUE</ows:DefaultValue></fes:Constraint><fes:Constraint name=\"ImplementsStandardFilter\"><ows:NoValues/><ows:DefaultValue>FALSE</ows:DefaultValue></fes:Constraint><fes:Constraint name=\"ImplementsMinSpatialFilter\"><ows:NoValues/><ows:DefaultValue>TRUE</ows:DefaultValue></fes:Constraint><fes:Constraint name=\"ImplementsSpatialFilter\"><ows:NoValues/><ows:DefaultValue>FALSE</ows:DefaultValue></fes:Constraint><fes:Constraint name=\"ImplementsMinTemporalFilter\"><ows:NoValues/><ows:DefaultValue>TRUE</ows:DefaultValue></fes:Constraint><fes:Constraint name=\"ImplementsTemporalFilter\"><ows:NoValues/><ows:DefaultValue>TRUE</ows:DefaultValue></fes:Constraint><fes:Constraint name=\"ImplementsVersionNav\"><ows:NoValues/><ows:DefaultValue>FALSE</ows:DefaultValue></fes:Constraint><fes:Constraint name=\"ImplementsSorting\"><ows:AllowedValues><ows:Value>ASC</ows:Value><ows:Value>DESC</ows:Value></ows:AllowedValues><ows:DefaultValue>ASC</ows:DefaultValue></fes:Constraint><fes:Constraint name=\"ImplementsExtendedOperators\"><ows:NoValues/><ows:DefaultValue>FALSE</ows:DefaultValue></fes:Constraint></fes:Conformance><fes:Id_Capabilities><fes:ResourceIdentifier name=\"fes:ResourceId\"/></fes:Id_Capabilities><fes:Scalar_Capabilities><fes:LogicalOperators/><fes:ComparisonOperators><fes:ComparisonOperator name=\"PropertyIsLessThan\"/><fes:ComparisonOperator name=\"PropertyIsGreaterThan\"/><fes:ComparisonOperator name=\"PropertyIsLessThanOrEqualTo\"/><fes:ComparisonOperator name=\"PropertyIsGreaterThanOrEqualTo\"/><fes:ComparisonOperator name=\"PropertyIsEqualTo\"/><fes:ComparisonOperator name=\"PropertyIsNotEqualTo\"/><fes:ComparisonOperator name=\"PropertyIsLike\"/><fes:ComparisonOperator name=\"PropertyIsBetween\"/><fes:ComparisonOperator name=\"PropertyIsNull\"/><fes:ComparisonOperator name=\"PropertyIsNil\"/></fes:ComparisonOperators></fes:Scalar_Capabilities><fes:Spatial_Capabilities><fes:GeometryOperands><fes:GeometryOperand name=\"gml:Envelope\"/><fes:GeometryOperand name=\"gml:Point\"/><fes:GeometryOperand name=\"gml:MultiPoint\"/><fes:GeometryOperand name=\"gml:LineString\"/><fes:GeometryOperand name=\"gml:MultiLineString\"/><fes:GeometryOperand name=\"gml:Polygon\"/><fes:GeometryOperand name=\"gml:MultiPolygon\"/><fes:GeometryOperand name=\"gml:MultiGeometry\"/></fes:GeometryOperands><fes:SpatialOperators><fes:SpatialOperator name=\"Disjoint\"/><fes:SpatialOperator name=\"Equals\"/><fes:SpatialOperator name=\"DWithin\"/><fes:SpatialOperator name=\"Beyond\"/><fes:SpatialOperator name=\"Intersects\"/><fes:SpatialOperator name=\"Touches\"/><fes:SpatialOperator name=\"Crosses\"/><fes:SpatialOperator name=\"Within\"/><fes:SpatialOperator name=\"Contains\"/><fes:SpatialOperator name=\"Overlaps\"/><fes:SpatialOperator name=\"BBOX\"/></fes:SpatialOperators></fes:Spatial_Capabilities><fes:Temporal_Capabilities><fes:TemporalOperands><fes:TemporalOperand name=\"gml:TimeInstant\"/><fes:TemporalOperand name=\"gml:TimePeriod\"/></fes:TemporalOperands><fes:TemporalOperators><fes:TemporalOperator name=\"After\"/><fes:TemporalOperator name=\"Before\"/><fes:TemporalOperator name=\"Begins\"/><fes:TemporalOperator name=\"BegunBy\"/><fes:TemporalOperator name=\"TContains\"/><fes:TemporalOperator name=\"During\"/><fes:TemporalOperator name=\"TEquals\"/><fes:TemporalOperator name=\"TOverlaps\"/><fes:TemporalOperator name=\"Meets\"/><fes:TemporalOperator name=\"OverlappedBy\"/><fes:TemporalOperator name=\"MetBy\"/><fes:TemporalOperator name=\"EndedBy\"/></fes:TemporalOperators></fes:Temporal_Capabilities><fes:Functions><fes:Function name=\"abs\"><fes:Returns>xs:int</fes:Returns><fes:Arguments><fes:Argument name=\"int\"><fes:Type>xs:int</fes:Type></fes:Argument></fes:Arguments></fes:Function><fes:Function name=\"abs_2\"><fes:Returns>xs:long</fes:Returns><fes:Arguments><fes:Argument name=\"number\"><fes:Type>xs:long</fes:Type></fes:Argument></fes:Arguments></fes:Function><fes:Function name=\"abs_3\"><fes:Returns>xs:float</fes:Returns><fes:Arguments><fes:Argument name=\"number\"><fes:Type>xs:float</fes:Type></fes:Argument></fes:Arguments></fes:Function><fes:Function name=\"abs_4\"><fes:Returns>xs:double</fes:Returns><fes:Arguments><fes:Argument name=\"number\"><fes:Type>xs:double</fes:Type></fes:Argument></fes:Arguments></fes:Function><fes:Function name=\"acos\"><fes:Returns>xs:double</fes:Returns><fes:Arguments><fes:Argument name=\"value\"><fes:Type>xs:double</fes:Type></fes:Argument></fes:Arguments></fes:Function><fes:Function name=\"AddCoverages\"><fes:Returns>xs:string</fes:Returns><fes:Arguments><fes:Argument name=\"coverageA\"><fes:Type>xs:string</fes:Type></fes:Argument><fes:Argument name=\"coverageB\"><fes:Type>xs:string</fes:Type></fes:Argument></fes:Arguments></fes:Function><fes:Function name=\"Affine\"><fes:Returns>xs:string</fes:Returns><fes:Arguments><fes:Argument name=\"coverage\"><fes:Type>xs:string</fes:Type></fes:Argument><fes:Argument name=\"scalex\"><fes:Type>xs:double</fes:Type></fes:Argument><fes:Argument name=\"scaley\"><fes:Type>xs:double</fes:Type></fes:Argument><fes:Argument name=\"shearx\"><fes:Type>xs:double</fes:Type></fes:Argument><fes:Argument name=\"sheary\"><fes:Type>xs:double</fes:Type></fes:Argument><fes:Argument name=\"translatex\"><fes:Type>xs:double</fes:Type></fes:Argument><fes:Argument name=\"translatey\"><fes:Type>xs:double</fes:Type></fes:Argument><fes:Argument name=\"nodata\"><fes:Type>xs:string</fes:Type></fes:Argument><fes:Argument name=\"interpolation\"><fes:Type>xs:string</fes:Type></fes:Argument></fes:Arguments></fes:Function><fes:Function name=\"Aggregate\"><fes:Returns>xs:string</fes:Returns><fes:Arguments><fes:Argument name=\"features\"><fes:Type>xs:string</fes:Type></fes:Argument><fes:Argument name=\"aggregationAttribute\"><fes:Type>xs:string</fes:Type></fes:Argument><fes:Argument name=\"function\"><fes:Type>xs:string</fes:Type></fes:Argument><fes:Argument name=\"singlePass\"><fes:Type>xs:boolean</fes:Type></fes:Argument><fes:Argument name=\"groupByAttributes\"><fes:Type>xs:string</fes:Type></fes:Argument></fes:Arguments></fes:Function><fes:Function name=\"Area\"><fes:Returns>xs:double</fes:Returns><fes:Arguments><fes:Argument name=\"geometry\"><fes:Type>gml:AbstractGeometryType</fes:Type></fes:Argument></fes:Arguments></fes:Function><fes:Function name=\"area2\"><fes:Returns>xs:double</fes:Returns><fes:Arguments><fes:Argument name=\"geometry\"><fes:Type>gml:AbstractGeometryType</fes:Type></fes:Argument></fes:Arguments></fes:Function><fes:Function name=\"AreaGrid\"><fes:Returns>xs:string</fes:Returns><fes:Arguments><fes:Argument name=\"envelope\"><fes:Type>xs:string</fes:Type></fes:Argument><fes:Argument name=\"width\"><fes:Type>xs:int</fes:Type></fes:Argument><fes:Argument name=\"height\"><fes:Type>xs:int</fes:Type></fes:Argument></fes:Arguments></fes:Function><fes:Function name=\"asin\"><fes:Returns>xs:double</fes:Returns><fes:Arguments><fes:Argument name=\"value\"><fes:Type>xs:double</fes:Type></fes:Argument></fes:Arguments></fes:Function><fes:Function name=\"atan\"><fes:Returns>xs:double</fes:Returns><fes:Arguments><fes:Argument name=\"value\"><fes:Type>xs:double</fes:Type></fes:Argument></fes:Arguments></fes:Function><fes:Function name=\"atan2\"><fes:Returns>xs:double</fes:Returns><fes:Arguments><fes:Argument name=\"x\"><fes:Type>xs:double</fes:Type></fes:Argument><fes:Argument name=\"y\"><fes:Type>xs:double</fes:Type></fes:Argument></fes:Arguments></fes:Function><fes:Function name=\"BandMerge\"><fes:Returns>xs:string</fes:Returns><fes:Arguments><fes:Argument name=\"coverages\"><fes:Type>xs:string</fes:Type></fes:Argument><fes:Argument name=\"roi\"><fes:Type>xs:string</fes:Type></fes:Argument><fes:Argument name=\"transformChoice\"><fes:Type>xs:string</fes:Type></fes:Argument><fes:Argument name=\"index\"><fes:Type>xs:int</fes:Type></fes:Argument></fes:Arguments></fes:Function><fes:Function name=\"BandSelect\"><fes:Returns>xs:string</fes:Returns><fes:Arguments><fes:Argument name=\"coverage\"><fes:Type>xs:string</fes:Type></fes:Argument><fes:Argument name=\"SampleDimensions\"><fes:Type>xs:string</fes:Type></fes:Argument><fes:Argument name=\"VisibleSampleDimension\"><fes:Type>xs:int</fes:Type></fes:Argument></fes:Arguments></fes:Function><fes:Function name=\"BarnesSurface\"><fes:Returns>xs:string</fes:Returns><fes:Arguments><fes:Argument name=\"data\"><fes:Type>xs:string</fes:Type></fes:Argument><fes:Argument name=\"valueAttr\"><fes:Type>xs:string</fes:Type></fes:Argument><fes:Argument name=\"dataLimit\"><fes:Type>xs:int</fes:Type></fes:Argument><fes:Argument name=\"scale\"><fes:Type>xs:double</fes:Type></fes:Argument><fes:Argument name=\"convergence\"><fes:Type>xs:double</fes:Type></fes:Argument><fes:Argument name=\"passes\"><fes:Type>xs:int</fes:Type></fes:Argument><fes:Argument name=\"minObservations\"><fes:Type>xs:int</fes:Type></fes:Argument><fes:Argument name=\"maxObservationDistance\"><fes:Type>xs:double</fes:Type></fes:Argument><fes:Argument name=\"noDataValue\"><fes:Type>xs:double</fes:Type></fes:Argument><fes:Argument name=\"pixelsPerCell\"><fes:Type>xs:int</fes:Type></fes:Argument><fes:Argument name=\"queryBuffer\"><fes:Type>xs:double</fes:Type></fes:Argument><fes:Argument name=\"outputBBOX\"><fes:Type>xs:string</fes:Type></fes:Argument><fes:Argument name=\"outputWidth\"><fes:Type>xs:int</fes:Type></fes:Argument><fes:Argument name=\"outputHeight\"><fes:Type>xs:int</fes:Type></fes:Argument></fes:Arguments></fes:Function><fes:Function name=\"between\"><fes:Returns>xs:boolean</fes:Returns><fes:Arguments><fes:Argument name=\"value\"><fes:Type>xs:string</fes:Type></fes:Argument><fes:Argument name=\"low\"><fes:Type>xs:string</fes:Type></fes:Argument><fes:Argument name=\"high\"><fes:Type>xs:string</fes:Type></fes:Argument></fes:Arguments></fes:Function><fes:Function name=\"boundary\"><fes:Returns>xs:string</fes:Returns><fes:Arguments><fes:Argument name=\"geometry\"><fes:Type>gml:AbstractGeometryType</fes:Type></fes:Argument></fes:Arguments></fes:Function><fes:Function name=\"boundaryDimension\"><fes:Returns>xs:int</fes:Returns><fes:Arguments><fes:Argument name=\"geometry\"><fes:Type>gml:AbstractGeometryType</fes:Type></fes:Argument></fes:Arguments></fes:Function><fes:Function name=\"Bounds\"><fes:Returns>xs:string</fes:Returns><fes:Arguments><fes:Argument name=\"features\"><fes:Type>xs:string</fes:Type></fes:Argument></fes:Arguments></fes:Function><fes:Function name=\"buffer\"><fes:Returns>xs:string</fes:Returns><fes:Arguments><fes:Argument name=\"geometry\"><fes:Type>gml:AbstractGeometryType</fes:Type></fes:Argument><fes:Argument name=\"distance\"><fes:Type>xs:float</fes:Type></fes:Argument></fes:Arguments></fes:Function><fes:Function name=\"BufferFeatureCollection\"><fes:Returns>xs:string</fes:Returns><fes:Arguments><fes:Argument name=\"features\"><fes:Type>xs:string</fes:Type></fes:Argument><fes:Argument name=\"distance\"><fes:Type>xs:double</fes:Type></fes:Argument><fes:Argument name=\"attributeName\"><fes:Type>xs:string</fes:Type></fes:Argument></fes:Arguments></fes:Function><fes:Function name=\"bufferWithSegments\"><fes:Returns>xs:string</fes:Returns><fes:Arguments><fes:Argument name=\"geometry\"><fes:Type>gml:AbstractGeometryType</fes:Type></fes:Argument><fes:Argument name=\"distance\"><fes:Type>xs:float</fes:Type></fes:Argument><fes:Argument name=\"numberOfSegments\"><fes:Type>xs:float</fes:Type></fes:Argument></fes:Arguments></fes:Function><fes:Function name=\"Categorize\"><fes:Returns>xs:string</fes:Returns><fes:Arguments><fes:Argument name=\"LookupValue\"><fes:Type>xs:string</fes:Type></fes:Argument><fes:Argument name=\"Value\"><fes:Type>xs:string</fes:Type></fes:Argument><fes:Argument name=\"Threshold 1\"><fes:Type>xs:string</fes:Type></fes:Argument><fes:Argument name=\"Value 1\"><fes:Type>xs:string</fes:Type></fes:Argument><fes:Argument name=\"Threshold 2\"><fes:Type>xs:string</fes:Type></fes:Argument><fes:Argument name=\"Value 2\"><fes:Type>xs:string</fes:Type></fes:Argument><fes:Argument name=\"succeeding or preceding\"><fes:Type>xs:string</fes:Type></fes:Argument></fes:Arguments></fes:Function><fes:Function name=\"ceil\"><fes:Returns>xs:double</fes:Returns><fes:Arguments><fes:Argument name=\"number\"><fes:Type>xs:float</fes:Type></fes:Argument></fes:Arguments></fes:Function><fes:Function name=\"centroid\"><fes:Returns>xs:string</fes:Returns><fes:Arguments><fes:Argument name=\"geometry\"><fes:Type>gml:AbstractGeometryType</fes:Type></fes:Argument></fes:Arguments></fes:Function><fes:Function name=\"classify\"><fes:Returns>xs:string</fes:Returns><fes:Arguments><fes:Argument name=\"expression\"><fes:Type>xs:string</fes:Type></fes:Argument><fes:Argument name=\"classifer\"><fes:Type>xs:string</fes:Type></fes:Argument></fes:Arguments></fes:Function><fes:Function name=\"Clip\"><fes:Returns>xs:string</fes:Returns><fes:Arguments><fes:Argument name=\"features\"><fes:Type>xs:string</fes:Type></fes:Argument><fes:Argument name=\"clip\"><fes:Type>xs:string</fes:Type></fes:Argument><fes:Argument name=\"preserveZ\"><fes:Type>xs:boolean</fes:Type></fes:Argument></fes:Arguments></fes:Function><fes:Function name=\"CollectGeometries\"><fes:Returns>xs:string</fes:Returns><fes:Arguments><fes:Argument name=\"features\"><fes:Type>xs:string</fes:Type></fes:Argument></fes:Arguments></fes:Function><fes:Function name=\"Collection_Average\"><fes:Returns>xs:float</fes:Returns><fes:Arguments><fes:Argument name=\"expression\"><fes:Type>xs:float</fes:Type></fes:Argument></fes:Arguments></fes:Function><fes:Function name=\"Collection_Bounds\"><fes:Returns>xs:string</fes:Returns><fes:Arguments><fes:Argument name=\"geometry\"><fes:Type>gml:AbstractGeometryType</fes:Type></fes:Argument></fes:Arguments></fes:Function><fes:Function name=\"Collection_Count\"><fes:Returns>xs:string</fes:Returns></fes:Function><fes:Function name=\"Collection_Max\"><fes:Returns>xs:dateTime</fes:Returns><fes:Arguments><fes:Argument name=\"expression\"><fes:Type>xs:dateTime</fes:Type></fes:Argument></fes:Arguments></fes:Function><fes:Function name=\"Collection_Median\"><fes:Returns>xs:dateTime</fes:Returns><fes:Arguments><fes:Argument name=\"expression\"><fes:Type>xs:dateTime</fes:Type></fes:Argument></fes:Arguments></fes:Function><fes:Function name=\"Collection_Min\"><fes:Returns>xs:dateTime</fes:Returns><fes:Arguments><fes:Argument name=\"expression\"><fes:Type>xs:dateTime</fes:Type></fes:Argument></fes:Arguments></fes:Function><fes:Function name=\"Collection_Nearest\"><fes:Returns>xs:string</fes:Returns><fes:Arguments><fes:Argument name=\"value\"><fes:Type>xs:dateTime</fes:Type></fes:Argument></fes:Arguments></fes:Function><fes:Function name=\"Collection_Sum\"><fes:Returns>xs:float</fes:Returns><fes:Arguments><fes:Argument name=\"expression\"><fes:Type>xs:float</fes:Type></fes:Argument></fes:Arguments></fes:Function><fes:Function name=\"Collection_Unique\"><fes:Returns>xs:string</fes:Returns><fes:Arguments><fes:Argument name=\"expression\"><fes:Type>xs:string</fes:Type></fes:Argument></fes:Arguments></fes:Function><fes:Function name=\"Concatenate\"><fes:Returns>xs:string</fes:Returns><fes:Arguments><fes:Argument name=\"text\"><fes:Type>xs:string</fes:Type></fes:Argument></fes:Arguments></fes:Function><fes:Function name=\"contains\"><fes:Returns>xs:boolean</fes:Returns><fes:Arguments><fes:Argument name=\"geometry1\"><fes:Type>xs:string</fes:Type></fes:Argument><fes:Argument name=\"geometry2\"><fes:Type>xs:string</fes:Type></fes:Argument></fes:Arguments></fes:Function><fes:Function name=\"Contour\"><fes:Returns>xs:string</fes:Returns><fes:Arguments><fes:Argument name=\"data\"><fes:Type>xs:string</fes:Type></fes:Argument><fes:Argument name=\"band\"><fes:Type>xs:int</fes:Type></fes:Argument><fes:Argument name=\"levels\"><fes:Type>xs:string</fes:Type></fes:Argument><fes:Argument name=\"interval\"><fes:Type>xs:double</fes:Type></fes:Argument><fes:Argument name=\"simplify\"><fes:Type>xs:boolean</fes:Type></fes:Argument><fes:Argument name=\"smooth\"><fes:Type>xs:boolean</fes:Type></fes:Argument><fes:Argument name=\"roi\"><fes:Type>xs:string</fes:Type></fes:Argument></fes:Arguments></fes:Function><fes:Function name=\"convert\"><fes:Returns>xs:string</fes:Returns><fes:Arguments><fes:Argument name=\"value\"><fes:Type>xs:string</fes:Type></fes:Argument><fes:Argument name=\"class\"><fes:Type>xs:string</fes:Type></fes:Argument></fes:Arguments></fes:Function><fes:Function name=\"convexHull\"><fes:Returns>xs:string</fes:Returns><fes:Arguments><fes:Argument name=\"geometry\"><fes:Type>gml:AbstractGeometryType</fes:Type></fes:Argument></fes:Arguments></fes:Function><fes:Function name=\"cos\"><fes:Returns>xs:double</fes:Returns><fes:Arguments><fes:Argument name=\"radians\"><fes:Type>xs:double</fes:Type></fes:Argument></fes:Arguments></fes:Function><fes:Function name=\"Count\"><fes:Returns>xs:float</fes:Returns><fes:Arguments><fes:Argument name=\"features\"><fes:Type>xs:string</fes:Type></fes:Argument></fes:Arguments></fes:Function><fes:Function name=\"CoverageClassStats\"><fes:Returns>xs:string</fes:Returns><fes:Arguments><fes:Argument name=\"coverage\"><fes:Type>xs:string</fes:Type></fes:Argument><fes:Argument name=\"stats\"><fes:Type>xs:string</fes:Type></fes:Argument><fes:Argument name=\"band\"><fes:Type>xs:int</fes:Type></fes:Argument><fes:Argument name=\"classes\"><fes:Type>xs:int</fes:Type></fes:Argument><fes:Argument name=\"method\"><fes:Type>xs:string</fes:Type></fes:Argument><fes:Argument name=\"noData\"><fes:Type>xs:double</fes:Type></fes:Argument></fes:Arguments></fes:Function><fes:Function name=\"CropCoverage\"><fes:Returns>xs:string</fes:Returns><fes:Arguments><fes:Argument name=\"coverage\"><fes:Type>xs:string</fes:Type></fes:Argument><fes:Argument name=\"cropShape\"><fes:Type>xs:string</fes:Type></fes:Argument></fes:Arguments></fes:Function><fes:Function name=\"crosses\"><fes:Returns>xs:boolean</fes:Returns><fes:Arguments><fes:Argument name=\"geometry1\"><fes:Type>xs:string</fes:Type></fes:Argument><fes:Argument name=\"geometry2\"><fes:Type>xs:string</fes:Type></fes:Argument></fes:Arguments></fes:Function><fes:Function name=\"dateFormat\"><fes:Returns>xs:string</fes:Returns><fes:Arguments><fes:Argument name=\"format\"><fes:Type>xs:string</fes:Type></fes:Argument><fes:Argument name=\"date\"><fes:Type>xs:dateTime</fes:Type></fes:Argument></fes:Arguments></fes:Function><fes:Function name=\"dateParse\"><fes:Returns>xs:dateTime</fes:Returns><fes:Arguments><fes:Argument name=\"format\"><fes:Type>xs:string</fes:Type></fes:Argument><fes:Argument name=\"dateString\"><fes:Type>xs:string</fes:Type></fes:Argument></fes:Arguments></fes:Function><fes:Function name=\"difference\"><fes:Returns>xs:string</fes:Returns><fes:Arguments><fes:Argument name=\"geometry1\"><fes:Type>xs:string</fes:Type></fes:Argument><fes:Argument name=\"geometry2\"><fes:Type>xs:string</fes:Type></fes:Argument></fes:Arguments></fes:Function><fes:Function name=\"dimension\"><fes:Returns>xs:int</fes:Returns><fes:Arguments><fes:Argument name=\"geometry\"><fes:Type>gml:AbstractGeometryType</fes:Type></fes:Argument></fes:Arguments></fes:Function><fes:Function name=\"disjoint\"><fes:Returns>xs:boolean</fes:Returns><fes:Arguments><fes:Argument name=\"geometry1\"><fes:Type>xs:string</fes:Type></fes:Argument><fes:Argument name=\"geometry2\"><fes:Type>xs:string</fes:Type></fes:Argument></fes:Arguments></fes:Function><fes:Function name=\"disjoint3D\"><fes:Returns>xs:double</fes:Returns><fes:Arguments><fes:Argument name=\"geometry1\"><fes:Type>xs:string</fes:Type></fes:Argument><fes:Argument name=\"geometry2\"><fes:Type>xs:string</fes:Type></fes:Argument></fes:Arguments></fes:Function><fes:Function name=\"distance\"><fes:Returns>xs:double</fes:Returns><fes:Arguments><fes:Argument name=\"geometry1\"><fes:Type>xs:string</fes:Type></fes:Argument><fes:Argument name=\"geometry2\"><fes:Type>xs:string</fes:Type></fes:Argument></fes:Arguments></fes:Function><fes:Function name=\"distance3D\"><fes:Returns>xs:double</fes:Returns><fes:Arguments><fes:Argument name=\"geometry1\"><fes:Type>xs:string</fes:Type></fes:Argument><fes:Argument name=\"geometry2\"><fes:Type>xs:string</fes:Type></fes:Argument></fes:Arguments></fes:Function><fes:Function name=\"double2bool\"><fes:Returns>xs:boolean</fes:Returns><fes:Arguments><fes:Argument name=\"double\"><fes:Type>xs:double</fes:Type></fes:Argument></fes:Arguments></fes:Function><fes:Function name=\"endAngle\"><fes:Returns>xs:double</fes:Returns><fes:Arguments><fes:Argument name=\"linestring\"><fes:Type>xs:string</fes:Type></fes:Argument></fes:Arguments></fes:Function><fes:Function name=\"endPoint\"><fes:Returns>xs:string</fes:Returns><fes:Arguments><fes:Argument name=\"linestring\"><fes:Type>xs:string</fes:Type></fes:Argument></fes:Arguments></fes:Function><fes:Function name=\"env\"><fes:Returns>xs:string</fes:Returns><fes:Arguments><fes:Argument name=\"variable\"><fes:Type>xs:string</fes:Type></fes:Argument></fes:Arguments></fes:Function><fes:Function name=\"envelope\"><fes:Returns>xs:string</fes:Returns><fes:Arguments><fes:Argument name=\"geometry\"><fes:Type>gml:AbstractGeometryType</fes:Type></fes:Argument></fes:Arguments></fes:Function><fes:Function name=\"EqualInterval\"><fes:Returns>xs:string</fes:Returns><fes:Arguments><fes:Argument name=\"value\"><fes:Type>xs:double</fes:Type></fes:Argument><fes:Argument name=\"classes\"><fes:Type>xs:int</fes:Type></fes:Argument></fes:Arguments></fes:Function><fes:Function name=\"equalsExact\"><fes:Returns>xs:boolean</fes:Returns><fes:Arguments><fes:Argument name=\"geometry1\"><fes:Type>xs:string</fes:Type></fes:Argument><fes:Argument name=\"geometry2\"><fes:Type>xs:string</fes:Type></fes:Argument></fes:Arguments></fes:Function><fes:Function name=\"equalsExactTolerance\"><fes:Returns>xs:boolean</fes:Returns><fes:Arguments><fes:Argument name=\"geometry1\"><fes:Type>xs:string</fes:Type></fes:Argument><fes:Argument name=\"geometry2\"><fes:Type>xs:string</fes:Type></fes:Argument><fes:Argument name=\"tolarance\"><fes:Type>xs:double</fes:Type></fes:Argument></fes:Arguments></fes:Function><fes:Function name=\"equalTo\"><fes:Returns>xs:boolean</fes:Returns><fes:Arguments><fes:Argument name=\"object1\"><fes:Type>xs:string</fes:Type></fes:Argument><fes:Argument name=\"object2\"><fes:Type>xs:string</fes:Type></fes:Argument></fes:Arguments></fes:Function><fes:Function name=\"exp\"><fes:Returns>xs:double</fes:Returns><fes:Arguments><fes:Argument name=\"number\"><fes:Type>xs:float</fes:Type></fes:Argument></fes:Arguments></fes:Function><fes:Function name=\"exteriorRing\"><fes:Returns>xs:string</fes:Returns><fes:Arguments><fes:Argument name=\"geometry\"><fes:Type>gml:AbstractGeometryType</fes:Type></fes:Argument></fes:Arguments></fes:Function><fes:Function name=\"Feature\"><fes:Returns>xs:string</fes:Returns><fes:Arguments><fes:Argument name=\"geometry\"><fes:Type>gml:AbstractGeometryType</fes:Type></fes:Argument><fes:Argument name=\"crs\"><fes:Type>xs:string</fes:Type></fes:Argument><fes:Argument name=\"typeName\"><fes:Type>xs:string</fes:Type></fes:Argument></fes:Arguments></fes:Function><fes:Function name=\"FeatureClassStats\"><fes:Returns>xs:string</fes:Returns><fes:Arguments><fes:Argument name=\"features\"><fes:Type>xs:string</fes:Type></fes:Argument><fes:Argument name=\"attribute\"><fes:Type>xs:string</fes:Type></fes:Argument><fes:Argument name=\"stats\"><fes:Type>xs:string</fes:Type></fes:Argument><fes:Argument name=\"classes\"><fes:Type>xs:int</fes:Type></fes:Argument><fes:Argument name=\"method\"><fes:Type>xs:string</fes:Type></fes:Argument><fes:Argument name=\"noData\"><fes:Type>xs:double</fes:Type></fes:Argument></fes:Arguments></fes:Function><fes:Function name=\"floor\"><fes:Returns>xs:double</fes:Returns><fes:Arguments><fes:Argument name=\"double\"><fes:Type>xs:double</fes:Type></fes:Argument></fes:Arguments></fes:Function><fes:Function name=\"geometry\"><fes:Returns>gml:AbstractGeometryType</fes:Returns></fes:Function><fes:Function name=\"geometryType\"><fes:Returns>xs:string</fes:Returns><fes:Arguments><fes:Argument name=\"geometry\"><fes:Type>gml:AbstractGeometryType</fes:Type></fes:Argument></fes:Arguments></fes:Function><fes:Function name=\"geomFromWKT\"><fes:Returns>xs:string</fes:Returns><fes:Arguments><fes:Argument name=\"geometry\"><fes:Type>gml:AbstractGeometryType</fes:Type></fes:Argument></fes:Arguments></fes:Function><fes:Function name=\"geomLength\"><fes:Returns>xs:double</fes:Returns><fes:Arguments><fes:Argument name=\"geometry\"><fes:Type>gml:AbstractGeometryType</fes:Type></fes:Argument></fes:Arguments></fes:Function><fes:Function name=\"getGeometryN\"><fes:Returns>xs:string</fes:Returns><fes:Arguments><fes:Argument name=\"geometry\"><fes:Type>gml:AbstractGeometryType</fes:Type></fes:Argument><fes:Argument name=\"index\"><fes:Type>xs:int</fes:Type></fes:Argument></fes:Arguments></fes:Function><fes:Function name=\"getX\"><fes:Returns>xs:double</fes:Returns><fes:Arguments><fes:Argument name=\"geometry\"><fes:Type>gml:AbstractGeometryType</fes:Type></fes:Argument></fes:Arguments></fes:Function><fes:Function name=\"getY\"><fes:Returns>xs:double</fes:Returns><fes:Arguments><fes:Argument name=\"geometry\"><fes:Type>gml:AbstractGeometryType</fes:Type></fes:Argument></fes:Arguments></fes:Function><fes:Function name=\"getz\"><fes:Returns>xs:double</fes:Returns><fes:Arguments><fes:Argument name=\"geometry\"><fes:Type>gml:AbstractGeometryType</fes:Type></fes:Argument></fes:Arguments></fes:Function><fes:Function name=\"greaterEqualThan\"><fes:Returns>xs:boolean</fes:Returns><fes:Arguments><fes:Argument name=\"object1\"><fes:Type>xs:string</fes:Type></fes:Argument><fes:Argument name=\"object2\"><fes:Type>xs:string</fes:Type></fes:Argument></fes:Arguments></fes:Function><fes:Function name=\"greaterThan\"><fes:Returns>xs:boolean</fes:Returns><fes:Arguments><fes:Argument name=\"object1\"><fes:Type>xs:string</fes:Type></fes:Argument><fes:Argument name=\"object2\"><fes:Type>xs:string</fes:Type></fes:Argument></fes:Arguments></fes:Function><fes:Function name=\"Grid\"><fes:Returns>xs:string</fes:Returns><fes:Arguments><fes:Argument name=\"bounds\"><fes:Type>xs:string</fes:Type></fes:Argument><fes:Argument name=\"width\"><fes:Type>xs:double</fes:Type></fes:Argument><fes:Argument name=\"height\"><fes:Type>xs:double</fes:Type></fes:Argument><fes:Argument name=\"vertexSpacing\"><fes:Type>xs:double</fes:Type></fes:Argument><fes:Argument name=\"mode\"><fes:Type>xs:string</fes:Type></fes:Argument></fes:Arguments></fes:Function><fes:Function name=\"Heatmap\"><fes:Returns>xs:string</fes:Returns><fes:Arguments><fes:Argument name=\"data\"><fes:Type>xs:string</fes:Type></fes:Argument><fes:Argument name=\"radiusPixels\"><fes:Type>xs:int</fes:Type></fes:Argument><fes:Argument name=\"weightAttr\"><fes:Type>xs:string</fes:Type></fes:Argument><fes:Argument name=\"pixelsPerCell\"><fes:Type>xs:int</fes:Type></fes:Argument><fes:Argument name=\"outputBBOX\"><fes:Type>xs:string</fes:Type></fes:Argument><fes:Argument name=\"outputWidth\"><fes:Type>xs:int</fes:Type></fes:Argument><fes:Argument name=\"outputHeight\"><fes:Type>xs:int</fes:Type></fes:Argument></fes:Arguments></fes:Function><fes:Function name=\"id\"><fes:Returns>xs:string</fes:Returns></fes:Function><fes:Function name=\"IEEEremainder\"><fes:Returns>xs:double</fes:Returns><fes:Arguments><fes:Argument name=\"dividend\"><fes:Type>xs:float</fes:Type></fes:Argument><fes:Argument name=\"divisor\"><fes:Type>xs:float</fes:Type></fes:Argument></fes:Arguments></fes:Function><fes:Function name=\"if_then_else\"><fes:Returns>xs:string</fes:Returns><fes:Arguments><fes:Argument name=\"condition\"><fes:Type>xs:boolean</fes:Type></fes:Argument><fes:Argument name=\"then\"><fes:Type>xs:string</fes:Type></fes:Argument><fes:Argument name=\"else\"><fes:Type>xs:string</fes:Type></fes:Argument></fes:Arguments></fes:Function><fes:Function name=\"in\"><fes:Returns>xs:boolean</fes:Returns><fes:Arguments><fes:Argument name=\"candidate\"><fes:Type>xs:string</fes:Type></fes:Argument><fes:Argument name=\"v\"><fes:Type>xs:string</fes:Type></fes:Argument></fes:Arguments></fes:Function><fes:Function name=\"in10\"><fes:Returns>xs:boolean</fes:Returns><fes:Arguments><fes:Argument name=\"value\"><fes:Type>xs:boolean</fes:Type></fes:Argument><fes:Argument name=\"in1\"><fes:Type>xs:string</fes:Type></fes:Argument><fes:Argument name=\"in2\"><fes:Type>xs:string</fes:Type></fes:Argument><fes:Argument name=\"in3\"><fes:Type>xs:string</fes:Type></fes:Argument><fes:Argument name=\"in4\"><fes:Type>xs:string</fes:Type></fes:Argument><fes:Argument name=\"in5\"><fes:Type>xs:string</fes:Type></fes:Argument><fes:Argument name=\"in6\"><fes:Type>xs:string</fes:Type></fes:Argument><fes:Argument name=\"in7\"><fes:Type>xs:string</fes:Type></fes:Argument><fes:Argument name=\"in8\"><fes:Type>xs:string</fes:Type></fes:Argument><fes:Argument name=\"in9\"><fes:Type>xs:string</fes:Type></fes:Argument><fes:Argument name=\"in10\"><fes:Type>xs:string</fes:Type></fes:Argument></fes:Arguments></fes:Function><fes:Function name=\"in2\"><fes:Returns>xs:boolean</fes:Returns><fes:Arguments><fes:Argument name=\"value\"><fes:Type>xs:boolean</fes:Type></fes:Argument><fes:Argument name=\"in1\"><fes:Type>xs:string</fes:Type></fes:Argument><fes:Argument name=\"in2\"><fes:Type>xs:string</fes:Type></fes:Argument></fes:Arguments></fes:Function><fes:Function name=\"in3\"><fes:Returns>xs:boolean</fes:Returns><fes:Arguments><fes:Argument name=\"value\"><fes:Type>xs:boolean</fes:Type></fes:Argument><fes:Argument name=\"in1\"><fes:Type>xs:string</fes:Type></fes:Argument><fes:Argument name=\"in2\"><fes:Type>xs:string</fes:Type></fes:Argument><fes:Argument name=\"in3\"><fes:Type>xs:string</fes:Type></fes:Argument></fes:Arguments></fes:Function><fes:Function name=\"in4\"><fes:Returns>xs:boolean</fes:Returns><fes:Arguments><fes:Argument name=\"value\"><fes:Type>xs:boolean</fes:Type></fes:Argument><fes:Argument name=\"in1\"><fes:Type>xs:string</fes:Type></fes:Argument><fes:Argument name=\"in2\"><fes:Type>xs:string</fes:Type></fes:Argument><fes:Argument name=\"in3\"><fes:Type>xs:string</fes:Type></fes:Argument><fes:Argument name=\"in4\"><fes:Type>xs:string</fes:Type></fes:Argument></fes:Arguments></fes:Function><fes:Function name=\"in5\"><fes:Returns>xs:boolean</fes:Returns><fes:Arguments><fes:Argument name=\"value\"><fes:Type>xs:boolean</fes:Type></fes:Argument><fes:Argument name=\"in1\"><fes:Type>xs:string</fes:Type></fes:Argument><fes:Argument name=\"in2\"><fes:Type>xs:string</fes:Type></fes:Argument><fes:Argument name=\"in3\"><fes:Type>xs:string</fes:Type></fes:Argument><fes:Argument name=\"in4\"><fes:Type>xs:string</fes:Type></fes:Argument><fes:Argument name=\"in5\"><fes:Type>xs:string</fes:Type></fes:Argument></fes:Arguments></fes:Function><fes:Function name=\"in6\"><fes:Returns>xs:boolean</fes:Returns><fes:Arguments><fes:Argument name=\"value\"><fes:Type>xs:boolean</fes:Type></fes:Argument><fes:Argument name=\"in1\"><fes:Type>xs:string</fes:Type></fes:Argument><fes:Argument name=\"in2\"><fes:Type>xs:string</fes:Type></fes:Argument><fes:Argument name=\"in3\"><fes:Type>xs:string</fes:Type></fes:Argument><fes:Argument name=\"in4\"><fes:Type>xs:string</fes:Type></fes:Argument><fes:Argument name=\"in5\"><fes:Type>xs:string</fes:Type></fes:Argument><fes:Argument name=\"in6\"><fes:Type>xs:string</fes:Type></fes:Argument></fes:Arguments></fes:Function><fes:Function name=\"in7\"><fes:Returns>xs:boolean</fes:Returns><fes:Arguments><fes:Argument name=\"value\"><fes:Type>xs:boolean</fes:Type></fes:Argument><fes:Argument name=\"in1\"><fes:Type>xs:string</fes:Type></fes:Argument><fes:Argument name=\"in2\"><fes:Type>xs:string</fes:Type></fes:Argument><fes:Argument name=\"in3\"><fes:Type>xs:string</fes:Type></fes:Argument><fes:Argument name=\"in4\"><fes:Type>xs:string</fes:Type></fes:Argument><fes:Argument name=\"in5\"><fes:Type>xs:string</fes:Type></fes:Argument><fes:Argument name=\"in6\"><fes:Type>xs:string</fes:Type></fes:Argument><fes:Argument name=\"in7\"><fes:Type>xs:string</fes:Type></fes:Argument></fes:Arguments></fes:Function><fes:Function name=\"in8\"><fes:Returns>xs:boolean</fes:Returns><fes:Arguments><fes:Argument name=\"value\"><fes:Type>xs:boolean</fes:Type></fes:Argument><fes:Argument name=\"in1\"><fes:Type>xs:string</fes:Type></fes:Argument><fes:Argument name=\"in2\"><fes:Type>xs:string</fes:Type></fes:Argument><fes:Argument name=\"in3\"><fes:Type>xs:string</fes:Type></fes:Argument><fes:Argument name=\"in4\"><fes:Type>xs:string</fes:Type></fes:Argument><fes:Argument name=\"in5\"><fes:Type>xs:string</fes:Type></fes:Argument><fes:Argument name=\"in6\"><fes:Type>xs:string</fes:Type></fes:Argument><fes:Argument name=\"in7\"><fes:Type>xs:string</fes:Type></fes:Argument><fes:Argument name=\"in8\"><fes:Type>xs:string</fes:Type></fes:Argument></fes:Arguments></fes:Function><fes:Function name=\"in9\"><fes:Returns>xs:boolean</fes:Returns><fes:Arguments><fes:Argument name=\"value\"><fes:Type>xs:boolean</fes:Type></fes:Argument><fes:Argument name=\"in1\"><fes:Type>xs:string</fes:Type></fes:Argument><fes:Argument name=\"in2\"><fes:Type>xs:string</fes:Type></fes:Argument><fes:Argument name=\"in3\"><fes:Type>xs:string</fes:Type></fes:Argument><fes:Argument name=\"in4\"><fes:Type>xs:string</fes:Type></fes:Argument><fes:Argument name=\"in5\"><fes:Type>xs:string</fes:Type></fes:Argument><fes:Argument name=\"in6\"><fes:Type>xs:string</fes:Type></fes:Argument><fes:Argument name=\"in7\"><fes:Type>xs:string</fes:Type></fes:Argument><fes:Argument name=\"in8\"><fes:Type>xs:string</fes:Type></fes:Argument><fes:Argument name=\"in9\"><fes:Type>xs:string</fes:Type></fes:Argument></fes:Arguments></fes:Function><fes:Function name=\"InclusionFeatureCollection\"><fes:Returns>xs:string</fes:Returns><fes:Arguments><fes:Argument name=\"first\"><fes:Type>xs:string</fes:Type></fes:Argument><fes:Argument name=\"second\"><fes:Type>xs:string</fes:Type></fes:Argument></fes:Arguments></fes:Function><fes:Function name=\"int2bbool\"><fes:Returns>xs:boolean</fes:Returns><fes:Arguments><fes:Argument name=\"int\"><fes:Type>xs:int</fes:Type></fes:Argument></fes:Arguments></fes:Function><fes:Function name=\"int2ddouble\"><fes:Returns>xs:double</fes:Returns><fes:Arguments><fes:Argument name=\"int\"><fes:Type>xs:int</fes:Type></fes:Argument></fes:Arguments></fes:Function><fes:Function name=\"interiorPoint\"><fes:Returns>xs:string</fes:Returns><fes:Arguments><fes:Argument name=\"geometry\"><fes:Type>gml:AbstractGeometryType</fes:Type></fes:Argument></fes:Arguments></fes:Function><fes:Function name=\"interiorRingN\"><fes:Returns>xs:string</fes:Returns><fes:Arguments><fes:Argument name=\"geometry\"><fes:Type>gml:AbstractGeometryType</fes:Type></fes:Argument><fes:Argument name=\"n\"><fes:Type>xs:int</fes:Type></fes:Argument></fes:Arguments></fes:Function><fes:Function name=\"Interpolate\"><fes:Returns>xs:string</fes:Returns><fes:Arguments><fes:Argument name=\"data value pairs\"><fes:Type>xs:string</fes:Type></fes:Argument><fes:Argument name=\"mode\"><fes:Type>xs:string</fes:Type></fes:Argument><fes:Argument name=\"method\"><fes:Type>xs:string</fes:Type></fes:Argument></fes:Arguments></fes:Function><fes:Function name=\"intersection\"><fes:Returns>xs:string</fes:Returns><fes:Arguments><fes:Argument name=\"geometry1\"><fes:Type>xs:string</fes:Type></fes:Argument><fes:Argument name=\"geometry2\"><fes:Type>xs:string</fes:Type></fes:Argument></fes:Arguments></fes:Function><fes:Function name=\"IntersectionFeatureCollection\"><fes:Returns>xs:string</fes:Returns><fes:Arguments><fes:Argument name=\"first feature collection\"><fes:Type>xs:string</fes:Type></fes:Argument><fes:Argument name=\"second feature collection\"><fes:Type>xs:string</fes:Type></fes:Argument><fes:Argument name=\"first attributes to retain\"><fes:Type>xs:string</fes:Type></fes:Argument><fes:Argument name=\"second attributes to retain\"><fes:Type>xs:string</fes:Type></fes:Argument><fes:Argument name=\"intersectionMode\"><fes:Type>xs:string</fes:Type></fes:Argument><fes:Argument name=\"percentagesEnabled\"><fes:Type>xs:boolean</fes:Type></fes:Argument><fes:Argument name=\"areasEnabled\"><fes:Type>xs:boolean</fes:Type></fes:Argument></fes:Arguments></fes:Function><fes:Function name=\"intersects\"><fes:Returns>xs:boolean</fes:Returns><fes:Arguments><fes:Argument name=\"geometry1\"><fes:Type>xs:string</fes:Type></fes:Argument><fes:Argument name=\"geometry2\"><fes:Type>xs:string</fes:Type></fes:Argument></fes:Arguments></fes:Function><fes:Function name=\"intersects3D\"><fes:Returns>xs:double</fes:Returns><fes:Arguments><fes:Argument name=\"geometry1\"><fes:Type>xs:string</fes:Type></fes:Argument><fes:Argument name=\"geometry2\"><fes:Type>xs:string</fes:Type></fes:Argument></fes:Arguments></fes:Function><fes:Function name=\"isClosed\"><fes:Returns>xs:boolean</fes:Returns><fes:Arguments><fes:Argument name=\"geometry\"><fes:Type>gml:AbstractGeometryType</fes:Type></fes:Argument></fes:Arguments></fes:Function><fes:Function name=\"isCoverage\"><fes:Returns>xs:boolean</fes:Returns></fes:Function><fes:Function name=\"isEmpty\"><fes:Returns>xs:boolean</fes:Returns><fes:Arguments><fes:Argument name=\"geometry\"><fes:Type>gml:AbstractGeometryType</fes:Type></fes:Argument></fes:Arguments></fes:Function><fes:Function name=\"isInstanceOf\"><fes:Returns>xs:boolean</fes:Returns><fes:Arguments><fes:Argument name=\"class\"><fes:Type>xs:string</fes:Type></fes:Argument></fes:Arguments></fes:Function><fes:Function name=\"isLike\"><fes:Returns>xs:boolean</fes:Returns><fes:Arguments><fes:Argument name=\"string\"><fes:Type>xs:string</fes:Type></fes:Argument><fes:Argument name=\"regex\"><fes:Type>xs:string</fes:Type></fes:Argument></fes:Arguments></fes:Function><fes:Function name=\"isNull\"><fes:Returns>xs:boolean</fes:Returns><fes:Arguments><fes:Argument name=\"object\"><fes:Type>xs:string</fes:Type></fes:Argument></fes:Arguments></fes:Function><fes:Function name=\"isometric\"><fes:Returns>xs:string</fes:Returns><fes:Arguments><fes:Argument name=\"geometry\"><fes:Type>gml:AbstractGeometryType</fes:Type></fes:Argument><fes:Argument name=\"extrusion\"><fes:Type>xs:double</fes:Type></fes:Argument></fes:Arguments></fes:Function><fes:Function name=\"isRing\"><fes:Returns>xs:boolean</fes:Returns><fes:Arguments><fes:Argument name=\"geometry\"><fes:Type>gml:AbstractGeometryType</fes:Type></fes:Argument></fes:Arguments></fes:Function><fes:Function name=\"isSimple\"><fes:Returns>xs:boolean</fes:Returns><fes:Arguments><fes:Argument name=\"geometry\"><fes:Type>gml:AbstractGeometryType</fes:Type></fes:Argument></fes:Arguments></fes:Function><fes:Function name=\"isValid\"><fes:Returns>xs:boolean</fes:Returns><fes:Arguments><fes:Argument name=\"geometry\"><fes:Type>gml:AbstractGeometryType</fes:Type></fes:Argument></fes:Arguments></fes:Function><fes:Function name=\"isWithinDistance\"><fes:Returns>xs:boolean</fes:Returns><fes:Arguments><fes:Argument name=\"geometry1\"><fes:Type>xs:string</fes:Type></fes:Argument><fes:Argument name=\"geometry2\"><fes:Type>xs:string</fes:Type></fes:Argument><fes:Argument name=\"distance\"><fes:Type>xs:double</fes:Type></fes:Argument></fes:Arguments></fes:Function><fes:Function name=\"isWithinDistance3D\"><fes:Returns>xs:double</fes:Returns><fes:Arguments><fes:Argument name=\"geometry1\"><fes:Type>xs:string</fes:Type></fes:Argument><fes:Argument name=\"geometry2\"><fes:Type>xs:string</fes:Type></fes:Argument><fes:Argument name=\"distance\"><fes:Type>xs:double</fes:Type></fes:Argument></fes:Arguments></fes:Function><fes:Function name=\"Jenks\"><fes:Returns>xs:string</fes:Returns><fes:Arguments><fes:Argument name=\"value\"><fes:Type>xs:double</fes:Type></fes:Argument><fes:Argument name=\"classes\"><fes:Type>xs:int</fes:Type></fes:Argument></fes:Arguments></fes:Function><fes:Function name=\"length\"><fes:Returns>xs:int</fes:Returns><fes:Arguments><fes:Argument name=\"string\"><fes:Type>xs:string</fes:Type></fes:Argument></fes:Arguments></fes:Function><fes:Function name=\"lessEqualThan\"><fes:Returns>xs:boolean</fes:Returns><fes:Arguments><fes:Argument name=\"a\"><fes:Type>xs:float</fes:Type></fes:Argument><fes:Argument name=\"b\"><fes:Type>xs:float</fes:Type></fes:Argument></fes:Arguments></fes:Function><fes:Function name=\"lessThan\"><fes:Returns>xs:boolean</fes:Returns><fes:Arguments><fes:Argument name=\"a\"><fes:Type>xs:float</fes:Type></fes:Argument><fes:Argument name=\"b\"><fes:Type>xs:float</fes:Type></fes:Argument></fes:Arguments></fes:Function><fes:Function name=\"list\"><fes:Returns>xs:string</fes:Returns><fes:Arguments><fes:Argument name=\"item\"><fes:Type>xs:string</fes:Type></fes:Argument></fes:Arguments></fes:Function><fes:Function name=\"log\"><fes:Returns>xs:double</fes:Returns><fes:Arguments><fes:Argument name=\"value\"><fes:Type>xs:float</fes:Type></fes:Argument></fes:Arguments></fes:Function><fes:Function name=\"LRSGeocode\"><fes:Returns>xs:string</fes:Returns><fes:Arguments><fes:Argument name=\"features\"><fes:Type>xs:string</fes:Type></fes:Argument><fes:Argument name=\"from_measure_attb\"><fes:Type>xs:string</fes:Type></fes:Argument><fes:Argument name=\"to_measure_attb\"><fes:Type>xs:string</fes:Type></fes:Argument><fes:Argument name=\"measure\"><fes:Type>xs:double</fes:Type></fes:Argument></fes:Arguments></fes:Function><fes:Function name=\"LRSMeasure\"><fes:Returns>xs:string</fes:Returns><fes:Arguments><fes:Argument name=\"features\"><fes:Type>xs:string</fes:Type></fes:Argument><fes:Argument name=\"from_measure_attb\"><fes:Type>xs:string</fes:Type></fes:Argument><fes:Argument name=\"to_measure_attb\"><fes:Type>xs:string</fes:Type></fes:Argument><fes:Argument name=\"point\"><fes:Type>xs:string</fes:Type></fes:Argument><fes:Argument name=\"crs\"><fes:Type>xs:string</fes:Type></fes:Argument></fes:Arguments></fes:Function><fes:Function name=\"LRSSegment\"><fes:Returns>xs:string</fes:Returns><fes:Arguments><fes:Argument name=\"features\"><fes:Type>xs:string</fes:Type></fes:Argument><fes:Argument name=\"from_measure_attb\"><fes:Type>xs:string</fes:Type></fes:Argument><fes:Argument name=\"to_measure_attb\"><fes:Type>xs:string</fes:Type></fes:Argument><fes:Argument name=\"from_measure\"><fes:Type>xs:double</fes:Type></fes:Argument><fes:Argument name=\"to_measure\"><fes:Type>xs:double</fes:Type></fes:Argument></fes:Arguments></fes:Function><fes:Function name=\"max\"><fes:Returns>xs:double</fes:Returns><fes:Arguments><fes:Argument name=\"double\"><fes:Type>xs:float</fes:Type></fes:Argument><fes:Argument name=\"double\"><fes:Type>xs:float</fes:Type></fes:Argument></fes:Arguments></fes:Function><fes:Function name=\"max_2\"><fes:Returns>xs:long</fes:Returns><fes:Arguments><fes:Argument name=\"long\"><fes:Type>xs:float</fes:Type></fes:Argument><fes:Argument name=\"long\"><fes:Type>xs:float</fes:Type></fes:Argument></fes:Arguments></fes:Function><fes:Function name=\"max_3\"><fes:Returns>xs:float</fes:Returns><fes:Arguments><fes:Argument name=\"float\"><fes:Type>xs:float</fes:Type></fes:Argument><fes:Argument name=\"float\"><fes:Type>xs:float</fes:Type></fes:Argument></fes:Arguments></fes:Function><fes:Function name=\"max_4\"><fes:Returns>xs:int</fes:Returns><fes:Arguments><fes:Argument name=\"int\"><fes:Type>xs:float</fes:Type></fes:Argument><fes:Argument name=\"int\"><fes:Type>xs:float</fes:Type></fes:Argument></fes:Arguments></fes:Function><fes:Function name=\"min\"><fes:Returns>xs:double</fes:Returns><fes:Arguments><fes:Argument name=\"double\"><fes:Type>xs:double</fes:Type></fes:Argument><fes:Argument name=\"double\"><fes:Type>xs:double</fes:Type></fes:Argument></fes:Arguments></fes:Function><fes:Function name=\"min_2\"><fes:Returns>xs:long</fes:Returns><fes:Arguments><fes:Argument name=\"long\"><fes:Type>xs:float</fes:Type></fes:Argument><fes:Argument name=\"long\"><fes:Type>xs:float</fes:Type></fes:Argument></fes:Arguments></fes:Function><fes:Function name=\"min_3\"><fes:Returns>xs:float</fes:Returns><fes:Arguments><fes:Argument name=\"float\"><fes:Type>xs:float</fes:Type></fes:Argument><fes:Argument name=\"float\"><fes:Type>xs:float</fes:Type></fes:Argument></fes:Arguments></fes:Function><fes:Function name=\"min_4\"><fes:Returns>xs:int</fes:Returns><fes:Arguments><fes:Argument name=\"int\"><fes:Type>xs:float</fes:Type></fes:Argument><fes:Argument name=\"int\"><fes:Type>xs:float</fes:Type></fes:Argument></fes:Arguments></fes:Function><fes:Function name=\"mincircle\"><fes:Returns>xs:string</fes:Returns><fes:Arguments><fes:Argument name=\"geometry\"><fes:Type>gml:AbstractGeometryType</fes:Type></fes:Argument></fes:Arguments></fes:Function><fes:Function name=\"minimumdiameter\"><fes:Returns>xs:string</fes:Returns><fes:Arguments><fes:Argument name=\"geometry\"><fes:Type>gml:AbstractGeometryType</fes:Type></fes:Argument></fes:Arguments></fes:Function><fes:Function name=\"minrectangle\"><fes:Returns>xs:string</fes:Returns><fes:Arguments><fes:Argument name=\"geometry\"><fes:Type>gml:AbstractGeometryType</fes:Type></fes:Argument></fes:Arguments></fes:Function><fes:Function name=\"modulo\"><fes:Returns>xs:int</fes:Returns><fes:Arguments><fes:Argument name=\"dividend\"><fes:Type>xs:int</fes:Type></fes:Argument><fes:Argument name=\"divisor\"><fes:Type>xs:int</fes:Type></fes:Argument></fes:Arguments></fes:Function><fes:Function name=\"MultiplyCoverages\"><fes:Returns>xs:string</fes:Returns><fes:Arguments><fes:Argument name=\"coverageA\"><fes:Type>xs:string</fes:Type></fes:Argument><fes:Argument name=\"coverageB\"><fes:Type>xs:string</fes:Type></fes:Argument></fes:Arguments></fes:Function><fes:Function name=\"Nearest\"><fes:Returns>xs:string</fes:Returns><fes:Arguments><fes:Argument name=\"features\"><fes:Type>xs:string</fes:Type></fes:Argument><fes:Argument name=\"point\"><fes:Type>xs:string</fes:Type></fes:Argument><fes:Argument name=\"crs\"><fes:Type>xs:string</fes:Type></fes:Argument></fes:Arguments></fes:Function><fes:Function name=\"not\"><fes:Returns>xs:boolean</fes:Returns><fes:Arguments><fes:Argument name=\"logicValue\"><fes:Type>xs:boolean</fes:Type></fes:Argument></fes:Arguments></fes:Function><fes:Function name=\"notEqualTo\"><fes:Returns>xs:boolean</fes:Returns><fes:Arguments><fes:Argument name=\"a\"><fes:Type>xs:string</fes:Type></fes:Argument><fes:Argument name=\"b\"><fes:Type>xs:string</fes:Type></fes:Argument></fes:Arguments></fes:Function><fes:Function name=\"numberFormat\"><fes:Returns>xs:string</fes:Returns><fes:Arguments><fes:Argument name=\"format\"><fes:Type>xs:string</fes:Type></fes:Argument><fes:Argument name=\"number\"><fes:Type>xs:float</fes:Type></fes:Argument></fes:Arguments></fes:Function><fes:Function name=\"numberFormat2\"><fes:Returns>xs:string</fes:Returns><fes:Arguments><fes:Argument name=\"format\"><fes:Type>xs:string</fes:Type></fes:Argument><fes:Argument name=\"number\"><fes:Type>xs:float</fes:Type></fes:Argument><fes:Argument name=\"minus\"><fes:Type>xs:string</fes:Type></fes:Argument><fes:Argument name=\"decimal\"><fes:Type>xs:string</fes:Type></fes:Argument><fes:Argument name=\"separator\"><fes:Type>xs:string</fes:Type></fes:Argument></fes:Arguments></fes:Function><fes:Function name=\"numGeometries\"><fes:Returns>xs:int</fes:Returns><fes:Arguments><fes:Argument name=\"geometry\"><fes:Type>gml:AbstractGeometryType</fes:Type></fes:Argument></fes:Arguments></fes:Function><fes:Function name=\"numInteriorRing\"><fes:Returns>xs:int</fes:Returns><fes:Arguments><fes:Argument name=\"geometry\"><fes:Type>gml:AbstractGeometryType</fes:Type></fes:Argument></fes:Arguments></fes:Function><fes:Function name=\"numPoints\"><fes:Returns>xs:int</fes:Returns><fes:Arguments><fes:Argument name=\"geometry\"><fes:Type>gml:AbstractGeometryType</fes:Type></fes:Argument></fes:Arguments></fes:Function><fes:Function name=\"octagonalenvelope\"><fes:Returns>xs:string</fes:Returns><fes:Arguments><fes:Argument name=\"geometry\"><fes:Type>gml:AbstractGeometryType</fes:Type></fes:Argument></fes:Arguments></fes:Function><fes:Function name=\"offset\"><fes:Returns>xs:string</fes:Returns><fes:Arguments><fes:Argument name=\"geometry\"><fes:Type>gml:AbstractGeometryType</fes:Type></fes:Argument><fes:Argument name=\"offsetX\"><fes:Type>xs:double</fes:Type></fes:Argument><fes:Argument name=\"offsetY\"><fes:Type>xs:double</fes:Type></fes:Argument></fes:Arguments></fes:Function><fes:Function name=\"overlaps\"><fes:Returns>xs:string</fes:Returns><fes:Arguments><fes:Argument name=\"geometry1\"><fes:Type>xs:string</fes:Type></fes:Argument><fes:Argument name=\"geometry2\"><fes:Type>xs:string</fes:Type></fes:Argument></fes:Arguments></fes:Function><fes:Function name=\"parameter\"><fes:Returns>xs:string</fes:Returns><fes:Arguments><fes:Argument name=\"argumentName\"><fes:Type>xs:string</fes:Type></fes:Argument><fes:Argument name=\"values\"><fes:Type>xs:string</fes:Type></fes:Argument></fes:Arguments></fes:Function><fes:Function name=\"parseBoolean\"><fes:Returns>xs:boolean</fes:Returns><fes:Arguments><fes:Argument name=\"string\"><fes:Type>xs:string</fes:Type></fes:Argument></fes:Arguments></fes:Function><fes:Function name=\"parseDouble\"><fes:Returns>xs:double</fes:Returns><fes:Arguments><fes:Argument name=\"string\"><fes:Type>xs:string</fes:Type></fes:Argument></fes:Arguments></fes:Function><fes:Function name=\"parseInt\"><fes:Returns>xs:int</fes:Returns><fes:Arguments><fes:Argument name=\"string\"><fes:Type>xs:string</fes:Type></fes:Argument></fes:Arguments></fes:Function><fes:Function name=\"parseLong\"><fes:Returns>xs:long</fes:Returns><fes:Arguments><fes:Argument name=\"string\"><fes:Type>xs:string</fes:Type></fes:Argument></fes:Arguments></fes:Function><fes:Function name=\"pi\"><fes:Returns>xs:double</fes:Returns></fes:Function><fes:Function name=\"PointBuffers\"><fes:Returns>xs:string</fes:Returns><fes:Arguments><fes:Argument name=\"center\"><fes:Type>xs:string</fes:Type></fes:Argument><fes:Argument name=\"crs\"><fes:Type>xs:string</fes:Type></fes:Argument><fes:Argument name=\"distances\"><fes:Type>xs:string</fes:Type></fes:Argument><fes:Argument name=\"quadrantSegments\"><fes:Type>xs:int</fes:Type></fes:Argument></fes:Arguments></fes:Function><fes:Function name=\"pointN\"><fes:Returns>xs:string</fes:Returns><fes:Arguments><fes:Argument name=\"geometry\"><fes:Type>gml:AbstractGeometryType</fes:Type></fes:Argument><fes:Argument name=\"index\"><fes:Type>xs:int</fes:Type></fes:Argument></fes:Arguments></fes:Function><fes:Function name=\"PointStacker\"><fes:Returns>xs:string</fes:Returns><fes:Arguments><fes:Argument name=\"data\"><fes:Type>xs:string</fes:Type></fes:Argument><fes:Argument name=\"cellSize\"><fes:Type>xs:int</fes:Type></fes:Argument><fes:Argument name=\"normalize\"><fes:Type>xs:boolean</fes:Type></fes:Argument><fes:Argument name=\"preserveLocation\"><fes:Type>xs:string</fes:Type></fes:Argument><fes:Argument name=\"outputBBOX\"><fes:Type>xs:string</fes:Type></fes:Argument><fes:Argument name=\"outputWidth\"><fes:Type>xs:int</fes:Type></fes:Argument><fes:Argument name=\"outputHeight\"><fes:Type>xs:int</fes:Type></fes:Argument></fes:Arguments></fes:Function><fes:Function name=\"PolygonExtraction\"><fes:Returns>xs:string</fes:Returns><fes:Arguments><fes:Argument name=\"data\"><fes:Type>xs:string</fes:Type></fes:Argument><fes:Argument name=\"band\"><fes:Type>xs:int</fes:Type></fes:Argument><fes:Argument name=\"insideEdges\"><fes:Type>xs:boolean</fes:Type></fes:Argument><fes:Argument name=\"roi\"><fes:Type>xs:string</fes:Type></fes:Argument><fes:Argument name=\"nodata\"><fes:Type>xs:float</fes:Type></fes:Argument><fes:Argument name=\"ranges\"><fes:Type>xs:string</fes:Type></fes:Argument></fes:Arguments></fes:Function><fes:Function name=\"pow\"><fes:Returns>xs:double</fes:Returns><fes:Arguments><fes:Argument name=\"base\"><fes:Type>xs:float</fes:Type></fes:Argument><fes:Argument name=\"exponent\"><fes:Type>xs:float</fes:Type></fes:Argument></fes:Arguments></fes:Function><fes:Function name=\"property\"><fes:Returns>xs:string</fes:Returns><fes:Arguments><fes:Argument name=\"propertyName\"><fes:Type>xs:string</fes:Type></fes:Argument></fes:Arguments></fes:Function><fes:Function name=\"PropertyExists\"><fes:Returns>xs:boolean</fes:Returns><fes:Arguments><fes:Argument name=\"propertyName\"><fes:Type>xs:string</fes:Type></fes:Argument></fes:Arguments></fes:Function><fes:Function name=\"Quantile\"><fes:Returns>xs:string</fes:Returns><fes:Arguments><fes:Argument name=\"value\"><fes:Type>xs:double</fes:Type></fes:Argument><fes:Argument name=\"classes\"><fes:Type>xs:int</fes:Type></fes:Argument></fes:Arguments></fes:Function><fes:Function name=\"Query\"><fes:Returns>xs:string</fes:Returns><fes:Arguments><fes:Argument name=\"features\"><fes:Type>xs:string</fes:Type></fes:Argument><fes:Argument name=\"attribute\"><fes:Type>xs:string</fes:Type></fes:Argument><fes:Argument name=\"filter\"><fes:Type>xs:string</fes:Type></fes:Argument></fes:Arguments></fes:Function><fes:Function name=\"random\"><fes:Returns>xs:double</fes:Returns></fes:Function><fes:Function name=\"RangeLookup\"><fes:Returns>xs:string</fes:Returns><fes:Arguments><fes:Argument name=\"coverage\"><fes:Type>xs:string</fes:Type></fes:Argument><fes:Argument name=\"band\"><fes:Type>xs:int</fes:Type></fes:Argument><fes:Argument name=\"ranges\"><fes:Type>xs:string</fes:Type></fes:Argument><fes:Argument name=\"outputPixelValues\"><fes:Type>xs:string</fes:Type></fes:Argument><fes:Argument name=\"noData\"><fes:Type>xs:double</fes:Type></fes:Argument></fes:Arguments></fes:Function><fes:Function name=\"RasterAsPointCollection\"><fes:Returns>xs:string</fes:Returns><fes:Arguments><fes:Argument name=\"data\"><fes:Type>xs:string</fes:Type></fes:Argument><fes:Argument name=\"targetCRS\"><fes:Type>xs:string</fes:Type></fes:Argument><fes:Argument name=\"scale\"><fes:Type>xs:float</fes:Type></fes:Argument><fes:Argument name=\"interpolation\"><fes:Type>xs:string</fes:Type></fes:Argument><fes:Argument name=\"emisphere\"><fes:Type>xs:boolean</fes:Type></fes:Argument></fes:Arguments></fes:Function><fes:Function name=\"RasterZonalStatistics\"><fes:Returns>xs:string</fes:Returns><fes:Arguments><fes:Argument name=\"data\"><fes:Type>xs:string</fes:Type></fes:Argument><fes:Argument name=\"band\"><fes:Type>xs:int</fes:Type></fes:Argument><fes:Argument name=\"zones\"><fes:Type>xs:string</fes:Type></fes:Argument><fes:Argument name=\"classification\"><fes:Type>xs:string</fes:Type></fes:Argument></fes:Arguments></fes:Function><fes:Function name=\"RasterZonalStatistics2\"><fes:Returns>xs:string</fes:Returns><fes:Arguments><fes:Argument name=\"source\"><fes:Type>xs:string</fes:Type></fes:Argument><fes:Argument name=\"bands\"><fes:Type>xs:string</fes:Type></fes:Argument><fes:Argument name=\"zones\"><fes:Type>xs:string</fes:Type></fes:Argument><fes:Argument name=\"classifier\"><fes:Type>xs:string</fes:Type></fes:Argument><fes:Argument name=\"nodata\"><fes:Type>xs:string</fes:Type></fes:Argument><fes:Argument name=\"mask\"><fes:Type>xs:string</fes:Type></fes:Argument><fes:Argument name=\"useROIAccessor\"><fes:Type>xs:boolean</fes:Type></fes:Argument><fes:Argument name=\"roi\"><fes:Type>xs:string</fes:Type></fes:Argument><fes:Argument name=\"statistics\"><fes:Type>xs:string</fes:Type></fes:Argument><fes:Argument name=\"minbounds\"><fes:Type>xs:string</fes:Type></fes:Argument><fes:Argument name=\"maxbounds\"><fes:Type>xs:string</fes:Type></fes:Argument><fes:Argument name=\"numbins\"><fes:Type>xs:string</fes:Type></fes:Argument><fes:Argument name=\"rangeData\"><fes:Type>xs:string</fes:Type></fes:Argument><fes:Argument name=\"localStats\"><fes:Type>xs:boolean</fes:Type></fes:Argument></fes:Arguments></fes:Function><fes:Function name=\"Recode\"><fes:Returns>xs:string</fes:Returns><fes:Arguments><fes:Argument name=\"LookupValue\"><fes:Type>xs:string</fes:Type></fes:Argument><fes:Argument name=\"Data 1\"><fes:Type>xs:string</fes:Type></fes:Argument><fes:Argument name=\"Value 1\"><fes:Type>xs:string</fes:Type></fes:Argument><fes:Argument name=\"Data 2\"><fes:Type>xs:string</fes:Type></fes:Argument><fes:Argument name=\"Value 2\"><fes:Type>xs:string</fes:Type></fes:Argument></fes:Arguments></fes:Function><fes:Function name=\"RectangularClip\"><fes:Returns>xs:string</fes:Returns><fes:Arguments><fes:Argument name=\"features\"><fes:Type>xs:string</fes:Type></fes:Argument><fes:Argument name=\"clip\"><fes:Type>xs:string</fes:Type></fes:Argument><fes:Argument name=\"preserveZ\"><fes:Type>xs:boolean</fes:Type></fes:Argument></fes:Arguments></fes:Function><fes:Function name=\"relate\"><fes:Returns>xs:string</fes:Returns><fes:Arguments><fes:Argument name=\"geometry1\"><fes:Type>xs:string</fes:Type></fes:Argument><fes:Argument name=\"geometry2\"><fes:Type>xs:string</fes:Type></fes:Argument></fes:Arguments></fes:Function><fes:Function name=\"relatePattern\"><fes:Returns>xs:boolean</fes:Returns><fes:Arguments><fes:Argument name=\"geometry\"><fes:Type>gml:AbstractGeometryType</fes:Type></fes:Argument><fes:Argument name=\"geometry\"><fes:Type>gml:AbstractGeometryType</fes:Type></fes:Argument><fes:Argument name=\"pattern\"><fes:Type>xs:string</fes:Type></fes:Argument></fes:Arguments></fes:Function><fes:Function name=\"Reproject\"><fes:Returns>xs:string</fes:Returns><fes:Arguments><fes:Argument name=\"features\"><fes:Type>xs:string</fes:Type></fes:Argument><fes:Argument name=\"forcedCRS\"><fes:Type>xs:string</fes:Type></fes:Argument><fes:Argument name=\"targetCRS\"><fes:Type>xs:string</fes:Type></fes:Argument></fes:Arguments></fes:Function><fes:Function name=\"rescaleToPixels\"><fes:Returns>xs:string</fes:Returns><fes:Arguments><fes:Argument name=\"value\"><fes:Type>xs:string</fes:Type></fes:Argument><fes:Argument name=\"defaultUnit\"><fes:Type>xs:string</fes:Type></fes:Argument><fes:Argument name=\"scaleFactor\"><fes:Type>xs:double</fes:Type></fes:Argument><fes:Argument name=\"rescalingMode\"><fes:Type>xs:string</fes:Type></fes:Argument></fes:Arguments></fes:Function><fes:Function name=\"rint\"><fes:Returns>xs:double</fes:Returns><fes:Arguments><fes:Argument name=\"double\"><fes:Type>xs:float</fes:Type></fes:Argument></fes:Arguments></fes:Function><fes:Function name=\"round\"><fes:Returns>xs:float</fes:Returns><fes:Arguments><fes:Argument name=\"number\"><fes:Type>xs:float</fes:Type></fes:Argument></fes:Arguments></fes:Function><fes:Function name=\"round_2\"><fes:Returns>xs:long</fes:Returns><fes:Arguments><fes:Argument name=\"number\"><fes:Type>xs:float</fes:Type></fes:Argument></fes:Arguments></fes:Function><fes:Function name=\"roundDouble\"><fes:Returns>xs:double</fes:Returns><fes:Arguments><fes:Argument name=\"number\"><fes:Type>xs:float</fes:Type></fes:Argument></fes:Arguments></fes:Function><fes:Function name=\"ScaleCoverage\"><fes:Returns>xs:string</fes:Returns><fes:Arguments><fes:Argument name=\"coverage\"><fes:Type>xs:string</fes:Type></fes:Argument><fes:Argument name=\"xScale\"><fes:Type>xs:double</fes:Type></fes:Argument><fes:Argument name=\"yScale\"><fes:Type>xs:double</fes:Type></fes:Argument><fes:Argument name=\"xTranslate\"><fes:Type>xs:double</fes:Type></fes:Argument><fes:Argument name=\"yTranslate\"><fes:Type>xs:double</fes:Type></fes:Argument><fes:Argument name=\"interpolation\"><fes:Type>xs:string</fes:Type></fes:Argument></fes:Arguments></fes:Function><fes:Function name=\"setCRS\"><fes:Returns>xs:string</fes:Returns><fes:Arguments><fes:Argument name=\"geometry\"><fes:Type>gml:AbstractGeometryType</fes:Type></fes:Argument><fes:Argument name=\"CRS\"><fes:Type>xs:string</fes:Type></fes:Argument></fes:Arguments></fes:Function><fes:Function name=\"Simplify\"><fes:Returns>xs:string</fes:Returns><fes:Arguments><fes:Argument name=\"features\"><fes:Type>xs:string</fes:Type></fes:Argument><fes:Argument name=\"distance\"><fes:Type>xs:double</fes:Type></fes:Argument><fes:Argument name=\"preserveTopology\"><fes:Type>xs:boolean</fes:Type></fes:Argument></fes:Arguments></fes:Function><fes:Function name=\"sin\"><fes:Returns>xs:double</fes:Returns><fes:Arguments><fes:Argument name=\"radians\"><fes:Type>xs:float</fes:Type></fes:Argument></fes:Arguments></fes:Function><fes:Function name=\"Snap\"><fes:Returns>xs:string</fes:Returns><fes:Arguments><fes:Argument name=\"features\"><fes:Type>xs:string</fes:Type></fes:Argument><fes:Argument name=\"point\"><fes:Type>xs:string</fes:Type></fes:Argument><fes:Argument name=\"crs\"><fes:Type>xs:string</fes:Type></fes:Argument></fes:Arguments></fes:Function><fes:Function name=\"sqrt\"><fes:Returns>xs:double</fes:Returns><fes:Arguments><fes:Argument name=\"number\"><fes:Type>xs:float</fes:Type></fes:Argument></fes:Arguments></fes:Function><fes:Function name=\"StandardDeviation\"><fes:Returns>xs:string</fes:Returns><fes:Arguments><fes:Argument name=\"value\"><fes:Type>xs:double</fes:Type></fes:Argument><fes:Argument name=\"classes\"><fes:Type>xs:int</fes:Type></fes:Argument></fes:Arguments></fes:Function><fes:Function name=\"startAngle\"><fes:Returns>xs:double</fes:Returns><fes:Arguments><fes:Argument name=\"linestring\"><fes:Type>xs:string</fes:Type></fes:Argument></fes:Arguments></fes:Function><fes:Function name=\"startPoint\"><fes:Returns>xs:string</fes:Returns><fes:Arguments><fes:Argument name=\"linestring\"><fes:Type>xs:string</fes:Type></fes:Argument></fes:Arguments></fes:Function><fes:Function name=\"strCapitalize\"><fes:Returns>xs:string</fes:Returns><fes:Arguments><fes:Argument name=\"string\"><fes:Type>xs:string</fes:Type></fes:Argument></fes:Arguments></fes:Function><fes:Function name=\"strConcat\"><fes:Returns>xs:string</fes:Returns><fes:Arguments><fes:Argument name=\"string1\"><fes:Type>xs:string</fes:Type></fes:Argument><fes:Argument name=\"string2\"><fes:Type>xs:string</fes:Type></fes:Argument></fes:Arguments></fes:Function><fes:Function name=\"strEndsWith\"><fes:Returns>xs:boolean</fes:Returns><fes:Arguments><fes:Argument name=\"String\"><fes:Type>xs:string</fes:Type></fes:Argument><fes:Argument name=\"postfix\"><fes:Type>xs:string</fes:Type></fes:Argument></fes:Arguments></fes:Function><fes:Function name=\"strEqualsIgnoreCase\"><fes:Returns>xs:boolean</fes:Returns><fes:Arguments><fes:Argument name=\"string\"><fes:Type>xs:string</fes:Type></fes:Argument><fes:Argument name=\"lookup\"><fes:Type>xs:string</fes:Type></fes:Argument></fes:Arguments></fes:Function><fes:Function name=\"strIndexOf\"><fes:Returns>xs:int</fes:Returns><fes:Arguments><fes:Argument name=\"String\"><fes:Type>xs:string</fes:Type></fes:Argument><fes:Argument name=\"lookup\"><fes:Type>xs:string</fes:Type></fes:Argument></fes:Arguments></fes:Function><fes:Function name=\"stringTemplate\"><fes:Returns>xs:string</fes:Returns><fes:Arguments><fes:Argument name=\"input\"><fes:Type>xs:string</fes:Type></fes:Argument><fes:Argument name=\"pattern\"><fes:Type>xs:string</fes:Type></fes:Argument><fes:Argument name=\"template\"><fes:Type>xs:string</fes:Type></fes:Argument><fes:Argument name=\"defaultValue\"><fes:Type>xs:string</fes:Type></fes:Argument></fes:Arguments></fes:Function><fes:Function name=\"strLastIndexOf\"><fes:Returns>xs:int</fes:Returns><fes:Arguments><fes:Argument name=\"String\"><fes:Type>xs:string</fes:Type></fes:Argument><fes:Argument name=\"lookup\"><fes:Type>xs:string</fes:Type></fes:Argument></fes:Arguments></fes:Function><fes:Function name=\"strLength\"><fes:Returns>xs:int</fes:Returns><fes:Arguments><fes:Argument name=\"string\"><fes:Type>xs:string</fes:Type></fes:Argument></fes:Arguments></fes:Function><fes:Function name=\"strMatches\"><fes:Returns>xs:boolean</fes:Returns><fes:Arguments><fes:Argument name=\"string\"><fes:Type>xs:string</fes:Type></fes:Argument><fes:Argument name=\"regex\"><fes:Type>xs:string</fes:Type></fes:Argument></fes:Arguments></fes:Function><fes:Function name=\"strPosition\"><fes:Returns>xs:string</fes:Returns><fes:Arguments><fes:Argument name=\"string\"><fes:Type>xs:string</fes:Type></fes:Argument><fes:Argument name=\"lookup\"><fes:Type>xs:string</fes:Type></fes:Argument><fes:Argument name=\"method\"><fes:Type>xs:string</fes:Type></fes:Argument></fes:Arguments></fes:Function><fes:Function name=\"strReplace\"><fes:Returns>xs:string</fes:Returns><fes:Arguments><fes:Argument name=\"string\"><fes:Type>xs:string</fes:Type></fes:Argument><fes:Argument name=\"search\"><fes:Type>xs:string</fes:Type></fes:Argument><fes:Argument name=\"replace\"><fes:Type>xs:string</fes:Type></fes:Argument><fes:Argument name=\"all\"><fes:Type>xs:boolean</fes:Type></fes:Argument></fes:Arguments></fes:Function><fes:Function name=\"strStartsWith\"><fes:Returns>xs:boolean</fes:Returns><fes:Arguments><fes:Argument name=\"string\"><fes:Type>xs:string</fes:Type></fes:Argument><fes:Argument name=\"prefix\"><fes:Type>xs:string</fes:Type></fes:Argument></fes:Arguments></fes:Function><fes:Function name=\"strSubstring\"><fes:Returns>xs:string</fes:Returns><fes:Arguments><fes:Argument name=\"string\"><fes:Type>xs:string</fes:Type></fes:Argument><fes:Argument name=\"beginIndex\"><fes:Type>xs:int</fes:Type></fes:Argument><fes:Argument name=\"endIndex\"><fes:Type>xs:int</fes:Type></fes:Argument></fes:Arguments></fes:Function><fes:Function name=\"strSubstringStart\"><fes:Returns>xs:string</fes:Returns><fes:Arguments><fes:Argument name=\"string\"><fes:Type>xs:string</fes:Type></fes:Argument><fes:Argument name=\"beginIndex\"><fes:Type>xs:int</fes:Type></fes:Argument></fes:Arguments></fes:Function><fes:Function name=\"strToLowerCase\"><fes:Returns>xs:string</fes:Returns><fes:Arguments><fes:Argument name=\"string\"><fes:Type>xs:string</fes:Type></fes:Argument></fes:Arguments></fes:Function><fes:Function name=\"strToUpperCase\"><fes:Returns>xs:string</fes:Returns><fes:Arguments><fes:Argument name=\"string\"><fes:Type>xs:string</fes:Type></fes:Argument></fes:Arguments></fes:Function><fes:Function name=\"strTrim\"><fes:Returns>xs:string</fes:Returns><fes:Arguments><fes:Argument name=\"string\"><fes:Type>xs:string</fes:Type></fes:Argument></fes:Arguments></fes:Function><fes:Function name=\"strTrim2\"><fes:Returns>xs:string</fes:Returns><fes:Arguments><fes:Argument name=\"string\"><fes:Type>xs:string</fes:Type></fes:Argument><fes:Argument name=\"method\"><fes:Type>xs:string</fes:Type></fes:Argument><fes:Argument name=\"character\"><fes:Type>xs:string</fes:Type></fes:Argument></fes:Arguments></fes:Function><fes:Function name=\"StyleCoverage\"><fes:Returns>xs:string</fes:Returns><fes:Arguments><fes:Argument name=\"coverage\"><fes:Type>xs:string</fes:Type></fes:Argument><fes:Argument name=\"style\"><fes:Type>xs:string</fes:Type></fes:Argument></fes:Arguments></fes:Function><fes:Function name=\"symDifference\"><fes:Returns>xs:string</fes:Returns><fes:Arguments><fes:Argument name=\"geometry\"><fes:Type>gml:AbstractGeometryType</fes:Type></fes:Argument><fes:Argument name=\"geometry\"><fes:Type>gml:AbstractGeometryType</fes:Type></fes:Argument></fes:Arguments></fes:Function><fes:Function name=\"tan\"><fes:Returns>xs:double</fes:Returns><fes:Arguments><fes:Argument name=\"radians\"><fes:Type>xs:float</fes:Type></fes:Argument></fes:Arguments></fes:Function><fes:Function name=\"toDegrees\"><fes:Returns>xs:double</fes:Returns><fes:Arguments><fes:Argument name=\"radians\"><fes:Type>xs:float</fes:Type></fes:Argument></fes:Arguments></fes:Function><fes:Function name=\"toRadians\"><fes:Returns>xs:double</fes:Returns><fes:Arguments><fes:Argument name=\"degree\"><fes:Type>xs:float</fes:Type></fes:Argument></fes:Arguments></fes:Function><fes:Function name=\"touches\"><fes:Returns>xs:boolean</fes:Returns><fes:Arguments><fes:Argument name=\"geometry\"><fes:Type>gml:AbstractGeometryType</fes:Type></fes:Argument><fes:Argument name=\"geometry\"><fes:Type>gml:AbstractGeometryType</fes:Type></fes:Argument></fes:Arguments></fes:Function><fes:Function name=\"toWKT\"><fes:Returns>xs:string</fes:Returns><fes:Arguments><fes:Argument name=\"geometry\"><fes:Type>gml:AbstractGeometryType</fes:Type></fes:Argument></fes:Arguments></fes:Function><fes:Function name=\"Transform\"><fes:Returns>xs:string</fes:Returns><fes:Arguments><fes:Argument name=\"features\"><fes:Type>xs:string</fes:Type></fes:Argument><fes:Argument name=\"transform\"><fes:Type>xs:string</fes:Type></fes:Argument></fes:Arguments></fes:Function><fes:Function name=\"union\"><fes:Returns>xs:string</fes:Returns><fes:Arguments><fes:Argument name=\"geometry\"><fes:Type>gml:AbstractGeometryType</fes:Type></fes:Argument><fes:Argument name=\"geometry\"><fes:Type>gml:AbstractGeometryType</fes:Type></fes:Argument></fes:Arguments></fes:Function><fes:Function name=\"UnionFeatureCollection\"><fes:Returns>xs:string</fes:Returns><fes:Arguments><fes:Argument name=\"first\"><fes:Type>xs:string</fes:Type></fes:Argument><fes:Argument name=\"second\"><fes:Type>xs:string</fes:Type></fes:Argument></fes:Arguments></fes:Function><fes:Function name=\"Unique\"><fes:Returns>xs:string</fes:Returns><fes:Arguments><fes:Argument name=\"features\"><fes:Type>xs:string</fes:Type></fes:Argument><fes:Argument name=\"attribute\"><fes:Type>xs:string</fes:Type></fes:Argument></fes:Arguments></fes:Function><fes:Function name=\"UniqueInterval\"><fes:Returns>xs:string</fes:Returns><fes:Arguments><fes:Argument name=\"value\"><fes:Type>xs:double</fes:Type></fes:Argument><fes:Argument name=\"classes\"><fes:Type>xs:int</fes:Type></fes:Argument></fes:Arguments></fes:Function><fes:Function name=\"VectorToRaster\"><fes:Returns>xs:string</fes:Returns><fes:Arguments><fes:Argument name=\"features\"><fes:Type>xs:string</fes:Type></fes:Argument><fes:Argument name=\"rasterWidth\"><fes:Type>xs:int</fes:Type></fes:Argument><fes:Argument name=\"rasterHeight\"><fes:Type>xs:int</fes:Type></fes:Argument><fes:Argument name=\"title\"><fes:Type>xs:string</fes:Type></fes:Argument><fes:Argument name=\"attribute\"><fes:Type>xs:string</fes:Type></fes:Argument><fes:Argument name=\"bounds\"><fes:Type>xs:string</fes:Type></fes:Argument></fes:Arguments></fes:Function><fes:Function name=\"VectorZonalStatistics\"><fes:Returns>xs:string</fes:Returns><fes:Arguments><fes:Argument name=\"data\"><fes:Type>xs:string</fes:Type></fes:Argument><fes:Argument name=\"dataAttribute\"><fes:Type>xs:string</fes:Type></fes:Argument><fes:Argument name=\"zones\"><fes:Type>xs:string</fes:Type></fes:Argument></fes:Arguments></fes:Function><fes:Function name=\"vertices\"><fes:Returns>xs:string</fes:Returns><fes:Arguments><fes:Argument name=\"geometry\"><fes:Type>gml:AbstractGeometryType</fes:Type></fes:Argument></fes:Arguments></fes:Function><fes:Function name=\"within\"><fes:Returns>xs:boolean</fes:Returns><fes:Arguments><fes:Argument name=\"geometry\"><fes:Type>gml:AbstractGeometryType</fes:Type></fes:Argument><fes:Argument name=\"geometry\"><fes:Type>gml:AbstractGeometryType</fes:Type></fes:Argument></fes:Arguments></fes:Function></fes:Functions></fes:Filter_Capabilities></wfs:WFS_Capabilities>'"
      ]
     },
     "execution_count": 47,
     "metadata": {},
     "output_type": "execute_result"
    }
   ],
   "source": [
    "response.text"
   ]
  },
  {
   "cell_type": "code",
   "execution_count": 48,
   "metadata": {},
   "outputs": [],
   "source": [
    "with open(\"../output/wfs_get_capabilities.xml\", \"w\") as f:\n",
    "  pretty_xml = parseString(response.text).toprettyxml()\n",
    "  f.write(pretty_xml)"
   ]
  },
  {
   "cell_type": "markdown",
   "metadata": {},
   "source": [
    "## GetFeature"
   ]
  },
  {
   "cell_type": "markdown",
   "metadata": {},
   "source": [
    "### Output: Geospatial XML"
   ]
  },
  {
   "cell_type": "code",
   "execution_count": 59,
   "metadata": {},
   "outputs": [
    {
     "data": {
      "text/plain": [
       "<Response [200]>"
      ]
     },
     "execution_count": 59,
     "metadata": {},
     "output_type": "execute_result"
    }
   ],
   "source": [
    "params = {\n",
    "  \"service\": \"wfs\",\n",
    "  \"version\": \"2.0.0\",\n",
    "  \"request\": \"GetFeature\",\n",
    "  \"typeNames\": \"ADMIN:candi_di_jawa_tengah_330020220822074546\"\n",
    "}\n",
    "\n",
    "response = requests.get(WFS_BASE_URL, params=params)\n",
    "\n",
    "response"
   ]
  },
  {
   "cell_type": "code",
   "execution_count": 60,
   "metadata": {},
   "outputs": [
    {
     "name": "stdout",
     "output_type": "stream",
     "text": [
      "<?xml version=\"1.0\" encoding=\"UTF-8\"?><wfs:FeatureCollection xmlns:xs=\"http://www.w3.org/2001/XMLSchema\" xmlns:wfs=\"http://www.opengis.net/wfs/2.0\" xmlns:gml=\"http://www.opengis.net/gml/3.2\" xmlns:ADMIN=\"ADMIN\" xmlns:xsi=\"http://www.w3.org/2001/XMLSchema-instance\" numberMatched=\"8\" numberReturned=\"8\" timeStamp=\"2025-02-28T15:49:41.377Z\" xsi:schemaLocation=\"http://www.opengis.net/wfs/2.0 http://geoportal.jatengprov.go.id/geoserver/schemas/wfs/2.0/wfs.xsd ADMIN http://geoportal.jatengprov.go.id/geoserver/wfs?service=WFS&amp;version=2.0.0&amp;request=DescribeFeatureType&amp;typeName=ADMIN%3Acandi_di_jawa_tengah_330020220822074546 http://www.opengis.net/gml/3.2 http://geoportal.jatengprov.go.id/geoserver/schemas/gml/3.2.1/gml.xsd\"><wfs:member><ADMIN:candi_di_jawa_tengah_330020220822074546 gml:id=\"candi_di_jawa_tengah_330020220822074546.1\"><ADMIN:wkb_geometry><gml:Point srsName=\"urn:ogc:def:crs:EPSG::3857\" srsDimension=\"2\"><gml:pos>1.23003395304E7 -865858.7321</gml:pos></gml:Point></ADMIN:wkb_geometry><ADMIN:objectid>3155</ADMIN:objectid><ADMIN:fgsprp>999</ADMIN:fgsprp><ADMIN:fcode>GF01030020</ADMIN:fcode><ADMIN:namaobj>CANDI PRAMBANAN</ADMIN:namaobj><ADMIN:remark>CANDI</ADMIN:remark><ADMIN:wadmpr>JAWA TENGAH</ADMIN:wadmpr><ADMIN:alamat>JL. RAYA SOLO - YOGYAKARTA NO. 16 PRAMBANAN</ADMIN:alamat><ADMIN:laman>https://gis.dukcapil.kemendagri.go.id/</ADMIN:laman></ADMIN:candi_di_jawa_tengah_330020220822074546></wfs:member><wfs:member><ADMIN:candi_di_jawa_tengah_330020220822074546 gml:id=\"candi_di_jawa_tengah_330020220822074546.2\"><ADMIN:wkb_geometry><gml:Point srsName=\"urn:ogc:def:crs:EPSG::3857\" srsDimension=\"2\"><gml:pos>1.2267833292158E7 -849414.049492</gml:pos></gml:Point></ADMIN:wkb_geometry><ADMIN:objectid>859</ADMIN:objectid><ADMIN:fgsprp>999</ADMIN:fgsprp><ADMIN:fcode>GF01030020</ADMIN:fcode><ADMIN:namaobj>CANDI BOROBUDUR</ADMIN:namaobj><ADMIN:remark>CANDI</ADMIN:remark><ADMIN:wadmpr>JAWA TENGAH</ADMIN:wadmpr><ADMIN:alamat>JL. BADRAWATI, KW CANDI BOROBUDUR</ADMIN:alamat><ADMIN:laman>https://gis.dukcapil.kemendagri.go.id/</ADMIN:laman></ADMIN:candi_di_jawa_tengah_330020220822074546></wfs:member><wfs:member><ADMIN:candi_di_jawa_tengah_330020220822074546 gml:id=\"candi_di_jawa_tengah_330020220822074546.3\"><ADMIN:wkb_geometry><gml:Point srsName=\"urn:ogc:def:crs:EPSG::3857\" srsDimension=\"2\"><gml:pos>1.2270760638898E7 -849061.484774</gml:pos></gml:Point></ADMIN:wkb_geometry><ADMIN:objectid>7605</ADMIN:objectid><ADMIN:fgsprp>999</ADMIN:fgsprp><ADMIN:fcode>GF01030020</ADMIN:fcode><ADMIN:namaobj>CANDI MENDUT</ADMIN:namaobj><ADMIN:remark>CANDI</ADMIN:remark><ADMIN:wadmpr>JAWA TENGAH</ADMIN:wadmpr><ADMIN:alamat>JL. MAYOR KUSEN, MUNGKID</ADMIN:alamat><ADMIN:laman>https://gis.dukcapil.kemendagri.go.id/</ADMIN:laman></ADMIN:candi_di_jawa_tengah_330020220822074546></wfs:member><wfs:member><ADMIN:candi_di_jawa_tengah_330020220822074546 gml:id=\"candi_di_jawa_tengah_330020220822074546.4\"><ADMIN:wkb_geometry><gml:Point srsName=\"urn:ogc:def:crs:EPSG::3857\" srsDimension=\"2\"><gml:pos>1.2283195040583E7 -804530.013546</gml:pos></gml:Point></ADMIN:wkb_geometry><ADMIN:objectid>7606</ADMIN:objectid><ADMIN:fgsprp>999</ADMIN:fgsprp><ADMIN:fcode>GF01030020</ADMIN:fcode><ADMIN:namaobj>CANDI GEDONG SONGO</ADMIN:namaobj><ADMIN:remark>CANDI</ADMIN:remark><ADMIN:wadmpr>JAWA TENGAH</ADMIN:wadmpr><ADMIN:alamat>JALAN KE CANDI GEDONG SONGO, BANDUNGAN</ADMIN:alamat><ADMIN:laman>https://gis.dukcapil.kemendagri.go.id/</ADMIN:laman></ADMIN:candi_di_jawa_tengah_330020220822074546></wfs:member><wfs:member><ADMIN:candi_di_jawa_tengah_330020220822074546 gml:id=\"candi_di_jawa_tengah_330020220822074546.5\"><ADMIN:wkb_geometry><gml:Point srsName=\"urn:ogc:def:crs:EPSG::3857\" srsDimension=\"2\"><gml:pos>1.2269585084492E7 -849208.193209</gml:pos></gml:Point></ADMIN:wkb_geometry><ADMIN:objectid>7607</ADMIN:objectid><ADMIN:fgsprp>999</ADMIN:fgsprp><ADMIN:fcode>GF01030020</ADMIN:fcode><ADMIN:namaobj>CANDI PAWON</ADMIN:namaobj><ADMIN:remark>CANDI</ADMIN:remark><ADMIN:wadmpr>JAWA TENGAH</ADMIN:wadmpr><ADMIN:alamat>BROJONALAN, BOROBUDUR</ADMIN:alamat><ADMIN:laman>https://gis.dukcapil.kemendagri.go.id/</ADMIN:laman></ADMIN:candi_di_jawa_tengah_330020220822074546></wfs:member><wfs:member><ADMIN:candi_di_jawa_tengah_330020220822074546 gml:id=\"candi_di_jawa_tengah_330020220822074546.6\"><ADMIN:wkb_geometry><gml:Point srsName=\"urn:ogc:def:crs:EPSG::3857\" srsDimension=\"2\"><gml:pos>1.2300362083873E7 -866609.851205</gml:pos></gml:Point></ADMIN:wkb_geometry><ADMIN:objectid>7608</ADMIN:objectid><ADMIN:fgsprp>999</ADMIN:fgsprp><ADMIN:fcode>GF01030020</ADMIN:fcode><ADMIN:namaobj>CANDI SOJIWAN</ADMIN:namaobj><ADMIN:remark>CANDI</ADMIN:remark><ADMIN:wadmpr>JAWA TENGAH</ADMIN:wadmpr><ADMIN:alamat>KEBON DALEM KIDUL, PRAMBANAN</ADMIN:alamat><ADMIN:laman>https://gis.dukcapil.kemendagri.go.id/</ADMIN:laman></ADMIN:candi_di_jawa_tengah_330020220822074546></wfs:member><wfs:member><ADMIN:candi_di_jawa_tengah_330020220822074546 gml:id=\"candi_di_jawa_tengah_330020220822074546.7\"><ADMIN:wkb_geometry><gml:Point srsName=\"urn:ogc:def:crs:EPSG::3857\" srsDimension=\"2\"><gml:pos>1.2301320938156E7 -864307.517475</gml:pos></gml:Point></ADMIN:wkb_geometry><ADMIN:objectid>7609</ADMIN:objectid><ADMIN:fgsprp>999</ADMIN:fgsprp><ADMIN:fcode>GF01030020</ADMIN:fcode><ADMIN:namaobj>CANDI PLAOSAN</ADMIN:namaobj><ADMIN:remark>CANDI</ADMIN:remark><ADMIN:wadmpr>JAWA TENGAH</ADMIN:wadmpr><ADMIN:alamat>JL. CANDI PLAOSAN, PRAMBANAN</ADMIN:alamat><ADMIN:laman>https://gis.dukcapil.kemendagri.go.id/</ADMIN:laman></ADMIN:candi_di_jawa_tengah_330020220822074546></wfs:member><wfs:member><ADMIN:candi_di_jawa_tengah_330020220822074546 gml:id=\"candi_di_jawa_tengah_330020220822074546.8\"><ADMIN:wkb_geometry><gml:Point srsName=\"urn:ogc:def:crs:EPSG::3857\" srsDimension=\"2\"><gml:pos>1.2234782830028E7 -804184.103593</gml:pos></gml:Point></ADMIN:wkb_geometry><ADMIN:objectid>7610</ADMIN:objectid><ADMIN:fgsprp>999</ADMIN:fgsprp><ADMIN:fcode>GF01030020</ADMIN:fcode><ADMIN:namaobj>CANDI ARJUNA</ADMIN:namaobj><ADMIN:remark>CANDI</ADMIN:remark><ADMIN:wadmpr>JAWA TENGAH</ADMIN:wadmpr><ADMIN:alamat>DIENG KULON, BATUR</ADMIN:alamat><ADMIN:laman>https://gis.dukcapil.kemendagri.go.id/</ADMIN:laman></ADMIN:candi_di_jawa_tengah_330020220822074546></wfs:member></wfs:FeatureCollection>\n"
     ]
    }
   ],
   "source": [
    "print(response.text)"
   ]
  },
  {
   "cell_type": "code",
   "execution_count": 62,
   "metadata": {},
   "outputs": [],
   "source": [
    "with open(\"../output/wfs_get_feature.xml\", \"w\") as f:\n",
    "  pretty_xml = parseString(response.text).toprettyxml()\n",
    "  f.write(pretty_xml)"
   ]
  },
  {
   "cell_type": "markdown",
   "metadata": {},
   "source": [
    "### Output: GeoJSON"
   ]
  },
  {
   "cell_type": "code",
   "execution_count": 63,
   "metadata": {},
   "outputs": [
    {
     "data": {
      "text/plain": [
       "<Response [200]>"
      ]
     },
     "execution_count": 63,
     "metadata": {},
     "output_type": "execute_result"
    }
   ],
   "source": [
    "params = {\n",
    "  \"service\": \"wfs\",\n",
    "  \"version\": \"2.0.0\",\n",
    "  \"request\": \"GetFeature\",\n",
    "  \"typeNames\": \"ADMIN:candi_di_jawa_tengah_330020220822074546\",\n",
    "  \"outputFormat\": \"json\"\n",
    "}\n",
    "\n",
    "response = requests.get(WFS_BASE_URL, params=params)\n",
    "\n",
    "response"
   ]
  },
  {
   "cell_type": "code",
   "execution_count": 64,
   "metadata": {},
   "outputs": [
    {
     "name": "stdout",
     "output_type": "stream",
     "text": [
      "{'type': 'FeatureCollection', 'totalFeatures': 8, 'features': [{'type': 'Feature', 'id': 'candi_di_jawa_tengah_330020220822074546.1', 'geometry': {'type': 'Point', 'coordinates': [12300339.5304, -865858.7321]}, 'geometry_name': 'wkb_geometry', 'properties': {'objectid': '3155', 'fgsprp': 999, 'metadata': None, 'fcode': 'GF01030020', 'namaobj': 'CANDI PRAMBANAN', 'srs_id': None, 'remark': 'CANDI', 'wadmpr': 'JAWA TENGAH', 'alamat': 'JL. RAYA SOLO - YOGYAKARTA NO. 16 PRAMBANAN', 'laman': 'https://gis.dukcapil.kemendagri.go.id/'}}, {'type': 'Feature', 'id': 'candi_di_jawa_tengah_330020220822074546.2', 'geometry': {'type': 'Point', 'coordinates': [12267833.29215753, -849414.04949212]}, 'geometry_name': 'wkb_geometry', 'properties': {'objectid': '859', 'fgsprp': 999, 'metadata': None, 'fcode': 'GF01030020', 'namaobj': 'CANDI BOROBUDUR', 'srs_id': None, 'remark': 'CANDI', 'wadmpr': 'JAWA TENGAH', 'alamat': 'JL. BADRAWATI, KW CANDI BOROBUDUR', 'laman': 'https://gis.dukcapil.kemendagri.go.id/'}}, {'type': 'Feature', 'id': 'candi_di_jawa_tengah_330020220822074546.3', 'geometry': {'type': 'Point', 'coordinates': [12270760.63889774, -849061.48477416]}, 'geometry_name': 'wkb_geometry', 'properties': {'objectid': '7605', 'fgsprp': 999, 'metadata': None, 'fcode': 'GF01030020', 'namaobj': 'CANDI MENDUT', 'srs_id': None, 'remark': 'CANDI', 'wadmpr': 'JAWA TENGAH', 'alamat': 'JL. MAYOR KUSEN, MUNGKID', 'laman': 'https://gis.dukcapil.kemendagri.go.id/'}}, {'type': 'Feature', 'id': 'candi_di_jawa_tengah_330020220822074546.4', 'geometry': {'type': 'Point', 'coordinates': [12283195.04058327, -804530.01354577]}, 'geometry_name': 'wkb_geometry', 'properties': {'objectid': '7606', 'fgsprp': 999, 'metadata': None, 'fcode': 'GF01030020', 'namaobj': 'CANDI GEDONG SONGO', 'srs_id': None, 'remark': 'CANDI', 'wadmpr': 'JAWA TENGAH', 'alamat': 'JALAN KE CANDI GEDONG SONGO, BANDUNGAN', 'laman': 'https://gis.dukcapil.kemendagri.go.id/'}}, {'type': 'Feature', 'id': 'candi_di_jawa_tengah_330020220822074546.5', 'geometry': {'type': 'Point', 'coordinates': [12269585.0844923, -849208.19320918]}, 'geometry_name': 'wkb_geometry', 'properties': {'objectid': '7607', 'fgsprp': 999, 'metadata': None, 'fcode': 'GF01030020', 'namaobj': 'CANDI PAWON', 'srs_id': None, 'remark': 'CANDI', 'wadmpr': 'JAWA TENGAH', 'alamat': 'BROJONALAN, BOROBUDUR', 'laman': 'https://gis.dukcapil.kemendagri.go.id/'}}, {'type': 'Feature', 'id': 'candi_di_jawa_tengah_330020220822074546.6', 'geometry': {'type': 'Point', 'coordinates': [12300362.08387327, -866609.85120493]}, 'geometry_name': 'wkb_geometry', 'properties': {'objectid': '7608', 'fgsprp': 999, 'metadata': None, 'fcode': 'GF01030020', 'namaobj': 'CANDI SOJIWAN', 'srs_id': None, 'remark': 'CANDI', 'wadmpr': 'JAWA TENGAH', 'alamat': 'KEBON DALEM KIDUL, PRAMBANAN', 'laman': 'https://gis.dukcapil.kemendagri.go.id/'}}, {'type': 'Feature', 'id': 'candi_di_jawa_tengah_330020220822074546.7', 'geometry': {'type': 'Point', 'coordinates': [12301320.93815593, -864307.51747515]}, 'geometry_name': 'wkb_geometry', 'properties': {'objectid': '7609', 'fgsprp': 999, 'metadata': None, 'fcode': 'GF01030020', 'namaobj': 'CANDI PLAOSAN', 'srs_id': None, 'remark': 'CANDI', 'wadmpr': 'JAWA TENGAH', 'alamat': 'JL. CANDI PLAOSAN, PRAMBANAN', 'laman': 'https://gis.dukcapil.kemendagri.go.id/'}}, {'type': 'Feature', 'id': 'candi_di_jawa_tengah_330020220822074546.8', 'geometry': {'type': 'Point', 'coordinates': [12234782.8300279, -804184.10359293]}, 'geometry_name': 'wkb_geometry', 'properties': {'objectid': '7610', 'fgsprp': 999, 'metadata': None, 'fcode': 'GF01030020', 'namaobj': 'CANDI ARJUNA', 'srs_id': None, 'remark': 'CANDI', 'wadmpr': 'JAWA TENGAH', 'alamat': 'DIENG KULON, BATUR', 'laman': 'https://gis.dukcapil.kemendagri.go.id/'}}], 'crs': {'type': 'name', 'properties': {'name': 'urn:ogc:def:crs:EPSG::3857'}}}\n"
     ]
    }
   ],
   "source": [
    "print(response.json())"
   ]
  },
  {
   "cell_type": "code",
   "execution_count": 68,
   "metadata": {},
   "outputs": [],
   "source": [
    "with open(\"../output/wfs_get_feature.geojson\", \"w\") as f:\n",
    "  f.write(json.dumps(response.json(), indent=2))"
   ]
  },
  {
   "cell_type": "markdown",
   "metadata": {},
   "source": [
    "### Output: KML"
   ]
  },
  {
   "cell_type": "code",
   "execution_count": 82,
   "metadata": {},
   "outputs": [
    {
     "data": {
      "text/plain": [
       "<Response [200]>"
      ]
     },
     "execution_count": 82,
     "metadata": {},
     "output_type": "execute_result"
    }
   ],
   "source": [
    "params = {\n",
    "  \"service\": \"wfs\",\n",
    "  \"version\": \"2.0.0\",\n",
    "  \"request\": \"GetFeature\",\n",
    "  \"typeNames\": \"ADMIN:candi_di_jawa_tengah_330020220822074546\",\n",
    "  \"outputFormat\": \"KML\"\n",
    "}\n",
    "\n",
    "response = requests.get(WFS_BASE_URL, params=params)\n",
    "\n",
    "response"
   ]
  },
  {
   "cell_type": "code",
   "execution_count": 83,
   "metadata": {},
   "outputs": [
    {
     "name": "stdout",
     "output_type": "stream",
     "text": [
      "<?xml version=\"1.0\" encoding=\"UTF-8\" standalone=\"yes\"?>\n",
      "<kml xmlns=\"http://www.opengis.net/kml/2.2\" xmlns:ns2=\"http://www.google.com/kml/ext/2.2\" xmlns:ns3=\"http://www.w3.org/2005/Atom\" xmlns:ns4=\"urn:oasis:names:tc:ciq:xsdschema:xAL:2.0\">\n",
      "    <Document>\n",
      "        <Schema name=\"candi_di_jawa_tengah_330020220822074546_1\" id=\"candi_di_jawa_tengah_330020220822074546_1\">\n",
      "            <SimpleField type=\"string\" name=\"objectid\"/>\n",
      "            <SimpleField type=\"int\" name=\"fgsprp\"/>\n",
      "            <SimpleField type=\"string\" name=\"metadata\"/>\n",
      "            <SimpleField type=\"string\" name=\"fcode\"/>\n",
      "            <SimpleField type=\"string\" name=\"namaobj\"/>\n",
      "            <SimpleField type=\"int\" name=\"srs_id\"/>\n",
      "            <SimpleField type=\"string\" name=\"remark\"/>\n",
      "            <SimpleField type=\"string\" name=\"wadmpr\"/>\n",
      "            <SimpleField type=\"string\" name=\"alamat\"/>\n",
      "            <SimpleField type=\"string\" name=\"laman\"/>\n",
      "        </Schema>\n",
      "        <Folder>\n",
      "            <name>candi_di_jawa_tengah_330020220822074546</name>\n",
      "            <Placemark id=\"candi_di_jawa_tengah_330020220822074546.1\">\n",
      "                <ExtendedData>\n",
      "                    <SchemaData schemaUrl=\"#candi_di_jawa_tengah_330020220822074546_1\">\n",
      "                        <SimpleData name=\"objectid\">3155</SimpleData>\n",
      "                        <SimpleData name=\"fgsprp\">999</SimpleData>\n",
      "                        <SimpleData name=\"fcode\">GF01030020</SimpleData>\n",
      "                        <SimpleData name=\"namaobj\">CANDI PRAMBANAN</SimpleData>\n",
      "                        <SimpleData name=\"remark\">CANDI</SimpleData>\n",
      "                        <SimpleData name=\"wadmpr\">JAWA TENGAH</SimpleData>\n",
      "                        <SimpleData name=\"alamat\">JL. RAYA SOLO - YOGYAKARTA NO. 16 PRAMBANAN</SimpleData>\n",
      "                        <SimpleData name=\"laman\">https://gis.dukcapil.kemendagri.go.id/</SimpleData>\n",
      "                    </SchemaData>\n",
      "                </ExtendedData>\n",
      "                <Point>\n",
      "                    <coordinates>110.49583000017857,-7.754360000102301</coordinates>\n",
      "                </Point>\n",
      "            </Placemark>\n",
      "            <Placemark id=\"candi_di_jawa_tengah_330020220822074546.2\">\n",
      "                <ExtendedData>\n",
      "                    <SchemaData schemaUrl=\"#candi_di_jawa_tengah_330020220822074546_1\">\n",
      "                        <SimpleData name=\"objectid\">859</SimpleData>\n",
      "                        <SimpleData name=\"fgsprp\">999</SimpleData>\n",
      "                        <SimpleData name=\"fcode\">GF01030020</SimpleData>\n",
      "                        <SimpleData name=\"namaobj\">CANDI BOROBUDUR</SimpleData>\n",
      "                        <SimpleData name=\"remark\">CANDI</SimpleData>\n",
      "                        <SimpleData name=\"wadmpr\">JAWA TENGAH</SimpleData>\n",
      "                        <SimpleData name=\"alamat\">JL. BADRAWATI, KW CANDI BOROBUDUR</SimpleData>\n",
      "                        <SimpleData name=\"laman\">https://gis.dukcapil.kemendagri.go.id/</SimpleData>\n",
      "                    </SchemaData>\n",
      "                </ExtendedData>\n",
      "                <Point>\n",
      "                    <coordinates>110.20382149375416,-7.6079604514017465</coordinates>\n",
      "                </Point>\n",
      "            </Placemark>\n",
      "            <Placemark id=\"candi_di_jawa_tengah_330020220822074546.3\">\n",
      "                <ExtendedData>\n",
      "                    <SchemaData schemaUrl=\"#candi_di_jawa_tengah_330020220822074546_1\">\n",
      "                        <SimpleData name=\"objectid\">7605</SimpleData>\n",
      "                        <SimpleData name=\"fgsprp\">999</SimpleData>\n",
      "                        <SimpleData name=\"fcode\">GF01030020</SimpleData>\n",
      "                        <SimpleData name=\"namaobj\">CANDI MENDUT</SimpleData>\n",
      "                        <SimpleData name=\"remark\">CANDI</SimpleData>\n",
      "                        <SimpleData name=\"wadmpr\">JAWA TENGAH</SimpleData>\n",
      "                        <SimpleData name=\"alamat\">JL. MAYOR KUSEN, MUNGKID</SimpleData>\n",
      "                        <SimpleData name=\"laman\">https://gis.dukcapil.kemendagri.go.id/</SimpleData>\n",
      "                    </SchemaData>\n",
      "                </ExtendedData>\n",
      "                <Point>\n",
      "                    <coordinates>110.23011829694066,-7.604821177033366</coordinates>\n",
      "                </Point>\n",
      "            </Placemark>\n",
      "            <Placemark id=\"candi_di_jawa_tengah_330020220822074546.4\">\n",
      "                <ExtendedData>\n",
      "                    <SchemaData schemaUrl=\"#candi_di_jawa_tengah_330020220822074546_1\">\n",
      "                        <SimpleData name=\"objectid\">7606</SimpleData>\n",
      "                        <SimpleData name=\"fgsprp\">999</SimpleData>\n",
      "                        <SimpleData name=\"fcode\">GF01030020</SimpleData>\n",
      "                        <SimpleData name=\"namaobj\">CANDI GEDONG SONGO</SimpleData>\n",
      "                        <SimpleData name=\"remark\">CANDI</SimpleData>\n",
      "                        <SimpleData name=\"wadmpr\">JAWA TENGAH</SimpleData>\n",
      "                        <SimpleData name=\"alamat\">JALAN KE CANDI GEDONG SONGO, BANDUNGAN</SimpleData>\n",
      "                        <SimpleData name=\"laman\">https://gis.dukcapil.kemendagri.go.id/</SimpleData>\n",
      "                    </SchemaData>\n",
      "                </ExtendedData>\n",
      "                <Point>\n",
      "                    <coordinates>110.34181842777056,-7.2081266179690555</coordinates>\n",
      "                </Point>\n",
      "            </Placemark>\n",
      "            <Placemark id=\"candi_di_jawa_tengah_330020220822074546.5\">\n",
      "                <ExtendedData>\n",
      "                    <SchemaData schemaUrl=\"#candi_di_jawa_tengah_330020220822074546_1\">\n",
      "                        <SimpleData name=\"objectid\">7607</SimpleData>\n",
      "                        <SimpleData name=\"fgsprp\">999</SimpleData>\n",
      "                        <SimpleData name=\"fcode\">GF01030020</SimpleData>\n",
      "                        <SimpleData name=\"namaobj\">CANDI PAWON</SimpleData>\n",
      "                        <SimpleData name=\"remark\">CANDI</SimpleData>\n",
      "                        <SimpleData name=\"wadmpr\">JAWA TENGAH</SimpleData>\n",
      "                        <SimpleData name=\"alamat\">BROJONALAN, BOROBUDUR</SimpleData>\n",
      "                        <SimpleData name=\"laman\">https://gis.dukcapil.kemendagri.go.id/</SimpleData>\n",
      "                    </SchemaData>\n",
      "                </ExtendedData>\n",
      "                <Point>\n",
      "                    <coordinates>110.21955811204339,-7.606127487591463</coordinates>\n",
      "                </Point>\n",
      "            </Placemark>\n",
      "            <Placemark id=\"candi_di_jawa_tengah_330020220822074546.6\">\n",
      "                <ExtendedData>\n",
      "                    <SchemaData schemaUrl=\"#candi_di_jawa_tengah_330020220822074546_1\">\n",
      "                        <SimpleData name=\"objectid\">7608</SimpleData>\n",
      "                        <SimpleData name=\"fgsprp\">999</SimpleData>\n",
      "                        <SimpleData name=\"fcode\">GF01030020</SimpleData>\n",
      "                        <SimpleData name=\"namaobj\">CANDI SOJIWAN</SimpleData>\n",
      "                        <SimpleData name=\"remark\">CANDI</SimpleData>\n",
      "                        <SimpleData name=\"wadmpr\">JAWA TENGAH</SimpleData>\n",
      "                        <SimpleData name=\"alamat\">KEBON DALEM KIDUL, PRAMBANAN</SimpleData>\n",
      "                        <SimpleData name=\"laman\">https://gis.dukcapil.kemendagri.go.id/</SimpleData>\n",
      "                    </SchemaData>\n",
      "                </ExtendedData>\n",
      "                <Point>\n",
      "                    <coordinates>110.49603260147603,-7.76104566382751</coordinates>\n",
      "                </Point>\n",
      "            </Placemark>\n",
      "            <Placemark id=\"candi_di_jawa_tengah_330020220822074546.7\">\n",
      "                <ExtendedData>\n",
      "                    <SchemaData schemaUrl=\"#candi_di_jawa_tengah_330020220822074546_1\">\n",
      "                        <SimpleData name=\"objectid\">7609</SimpleData>\n",
      "                        <SimpleData name=\"fgsprp\">999</SimpleData>\n",
      "                        <SimpleData name=\"fcode\">GF01030020</SimpleData>\n",
      "                        <SimpleData name=\"namaobj\">CANDI PLAOSAN</SimpleData>\n",
      "                        <SimpleData name=\"remark\">CANDI</SimpleData>\n",
      "                        <SimpleData name=\"wadmpr\">JAWA TENGAH</SimpleData>\n",
      "                        <SimpleData name=\"alamat\">JL. CANDI PLAOSAN, PRAMBANAN</SimpleData>\n",
      "                        <SimpleData name=\"laman\">https://gis.dukcapil.kemendagri.go.id/</SimpleData>\n",
      "                    </SchemaData>\n",
      "                </ExtendedData>\n",
      "                <Point>\n",
      "                    <coordinates>110.50464613604957,-7.740552400532832</coordinates>\n",
      "                </Point>\n",
      "            </Placemark>\n",
      "            <Placemark id=\"candi_di_jawa_tengah_330020220822074546.8\">\n",
      "                <ExtendedData>\n",
      "                    <SchemaData schemaUrl=\"#candi_di_jawa_tengah_330020220822074546_1\">\n",
      "                        <SimpleData name=\"objectid\">7610</SimpleData>\n",
      "                        <SimpleData name=\"fgsprp\">999</SimpleData>\n",
      "                        <SimpleData name=\"fcode\">GF01030020</SimpleData>\n",
      "                        <SimpleData name=\"namaobj\">CANDI ARJUNA</SimpleData>\n",
      "                        <SimpleData name=\"remark\">CANDI</SimpleData>\n",
      "                        <SimpleData name=\"wadmpr\">JAWA TENGAH</SimpleData>\n",
      "                        <SimpleData name=\"alamat\">DIENG KULON, BATUR</SimpleData>\n",
      "                        <SimpleData name=\"laman\">https://gis.dukcapil.kemendagri.go.id/</SimpleData>\n",
      "                    </SchemaData>\n",
      "                </ExtendedData>\n",
      "                <Point>\n",
      "                    <coordinates>109.90692414097154,-7.205043803252967</coordinates>\n",
      "                </Point>\n",
      "            </Placemark>\n",
      "        </Folder>\n",
      "    </Document>\n",
      "</kml>\n",
      "\n"
     ]
    }
   ],
   "source": [
    "print(response.text)"
   ]
  },
  {
   "cell_type": "code",
   "execution_count": 71,
   "metadata": {},
   "outputs": [],
   "source": [
    "with open(\"../output/wfs_get_feature.kml\", \"w\") as f:\n",
    "  pretty_xml = parseString(response.text).toprettyxml()\n",
    "  f.write(pretty_xml)"
   ]
  },
  {
   "cell_type": "markdown",
   "metadata": {},
   "source": [
    "### Output: Shapefile"
   ]
  },
  {
   "cell_type": "code",
   "execution_count": 79,
   "metadata": {},
   "outputs": [
    {
     "data": {
      "text/plain": [
       "<Response [200]>"
      ]
     },
     "execution_count": 79,
     "metadata": {},
     "output_type": "execute_result"
    }
   ],
   "source": [
    "params = {\n",
    "  \"service\": \"wfs\",\n",
    "  \"version\": \"2.0.0\",\n",
    "  \"request\": \"GetFeature\",\n",
    "  \"typeNames\": \"ADMIN:candi_di_jawa_tengah_330020220822074546\",\n",
    "  \"outputFormat\": \"SHAPE-ZIP\"\n",
    "}\n",
    "\n",
    "response = requests.get(WFS_BASE_URL, params=params, stream=True)\n",
    "\n",
    "response"
   ]
  },
  {
   "cell_type": "code",
   "execution_count": 81,
   "metadata": {},
   "outputs": [
    {
     "name": "stdout",
     "output_type": "stream",
     "text": [
      "<ows:ExceptionReport xmlns:xs=\"http://www.w3.org/2001/XMLSchema\" xmlns:ows=\"http://www.opengis.net/ows/1.1\" xmlns:xsi=\"http://www.w3.org/2001/XMLSchema-instance\" version=\"2.0.0\" xsi:schemaLocation=\"http://www.opengis.net/ows/1.1 http://geoportal.jatengprov.go.id/geoserver/schemas/ows/1.1.0/owsAll.xsd\">\n",
      "  <ows:Exception exceptionCode=\"NoApplicableCode\">\n",
      "    <ows:ExceptionText>java.io.IOException: No space left on device\n",
      "No space left on device</ows:ExceptionText>\n",
      "  </ows:Exception>\n",
      "</ows:ExceptionReport>\n",
      "\n"
     ]
    }
   ],
   "source": [
    "print(response.text)"
   ]
  },
  {
   "cell_type": "code",
   "execution_count": 78,
   "metadata": {},
   "outputs": [],
   "source": [
    "with open(\"../output/wfs_get_feature.zip\", \"wb\") as file:\n",
    "  for chunk in response.iter_content(chunk_size=8192):\n",
    "    file.write(chunk)"
   ]
  },
  {
   "cell_type": "markdown",
   "metadata": {},
   "source": [
    "### Output: CSV"
   ]
  },
  {
   "cell_type": "code",
   "execution_count": 5,
   "metadata": {},
   "outputs": [
    {
     "data": {
      "text/plain": [
       "<Response [200]>"
      ]
     },
     "execution_count": 5,
     "metadata": {},
     "output_type": "execute_result"
    }
   ],
   "source": [
    "params = {\n",
    "  \"service\": \"wfs\",\n",
    "  \"version\": \"2.0.0\",\n",
    "  \"request\": \"GetFeature\",\n",
    "  \"typeNames\": \"ADMIN:candi_di_jawa_tengah_330020220822074546\",\n",
    "  \"outputFormat\": \"csv\"\n",
    "}\n",
    "\n",
    "response = requests.get(WFS_BASE_URL, params=params, stream=True)\n",
    "\n",
    "response"
   ]
  },
  {
   "cell_type": "code",
   "execution_count": 6,
   "metadata": {},
   "outputs": [
    {
     "name": "stdout",
     "output_type": "stream",
     "text": [
      "FID,wkb_geometry,objectid,fgsprp,metadata,fcode,namaobj,srs_id,remark,wadmpr,alamat,laman\n",
      "candi_di_jawa_tengah_330020220822074546.1,POINT (12300339.5304 -865858.7320999987),3155,999,,GF01030020,CANDI PRAMBANAN,,CANDI,JAWA TENGAH,JL. RAYA SOLO - YOGYAKARTA NO. 16 PRAMBANAN,https://gis.dukcapil.kemendagri.go.id/\n",
      "candi_di_jawa_tengah_330020220822074546.2,POINT (12267833.292157529 -849414.0494921235),859,999,,GF01030020,CANDI BOROBUDUR,,CANDI,JAWA TENGAH,\"JL. BADRAWATI, KW CANDI BOROBUDUR\",https://gis.dukcapil.kemendagri.go.id/\n",
      "candi_di_jawa_tengah_330020220822074546.3,POINT (12270760.638897741 -849061.4847741559),7605,999,,GF01030020,CANDI MENDUT,,CANDI,JAWA TENGAH,\"JL. MAYOR KUSEN, MUNGKID\",https://gis.dukcapil.kemendagri.go.id/\n",
      "candi_di_jawa_tengah_330020220822074546.4,POINT (12283195.04058327 -804530.0135457712),7606,999,,GF01030020,CANDI GEDONG SONGO,,CANDI,JAWA TENGAH,\"JALAN KE CANDI GEDONG SONGO, BANDUNGAN\",https://gis.dukcapil.kemendagri.go.id/\n",
      "candi_di_jawa_tengah_330020220822074546.5,POINT (12269585.084492296 -849208.1932091843),7607,999,,GF01030020,CANDI PAWON,,CANDI,JAWA TENGAH,\"BROJONALAN, BOROBUDUR\",https://gis.dukcapil.kemendagri.go.id/\n",
      "candi_di_jawa_tengah_330020220822074546.6,POINT (12300362.083873268 -866609.8512049331),7608,999,,GF01030020,CANDI SOJIWAN,,CANDI,JAWA TENGAH,\"KEBON DALEM KIDUL, PRAMBANAN\",https://gis.dukcapil.kemendagri.go.id/\n",
      "candi_di_jawa_tengah_330020220822074546.7,POINT (12301320.938155925 -864307.517475146),7609,999,,GF01030020,CANDI PLAOSAN,,CANDI,JAWA TENGAH,\"JL. CANDI PLAOSAN, PRAMBANAN\",https://gis.dukcapil.kemendagri.go.id/\n",
      "candi_di_jawa_tengah_330020220822074546.8,POINT (12234782.830027897 -804184.103592926),7610,999,,GF01030020,CANDI ARJUNA,,CANDI,JAWA TENGAH,\"DIENG KULON, BATUR\",https://gis.dukcapil.kemendagri.go.id/\n",
      "\n"
     ]
    }
   ],
   "source": [
    "print(response.text)"
   ]
  },
  {
   "cell_type": "code",
   "execution_count": 8,
   "metadata": {},
   "outputs": [],
   "source": [
    "with open(\"../output/wfs_get_feature.csv\", \"w\") as f:\n",
    "  f.write(response.text)"
   ]
  },
  {
   "cell_type": "markdown",
   "metadata": {},
   "source": [
    "### Filter: FeatureID"
   ]
  },
  {
   "cell_type": "code",
   "execution_count": 9,
   "metadata": {},
   "outputs": [
    {
     "data": {
      "text/plain": [
       "<Response [200]>"
      ]
     },
     "execution_count": 9,
     "metadata": {},
     "output_type": "execute_result"
    }
   ],
   "source": [
    "params = {\n",
    "  \"service\": \"wfs\",\n",
    "  \"version\": \"2.0.0\",\n",
    "  \"request\": \"GetFeature\",\n",
    "  \"typeNames\": \"ADMIN:candi_di_jawa_tengah_330020220822074546\",\n",
    "  \"outputFormat\": \"csv\",\n",
    "  \"featureID\": \"candi_di_jawa_tengah_330020220822074546.2\"\n",
    "}\n",
    "\n",
    "response = requests.get(WFS_BASE_URL, params=params, stream=True)\n",
    "\n",
    "response"
   ]
  },
  {
   "cell_type": "code",
   "execution_count": 10,
   "metadata": {},
   "outputs": [
    {
     "name": "stdout",
     "output_type": "stream",
     "text": [
      "FID,wkb_geometry,objectid,fgsprp,metadata,fcode,namaobj,srs_id,remark,wadmpr,alamat,laman\n",
      "candi_di_jawa_tengah_330020220822074546.2,POINT (12267833.292157529 -849414.0494921235),859,999,,GF01030020,CANDI BOROBUDUR,,CANDI,JAWA TENGAH,\"JL. BADRAWATI, KW CANDI BOROBUDUR\",https://gis.dukcapil.kemendagri.go.id/\n",
      "\n"
     ]
    }
   ],
   "source": [
    "print(response.text)"
   ]
  },
  {
   "cell_type": "markdown",
   "metadata": {},
   "source": [
    "### Filter: Count"
   ]
  },
  {
   "cell_type": "code",
   "execution_count": 11,
   "metadata": {},
   "outputs": [
    {
     "data": {
      "text/plain": [
       "<Response [200]>"
      ]
     },
     "execution_count": 11,
     "metadata": {},
     "output_type": "execute_result"
    }
   ],
   "source": [
    "params = {\n",
    "  \"service\": \"wfs\",\n",
    "  \"version\": \"2.0.0\",\n",
    "  \"request\": \"GetFeature\",\n",
    "  \"typeNames\": \"ADMIN:candi_di_jawa_tengah_330020220822074546\",\n",
    "  \"outputFormat\": \"csv\",\n",
    "  \"count\": 3\n",
    "}\n",
    "\n",
    "response = requests.get(WFS_BASE_URL, params=params, stream=True)\n",
    "\n",
    "response"
   ]
  },
  {
   "cell_type": "code",
   "execution_count": 12,
   "metadata": {},
   "outputs": [
    {
     "name": "stdout",
     "output_type": "stream",
     "text": [
      "FID,wkb_geometry,objectid,fgsprp,metadata,fcode,namaobj,srs_id,remark,wadmpr,alamat,laman\n",
      "candi_di_jawa_tengah_330020220822074546.1,POINT (12300339.5304 -865858.7320999987),3155,999,,GF01030020,CANDI PRAMBANAN,,CANDI,JAWA TENGAH,JL. RAYA SOLO - YOGYAKARTA NO. 16 PRAMBANAN,https://gis.dukcapil.kemendagri.go.id/\n",
      "candi_di_jawa_tengah_330020220822074546.2,POINT (12267833.292157529 -849414.0494921235),859,999,,GF01030020,CANDI BOROBUDUR,,CANDI,JAWA TENGAH,\"JL. BADRAWATI, KW CANDI BOROBUDUR\",https://gis.dukcapil.kemendagri.go.id/\n",
      "candi_di_jawa_tengah_330020220822074546.3,POINT (12270760.638897741 -849061.4847741559),7605,999,,GF01030020,CANDI MENDUT,,CANDI,JAWA TENGAH,\"JL. MAYOR KUSEN, MUNGKID\",https://gis.dukcapil.kemendagri.go.id/\n",
      "\n"
     ]
    }
   ],
   "source": [
    "print(response.text)"
   ]
  },
  {
   "cell_type": "markdown",
   "metadata": {},
   "source": [
    "### Filter: Sort Attribute"
   ]
  },
  {
   "cell_type": "code",
   "execution_count": 15,
   "metadata": {},
   "outputs": [
    {
     "data": {
      "text/plain": [
       "<Response [200]>"
      ]
     },
     "execution_count": 15,
     "metadata": {},
     "output_type": "execute_result"
    }
   ],
   "source": [
    "params = {\n",
    "  \"service\": \"wfs\",\n",
    "  \"version\": \"2.0.0\",\n",
    "  \"request\": \"GetFeature\",\n",
    "  \"typeNames\": \"ADMIN:candi_di_jawa_tengah_330020220822074546\",\n",
    "  \"outputFormat\": \"csv\",\n",
    "  \"count\": 3,\n",
    "  \"sortBy\": \"namaobj\"\n",
    "}\n",
    "\n",
    "response = requests.get(WFS_BASE_URL, params=params, stream=True)\n",
    "\n",
    "response"
   ]
  },
  {
   "cell_type": "code",
   "execution_count": 16,
   "metadata": {},
   "outputs": [
    {
     "name": "stdout",
     "output_type": "stream",
     "text": [
      "FID,wkb_geometry,objectid,fgsprp,metadata,fcode,namaobj,srs_id,remark,wadmpr,alamat,laman\n",
      "candi_di_jawa_tengah_330020220822074546.8,POINT (12234782.830027897 -804184.103592926),7610,999,,GF01030020,CANDI ARJUNA,,CANDI,JAWA TENGAH,\"DIENG KULON, BATUR\",https://gis.dukcapil.kemendagri.go.id/\n",
      "candi_di_jawa_tengah_330020220822074546.2,POINT (12267833.292157529 -849414.0494921235),859,999,,GF01030020,CANDI BOROBUDUR,,CANDI,JAWA TENGAH,\"JL. BADRAWATI, KW CANDI BOROBUDUR\",https://gis.dukcapil.kemendagri.go.id/\n",
      "candi_di_jawa_tengah_330020220822074546.4,POINT (12283195.04058327 -804530.0135457712),7606,999,,GF01030020,CANDI GEDONG SONGO,,CANDI,JAWA TENGAH,\"JALAN KE CANDI GEDONG SONGO, BANDUNGAN\",https://gis.dukcapil.kemendagri.go.id/\n",
      "\n"
     ]
    }
   ],
   "source": [
    "print(response.text)"
   ]
  },
  {
   "cell_type": "markdown",
   "metadata": {},
   "source": [
    "### Filter: Set Specific Property/Attribute fields"
   ]
  },
  {
   "cell_type": "code",
   "execution_count": 19,
   "metadata": {},
   "outputs": [
    {
     "data": {
      "text/plain": [
       "<Response [200]>"
      ]
     },
     "execution_count": 19,
     "metadata": {},
     "output_type": "execute_result"
    }
   ],
   "source": [
    "params = {\n",
    "  \"service\": \"wfs\",\n",
    "  \"version\": \"2.0.0\",\n",
    "  \"request\": \"GetFeature\",\n",
    "  \"typeNames\": \"ADMIN:candi_di_jawa_tengah_330020220822074546\",\n",
    "  \"outputFormat\": \"csv\",\n",
    "  \"count\": 3,\n",
    "  \"propertyName\": \",\".join([\n",
    "    \"namaobj\",\n",
    "    \"alamat\",\n",
    "    \"wkb_geometry\",\n",
    "  ])\n",
    "}\n",
    "\n",
    "response = requests.get(WFS_BASE_URL, params=params, stream=True)\n",
    "\n",
    "response"
   ]
  },
  {
   "cell_type": "code",
   "execution_count": 20,
   "metadata": {},
   "outputs": [
    {
     "name": "stdout",
     "output_type": "stream",
     "text": [
      "FID,wkb_geometry,namaobj,alamat\n",
      "candi_di_jawa_tengah_330020220822074546.1,POINT (12300339.5304 -865858.7320999987),CANDI PRAMBANAN,JL. RAYA SOLO - YOGYAKARTA NO. 16 PRAMBANAN\n",
      "candi_di_jawa_tengah_330020220822074546.2,POINT (12267833.292157529 -849414.0494921235),CANDI BOROBUDUR,\"JL. BADRAWATI, KW CANDI BOROBUDUR\"\n",
      "candi_di_jawa_tengah_330020220822074546.3,POINT (12270760.638897741 -849061.4847741559),CANDI MENDUT,\"JL. MAYOR KUSEN, MUNGKID\"\n",
      "\n"
     ]
    }
   ],
   "source": [
    "print(response.text)"
   ]
  },
  {
   "cell_type": "markdown",
   "metadata": {},
   "source": [
    "### Filter: CRS Transform"
   ]
  },
  {
   "cell_type": "code",
   "execution_count": 23,
   "metadata": {},
   "outputs": [
    {
     "data": {
      "text/plain": [
       "<Response [200]>"
      ]
     },
     "execution_count": 23,
     "metadata": {},
     "output_type": "execute_result"
    }
   ],
   "source": [
    "params = {\n",
    "  \"service\": \"wfs\",\n",
    "  \"version\": \"2.0.0\",\n",
    "  \"request\": \"GetFeature\",\n",
    "  \"typeNames\": \"ADMIN:candi_di_jawa_tengah_330020220822074546\",\n",
    "  \"outputFormat\": \"csv\",\n",
    "  \"count\": 3,\n",
    "  \"propertyName\": \",\".join([\n",
    "    \"namaobj\",\n",
    "    \"alamat\",\n",
    "    \"wkb_geometry\",\n",
    "  ]),\n",
    "  \"srsName\": \"EPSG:4326\"\n",
    "}\n",
    "\n",
    "response = requests.get(WFS_BASE_URL, params=params, stream=True)\n",
    "\n",
    "response"
   ]
  },
  {
   "cell_type": "code",
   "execution_count": 24,
   "metadata": {},
   "outputs": [
    {
     "name": "stdout",
     "output_type": "stream",
     "text": [
      "FID,wkb_geometry,namaobj,alamat\n",
      "candi_di_jawa_tengah_330020220822074546.1,POINT (110.49583000017857 -7.754360000102301),CANDI PRAMBANAN,JL. RAYA SOLO - YOGYAKARTA NO. 16 PRAMBANAN\n",
      "candi_di_jawa_tengah_330020220822074546.2,POINT (110.20382149375416 -7.6079604514017465),CANDI BOROBUDUR,\"JL. BADRAWATI, KW CANDI BOROBUDUR\"\n",
      "candi_di_jawa_tengah_330020220822074546.3,POINT (110.23011829694066 -7.604821177033366),CANDI MENDUT,\"JL. MAYOR KUSEN, MUNGKID\"\n",
      "\n"
     ]
    }
   ],
   "source": [
    "print(response.text)"
   ]
  },
  {
   "cell_type": "markdown",
   "metadata": {},
   "source": [
    "### Filter: BBOX"
   ]
  },
  {
   "cell_type": "code",
   "execution_count": null,
   "metadata": {},
   "outputs": [
    {
     "data": {
      "text/plain": [
       "<Response [200]>"
      ]
     },
     "execution_count": 42,
     "metadata": {},
     "output_type": "execute_result"
    }
   ],
   "source": [
    "params = {\n",
    "  \"service\": \"wfs\",\n",
    "  \"version\": \"2.0.0\",\n",
    "  \"request\": \"GetFeature\",\n",
    "  \"typeNames\": \"ADMIN:candi_di_jawa_tengah_330020220822074546\",\n",
    "  \"outputFormat\": \"csv\",\n",
    "  \"propertyName\": \",\".join([\n",
    "    \"namaobj\",\n",
    "    \"alamat\",\n",
    "    \"wkb_geometry\",\n",
    "  ]),\n",
    "  \"bbox\": \",\".join([\n",
    "    \"100\",\n",
    "    \"-10\",\n",
    "    \"120\",\n",
    "    \"-0\"\n",
    "  ])\n",
    "}\n",
    "\n",
    "response = requests.get(WFS_BASE_URL, params=params, stream=True)\n",
    "\n",
    "response"
   ]
  },
  {
   "cell_type": "code",
   "execution_count": 43,
   "metadata": {},
   "outputs": [
    {
     "name": "stdout",
     "output_type": "stream",
     "text": [
      "FID,wkb_geometry,namaobj,alamat\n",
      "\n"
     ]
    }
   ],
   "source": [
    "print(response.text)"
   ]
  },
  {
   "cell_type": "code",
   "execution_count": null,
   "metadata": {},
   "outputs": [],
   "source": []
  }
 ],
 "metadata": {
  "kernelspec": {
   "display_name": "venv",
   "language": "python",
   "name": "python3"
  },
  "language_info": {
   "codemirror_mode": {
    "name": "ipython",
    "version": 3
   },
   "file_extension": ".py",
   "mimetype": "text/x-python",
   "name": "python",
   "nbconvert_exporter": "python",
   "pygments_lexer": "ipython3",
   "version": "3.12.6"
  }
 },
 "nbformat": 4,
 "nbformat_minor": 2
}
