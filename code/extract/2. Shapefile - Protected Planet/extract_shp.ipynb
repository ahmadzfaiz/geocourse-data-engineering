{
 "cells": [
  {
   "cell_type": "code",
   "execution_count": 1,
   "metadata": {},
   "outputs": [],
   "source": [
    "import requests"
   ]
  },
  {
   "cell_type": "code",
   "execution_count": 6,
   "metadata": {},
   "outputs": [],
   "source": [
    "def get_data(country):\n",
    "  source_domain = \"https://d1gam3xoknrgr2.cloudfront.net/\"\n",
    "  source_url = f\"{source_domain}current/WDPA_WDOECM_Feb2025_Public_{country}_shp.zip\"\n",
    "  return requests.get(source_url)"
   ]
  },
  {
   "cell_type": "code",
   "execution_count": null,
   "metadata": {},
   "outputs": [
    {
     "name": "stdout",
     "output_type": "stream",
     "text": [
      "Processing SGP\n",
      "Processing BRN\n",
      "Processing TLS\n"
     ]
    }
   ],
   "source": [
    "countries = [\"SGP\", \"BRN\", \"TLS\"]\n",
    "\n",
    "for country in countries:\n",
    "  print(f\"Processing {country}\")\n",
    "  response = get_data(country)\n",
    "  with open(f\"../output/PA_{country}.zip\", \"wb\") as file:\n",
    "    file.write(response.content)"
   ]
  },
  {
   "cell_type": "code",
   "execution_count": null,
   "metadata": {},
   "outputs": [],
   "source": []
  }
 ],
 "metadata": {
  "kernelspec": {
   "display_name": "venv",
   "language": "python",
   "name": "python3"
  },
  "language_info": {
   "codemirror_mode": {
    "name": "ipython",
    "version": 3
   },
   "file_extension": ".py",
   "mimetype": "text/x-python",
   "name": "python",
   "nbconvert_exporter": "python",
   "pygments_lexer": "ipython3",
   "version": "3.13.2"
  }
 },
 "nbformat": 4,
 "nbformat_minor": 2
}
