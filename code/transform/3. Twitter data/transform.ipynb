{
 "cells": [
  {
   "cell_type": "code",
   "execution_count": 475,
   "metadata": {},
   "outputs": [],
   "source": [
    "import os\n",
    "import csv\n",
    "import json\n",
    "import numpy as np\n",
    "import pandas as pd\n",
    "import geopandas as gpd\n",
    "import pycountry\n",
    "from datetime import datetime\n",
    "from pprint import pprint\n",
    "from shapely.geometry import box"
   ]
  },
  {
   "cell_type": "markdown",
   "metadata": {},
   "source": [
    "## Tempo tweet"
   ]
  },
  {
   "cell_type": "code",
   "execution_count": 2,
   "metadata": {},
   "outputs": [],
   "source": [
    "file_path = \"../../extract/output/twitter_tweet_tempodotco.json\""
   ]
  },
  {
   "cell_type": "code",
   "execution_count": 3,
   "metadata": {},
   "outputs": [
    {
     "data": {
      "text/html": [
       "<div>\n",
       "<style scoped>\n",
       "    .dataframe tbody tr th:only-of-type {\n",
       "        vertical-align: middle;\n",
       "    }\n",
       "\n",
       "    .dataframe tbody tr th {\n",
       "        vertical-align: top;\n",
       "    }\n",
       "\n",
       "    .dataframe thead th {\n",
       "        text-align: right;\n",
       "    }\n",
       "</style>\n",
       "<table border=\"1\" class=\"dataframe\">\n",
       "  <thead>\n",
       "    <tr style=\"text-align: right;\">\n",
       "      <th></th>\n",
       "      <th>data</th>\n",
       "    </tr>\n",
       "  </thead>\n",
       "  <tbody>\n",
       "    <tr>\n",
       "      <th>text</th>\n",
       "      <td>#TempoThread\\n\\nDanantara adalah kapitalisme a...</td>\n",
       "    </tr>\n",
       "    <tr>\n",
       "      <th>id</th>\n",
       "      <td>1892923628037021960</td>\n",
       "    </tr>\n",
       "    <tr>\n",
       "      <th>edit_history_tweet_ids</th>\n",
       "      <td>[1892923628037021960]</td>\n",
       "    </tr>\n",
       "  </tbody>\n",
       "</table>\n",
       "</div>"
      ],
      "text/plain": [
       "                                                                     data\n",
       "text                    #TempoThread\\n\\nDanantara adalah kapitalisme a...\n",
       "id                                                    1892923628037021960\n",
       "edit_history_tweet_ids                              [1892923628037021960]"
      ]
     },
     "execution_count": 3,
     "metadata": {},
     "output_type": "execute_result"
    }
   ],
   "source": [
    "pd.read_json(file_path)"
   ]
  },
  {
   "cell_type": "markdown",
   "metadata": {},
   "source": [
    "### Word cleaning"
   ]
  },
  {
   "cell_type": "code",
   "execution_count": 4,
   "metadata": {},
   "outputs": [],
   "source": [
    "with open(file_path, \"r\") as f:\n",
    "  data = json.loads(f.read())"
   ]
  },
  {
   "cell_type": "code",
   "execution_count": 5,
   "metadata": {},
   "outputs": [
    {
     "data": {
      "text/plain": [
       "{'data': {'text': '#TempoThread\\n\\nDanantara adalah kapitalisme ala Prabowo, sebuah langkah ambisius untuk mewujudkan cita-cita ayahnya yang sudah dirancang sejak 1980-an.\\n\\nA Thread https://t.co/nUHckLhqrS',\n",
       "  'id': '1892923628037021960',\n",
       "  'edit_history_tweet_ids': ['1892923628037021960']}}"
      ]
     },
     "execution_count": 5,
     "metadata": {},
     "output_type": "execute_result"
    }
   ],
   "source": [
    "data"
   ]
  },
  {
   "cell_type": "code",
   "execution_count": 6,
   "metadata": {},
   "outputs": [
    {
     "data": {
      "text/plain": [
       "{'text': '#TempoThread\\n\\nDanantara adalah kapitalisme ala Prabowo, sebuah langkah ambisius untuk mewujudkan cita-cita ayahnya yang sudah dirancang sejak 1980-an.\\n\\nA Thread https://t.co/nUHckLhqrS',\n",
       " 'id': '1892923628037021960',\n",
       " 'edit_history_tweet_ids': ['1892923628037021960']}"
      ]
     },
     "execution_count": 6,
     "metadata": {},
     "output_type": "execute_result"
    }
   ],
   "source": [
    "data[\"data\"]"
   ]
  },
  {
   "cell_type": "code",
   "execution_count": 7,
   "metadata": {},
   "outputs": [
    {
     "data": {
      "text/plain": [
       "'#TempoThread\\n\\nDanantara adalah kapitalisme ala Prabowo, sebuah langkah ambisius untuk mewujudkan cita-cita ayahnya yang sudah dirancang sejak 1980-an.\\n\\nA Thread https://t.co/nUHckLhqrS'"
      ]
     },
     "execution_count": 7,
     "metadata": {},
     "output_type": "execute_result"
    }
   ],
   "source": [
    "text = data[\"data\"][\"text\"]\n",
    "\n",
    "text"
   ]
  },
  {
   "cell_type": "code",
   "execution_count": 8,
   "metadata": {},
   "outputs": [
    {
     "data": {
      "text/plain": [
       "['#TempoThread',\n",
       " 'Danantara',\n",
       " 'adalah',\n",
       " 'kapitalisme',\n",
       " 'ala',\n",
       " 'Prabowo,',\n",
       " 'sebuah',\n",
       " 'langkah',\n",
       " 'ambisius',\n",
       " 'untuk',\n",
       " 'mewujudkan',\n",
       " 'cita-cita',\n",
       " 'ayahnya',\n",
       " 'yang',\n",
       " 'sudah',\n",
       " 'dirancang',\n",
       " 'sejak',\n",
       " '1980-an.',\n",
       " 'A',\n",
       " 'Thread',\n",
       " 'https://t.co/nUHckLhqrS']"
      ]
     },
     "execution_count": 8,
     "metadata": {},
     "output_type": "execute_result"
    }
   ],
   "source": [
    "raw_words = text.split()\n",
    "\n",
    "raw_words"
   ]
  },
  {
   "cell_type": "code",
   "execution_count": 9,
   "metadata": {},
   "outputs": [
    {
     "data": {
      "text/plain": [
       "'Prabowo,'"
      ]
     },
     "execution_count": 9,
     "metadata": {},
     "output_type": "execute_result"
    }
   ],
   "source": [
    "raw_words[5]"
   ]
  },
  {
   "cell_type": "code",
   "execution_count": 10,
   "metadata": {},
   "outputs": [
    {
     "data": {
      "text/plain": [
       "['#TempoThread',\n",
       " 'Danantara',\n",
       " 'adalah',\n",
       " 'kapitalisme',\n",
       " 'ala',\n",
       " 'Prabowo',\n",
       " 'sebuah',\n",
       " 'langkah',\n",
       " 'ambisius',\n",
       " 'untuk',\n",
       " 'mewujudkan',\n",
       " 'cita-cita',\n",
       " 'ayahnya',\n",
       " 'yang',\n",
       " 'sudah',\n",
       " 'dirancang',\n",
       " 'sejak',\n",
       " '1980-an',\n",
       " 'A',\n",
       " 'Thread',\n",
       " 'https://t.co/nUHckLhqrS']"
      ]
     },
     "execution_count": 10,
     "metadata": {},
     "output_type": "execute_result"
    }
   ],
   "source": [
    "cleaned_words = [word.rstrip(',.') for word in raw_words]\n",
    "\n",
    "cleaned_words"
   ]
  },
  {
   "cell_type": "code",
   "execution_count": 11,
   "metadata": {},
   "outputs": [
    {
     "data": {
      "text/plain": [
       "'Prabowo'"
      ]
     },
     "execution_count": 11,
     "metadata": {},
     "output_type": "execute_result"
    }
   ],
   "source": [
    "cleaned_words[5]"
   ]
  },
  {
   "cell_type": "code",
   "execution_count": 12,
   "metadata": {},
   "outputs": [
    {
     "data": {
      "text/plain": [
       "21"
      ]
     },
     "execution_count": 12,
     "metadata": {},
     "output_type": "execute_result"
    }
   ],
   "source": [
    "len(cleaned_words)"
   ]
  },
  {
   "cell_type": "markdown",
   "metadata": {},
   "source": [
    "### Create datetime"
   ]
  },
  {
   "cell_type": "code",
   "execution_count": 13,
   "metadata": {},
   "outputs": [
    {
     "data": {
      "text/plain": [
       "1740588991.929889"
      ]
     },
     "execution_count": 13,
     "metadata": {},
     "output_type": "execute_result"
    }
   ],
   "source": [
    "created_time = os.path.getctime(file_path)\n",
    "\n",
    "created_time"
   ]
  },
  {
   "cell_type": "code",
   "execution_count": 14,
   "metadata": {},
   "outputs": [
    {
     "data": {
      "text/plain": [
       "datetime.datetime(2025, 2, 26, 23, 56, 31, 929889)"
      ]
     },
     "execution_count": 14,
     "metadata": {},
     "output_type": "execute_result"
    }
   ],
   "source": [
    "created_dt = datetime.fromtimestamp(created_time)\n",
    "\n",
    "created_dt"
   ]
  },
  {
   "cell_type": "markdown",
   "metadata": {},
   "source": [
    "### Save clean data"
   ]
  },
  {
   "cell_type": "code",
   "execution_count": 15,
   "metadata": {},
   "outputs": [],
   "source": [
    "new_data = {\n",
    "  \"tweet_id\": data[\"data\"][\"id\"],\n",
    "  \"word_count\": len(cleaned_words),\n",
    "  \"words\": cleaned_words,\n",
    "  \"created_at\": str(created_dt),\n",
    "}"
   ]
  },
  {
   "cell_type": "code",
   "execution_count": 16,
   "metadata": {},
   "outputs": [],
   "source": [
    "with open(\"output/word_counts_tempodotco.csv\", \"w\", newline=\"\", encoding=\"utf-8\") as f:\n",
    "  field_names = [\"tweet_id\", \"word_count\", \"words\", \"created_at\"]\n",
    "  writer = csv.DictWriter(f, fieldnames=field_names)\n",
    "\n",
    "  if f.tell() == 0:\n",
    "    writer.writeheader()\n",
    "\n",
    "  writer.writerow(new_data)"
   ]
  },
  {
   "cell_type": "code",
   "execution_count": 17,
   "metadata": {},
   "outputs": [
    {
     "data": {
      "text/html": [
       "<div>\n",
       "<style scoped>\n",
       "    .dataframe tbody tr th:only-of-type {\n",
       "        vertical-align: middle;\n",
       "    }\n",
       "\n",
       "    .dataframe tbody tr th {\n",
       "        vertical-align: top;\n",
       "    }\n",
       "\n",
       "    .dataframe thead th {\n",
       "        text-align: right;\n",
       "    }\n",
       "</style>\n",
       "<table border=\"1\" class=\"dataframe\">\n",
       "  <thead>\n",
       "    <tr style=\"text-align: right;\">\n",
       "      <th></th>\n",
       "      <th>tweet_id</th>\n",
       "      <th>word_count</th>\n",
       "      <th>words</th>\n",
       "      <th>created_at</th>\n",
       "    </tr>\n",
       "  </thead>\n",
       "  <tbody>\n",
       "    <tr>\n",
       "      <th>0</th>\n",
       "      <td>1892923628037021960</td>\n",
       "      <td>21</td>\n",
       "      <td>['#TempoThread', 'Danantara', 'adalah', 'kapit...</td>\n",
       "      <td>2025-02-26 23:56:31.929889</td>\n",
       "    </tr>\n",
       "  </tbody>\n",
       "</table>\n",
       "</div>"
      ],
      "text/plain": [
       "              tweet_id  word_count  \\\n",
       "0  1892923628037021960          21   \n",
       "\n",
       "                                               words  \\\n",
       "0  ['#TempoThread', 'Danantara', 'adalah', 'kapit...   \n",
       "\n",
       "                   created_at  \n",
       "0  2025-02-26 23:56:31.929889  "
      ]
     },
     "execution_count": 17,
     "metadata": {},
     "output_type": "execute_result"
    }
   ],
   "source": [
    "df = pd.read_csv(\"output/word_counts_tempodotco.csv\")\n",
    "\n",
    "df"
   ]
  },
  {
   "cell_type": "code",
   "execution_count": 18,
   "metadata": {},
   "outputs": [
    {
     "name": "stdout",
     "output_type": "stream",
     "text": [
      "<class 'pandas.core.frame.DataFrame'>\n",
      "RangeIndex: 1 entries, 0 to 0\n",
      "Data columns (total 4 columns):\n",
      " #   Column      Non-Null Count  Dtype \n",
      "---  ------      --------------  ----- \n",
      " 0   tweet_id    1 non-null      int64 \n",
      " 1   word_count  1 non-null      int64 \n",
      " 2   words       1 non-null      object\n",
      " 3   created_at  1 non-null      object\n",
      "dtypes: int64(2), object(2)\n",
      "memory usage: 164.0+ bytes\n"
     ]
    }
   ],
   "source": [
    "df.info()"
   ]
  },
  {
   "cell_type": "code",
   "execution_count": 19,
   "metadata": {},
   "outputs": [],
   "source": [
    "with open(\"output/word_counts_tempodotco.json\", \"w\", encoding=\"utf-8\") as f:\n",
    "  f.write(json.dumps(new_data, indent=2))"
   ]
  },
  {
   "cell_type": "code",
   "execution_count": 21,
   "metadata": {},
   "outputs": [
    {
     "data": {
      "text/html": [
       "<div>\n",
       "<style scoped>\n",
       "    .dataframe tbody tr th:only-of-type {\n",
       "        vertical-align: middle;\n",
       "    }\n",
       "\n",
       "    .dataframe tbody tr th {\n",
       "        vertical-align: top;\n",
       "    }\n",
       "\n",
       "    .dataframe thead th {\n",
       "        text-align: right;\n",
       "    }\n",
       "</style>\n",
       "<table border=\"1\" class=\"dataframe\">\n",
       "  <thead>\n",
       "    <tr style=\"text-align: right;\">\n",
       "      <th></th>\n",
       "      <th>tweet_id</th>\n",
       "      <th>word_count</th>\n",
       "      <th>words</th>\n",
       "      <th>created_at</th>\n",
       "    </tr>\n",
       "  </thead>\n",
       "  <tbody>\n",
       "    <tr>\n",
       "      <th>0</th>\n",
       "      <td>1892923628037021952</td>\n",
       "      <td>21</td>\n",
       "      <td>#TempoThread</td>\n",
       "      <td>2025-02-26 23:56:31.929889</td>\n",
       "    </tr>\n",
       "    <tr>\n",
       "      <th>1</th>\n",
       "      <td>1892923628037021952</td>\n",
       "      <td>21</td>\n",
       "      <td>Danantara</td>\n",
       "      <td>2025-02-26 23:56:31.929889</td>\n",
       "    </tr>\n",
       "    <tr>\n",
       "      <th>2</th>\n",
       "      <td>1892923628037021952</td>\n",
       "      <td>21</td>\n",
       "      <td>adalah</td>\n",
       "      <td>2025-02-26 23:56:31.929889</td>\n",
       "    </tr>\n",
       "    <tr>\n",
       "      <th>3</th>\n",
       "      <td>1892923628037021952</td>\n",
       "      <td>21</td>\n",
       "      <td>kapitalisme</td>\n",
       "      <td>2025-02-26 23:56:31.929889</td>\n",
       "    </tr>\n",
       "    <tr>\n",
       "      <th>4</th>\n",
       "      <td>1892923628037021952</td>\n",
       "      <td>21</td>\n",
       "      <td>ala</td>\n",
       "      <td>2025-02-26 23:56:31.929889</td>\n",
       "    </tr>\n",
       "  </tbody>\n",
       "</table>\n",
       "</div>"
      ],
      "text/plain": [
       "              tweet_id  word_count         words                 created_at\n",
       "0  1892923628037021952          21  #TempoThread 2025-02-26 23:56:31.929889\n",
       "1  1892923628037021952          21     Danantara 2025-02-26 23:56:31.929889\n",
       "2  1892923628037021952          21        adalah 2025-02-26 23:56:31.929889\n",
       "3  1892923628037021952          21   kapitalisme 2025-02-26 23:56:31.929889\n",
       "4  1892923628037021952          21           ala 2025-02-26 23:56:31.929889"
      ]
     },
     "execution_count": 21,
     "metadata": {},
     "output_type": "execute_result"
    }
   ],
   "source": [
    "df2 = pd.read_json(\"output/word_counts_tempodotco.json\")\n",
    "\n",
    "df2.head()"
   ]
  },
  {
   "cell_type": "code",
   "execution_count": 22,
   "metadata": {},
   "outputs": [
    {
     "name": "stdout",
     "output_type": "stream",
     "text": [
      "<class 'pandas.core.frame.DataFrame'>\n",
      "RangeIndex: 21 entries, 0 to 20\n",
      "Data columns (total 4 columns):\n",
      " #   Column      Non-Null Count  Dtype         \n",
      "---  ------      --------------  -----         \n",
      " 0   tweet_id    21 non-null     int64         \n",
      " 1   word_count  21 non-null     int64         \n",
      " 2   words       21 non-null     object        \n",
      " 3   created_at  21 non-null     datetime64[ns]\n",
      "dtypes: datetime64[ns](1), int64(2), object(1)\n",
      "memory usage: 804.0+ bytes\n"
     ]
    }
   ],
   "source": [
    "df2.info()"
   ]
  },
  {
   "cell_type": "markdown",
   "metadata": {},
   "source": [
    "## Ferry Irwandy tweet"
   ]
  },
  {
   "cell_type": "markdown",
   "metadata": {},
   "source": [
    "Data cleaning with only python"
   ]
  },
  {
   "cell_type": "code",
   "execution_count": 347,
   "metadata": {},
   "outputs": [],
   "source": [
    "file_path = \"../../extract/output/twitter_tweet_irwndfrry.json\""
   ]
  },
  {
   "cell_type": "code",
   "execution_count": 348,
   "metadata": {},
   "outputs": [
    {
     "data": {
      "text/html": [
       "<div>\n",
       "<style scoped>\n",
       "    .dataframe tbody tr th:only-of-type {\n",
       "        vertical-align: middle;\n",
       "    }\n",
       "\n",
       "    .dataframe tbody tr th {\n",
       "        vertical-align: top;\n",
       "    }\n",
       "\n",
       "    .dataframe thead th {\n",
       "        text-align: right;\n",
       "    }\n",
       "</style>\n",
       "<table border=\"1\" class=\"dataframe\">\n",
       "  <thead>\n",
       "    <tr style=\"text-align: right;\">\n",
       "      <th></th>\n",
       "      <th>data</th>\n",
       "      <th>includes</th>\n",
       "    </tr>\n",
       "  </thead>\n",
       "  <tbody>\n",
       "    <tr>\n",
       "      <th>referenced_tweets</th>\n",
       "      <td>[{'type': 'quoted', 'id': '1890992087614808342'}]</td>\n",
       "      <td>NaN</td>\n",
       "    </tr>\n",
       "    <tr>\n",
       "      <th>entities</th>\n",
       "      <td>{'urls': [{'start': 276, 'end': 299, 'url': 'h...</td>\n",
       "      <td>NaN</td>\n",
       "    </tr>\n",
       "    <tr>\n",
       "      <th>text</th>\n",
       "      <td>Banyak yang minta jelasin soal Danatara ini, o...</td>\n",
       "      <td>NaN</td>\n",
       "    </tr>\n",
       "    <tr>\n",
       "      <th>id</th>\n",
       "      <td>1891503790353760292</td>\n",
       "      <td>NaN</td>\n",
       "    </tr>\n",
       "    <tr>\n",
       "      <th>edit_history_tweet_ids</th>\n",
       "      <td>[1891503790353760292]</td>\n",
       "      <td>NaN</td>\n",
       "    </tr>\n",
       "    <tr>\n",
       "      <th>possibly_sensitive</th>\n",
       "      <td>False</td>\n",
       "      <td>NaN</td>\n",
       "    </tr>\n",
       "    <tr>\n",
       "      <th>created_at</th>\n",
       "      <td>2025-02-17T15:03:40.000Z</td>\n",
       "      <td>NaN</td>\n",
       "    </tr>\n",
       "    <tr>\n",
       "      <th>context_annotations</th>\n",
       "      <td>[{'domain': {'id': '46', 'name': 'Business Tax...</td>\n",
       "      <td>NaN</td>\n",
       "    </tr>\n",
       "    <tr>\n",
       "      <th>author_id</th>\n",
       "      <td>251088685</td>\n",
       "      <td>NaN</td>\n",
       "    </tr>\n",
       "    <tr>\n",
       "      <th>public_metrics</th>\n",
       "      <td>{'retweet_count': 36062, 'reply_count': 1299, ...</td>\n",
       "      <td>NaN</td>\n",
       "    </tr>\n",
       "    <tr>\n",
       "      <th>lang</th>\n",
       "      <td>in</td>\n",
       "      <td>NaN</td>\n",
       "    </tr>\n",
       "    <tr>\n",
       "      <th>tweets</th>\n",
       "      <td>NaN</td>\n",
       "      <td>[{'attachments': {'media_keys': ['3_1890991719...</td>\n",
       "    </tr>\n",
       "  </tbody>\n",
       "</table>\n",
       "</div>"
      ],
      "text/plain": [
       "                                                                     data  \\\n",
       "referenced_tweets       [{'type': 'quoted', 'id': '1890992087614808342'}]   \n",
       "entities                {'urls': [{'start': 276, 'end': 299, 'url': 'h...   \n",
       "text                    Banyak yang minta jelasin soal Danatara ini, o...   \n",
       "id                                                    1891503790353760292   \n",
       "edit_history_tweet_ids                              [1891503790353760292]   \n",
       "possibly_sensitive                                                  False   \n",
       "created_at                                       2025-02-17T15:03:40.000Z   \n",
       "context_annotations     [{'domain': {'id': '46', 'name': 'Business Tax...   \n",
       "author_id                                                       251088685   \n",
       "public_metrics          {'retweet_count': 36062, 'reply_count': 1299, ...   \n",
       "lang                                                                   in   \n",
       "tweets                                                                NaN   \n",
       "\n",
       "                                                                 includes  \n",
       "referenced_tweets                                                     NaN  \n",
       "entities                                                              NaN  \n",
       "text                                                                  NaN  \n",
       "id                                                                    NaN  \n",
       "edit_history_tweet_ids                                                NaN  \n",
       "possibly_sensitive                                                    NaN  \n",
       "created_at                                                            NaN  \n",
       "context_annotations                                                   NaN  \n",
       "author_id                                                             NaN  \n",
       "public_metrics                                                        NaN  \n",
       "lang                                                                  NaN  \n",
       "tweets                  [{'attachments': {'media_keys': ['3_1890991719...  "
      ]
     },
     "execution_count": 348,
     "metadata": {},
     "output_type": "execute_result"
    }
   ],
   "source": [
    "pd.read_json(file_path)"
   ]
  },
  {
   "cell_type": "code",
   "execution_count": 349,
   "metadata": {},
   "outputs": [],
   "source": [
    "with open(file_path, \"r\") as f:\n",
    "  data = json.loads(f.read())"
   ]
  },
  {
   "cell_type": "code",
   "execution_count": 350,
   "metadata": {},
   "outputs": [
    {
     "data": {
      "text/plain": [
       "{'referenced_tweets': [{'type': 'quoted', 'id': '1890992087614808342'}],\n",
       " 'entities': {'urls': [{'start': 276,\n",
       "    'end': 299,\n",
       "    'url': 'https://t.co/qqZBckrWoi',\n",
       "    'expanded_url': 'https://twitter.com/tempodotco/status/1890992087614808342',\n",
       "    'display_url': 'x.com/tempodotco/sta…'}]},\n",
       " 'text': 'Banyak yang minta jelasin soal Danatara ini, oke tak jelasin dgn simpel, simak dgn santai , ya\\n\\ndulu BUMN kalau dapat dividen, sebagian dividennya dikasih ke APBN terus duitnya dipake buat belanja\\n\\nNah sekarang Danantara, duitnya gak dipake lgsg untuk belanja, tapi investasi https://t.co/qqZBckrWoi',\n",
       " 'id': '1891503790353760292',\n",
       " 'edit_history_tweet_ids': ['1891503790353760292'],\n",
       " 'possibly_sensitive': False,\n",
       " 'created_at': '2025-02-17T15:03:40.000Z',\n",
       " 'context_annotations': [{'domain': {'id': '46',\n",
       "    'name': 'Business Taxonomy',\n",
       "    'description': 'Categories within Brand Verticals that narrow down the scope of Brands'},\n",
       "   'entity': {'id': '1557696848252391426',\n",
       "    'name': 'Financial Services Business',\n",
       "    'description': 'Brands, companies, advertisers and every non-person handle with the profit intent related to Banks, Credit cards, Insurance, Investments, Stocks '}},\n",
       "  {'domain': {'id': '46',\n",
       "    'name': 'Business Taxonomy',\n",
       "    'description': 'Categories within Brand Verticals that narrow down the scope of Brands'},\n",
       "   'entity': {'id': '1557697218248773632',\n",
       "    'name': 'Retail Business',\n",
       "    'description': 'Brands, companies, advertisers and every non-person handle with the profit intent focused on selling multiple brands such as supermarkets, stores, resellers, delivery apps'}},\n",
       "  {'domain': {'id': '88',\n",
       "    'name': 'Political Body',\n",
       "    'description': 'A section of a government, like The Supreme Court'},\n",
       "   'entity': {'id': '1536331416954253312',\n",
       "    'name': 'Ministry of State Owned Enterprises'}},\n",
       "  {'domain': {'id': '131',\n",
       "    'name': 'Unified Twitter Taxonomy',\n",
       "    'description': 'A taxonomy of user interests. '},\n",
       "   'entity': {'id': '1095391406816784384',\n",
       "    'name': 'Shopping',\n",
       "    'description': 'Shopping'}},\n",
       "  {'domain': {'id': '131',\n",
       "    'name': 'Unified Twitter Taxonomy',\n",
       "    'description': 'A taxonomy of user interests. '},\n",
       "   'entity': {'id': '1536331416954253312',\n",
       "    'name': 'Ministry of State Owned Enterprises'}}],\n",
       " 'author_id': '251088685',\n",
       " 'public_metrics': {'retweet_count': 36062,\n",
       "  'reply_count': 1299,\n",
       "  'like_count': 99718,\n",
       "  'quote_count': 1619,\n",
       "  'bookmark_count': 35057,\n",
       "  'impression_count': 5761847},\n",
       " 'lang': 'in'}"
      ]
     },
     "execution_count": 350,
     "metadata": {},
     "output_type": "execute_result"
    }
   ],
   "source": [
    "data[\"data\"]"
   ]
  },
  {
   "cell_type": "code",
   "execution_count": 351,
   "metadata": {},
   "outputs": [
    {
     "data": {
      "text/plain": [
       "{'tweets': [{'attachments': {'media_keys': ['3_1890991719925350400']},\n",
       "   'entities': {'hashtags': [{'start': 190, 'end': 201, 'tag': 'Tempodotco'},\n",
       "     {'start': 202, 'end': 212, 'tag': 'TempoPlus'}],\n",
       "    'urls': [{'start': 213,\n",
       "      'end': 236,\n",
       "      'url': 'https://t.co/O9f1JbLDBa',\n",
       "      'expanded_url': 'https://x.com/tempodotco/status/1890992087614808342/photo/1',\n",
       "      'display_url': 'pic.x.com/O9f1JbLDBa',\n",
       "      'media_key': '3_1890991719925350400'}]},\n",
       "   'text': 'Bagi Prabowo, Danantara adalah proyek historis.\\n\\nAyahnya, Sumitro Djojohadikusumo, punya ide membangun sebuah lembaga pengelola 1-5 persen laba Badan Usaha Milik Negara pada akhir 1980-an.\\n\\n#Tempodotco #TempoPlus https://t.co/O9f1JbLDBa',\n",
       "   'id': '1890992087614808342',\n",
       "   'edit_history_tweet_ids': ['1890992087614808342'],\n",
       "   'possibly_sensitive': False,\n",
       "   'created_at': '2025-02-16T05:10:21.000Z',\n",
       "   'context_annotations': [{'domain': {'id': '47',\n",
       "      'name': 'Brand',\n",
       "      'description': 'Brands and Companies'},\n",
       "     'entity': {'id': '1194281356999573504',\n",
       "      'name': 'Tempo',\n",
       "      'description': 'an Indonesian weekly magazine that covers news and politics'}},\n",
       "    {'domain': {'id': '88',\n",
       "      'name': 'Political Body',\n",
       "      'description': 'A section of a government, like The Supreme Court'},\n",
       "     'entity': {'id': '1536331416954253312',\n",
       "      'name': 'Ministry of State Owned Enterprises'}},\n",
       "    {'domain': {'id': '131',\n",
       "      'name': 'Unified Twitter Taxonomy',\n",
       "      'description': 'A taxonomy of user interests. '},\n",
       "     'entity': {'id': '1536331416954253312',\n",
       "      'name': 'Ministry of State Owned Enterprises'}},\n",
       "    {'domain': {'id': '69',\n",
       "      'name': 'News Vertical',\n",
       "      'description': 'News Categories like Entertainment or Technology'},\n",
       "     'entity': {'id': '1328727386934820865',\n",
       "      'name': 'Indonesia national news'}},\n",
       "    {'domain': {'id': '131',\n",
       "      'name': 'Unified Twitter Taxonomy',\n",
       "      'description': 'A taxonomy of user interests. '},\n",
       "     'entity': {'id': '1328727386934820865',\n",
       "      'name': 'Indonesia national news'}}],\n",
       "   'author_id': '18129942',\n",
       "   'public_metrics': {'retweet_count': 4343,\n",
       "    'reply_count': 203,\n",
       "    'like_count': 9551,\n",
       "    'quote_count': 790,\n",
       "    'bookmark_count': 2165,\n",
       "    'impression_count': 5823610},\n",
       "   'lang': 'in'}]}"
      ]
     },
     "execution_count": 351,
     "metadata": {},
     "output_type": "execute_result"
    }
   ],
   "source": [
    "data[\"includes\"]"
   ]
  },
  {
   "cell_type": "markdown",
   "metadata": {},
   "source": [
    "### Word cleaning"
   ]
  },
  {
   "cell_type": "code",
   "execution_count": 352,
   "metadata": {},
   "outputs": [
    {
     "data": {
      "text/plain": [
       "['Banyak',\n",
       " 'yang',\n",
       " 'minta',\n",
       " 'jelasin',\n",
       " 'soal',\n",
       " 'Danatara',\n",
       " 'ini,',\n",
       " 'oke',\n",
       " 'tak',\n",
       " 'jelasin',\n",
       " 'dgn',\n",
       " 'simpel,',\n",
       " 'simak',\n",
       " 'dgn',\n",
       " 'santai',\n",
       " ',',\n",
       " 'ya',\n",
       " 'dulu',\n",
       " 'BUMN',\n",
       " 'kalau',\n",
       " 'dapat',\n",
       " 'dividen,',\n",
       " 'sebagian',\n",
       " 'dividennya',\n",
       " 'dikasih',\n",
       " 'ke',\n",
       " 'APBN',\n",
       " 'terus',\n",
       " 'duitnya',\n",
       " 'dipake',\n",
       " 'buat',\n",
       " 'belanja',\n",
       " 'Nah',\n",
       " 'sekarang',\n",
       " 'Danantara,',\n",
       " 'duitnya',\n",
       " 'gak',\n",
       " 'dipake',\n",
       " 'lgsg',\n",
       " 'untuk',\n",
       " 'belanja,',\n",
       " 'tapi',\n",
       " 'investasi',\n",
       " 'https://t.co/qqZBckrWoi']"
      ]
     },
     "execution_count": 352,
     "metadata": {},
     "output_type": "execute_result"
    }
   ],
   "source": [
    "text = data[\"data\"][\"text\"]\n",
    "raw_words = text.split()\n",
    "\n",
    "raw_words"
   ]
  },
  {
   "cell_type": "code",
   "execution_count": 353,
   "metadata": {},
   "outputs": [
    {
     "data": {
      "text/plain": [
       "['Banyak',\n",
       " 'yang',\n",
       " 'minta',\n",
       " 'jelasin',\n",
       " 'soal',\n",
       " 'Danatara',\n",
       " 'ini',\n",
       " 'oke',\n",
       " 'tak',\n",
       " 'jelasin',\n",
       " 'dgn',\n",
       " 'simpel',\n",
       " 'simak',\n",
       " 'dgn',\n",
       " 'santai',\n",
       " '',\n",
       " 'ya',\n",
       " 'dulu',\n",
       " 'BUMN',\n",
       " 'kalau',\n",
       " 'dapat',\n",
       " 'dividen',\n",
       " 'sebagian',\n",
       " 'dividennya',\n",
       " 'dikasih',\n",
       " 'ke',\n",
       " 'APBN',\n",
       " 'terus',\n",
       " 'duitnya',\n",
       " 'dipake',\n",
       " 'buat',\n",
       " 'belanja',\n",
       " 'Nah',\n",
       " 'sekarang',\n",
       " 'Danantara',\n",
       " 'duitnya',\n",
       " 'gak',\n",
       " 'dipake',\n",
       " 'lgsg',\n",
       " 'untuk',\n",
       " 'belanja',\n",
       " 'tapi',\n",
       " 'investasi',\n",
       " 'https://t.co/qqZBckrWoi']"
      ]
     },
     "execution_count": 353,
     "metadata": {},
     "output_type": "execute_result"
    }
   ],
   "source": [
    "uncleaned_words = [word.rstrip(',.') for word in raw_words]\n",
    "\n",
    "uncleaned_words"
   ]
  },
  {
   "cell_type": "code",
   "execution_count": 354,
   "metadata": {},
   "outputs": [
    {
     "data": {
      "text/plain": [
       "''"
      ]
     },
     "execution_count": 354,
     "metadata": {},
     "output_type": "execute_result"
    }
   ],
   "source": [
    "uncleaned_words[15]"
   ]
  },
  {
   "cell_type": "code",
   "execution_count": 355,
   "metadata": {},
   "outputs": [
    {
     "data": {
      "text/plain": [
       "['Banyak',\n",
       " 'yang',\n",
       " 'minta',\n",
       " 'jelasin',\n",
       " 'soal',\n",
       " 'Danatara',\n",
       " 'ini',\n",
       " 'oke',\n",
       " 'tak',\n",
       " 'jelasin',\n",
       " 'dgn',\n",
       " 'simpel',\n",
       " 'simak',\n",
       " 'dgn',\n",
       " 'santai',\n",
       " 'ya',\n",
       " 'dulu',\n",
       " 'BUMN',\n",
       " 'kalau',\n",
       " 'dapat',\n",
       " 'dividen',\n",
       " 'sebagian',\n",
       " 'dividennya',\n",
       " 'dikasih',\n",
       " 'ke',\n",
       " 'APBN',\n",
       " 'terus',\n",
       " 'duitnya',\n",
       " 'dipake',\n",
       " 'buat',\n",
       " 'belanja',\n",
       " 'Nah',\n",
       " 'sekarang',\n",
       " 'Danantara',\n",
       " 'duitnya',\n",
       " 'gak',\n",
       " 'dipake',\n",
       " 'lgsg',\n",
       " 'untuk',\n",
       " 'belanja',\n",
       " 'tapi',\n",
       " 'investasi',\n",
       " 'https://t.co/qqZBckrWoi']"
      ]
     },
     "execution_count": 355,
     "metadata": {},
     "output_type": "execute_result"
    }
   ],
   "source": [
    "cleaned_words = list(filter(None, uncleaned_words))\n",
    "\n",
    "cleaned_words"
   ]
  },
  {
   "cell_type": "markdown",
   "metadata": {},
   "source": [
    "### Context Annotation cleaning"
   ]
  },
  {
   "cell_type": "code",
   "execution_count": 356,
   "metadata": {},
   "outputs": [
    {
     "data": {
      "text/plain": [
       "{'domain': {'id': '46',\n",
       "  'name': 'Business Taxonomy',\n",
       "  'description': 'Categories within Brand Verticals that narrow down the scope of Brands'},\n",
       " 'entity': {'id': '1557696848252391426',\n",
       "  'name': 'Financial Services Business',\n",
       "  'description': 'Brands, companies, advertisers and every non-person handle with the profit intent related to Banks, Credit cards, Insurance, Investments, Stocks '}}"
      ]
     },
     "execution_count": 356,
     "metadata": {},
     "output_type": "execute_result"
    }
   ],
   "source": [
    "data[\"data\"][\"context_annotations\"][0]"
   ]
  },
  {
   "cell_type": "code",
   "execution_count": 357,
   "metadata": {},
   "outputs": [
    {
     "data": {
      "text/plain": [
       "'46'"
      ]
     },
     "execution_count": 357,
     "metadata": {},
     "output_type": "execute_result"
    }
   ],
   "source": [
    "data[\"data\"][\"context_annotations\"][0][\"domain\"][\"id\"]"
   ]
  },
  {
   "cell_type": "code",
   "execution_count": 358,
   "metadata": {},
   "outputs": [
    {
     "data": {
      "text/plain": [
       "'Business Taxonomy'"
      ]
     },
     "execution_count": 358,
     "metadata": {},
     "output_type": "execute_result"
    }
   ],
   "source": [
    "data[\"data\"][\"context_annotations\"][0][\"domain\"][\"name\"]"
   ]
  },
  {
   "cell_type": "code",
   "execution_count": 359,
   "metadata": {},
   "outputs": [
    {
     "data": {
      "text/plain": [
       "'Categories within Brand Verticals that narrow down the scope of Brands'"
      ]
     },
     "execution_count": 359,
     "metadata": {},
     "output_type": "execute_result"
    }
   ],
   "source": [
    "data[\"data\"][\"context_annotations\"][0][\"domain\"][\"description\"]"
   ]
  },
  {
   "cell_type": "code",
   "execution_count": 360,
   "metadata": {},
   "outputs": [
    {
     "data": {
      "text/plain": [
       "'1557696848252391426'"
      ]
     },
     "execution_count": 360,
     "metadata": {},
     "output_type": "execute_result"
    }
   ],
   "source": [
    "data[\"data\"][\"context_annotations\"][0][\"entity\"][\"id\"]"
   ]
  },
  {
   "cell_type": "code",
   "execution_count": 361,
   "metadata": {},
   "outputs": [
    {
     "data": {
      "text/plain": [
       "'Financial Services Business'"
      ]
     },
     "execution_count": 361,
     "metadata": {},
     "output_type": "execute_result"
    }
   ],
   "source": [
    "data[\"data\"][\"context_annotations\"][0][\"entity\"][\"name\"]"
   ]
  },
  {
   "cell_type": "code",
   "execution_count": 362,
   "metadata": {},
   "outputs": [
    {
     "data": {
      "text/plain": [
       "'Brands, companies, advertisers and every non-person handle with the profit intent related to Banks, Credit cards, Insurance, Investments, Stocks '"
      ]
     },
     "execution_count": 362,
     "metadata": {},
     "output_type": "execute_result"
    }
   ],
   "source": [
    "data[\"data\"][\"context_annotations\"][0][\"entity\"][\"description\"]"
   ]
  },
  {
   "cell_type": "code",
   "execution_count": 363,
   "metadata": {},
   "outputs": [
    {
     "name": "stdout",
     "output_type": "stream",
     "text": [
      "1536331416954253312 description is not available\n",
      "1536331416954253312 description is not available\n"
     ]
    }
   ],
   "source": [
    "context_annotations_database = []\n",
    "\n",
    "for annotation in data[\"data\"][\"context_annotations\"]:\n",
    "  domain_id = annotation[\"domain\"][\"id\"]\n",
    "  entity_id = annotation[\"entity\"][\"id\"]\n",
    "  annotation_data = {\n",
    "    \"id\": f\"{domain_id}-{entity_id}\",\n",
    "    \"domain_id\": domain_id,\n",
    "    \"domain_name\": annotation[\"domain\"][\"name\"],\n",
    "    \"entity_id\": entity_id,\n",
    "    \"entity_name\": annotation[\"entity\"][\"name\"],\n",
    "  }\n",
    "\n",
    "  try:\n",
    "    annotation_data[\"domain_description\"] = annotation[\"domain\"][\"description\"]\n",
    "  except:\n",
    "    print(f\"{annotation[\"domain\"][\"id\"]} description is not available\")\n",
    "\n",
    "  try:\n",
    "    annotation_data[\"entity_description\"] = annotation[\"entity\"][\"description\"]\n",
    "  except:\n",
    "    print(f\"{annotation[\"entity\"][\"id\"]} description is not available\")\n",
    "\n",
    "  # For main data\n",
    "  context_annotations_database.append(annotation_data)"
   ]
  },
  {
   "cell_type": "code",
   "execution_count": 364,
   "metadata": {},
   "outputs": [
    {
     "data": {
      "text/plain": [
       "5"
      ]
     },
     "execution_count": 364,
     "metadata": {},
     "output_type": "execute_result"
    }
   ],
   "source": [
    "len(context_annotations_database)"
   ]
  },
  {
   "cell_type": "code",
   "execution_count": 365,
   "metadata": {},
   "outputs": [
    {
     "data": {
      "text/plain": [
       "{'id': '46-1557696848252391426',\n",
       " 'domain_id': '46',\n",
       " 'domain_name': 'Business Taxonomy',\n",
       " 'entity_id': '1557696848252391426',\n",
       " 'entity_name': 'Financial Services Business',\n",
       " 'domain_description': 'Categories within Brand Verticals that narrow down the scope of Brands',\n",
       " 'entity_description': 'Brands, companies, advertisers and every non-person handle with the profit intent related to Banks, Credit cards, Insurance, Investments, Stocks '}"
      ]
     },
     "execution_count": 365,
     "metadata": {},
     "output_type": "execute_result"
    }
   ],
   "source": [
    "context_annotations_database[0]"
   ]
  },
  {
   "cell_type": "code",
   "execution_count": 366,
   "metadata": {},
   "outputs": [],
   "source": [
    "with open(\"output/context_annotations.csv\", \"w\", newline=\"\") as f:\n",
    "  fieldnames = context_annotations_database[0].keys()\n",
    "  writer = csv.DictWriter(f, fieldnames=fieldnames)\n",
    "\n",
    "  if f.tell() == 0:\n",
    "    writer.writeheader()\n",
    "\n",
    "  writer.writerows(context_annotations_database)"
   ]
  },
  {
   "cell_type": "code",
   "execution_count": 367,
   "metadata": {},
   "outputs": [
    {
     "data": {
      "text/plain": [
       "['46-1557696848252391426',\n",
       " '46-1557697218248773632',\n",
       " '88-1536331416954253312',\n",
       " '131-1095391406816784384',\n",
       " '131-1536331416954253312']"
      ]
     },
     "execution_count": 367,
     "metadata": {},
     "output_type": "execute_result"
    }
   ],
   "source": [
    "context_annotations = [context[\"id\"] for context in context_annotations_database]\n",
    "\n",
    "context_annotations"
   ]
  },
  {
   "cell_type": "markdown",
   "metadata": {},
   "source": [
    "### Language cleaning"
   ]
  },
  {
   "cell_type": "code",
   "execution_count": 368,
   "metadata": {},
   "outputs": [
    {
     "data": {
      "text/plain": [
       "'in'"
      ]
     },
     "execution_count": 368,
     "metadata": {},
     "output_type": "execute_result"
    }
   ],
   "source": [
    "data[\"data\"][\"lang\"]"
   ]
  },
  {
   "cell_type": "markdown",
   "metadata": {},
   "source": [
    "language iso-code reference: https://en.wikipedia.org/wiki/List_of_ISO_639_language_codes"
   ]
  },
  {
   "cell_type": "code",
   "execution_count": 369,
   "metadata": {},
   "outputs": [
    {
     "name": "stdout",
     "output_type": "stream",
     "text": [
      "None\n"
     ]
    }
   ],
   "source": [
    "print(\n",
    "  pycountry.languages.get(alpha_2=\"in\")\n",
    ")"
   ]
  },
  {
   "cell_type": "code",
   "execution_count": 370,
   "metadata": {},
   "outputs": [
    {
     "name": "stdout",
     "output_type": "stream",
     "text": [
      "Language(alpha_2='id', alpha_3='ind', name='Indonesian', scope='I', type='L')\n"
     ]
    }
   ],
   "source": [
    "print(\n",
    "  pycountry.languages.get(alpha_2=\"id\")\n",
    ")"
   ]
  },
  {
   "cell_type": "code",
   "execution_count": 371,
   "metadata": {},
   "outputs": [],
   "source": [
    "custom_mapping = {\n",
    "  \"in\": \"id\"\n",
    "}\n",
    "\n",
    "def get_language_name(lang_code):\n",
    "  lang_code = custom_mapping.get(lang_code, lang_code)\n",
    "  \n",
    "  try:\n",
    "    return pycountry.languages.get(alpha_2=lang_code)\n",
    "  except AttributeError:\n",
    "    return None"
   ]
  },
  {
   "cell_type": "code",
   "execution_count": 372,
   "metadata": {},
   "outputs": [
    {
     "data": {
      "text/plain": [
       "Language(alpha_2='id', alpha_3='ind', name='Indonesian', scope='I', type='L')"
      ]
     },
     "execution_count": 372,
     "metadata": {},
     "output_type": "execute_result"
    }
   ],
   "source": [
    "get_language_name(\"id\")"
   ]
  },
  {
   "cell_type": "code",
   "execution_count": 373,
   "metadata": {},
   "outputs": [
    {
     "data": {
      "text/plain": [
       "Language(alpha_2='id', alpha_3='ind', name='Indonesian', scope='I', type='L')"
      ]
     },
     "execution_count": 373,
     "metadata": {},
     "output_type": "execute_result"
    }
   ],
   "source": [
    "get_language_name(\"in\")"
   ]
  },
  {
   "cell_type": "code",
   "execution_count": 374,
   "metadata": {},
   "outputs": [],
   "source": [
    "language = get_language_name(data[\"data\"][\"lang\"])\n",
    "language_name = language.name\n",
    "language_code = language.alpha_2"
   ]
  },
  {
   "cell_type": "code",
   "execution_count": 375,
   "metadata": {},
   "outputs": [
    {
     "name": "stdout",
     "output_type": "stream",
     "text": [
      "Indonesian id\n"
     ]
    }
   ],
   "source": [
    "print(language_name, language_code)"
   ]
  },
  {
   "cell_type": "markdown",
   "metadata": {},
   "source": [
    "### Save clean data"
   ]
  },
  {
   "cell_type": "code",
   "execution_count": 376,
   "metadata": {},
   "outputs": [],
   "source": [
    "with open(\"output/word_counts_irwndfrry.json\", \"w\") as f:\n",
    "  new_data = {\n",
    "    \"tweet_id\": data[\"data\"][\"id\"],\n",
    "    \"author_id\": data[\"data\"][\"author_id\"],\n",
    "    \"sensitive\": data[\"data\"][\"possibly_sensitive\"],\n",
    "    \"word_count\": len(cleaned_words),\n",
    "    \"words\": cleaned_words,\n",
    "    \"language_name\": language_name,\n",
    "    \"language_code\": language_code,\n",
    "    \"created_at\": data[\"data\"][\"created_at\"],\n",
    "    \"retweet_count\": data[\"data\"][\"public_metrics\"][\"retweet_count\"],\n",
    "    \"reply_count\": data[\"data\"][\"public_metrics\"][\"reply_count\"],\n",
    "    \"like_count\": data[\"data\"][\"public_metrics\"][\"like_count\"],\n",
    "    \"quote_count\": data[\"data\"][\"public_metrics\"][\"quote_count\"],\n",
    "    \"bookmark_count\": data[\"data\"][\"public_metrics\"][\"bookmark_count\"],\n",
    "    \"impression_count\": data[\"data\"][\"public_metrics\"][\"impression_count\"],\n",
    "  }\n",
    "\n",
    "  for index, context in enumerate(context_annotations):\n",
    "    new_data[f\"annotation_{index}\"] = context\n",
    "\n",
    "  try:\n",
    "    for ref_tweet in data[\"data\"][\"referenced_tweets\"]:\n",
    "      if ref_tweet['type'] == \"retweeted\":\n",
    "        new_data[f\"reference_tweet_id_retweeted\"] = ref_tweet['id']\n",
    "      elif ref_tweet['type'] == \"quoted\":\n",
    "        new_data[f\"reference_tweet_id_quoted\"] = ref_tweet['id']\n",
    "      elif ref_tweet['type'] == \"replied_to\":\n",
    "        new_data[f\"reference_tweet_id_replied_to\"] = ref_tweet['id']\n",
    "  except:\n",
    "    print(\"no reference tweet\")\n",
    "\n",
    "  f.write(json.dumps(new_data, indent=2))"
   ]
  },
  {
   "cell_type": "code",
   "execution_count": 377,
   "metadata": {},
   "outputs": [
    {
     "data": {
      "text/html": [
       "<div>\n",
       "<style scoped>\n",
       "    .dataframe tbody tr th:only-of-type {\n",
       "        vertical-align: middle;\n",
       "    }\n",
       "\n",
       "    .dataframe tbody tr th {\n",
       "        vertical-align: top;\n",
       "    }\n",
       "\n",
       "    .dataframe thead th {\n",
       "        text-align: right;\n",
       "    }\n",
       "</style>\n",
       "<table border=\"1\" class=\"dataframe\">\n",
       "  <thead>\n",
       "    <tr style=\"text-align: right;\">\n",
       "      <th></th>\n",
       "      <th>tweet_id</th>\n",
       "      <th>author_id</th>\n",
       "      <th>sensitive</th>\n",
       "      <th>word_count</th>\n",
       "      <th>words</th>\n",
       "      <th>language_name</th>\n",
       "      <th>language_code</th>\n",
       "      <th>created_at</th>\n",
       "      <th>retweet_count</th>\n",
       "      <th>reply_count</th>\n",
       "      <th>like_count</th>\n",
       "      <th>quote_count</th>\n",
       "      <th>bookmark_count</th>\n",
       "      <th>impression_count</th>\n",
       "      <th>annotation_0</th>\n",
       "      <th>annotation_1</th>\n",
       "      <th>annotation_2</th>\n",
       "      <th>annotation_3</th>\n",
       "      <th>annotation_4</th>\n",
       "      <th>reference_tweet_id_quoted</th>\n",
       "    </tr>\n",
       "  </thead>\n",
       "  <tbody>\n",
       "    <tr>\n",
       "      <th>0</th>\n",
       "      <td>1891503790353760256</td>\n",
       "      <td>251088685</td>\n",
       "      <td>False</td>\n",
       "      <td>43</td>\n",
       "      <td>Banyak</td>\n",
       "      <td>Indonesian</td>\n",
       "      <td>id</td>\n",
       "      <td>2025-02-17 15:03:40+00:00</td>\n",
       "      <td>36062</td>\n",
       "      <td>1299</td>\n",
       "      <td>99718</td>\n",
       "      <td>1619</td>\n",
       "      <td>35057</td>\n",
       "      <td>5761847</td>\n",
       "      <td>46-1557696848252391426</td>\n",
       "      <td>46-1557697218248773632</td>\n",
       "      <td>88-1536331416954253312</td>\n",
       "      <td>131-1095391406816784384</td>\n",
       "      <td>131-1536331416954253312</td>\n",
       "      <td>1890992087614808320</td>\n",
       "    </tr>\n",
       "    <tr>\n",
       "      <th>1</th>\n",
       "      <td>1891503790353760256</td>\n",
       "      <td>251088685</td>\n",
       "      <td>False</td>\n",
       "      <td>43</td>\n",
       "      <td>yang</td>\n",
       "      <td>Indonesian</td>\n",
       "      <td>id</td>\n",
       "      <td>2025-02-17 15:03:40+00:00</td>\n",
       "      <td>36062</td>\n",
       "      <td>1299</td>\n",
       "      <td>99718</td>\n",
       "      <td>1619</td>\n",
       "      <td>35057</td>\n",
       "      <td>5761847</td>\n",
       "      <td>46-1557696848252391426</td>\n",
       "      <td>46-1557697218248773632</td>\n",
       "      <td>88-1536331416954253312</td>\n",
       "      <td>131-1095391406816784384</td>\n",
       "      <td>131-1536331416954253312</td>\n",
       "      <td>1890992087614808320</td>\n",
       "    </tr>\n",
       "    <tr>\n",
       "      <th>2</th>\n",
       "      <td>1891503790353760256</td>\n",
       "      <td>251088685</td>\n",
       "      <td>False</td>\n",
       "      <td>43</td>\n",
       "      <td>minta</td>\n",
       "      <td>Indonesian</td>\n",
       "      <td>id</td>\n",
       "      <td>2025-02-17 15:03:40+00:00</td>\n",
       "      <td>36062</td>\n",
       "      <td>1299</td>\n",
       "      <td>99718</td>\n",
       "      <td>1619</td>\n",
       "      <td>35057</td>\n",
       "      <td>5761847</td>\n",
       "      <td>46-1557696848252391426</td>\n",
       "      <td>46-1557697218248773632</td>\n",
       "      <td>88-1536331416954253312</td>\n",
       "      <td>131-1095391406816784384</td>\n",
       "      <td>131-1536331416954253312</td>\n",
       "      <td>1890992087614808320</td>\n",
       "    </tr>\n",
       "    <tr>\n",
       "      <th>3</th>\n",
       "      <td>1891503790353760256</td>\n",
       "      <td>251088685</td>\n",
       "      <td>False</td>\n",
       "      <td>43</td>\n",
       "      <td>jelasin</td>\n",
       "      <td>Indonesian</td>\n",
       "      <td>id</td>\n",
       "      <td>2025-02-17 15:03:40+00:00</td>\n",
       "      <td>36062</td>\n",
       "      <td>1299</td>\n",
       "      <td>99718</td>\n",
       "      <td>1619</td>\n",
       "      <td>35057</td>\n",
       "      <td>5761847</td>\n",
       "      <td>46-1557696848252391426</td>\n",
       "      <td>46-1557697218248773632</td>\n",
       "      <td>88-1536331416954253312</td>\n",
       "      <td>131-1095391406816784384</td>\n",
       "      <td>131-1536331416954253312</td>\n",
       "      <td>1890992087614808320</td>\n",
       "    </tr>\n",
       "    <tr>\n",
       "      <th>4</th>\n",
       "      <td>1891503790353760256</td>\n",
       "      <td>251088685</td>\n",
       "      <td>False</td>\n",
       "      <td>43</td>\n",
       "      <td>soal</td>\n",
       "      <td>Indonesian</td>\n",
       "      <td>id</td>\n",
       "      <td>2025-02-17 15:03:40+00:00</td>\n",
       "      <td>36062</td>\n",
       "      <td>1299</td>\n",
       "      <td>99718</td>\n",
       "      <td>1619</td>\n",
       "      <td>35057</td>\n",
       "      <td>5761847</td>\n",
       "      <td>46-1557696848252391426</td>\n",
       "      <td>46-1557697218248773632</td>\n",
       "      <td>88-1536331416954253312</td>\n",
       "      <td>131-1095391406816784384</td>\n",
       "      <td>131-1536331416954253312</td>\n",
       "      <td>1890992087614808320</td>\n",
       "    </tr>\n",
       "  </tbody>\n",
       "</table>\n",
       "</div>"
      ],
      "text/plain": [
       "              tweet_id  author_id  sensitive  word_count    words  \\\n",
       "0  1891503790353760256  251088685      False          43   Banyak   \n",
       "1  1891503790353760256  251088685      False          43     yang   \n",
       "2  1891503790353760256  251088685      False          43    minta   \n",
       "3  1891503790353760256  251088685      False          43  jelasin   \n",
       "4  1891503790353760256  251088685      False          43     soal   \n",
       "\n",
       "  language_name language_code                created_at  retweet_count  \\\n",
       "0    Indonesian            id 2025-02-17 15:03:40+00:00          36062   \n",
       "1    Indonesian            id 2025-02-17 15:03:40+00:00          36062   \n",
       "2    Indonesian            id 2025-02-17 15:03:40+00:00          36062   \n",
       "3    Indonesian            id 2025-02-17 15:03:40+00:00          36062   \n",
       "4    Indonesian            id 2025-02-17 15:03:40+00:00          36062   \n",
       "\n",
       "   reply_count  like_count  quote_count  bookmark_count  impression_count  \\\n",
       "0         1299       99718         1619           35057           5761847   \n",
       "1         1299       99718         1619           35057           5761847   \n",
       "2         1299       99718         1619           35057           5761847   \n",
       "3         1299       99718         1619           35057           5761847   \n",
       "4         1299       99718         1619           35057           5761847   \n",
       "\n",
       "             annotation_0            annotation_1            annotation_2  \\\n",
       "0  46-1557696848252391426  46-1557697218248773632  88-1536331416954253312   \n",
       "1  46-1557696848252391426  46-1557697218248773632  88-1536331416954253312   \n",
       "2  46-1557696848252391426  46-1557697218248773632  88-1536331416954253312   \n",
       "3  46-1557696848252391426  46-1557697218248773632  88-1536331416954253312   \n",
       "4  46-1557696848252391426  46-1557697218248773632  88-1536331416954253312   \n",
       "\n",
       "              annotation_3             annotation_4  reference_tweet_id_quoted  \n",
       "0  131-1095391406816784384  131-1536331416954253312        1890992087614808320  \n",
       "1  131-1095391406816784384  131-1536331416954253312        1890992087614808320  \n",
       "2  131-1095391406816784384  131-1536331416954253312        1890992087614808320  \n",
       "3  131-1095391406816784384  131-1536331416954253312        1890992087614808320  \n",
       "4  131-1095391406816784384  131-1536331416954253312        1890992087614808320  "
      ]
     },
     "execution_count": 377,
     "metadata": {},
     "output_type": "execute_result"
    }
   ],
   "source": [
    "pd.read_json(\"output/word_counts_irwndfrry.json\").head()"
   ]
  },
  {
   "cell_type": "markdown",
   "metadata": {},
   "source": [
    "### Re-cleaning data for the referenced tweet"
   ]
  },
  {
   "cell_type": "code",
   "execution_count": 378,
   "metadata": {},
   "outputs": [
    {
     "data": {
      "text/plain": [
       "{'attachments': {'media_keys': ['3_1890991719925350400']},\n",
       " 'entities': {'hashtags': [{'start': 190, 'end': 201, 'tag': 'Tempodotco'},\n",
       "   {'start': 202, 'end': 212, 'tag': 'TempoPlus'}],\n",
       "  'urls': [{'start': 213,\n",
       "    'end': 236,\n",
       "    'url': 'https://t.co/O9f1JbLDBa',\n",
       "    'expanded_url': 'https://x.com/tempodotco/status/1890992087614808342/photo/1',\n",
       "    'display_url': 'pic.x.com/O9f1JbLDBa',\n",
       "    'media_key': '3_1890991719925350400'}]},\n",
       " 'text': 'Bagi Prabowo, Danantara adalah proyek historis.\\n\\nAyahnya, Sumitro Djojohadikusumo, punya ide membangun sebuah lembaga pengelola 1-5 persen laba Badan Usaha Milik Negara pada akhir 1980-an.\\n\\n#Tempodotco #TempoPlus https://t.co/O9f1JbLDBa',\n",
       " 'id': '1890992087614808342',\n",
       " 'edit_history_tweet_ids': ['1890992087614808342'],\n",
       " 'possibly_sensitive': False,\n",
       " 'created_at': '2025-02-16T05:10:21.000Z',\n",
       " 'context_annotations': [{'domain': {'id': '47',\n",
       "    'name': 'Brand',\n",
       "    'description': 'Brands and Companies'},\n",
       "   'entity': {'id': '1194281356999573504',\n",
       "    'name': 'Tempo',\n",
       "    'description': 'an Indonesian weekly magazine that covers news and politics'}},\n",
       "  {'domain': {'id': '88',\n",
       "    'name': 'Political Body',\n",
       "    'description': 'A section of a government, like The Supreme Court'},\n",
       "   'entity': {'id': '1536331416954253312',\n",
       "    'name': 'Ministry of State Owned Enterprises'}},\n",
       "  {'domain': {'id': '131',\n",
       "    'name': 'Unified Twitter Taxonomy',\n",
       "    'description': 'A taxonomy of user interests. '},\n",
       "   'entity': {'id': '1536331416954253312',\n",
       "    'name': 'Ministry of State Owned Enterprises'}},\n",
       "  {'domain': {'id': '69',\n",
       "    'name': 'News Vertical',\n",
       "    'description': 'News Categories like Entertainment or Technology'},\n",
       "   'entity': {'id': '1328727386934820865', 'name': 'Indonesia national news'}},\n",
       "  {'domain': {'id': '131',\n",
       "    'name': 'Unified Twitter Taxonomy',\n",
       "    'description': 'A taxonomy of user interests. '},\n",
       "   'entity': {'id': '1328727386934820865',\n",
       "    'name': 'Indonesia national news'}}],\n",
       " 'author_id': '18129942',\n",
       " 'public_metrics': {'retweet_count': 4343,\n",
       "  'reply_count': 203,\n",
       "  'like_count': 9551,\n",
       "  'quote_count': 790,\n",
       "  'bookmark_count': 2165,\n",
       "  'impression_count': 5823610},\n",
       " 'lang': 'in'}"
      ]
     },
     "execution_count": 378,
     "metadata": {},
     "output_type": "execute_result"
    }
   ],
   "source": [
    "data[\"includes\"][\"tweets\"][0]"
   ]
  },
  {
   "cell_type": "code",
   "execution_count": 379,
   "metadata": {},
   "outputs": [],
   "source": [
    "def clean_words(data):\n",
    "  # Word cleaning\n",
    "  text = data[\"text\"]\n",
    "  raw_words = text.split()\n",
    "  uncleaned_words = [word.rstrip(',.') for word in raw_words]\n",
    "  cleaned_words = list(filter(None, uncleaned_words))\n",
    "\n",
    "  return cleaned_words\n",
    "  "
   ]
  },
  {
   "cell_type": "code",
   "execution_count": 380,
   "metadata": {},
   "outputs": [],
   "source": [
    "def clean_context_annotations(data):\n",
    "  context_annotations_database = []\n",
    "\n",
    "  for annotation in data[\"context_annotations\"]:\n",
    "    domain_id = annotation[\"domain\"][\"id\"]\n",
    "    entity_id = annotation[\"entity\"][\"id\"]\n",
    "    annotation_data = {\n",
    "      \"id\": f\"{domain_id}-{entity_id}\",\n",
    "      \"domain_id\": domain_id,\n",
    "      \"domain_name\": annotation[\"domain\"][\"name\"],\n",
    "      \"entity_id\": entity_id,\n",
    "      \"entity_name\": annotation[\"entity\"][\"name\"],\n",
    "    }\n",
    "\n",
    "    try:\n",
    "      annotation_data[\"domain_description\"] = annotation[\"domain\"][\"description\"]\n",
    "    except:\n",
    "      print(f\"{annotation[\"domain\"][\"id\"]} description is not available\")\n",
    "\n",
    "    try:\n",
    "      annotation_data[\"entity_description\"] = annotation[\"entity\"][\"description\"]\n",
    "    except:\n",
    "      print(f\"{annotation[\"entity\"][\"id\"]} description is not available\")\n",
    "\n",
    "    # For main data\n",
    "    context_annotations_database.append(annotation_data)\n",
    "\n",
    "  # Save with append into csv\n",
    "  with open(\"output/context_annotations.csv\", \"a\", newline=\"\") as f:\n",
    "    fieldnames = context_annotations_database[0].keys()\n",
    "    writer = csv.DictWriter(f, fieldnames=fieldnames)\n",
    "\n",
    "    if f.tell() == 0:\n",
    "      writer.writeheader()\n",
    "\n",
    "    writer.writerows(context_annotations_database)\n",
    "\n",
    "  return [context[\"id\"] for context in context_annotations_database]\n",
    "  "
   ]
  },
  {
   "cell_type": "code",
   "execution_count": 381,
   "metadata": {},
   "outputs": [],
   "source": [
    "def clean_language(data):\n",
    "  custom_mapping = {\n",
    "    \"in\": \"id\"\n",
    "  }\n",
    "\n",
    "  def get_language_name(lang_code):\n",
    "    lang_code = custom_mapping.get(lang_code, lang_code)\n",
    "    \n",
    "    try:\n",
    "      return pycountry.languages.get(alpha_2=lang_code)\n",
    "    except AttributeError:\n",
    "      return None\n",
    "  \n",
    "  language = get_language_name(data[\"lang\"])\n",
    "\n",
    "  return (language.name, language.alpha_2)"
   ]
  },
  {
   "cell_type": "code",
   "execution_count": 382,
   "metadata": {},
   "outputs": [],
   "source": [
    "def transform_tweet(data):\n",
    "  cleaned_words = clean_words(data)\n",
    "  language_name, language_code = clean_language(data)\n",
    "  context_annotations = clean_context_annotations(data)\n",
    "\n",
    "  with open(f\"output/word_counts_{data[\"id\"]}.json\", \"w\") as f:\n",
    "    new_data = {\n",
    "      \"tweet_id\": data[\"id\"],\n",
    "      \"author_id\": data[\"author_id\"],\n",
    "      \"sensitive\": data[\"possibly_sensitive\"],\n",
    "      \"word_count\": len(cleaned_words),\n",
    "      \"words\": cleaned_words,\n",
    "      \"language_name\": language_name,\n",
    "      \"language_code\": language_code,\n",
    "      \"created_at\": data[\"created_at\"],\n",
    "      \"retweet_count\": data[\"public_metrics\"][\"retweet_count\"],\n",
    "      \"reply_count\": data[\"public_metrics\"][\"reply_count\"],\n",
    "      \"like_count\": data[\"public_metrics\"][\"like_count\"],\n",
    "      \"quote_count\": data[\"public_metrics\"][\"quote_count\"],\n",
    "      \"bookmark_count\": data[\"public_metrics\"][\"bookmark_count\"],\n",
    "      \"impression_count\": data[\"public_metrics\"][\"impression_count\"],\n",
    "    }\n",
    "\n",
    "    for index, context in enumerate(context_annotations):\n",
    "      new_data[f\"annotation_{index}\"] = context\n",
    "\n",
    "    try:\n",
    "      for ref_tweet in data[\"data\"][\"referenced_tweets\"]:\n",
    "        if ref_tweet['type'] == \"retweeted\":\n",
    "          new_data[f\"reference_tweet_id_retweeted\"] = ref_tweet['id']\n",
    "        elif ref_tweet['type'] == \"quoted\":\n",
    "          new_data[f\"reference_tweet_id_quoted\"] = ref_tweet['id']\n",
    "        elif ref_tweet['type'] == \"replied_to\":\n",
    "          new_data[f\"reference_tweet_id_replied_to\"] = ref_tweet['id']\n",
    "    except:\n",
    "      print(\"no reference tweet\")\n",
    "\n",
    "    f.write(json.dumps(new_data, indent=2))"
   ]
  },
  {
   "cell_type": "code",
   "execution_count": 383,
   "metadata": {},
   "outputs": [
    {
     "name": "stdout",
     "output_type": "stream",
     "text": [
      "1536331416954253312 description is not available\n",
      "1536331416954253312 description is not available\n",
      "1328727386934820865 description is not available\n",
      "1328727386934820865 description is not available\n",
      "no reference tweet\n"
     ]
    }
   ],
   "source": [
    "for item in data[\"includes\"][\"tweets\"]:\n",
    "  transform_tweet(item)"
   ]
  },
  {
   "cell_type": "markdown",
   "metadata": {},
   "source": [
    "## Ferry Irwandi User"
   ]
  },
  {
   "cell_type": "markdown",
   "metadata": {},
   "source": [
    "Flatten data with pandas json normalize"
   ]
  },
  {
   "cell_type": "code",
   "execution_count": 131,
   "metadata": {},
   "outputs": [],
   "source": [
    "file_path = \"../../extract/output/twitter_user_irwndfrry.json\""
   ]
  },
  {
   "cell_type": "code",
   "execution_count": 132,
   "metadata": {},
   "outputs": [
    {
     "data": {
      "text/html": [
       "<div>\n",
       "<style scoped>\n",
       "    .dataframe tbody tr th:only-of-type {\n",
       "        vertical-align: middle;\n",
       "    }\n",
       "\n",
       "    .dataframe tbody tr th {\n",
       "        vertical-align: top;\n",
       "    }\n",
       "\n",
       "    .dataframe thead th {\n",
       "        text-align: right;\n",
       "    }\n",
       "</style>\n",
       "<table border=\"1\" class=\"dataframe\">\n",
       "  <thead>\n",
       "    <tr style=\"text-align: right;\">\n",
       "      <th></th>\n",
       "      <th>data</th>\n",
       "    </tr>\n",
       "  </thead>\n",
       "  <tbody>\n",
       "    <tr>\n",
       "      <th>verified</th>\n",
       "      <td>False</td>\n",
       "    </tr>\n",
       "    <tr>\n",
       "      <th>profile_image_url</th>\n",
       "      <td>https://pbs.twimg.com/profile_images/188894133...</td>\n",
       "    </tr>\n",
       "    <tr>\n",
       "      <th>protected</th>\n",
       "      <td>False</td>\n",
       "    </tr>\n",
       "    <tr>\n",
       "      <th>username</th>\n",
       "      <td>irwndfrry</td>\n",
       "    </tr>\n",
       "    <tr>\n",
       "      <th>pinned_tweet_id</th>\n",
       "      <td>1874839670984753388</td>\n",
       "    </tr>\n",
       "    <tr>\n",
       "      <th>name</th>\n",
       "      <td>Ferry Irwandi</td>\n",
       "    </tr>\n",
       "    <tr>\n",
       "      <th>id</th>\n",
       "      <td>251088685</td>\n",
       "    </tr>\n",
       "    <tr>\n",
       "      <th>created_at</th>\n",
       "      <td>2011-02-12T12:18:46.000Z</td>\n",
       "    </tr>\n",
       "    <tr>\n",
       "      <th>public_metrics</th>\n",
       "      <td>{'followers_count': 208273, 'following_count':...</td>\n",
       "    </tr>\n",
       "    <tr>\n",
       "      <th>description</th>\n",
       "      <td></td>\n",
       "    </tr>\n",
       "  </tbody>\n",
       "</table>\n",
       "</div>"
      ],
      "text/plain": [
       "                                                                data\n",
       "verified                                                       False\n",
       "profile_image_url  https://pbs.twimg.com/profile_images/188894133...\n",
       "protected                                                      False\n",
       "username                                                   irwndfrry\n",
       "pinned_tweet_id                                  1874839670984753388\n",
       "name                                                   Ferry Irwandi\n",
       "id                                                         251088685\n",
       "created_at                                  2011-02-12T12:18:46.000Z\n",
       "public_metrics     {'followers_count': 208273, 'following_count':...\n",
       "description                                                         "
      ]
     },
     "execution_count": 132,
     "metadata": {},
     "output_type": "execute_result"
    }
   ],
   "source": [
    "pd.read_json(file_path)"
   ]
  },
  {
   "cell_type": "code",
   "execution_count": 138,
   "metadata": {},
   "outputs": [],
   "source": [
    "with open(file_path, \"r\") as f:\n",
    "  data = json.loads(f.read())"
   ]
  },
  {
   "cell_type": "code",
   "execution_count": 139,
   "metadata": {},
   "outputs": [
    {
     "data": {
      "text/plain": [
       "{'data': {'verified': False,\n",
       "  'profile_image_url': 'https://pbs.twimg.com/profile_images/1888941332389068800/zDL30fow_normal.jpg',\n",
       "  'protected': False,\n",
       "  'username': 'irwndfrry',\n",
       "  'pinned_tweet_id': '1874839670984753388',\n",
       "  'name': 'Ferry Irwandi',\n",
       "  'id': '251088685',\n",
       "  'created_at': '2011-02-12T12:18:46.000Z',\n",
       "  'public_metrics': {'followers_count': 208273,\n",
       "   'following_count': 1053,\n",
       "   'tweet_count': 33933,\n",
       "   'listed_count': 78,\n",
       "   'like_count': 2027,\n",
       "   'media_count': 1463},\n",
       "  'description': ''}}"
      ]
     },
     "execution_count": 139,
     "metadata": {},
     "output_type": "execute_result"
    }
   ],
   "source": [
    "data"
   ]
  },
  {
   "cell_type": "code",
   "execution_count": 140,
   "metadata": {},
   "outputs": [
    {
     "data": {
      "text/html": [
       "<div>\n",
       "<style scoped>\n",
       "    .dataframe tbody tr th:only-of-type {\n",
       "        vertical-align: middle;\n",
       "    }\n",
       "\n",
       "    .dataframe tbody tr th {\n",
       "        vertical-align: top;\n",
       "    }\n",
       "\n",
       "    .dataframe thead th {\n",
       "        text-align: right;\n",
       "    }\n",
       "</style>\n",
       "<table border=\"1\" class=\"dataframe\">\n",
       "  <thead>\n",
       "    <tr style=\"text-align: right;\">\n",
       "      <th></th>\n",
       "      <th>verified</th>\n",
       "      <th>profile_image_url</th>\n",
       "      <th>protected</th>\n",
       "      <th>username</th>\n",
       "      <th>pinned_tweet_id</th>\n",
       "      <th>name</th>\n",
       "      <th>id</th>\n",
       "      <th>created_at</th>\n",
       "      <th>description</th>\n",
       "      <th>public_metrics_followers_count</th>\n",
       "      <th>public_metrics_following_count</th>\n",
       "      <th>public_metrics_tweet_count</th>\n",
       "      <th>public_metrics_listed_count</th>\n",
       "      <th>public_metrics_like_count</th>\n",
       "      <th>public_metrics_media_count</th>\n",
       "    </tr>\n",
       "  </thead>\n",
       "  <tbody>\n",
       "    <tr>\n",
       "      <th>0</th>\n",
       "      <td>False</td>\n",
       "      <td>https://pbs.twimg.com/profile_images/188894133...</td>\n",
       "      <td>False</td>\n",
       "      <td>irwndfrry</td>\n",
       "      <td>1874839670984753388</td>\n",
       "      <td>Ferry Irwandi</td>\n",
       "      <td>251088685</td>\n",
       "      <td>2011-02-12T12:18:46.000Z</td>\n",
       "      <td></td>\n",
       "      <td>208273</td>\n",
       "      <td>1053</td>\n",
       "      <td>33933</td>\n",
       "      <td>78</td>\n",
       "      <td>2027</td>\n",
       "      <td>1463</td>\n",
       "    </tr>\n",
       "  </tbody>\n",
       "</table>\n",
       "</div>"
      ],
      "text/plain": [
       "   verified                                  profile_image_url  protected  \\\n",
       "0     False  https://pbs.twimg.com/profile_images/188894133...      False   \n",
       "\n",
       "    username      pinned_tweet_id           name         id  \\\n",
       "0  irwndfrry  1874839670984753388  Ferry Irwandi  251088685   \n",
       "\n",
       "                 created_at description  public_metrics_followers_count  \\\n",
       "0  2011-02-12T12:18:46.000Z                                      208273   \n",
       "\n",
       "   public_metrics_following_count  public_metrics_tweet_count  \\\n",
       "0                            1053                       33933   \n",
       "\n",
       "   public_metrics_listed_count  public_metrics_like_count  \\\n",
       "0                           78                       2027   \n",
       "\n",
       "   public_metrics_media_count  \n",
       "0                        1463  "
      ]
     },
     "execution_count": 140,
     "metadata": {},
     "output_type": "execute_result"
    }
   ],
   "source": [
    "df = pd.json_normalize(data[\"data\"], sep='_')\n",
    "\n",
    "df"
   ]
  },
  {
   "cell_type": "code",
   "execution_count": 143,
   "metadata": {},
   "outputs": [],
   "source": [
    "df.to_csv(\"output/users.csv\", index=False)"
   ]
  },
  {
   "cell_type": "markdown",
   "metadata": {},
   "source": [
    "## Tweets with geotag"
   ]
  },
  {
   "cell_type": "markdown",
   "metadata": {},
   "source": [
    "Data cleaning with numpy, pandas, geopandas"
   ]
  },
  {
   "cell_type": "code",
   "execution_count": 384,
   "metadata": {},
   "outputs": [],
   "source": [
    "file_path = \"../../extract/output/twitter_geotags.json\""
   ]
  },
  {
   "cell_type": "code",
   "execution_count": null,
   "metadata": {},
   "outputs": [],
   "source": [
    "pd.read_json(file_path)"
   ]
  },
  {
   "cell_type": "code",
   "execution_count": 386,
   "metadata": {},
   "outputs": [],
   "source": [
    "with open(file_path, \"r\") as f:\n",
    "  data = json.loads(f.read())"
   ]
  },
  {
   "cell_type": "code",
   "execution_count": 387,
   "metadata": {},
   "outputs": [
    {
     "data": {
      "text/html": [
       "<div>\n",
       "<style scoped>\n",
       "    .dataframe tbody tr th:only-of-type {\n",
       "        vertical-align: middle;\n",
       "    }\n",
       "\n",
       "    .dataframe tbody tr th {\n",
       "        vertical-align: top;\n",
       "    }\n",
       "\n",
       "    .dataframe thead th {\n",
       "        text-align: right;\n",
       "    }\n",
       "</style>\n",
       "<table border=\"1\" class=\"dataframe\">\n",
       "  <thead>\n",
       "    <tr style=\"text-align: right;\">\n",
       "      <th></th>\n",
       "      <th>data</th>\n",
       "      <th>includes_places</th>\n",
       "      <th>includes_tweets</th>\n",
       "      <th>meta_newest_id</th>\n",
       "      <th>meta_oldest_id</th>\n",
       "      <th>meta_result_count</th>\n",
       "    </tr>\n",
       "  </thead>\n",
       "  <tbody>\n",
       "    <tr>\n",
       "      <th>0</th>\n",
       "      <td>[{'text': 'Kota Makassar (ᨀᨚᨈ ᨆᨀᨔᨑ) sebelumnya...</td>\n",
       "      <td>[{'place_type': 'city', 'id': 'ec6afdae43138dc...</td>\n",
       "      <td>[{'text': '#30DayMapChallenge 2024 Day 20: @op...</td>\n",
       "      <td>1896153702140088593</td>\n",
       "      <td>1894706768649023792</td>\n",
       "      <td>3</td>\n",
       "    </tr>\n",
       "  </tbody>\n",
       "</table>\n",
       "</div>"
      ],
      "text/plain": [
       "                                                data  \\\n",
       "0  [{'text': 'Kota Makassar (ᨀᨚᨈ ᨆᨀᨔᨑ) sebelumnya...   \n",
       "\n",
       "                                     includes_places  \\\n",
       "0  [{'place_type': 'city', 'id': 'ec6afdae43138dc...   \n",
       "\n",
       "                                     includes_tweets       meta_newest_id  \\\n",
       "0  [{'text': '#30DayMapChallenge 2024 Day 20: @op...  1896153702140088593   \n",
       "\n",
       "        meta_oldest_id  meta_result_count  \n",
       "0  1894706768649023792                  3  "
      ]
     },
     "execution_count": 387,
     "metadata": {},
     "output_type": "execute_result"
    }
   ],
   "source": [
    "df = pd.json_normalize(data, sep=\"_\")\n",
    "\n",
    "df"
   ]
  },
  {
   "cell_type": "code",
   "execution_count": 164,
   "metadata": {},
   "outputs": [
    {
     "name": "stdout",
     "output_type": "stream",
     "text": [
      "[{'author_id': '475862742',\n",
      "  'created_at': '2025-03-02T11:00:46.000Z',\n",
      "  'edit_history_tweet_ids': ['1896153702140088593'],\n",
      "  'entities': {'hashtags': [{'end': 125, 'start': 114, 'tag': 'FaizGeotag'}],\n",
      "               'urls': [{'display_url': 'x.com/zaenun_faiz/st…',\n",
      "                         'end': 150,\n",
      "                         'expanded_url': 'https://x.com/zaenun_faiz/status/1859072685105705311',\n",
      "                         'start': 127,\n",
      "                         'url': 'https://t.co/i9D72lPthV'}]},\n",
      "  'geo': {'place_id': 'ec6afdae43138dcd'},\n",
      "  'id': '1896153702140088593',\n",
      "  'in_reply_to_user_id': '475862742',\n",
      "  'lang': 'in',\n",
      "  'possibly_sensitive': False,\n",
      "  'public_metrics': {'bookmark_count': 0,\n",
      "                     'impression_count': 6,\n",
      "                     'like_count': 0,\n",
      "                     'quote_count': 0,\n",
      "                     'reply_count': 0,\n",
      "                     'retweet_count': 0},\n",
      "  'referenced_tweets': [{'id': '1859072685105705311', 'type': 'quoted'},\n",
      "                        {'id': '1894706768649023792', 'type': 'replied_to'}],\n",
      "  'text': 'Kota Makassar (ᨀᨚᨈ ᨆᨀᨔᨑ) sebelumnya bernama Ujung Pandang, adalah '\n",
      "          'ibu kota provinsi Sulawesi Selatan, Indonesia.\\n'\n",
      "          '\\n'\n",
      "          '#FaizGeotag\\n'\n",
      "          '\\n'\n",
      "          'https://t.co/i9D72lPthV'},\n",
      " {'author_id': '475862742',\n",
      "  'created_at': '2025-02-26T11:14:37.000Z',\n",
      "  'edit_history_tweet_ids': ['1894707636278628411'],\n",
      "  'entities': {'annotations': [{'end': 83,\n",
      "                                'normalized_text': 'Yogyakarta',\n",
      "                                'probability': 0.5282,\n",
      "                                'start': 74,\n",
      "                                'type': 'Place'},\n",
      "                               {'end': 235,\n",
      "                                'normalized_text': 'Shiva',\n",
      "                                'probability': 0.4375,\n",
      "                                'start': 231,\n",
      "                                'type': 'Person'}],\n",
      "               'hashtags': [{'end': 251, 'start': 240, 'tag': 'FaizGeotag'}],\n",
      "               'urls': [{'display_url': 'x.com/zaenun_faiz/st…',\n",
      "                         'end': 275,\n",
      "                         'expanded_url': 'https://twitter.com/zaenun_faiz/status/1587346563805822983',\n",
      "                         'start': 252,\n",
      "                         'url': 'https://t.co/XMj0jEazKN'}]},\n",
      "  'geo': {'place_id': '1d4c6ad315aabd84'},\n",
      "  'id': '1894707636278628411',\n",
      "  'lang': 'en',\n",
      "  'possibly_sensitive': False,\n",
      "  'public_metrics': {'bookmark_count': 0,\n",
      "                     'impression_count': 84,\n",
      "                     'like_count': 0,\n",
      "                     'quote_count': 0,\n",
      "                     'reply_count': 0,\n",
      "                     'retweet_count': 0},\n",
      "  'referenced_tweets': [{'id': '1587346563805822983', 'type': 'quoted'}],\n",
      "  'text': 'Prambanan\\xa0is a 9th-century\\xa0Hindu\\xa0temple\\xa0compound in '\n",
      "          'the\\xa0Special Region of Yogyakarta, in southern\\xa0Java,\\xa0'\n",
      "          'Indonesia, dedicated to the\\xa0Trimūrti, the expression of God as '\n",
      "          'the Creator (Brahma), the Preserver (Vishnu) and the Destroyer '\n",
      "          '(Shiva).\\n'\n",
      "          '\\n'\n",
      "          '#FaizGeotag https://t.co/XMj0jEazKN'},\n",
      " {'attachments': {'media_keys': ['3_1894706765788479488']},\n",
      "  'author_id': '475862742',\n",
      "  'created_at': '2025-02-26T11:11:10.000Z',\n",
      "  'edit_history_tweet_ids': ['1894706768649023792'],\n",
      "  'entities': {'annotations': [{'end': 8,\n",
      "                                'normalized_text': 'Borobudur',\n",
      "                                'probability': 0.8792,\n",
      "                                'start': 0,\n",
      "                                'type': 'Place'},\n",
      "                               {'end': 150,\n",
      "                                'normalized_text': 'Indonesia',\n",
      "                                'probability': 0.9181,\n",
      "                                'start': 142,\n",
      "                                'type': 'Place'},\n",
      "                               {'end': 164,\n",
      "                                'normalized_text': 'FaizGeotag',\n",
      "                                'probability': 0.6357,\n",
      "                                'start': 155,\n",
      "                                'type': 'Place'}],\n",
      "               'hashtags': [{'end': 165, 'start': 154, 'tag': 'FaizGeotag'}],\n",
      "               'urls': [{'display_url': 'pic.x.com/RqpYA8ZSQI',\n",
      "                         'end': 189,\n",
      "                         'expanded_url': 'https://x.com/zaenun_faiz/status/1894706768649023792/photo/1',\n",
      "                         'media_key': '3_1894706765788479488',\n",
      "                         'start': 166,\n",
      "                         'url': 'https://t.co/RqpYA8ZSQI'}]},\n",
      "  'geo': {'place_id': '36cb70a6b6dc142a'},\n",
      "  'id': '1894706768649023792',\n",
      "  'lang': 'en',\n",
      "  'possibly_sensitive': False,\n",
      "  'public_metrics': {'bookmark_count': 0,\n",
      "                     'impression_count': 52,\n",
      "                     'like_count': 0,\n",
      "                     'quote_count': 0,\n",
      "                     'reply_count': 1,\n",
      "                     'retweet_count': 0},\n",
      "  'text': 'Borobudur is a 9th-century\\xa0Mahayana\\xa0Buddhist temple\\xa0in\\xa0'\n",
      "          'Magelang Regency, near the city of\\xa0Magelang\\xa0and the town '\n",
      "          'of\\xa0Muntilan, in\\xa0Central Java, Indonesia.\\n'\n",
      "          '\\n'\n",
      "          '#FaizGeotag https://t.co/RqpYA8ZSQI'}]\n"
     ]
    },
    {
     "data": {
      "text/plain": [
       "0    None\n",
       "Name: data, dtype: object"
      ]
     },
     "execution_count": 164,
     "metadata": {},
     "output_type": "execute_result"
    }
   ],
   "source": [
    "df[\"data\"].apply(lambda row: pprint(row))"
   ]
  },
  {
   "cell_type": "markdown",
   "metadata": {},
   "source": [
    "### Make list of data into dataframe row"
   ]
  },
  {
   "cell_type": "code",
   "execution_count": 388,
   "metadata": {},
   "outputs": [
    {
     "data": {
      "text/plain": [
       "0    {'text': 'Kota Makassar (ᨀᨚᨈ ᨆᨀᨔᨑ) sebelumnya ...\n",
       "1    {'text': 'Prambanan is a 9th-century Hindu tem...\n",
       "2    {'text': 'Borobudur is a 9th-century Mahayana ...\n",
       "Name: data, dtype: object"
      ]
     },
     "execution_count": 388,
     "metadata": {},
     "output_type": "execute_result"
    }
   ],
   "source": [
    "df_data = df[\"data\"].explode(\"data\")\n",
    "\n",
    "df_data"
   ]
  },
  {
   "cell_type": "markdown",
   "metadata": {},
   "source": [
    "### Convert single column with dict into series column"
   ]
  },
  {
   "cell_type": "code",
   "execution_count": 389,
   "metadata": {},
   "outputs": [
    {
     "data": {
      "text/html": [
       "<div>\n",
       "<style scoped>\n",
       "    .dataframe tbody tr th:only-of-type {\n",
       "        vertical-align: middle;\n",
       "    }\n",
       "\n",
       "    .dataframe tbody tr th {\n",
       "        vertical-align: top;\n",
       "    }\n",
       "\n",
       "    .dataframe thead th {\n",
       "        text-align: right;\n",
       "    }\n",
       "</style>\n",
       "<table border=\"1\" class=\"dataframe\">\n",
       "  <thead>\n",
       "    <tr style=\"text-align: right;\">\n",
       "      <th></th>\n",
       "      <th>text</th>\n",
       "      <th>edit_history_tweet_ids</th>\n",
       "      <th>referenced_tweets</th>\n",
       "      <th>author_id</th>\n",
       "      <th>geo</th>\n",
       "      <th>lang</th>\n",
       "      <th>id</th>\n",
       "      <th>entities</th>\n",
       "      <th>in_reply_to_user_id</th>\n",
       "      <th>created_at</th>\n",
       "      <th>public_metrics</th>\n",
       "      <th>possibly_sensitive</th>\n",
       "      <th>attachments</th>\n",
       "    </tr>\n",
       "  </thead>\n",
       "  <tbody>\n",
       "    <tr>\n",
       "      <th>0</th>\n",
       "      <td>Kota Makassar (ᨀᨚᨈ ᨆᨀᨔᨑ) sebelumnya bernama Uj...</td>\n",
       "      <td>[1896153702140088593]</td>\n",
       "      <td>[{'type': 'quoted', 'id': '1859072685105705311...</td>\n",
       "      <td>475862742</td>\n",
       "      <td>{'place_id': 'ec6afdae43138dcd'}</td>\n",
       "      <td>in</td>\n",
       "      <td>1896153702140088593</td>\n",
       "      <td>{'urls': [{'start': 127, 'end': 150, 'url': 'h...</td>\n",
       "      <td>475862742</td>\n",
       "      <td>2025-03-02T11:00:46.000Z</td>\n",
       "      <td>{'retweet_count': 0, 'reply_count': 0, 'like_c...</td>\n",
       "      <td>False</td>\n",
       "      <td>NaN</td>\n",
       "    </tr>\n",
       "    <tr>\n",
       "      <th>1</th>\n",
       "      <td>Prambanan is a 9th-century Hindu temple compou...</td>\n",
       "      <td>[1894707636278628411]</td>\n",
       "      <td>[{'type': 'quoted', 'id': '1587346563805822983'}]</td>\n",
       "      <td>475862742</td>\n",
       "      <td>{'place_id': '1d4c6ad315aabd84'}</td>\n",
       "      <td>en</td>\n",
       "      <td>1894707636278628411</td>\n",
       "      <td>{'annotations': [{'start': 74, 'end': 83, 'pro...</td>\n",
       "      <td>NaN</td>\n",
       "      <td>2025-02-26T11:14:37.000Z</td>\n",
       "      <td>{'retweet_count': 0, 'reply_count': 0, 'like_c...</td>\n",
       "      <td>False</td>\n",
       "      <td>NaN</td>\n",
       "    </tr>\n",
       "    <tr>\n",
       "      <th>2</th>\n",
       "      <td>Borobudur is a 9th-century Mahayana Buddhist t...</td>\n",
       "      <td>[1894706768649023792]</td>\n",
       "      <td>NaN</td>\n",
       "      <td>475862742</td>\n",
       "      <td>{'place_id': '36cb70a6b6dc142a'}</td>\n",
       "      <td>en</td>\n",
       "      <td>1894706768649023792</td>\n",
       "      <td>{'annotations': [{'start': 0, 'end': 8, 'proba...</td>\n",
       "      <td>NaN</td>\n",
       "      <td>2025-02-26T11:11:10.000Z</td>\n",
       "      <td>{'retweet_count': 0, 'reply_count': 1, 'like_c...</td>\n",
       "      <td>False</td>\n",
       "      <td>{'media_keys': ['3_1894706765788479488']}</td>\n",
       "    </tr>\n",
       "  </tbody>\n",
       "</table>\n",
       "</div>"
      ],
      "text/plain": [
       "                                                text edit_history_tweet_ids  \\\n",
       "0  Kota Makassar (ᨀᨚᨈ ᨆᨀᨔᨑ) sebelumnya bernama Uj...  [1896153702140088593]   \n",
       "1  Prambanan is a 9th-century Hindu temple compou...  [1894707636278628411]   \n",
       "2  Borobudur is a 9th-century Mahayana Buddhist t...  [1894706768649023792]   \n",
       "\n",
       "                                   referenced_tweets  author_id  \\\n",
       "0  [{'type': 'quoted', 'id': '1859072685105705311...  475862742   \n",
       "1  [{'type': 'quoted', 'id': '1587346563805822983'}]  475862742   \n",
       "2                                                NaN  475862742   \n",
       "\n",
       "                                geo lang                   id  \\\n",
       "0  {'place_id': 'ec6afdae43138dcd'}   in  1896153702140088593   \n",
       "1  {'place_id': '1d4c6ad315aabd84'}   en  1894707636278628411   \n",
       "2  {'place_id': '36cb70a6b6dc142a'}   en  1894706768649023792   \n",
       "\n",
       "                                            entities in_reply_to_user_id  \\\n",
       "0  {'urls': [{'start': 127, 'end': 150, 'url': 'h...           475862742   \n",
       "1  {'annotations': [{'start': 74, 'end': 83, 'pro...                 NaN   \n",
       "2  {'annotations': [{'start': 0, 'end': 8, 'proba...                 NaN   \n",
       "\n",
       "                 created_at  \\\n",
       "0  2025-03-02T11:00:46.000Z   \n",
       "1  2025-02-26T11:14:37.000Z   \n",
       "2  2025-02-26T11:11:10.000Z   \n",
       "\n",
       "                                      public_metrics  possibly_sensitive  \\\n",
       "0  {'retweet_count': 0, 'reply_count': 0, 'like_c...               False   \n",
       "1  {'retweet_count': 0, 'reply_count': 0, 'like_c...               False   \n",
       "2  {'retweet_count': 0, 'reply_count': 1, 'like_c...               False   \n",
       "\n",
       "                                 attachments  \n",
       "0                                        NaN  \n",
       "1                                        NaN  \n",
       "2  {'media_keys': ['3_1894706765788479488']}  "
      ]
     },
     "execution_count": 389,
     "metadata": {},
     "output_type": "execute_result"
    }
   ],
   "source": [
    "df_data_series = df_data.apply(pd.Series)\n",
    "\n",
    "df_data_series"
   ]
  },
  {
   "cell_type": "markdown",
   "metadata": {},
   "source": [
    "### Remove edit_history, in_reply_user_id, attachments and entities"
   ]
  },
  {
   "cell_type": "code",
   "execution_count": 390,
   "metadata": {},
   "outputs": [],
   "source": [
    "df_data_series = df_data_series.drop(columns=[\"edit_history_tweet_ids\", \"in_reply_to_user_id\", \"attachments\", \"entities\"])"
   ]
  },
  {
   "cell_type": "markdown",
   "metadata": {},
   "source": [
    "### Parse geo place id"
   ]
  },
  {
   "cell_type": "code",
   "execution_count": 391,
   "metadata": {},
   "outputs": [
    {
     "data": {
      "text/plain": [
       "0    ec6afdae43138dcd\n",
       "1    1d4c6ad315aabd84\n",
       "2    36cb70a6b6dc142a\n",
       "Name: geo, dtype: object"
      ]
     },
     "execution_count": 391,
     "metadata": {},
     "output_type": "execute_result"
    }
   ],
   "source": [
    "df_data_series[\"geo\"].apply(lambda row: row[\"place_id\"])"
   ]
  },
  {
   "cell_type": "code",
   "execution_count": 392,
   "metadata": {},
   "outputs": [],
   "source": [
    "df_data_series[\"place_id\"] = df_data_series[\"geo\"].apply(lambda row: row[\"place_id\"])"
   ]
  },
  {
   "cell_type": "code",
   "execution_count": 393,
   "metadata": {},
   "outputs": [
    {
     "data": {
      "text/html": [
       "<div>\n",
       "<style scoped>\n",
       "    .dataframe tbody tr th:only-of-type {\n",
       "        vertical-align: middle;\n",
       "    }\n",
       "\n",
       "    .dataframe tbody tr th {\n",
       "        vertical-align: top;\n",
       "    }\n",
       "\n",
       "    .dataframe thead th {\n",
       "        text-align: right;\n",
       "    }\n",
       "</style>\n",
       "<table border=\"1\" class=\"dataframe\">\n",
       "  <thead>\n",
       "    <tr style=\"text-align: right;\">\n",
       "      <th></th>\n",
       "      <th>text</th>\n",
       "      <th>referenced_tweets</th>\n",
       "      <th>author_id</th>\n",
       "      <th>geo</th>\n",
       "      <th>lang</th>\n",
       "      <th>id</th>\n",
       "      <th>created_at</th>\n",
       "      <th>public_metrics</th>\n",
       "      <th>possibly_sensitive</th>\n",
       "      <th>place_id</th>\n",
       "    </tr>\n",
       "  </thead>\n",
       "  <tbody>\n",
       "    <tr>\n",
       "      <th>0</th>\n",
       "      <td>Kota Makassar (ᨀᨚᨈ ᨆᨀᨔᨑ) sebelumnya bernama Uj...</td>\n",
       "      <td>[{'type': 'quoted', 'id': '1859072685105705311...</td>\n",
       "      <td>475862742</td>\n",
       "      <td>{'place_id': 'ec6afdae43138dcd'}</td>\n",
       "      <td>in</td>\n",
       "      <td>1896153702140088593</td>\n",
       "      <td>2025-03-02T11:00:46.000Z</td>\n",
       "      <td>{'retweet_count': 0, 'reply_count': 0, 'like_c...</td>\n",
       "      <td>False</td>\n",
       "      <td>ec6afdae43138dcd</td>\n",
       "    </tr>\n",
       "    <tr>\n",
       "      <th>1</th>\n",
       "      <td>Prambanan is a 9th-century Hindu temple compou...</td>\n",
       "      <td>[{'type': 'quoted', 'id': '1587346563805822983'}]</td>\n",
       "      <td>475862742</td>\n",
       "      <td>{'place_id': '1d4c6ad315aabd84'}</td>\n",
       "      <td>en</td>\n",
       "      <td>1894707636278628411</td>\n",
       "      <td>2025-02-26T11:14:37.000Z</td>\n",
       "      <td>{'retweet_count': 0, 'reply_count': 0, 'like_c...</td>\n",
       "      <td>False</td>\n",
       "      <td>1d4c6ad315aabd84</td>\n",
       "    </tr>\n",
       "    <tr>\n",
       "      <th>2</th>\n",
       "      <td>Borobudur is a 9th-century Mahayana Buddhist t...</td>\n",
       "      <td>NaN</td>\n",
       "      <td>475862742</td>\n",
       "      <td>{'place_id': '36cb70a6b6dc142a'}</td>\n",
       "      <td>en</td>\n",
       "      <td>1894706768649023792</td>\n",
       "      <td>2025-02-26T11:11:10.000Z</td>\n",
       "      <td>{'retweet_count': 0, 'reply_count': 1, 'like_c...</td>\n",
       "      <td>False</td>\n",
       "      <td>36cb70a6b6dc142a</td>\n",
       "    </tr>\n",
       "  </tbody>\n",
       "</table>\n",
       "</div>"
      ],
      "text/plain": [
       "                                                text  \\\n",
       "0  Kota Makassar (ᨀᨚᨈ ᨆᨀᨔᨑ) sebelumnya bernama Uj...   \n",
       "1  Prambanan is a 9th-century Hindu temple compou...   \n",
       "2  Borobudur is a 9th-century Mahayana Buddhist t...   \n",
       "\n",
       "                                   referenced_tweets  author_id  \\\n",
       "0  [{'type': 'quoted', 'id': '1859072685105705311...  475862742   \n",
       "1  [{'type': 'quoted', 'id': '1587346563805822983'}]  475862742   \n",
       "2                                                NaN  475862742   \n",
       "\n",
       "                                geo lang                   id  \\\n",
       "0  {'place_id': 'ec6afdae43138dcd'}   in  1896153702140088593   \n",
       "1  {'place_id': '1d4c6ad315aabd84'}   en  1894707636278628411   \n",
       "2  {'place_id': '36cb70a6b6dc142a'}   en  1894706768649023792   \n",
       "\n",
       "                 created_at  \\\n",
       "0  2025-03-02T11:00:46.000Z   \n",
       "1  2025-02-26T11:14:37.000Z   \n",
       "2  2025-02-26T11:11:10.000Z   \n",
       "\n",
       "                                      public_metrics  possibly_sensitive  \\\n",
       "0  {'retweet_count': 0, 'reply_count': 0, 'like_c...               False   \n",
       "1  {'retweet_count': 0, 'reply_count': 0, 'like_c...               False   \n",
       "2  {'retweet_count': 0, 'reply_count': 1, 'like_c...               False   \n",
       "\n",
       "           place_id  \n",
       "0  ec6afdae43138dcd  \n",
       "1  1d4c6ad315aabd84  \n",
       "2  36cb70a6b6dc142a  "
      ]
     },
     "execution_count": 393,
     "metadata": {},
     "output_type": "execute_result"
    }
   ],
   "source": [
    "df_data_series"
   ]
  },
  {
   "cell_type": "code",
   "execution_count": 394,
   "metadata": {},
   "outputs": [],
   "source": [
    "df_data_series = df_data_series.drop(columns=[\"geo\"])"
   ]
  },
  {
   "cell_type": "markdown",
   "metadata": {},
   "source": [
    "### Clean language"
   ]
  },
  {
   "cell_type": "code",
   "execution_count": 395,
   "metadata": {},
   "outputs": [],
   "source": [
    "custom_mapping = {\n",
    "  \"in\": \"id\"\n",
    "}\n",
    "\n",
    "def get_language_name(lang_code):\n",
    "  lang_code = custom_mapping.get(lang_code, lang_code)\n",
    "  \n",
    "  try:\n",
    "    return pycountry.languages.get(alpha_2=lang_code)\n",
    "  except AttributeError:\n",
    "    return None"
   ]
  },
  {
   "cell_type": "code",
   "execution_count": 396,
   "metadata": {},
   "outputs": [],
   "source": [
    "df_data_series[\"language_name\"] = df_data_series[\"lang\"].apply(lambda row: get_language_name(row).name)\n",
    "df_data_series[\"language_code\"] = df_data_series[\"lang\"].apply(lambda row: get_language_name(row).alpha_2)"
   ]
  },
  {
   "cell_type": "code",
   "execution_count": 397,
   "metadata": {},
   "outputs": [],
   "source": [
    "df_data_series = df_data_series.drop(columns=[\"lang\"])"
   ]
  },
  {
   "cell_type": "markdown",
   "metadata": {},
   "source": [
    "### Rename id to tweet_id"
   ]
  },
  {
   "cell_type": "code",
   "execution_count": 400,
   "metadata": {},
   "outputs": [],
   "source": [
    "df_data_series = df_data_series.rename(\n",
    "  columns={\"id\": \"tweet_id\", \"possibly_sensitive\": \"sensitive\"}\n",
    ")"
   ]
  },
  {
   "cell_type": "markdown",
   "metadata": {},
   "source": [
    "### Spread public metrics"
   ]
  },
  {
   "cell_type": "code",
   "execution_count": 402,
   "metadata": {},
   "outputs": [
    {
     "data": {
      "text/html": [
       "<div>\n",
       "<style scoped>\n",
       "    .dataframe tbody tr th:only-of-type {\n",
       "        vertical-align: middle;\n",
       "    }\n",
       "\n",
       "    .dataframe tbody tr th {\n",
       "        vertical-align: top;\n",
       "    }\n",
       "\n",
       "    .dataframe thead th {\n",
       "        text-align: right;\n",
       "    }\n",
       "</style>\n",
       "<table border=\"1\" class=\"dataframe\">\n",
       "  <thead>\n",
       "    <tr style=\"text-align: right;\">\n",
       "      <th></th>\n",
       "      <th>retweet_count</th>\n",
       "      <th>reply_count</th>\n",
       "      <th>like_count</th>\n",
       "      <th>quote_count</th>\n",
       "      <th>bookmark_count</th>\n",
       "      <th>impression_count</th>\n",
       "    </tr>\n",
       "  </thead>\n",
       "  <tbody>\n",
       "    <tr>\n",
       "      <th>0</th>\n",
       "      <td>0</td>\n",
       "      <td>0</td>\n",
       "      <td>0</td>\n",
       "      <td>0</td>\n",
       "      <td>0</td>\n",
       "      <td>6</td>\n",
       "    </tr>\n",
       "    <tr>\n",
       "      <th>1</th>\n",
       "      <td>0</td>\n",
       "      <td>0</td>\n",
       "      <td>0</td>\n",
       "      <td>0</td>\n",
       "      <td>0</td>\n",
       "      <td>84</td>\n",
       "    </tr>\n",
       "    <tr>\n",
       "      <th>2</th>\n",
       "      <td>0</td>\n",
       "      <td>1</td>\n",
       "      <td>0</td>\n",
       "      <td>0</td>\n",
       "      <td>0</td>\n",
       "      <td>52</td>\n",
       "    </tr>\n",
       "  </tbody>\n",
       "</table>\n",
       "</div>"
      ],
      "text/plain": [
       "   retweet_count  reply_count  like_count  quote_count  bookmark_count  \\\n",
       "0              0            0           0            0               0   \n",
       "1              0            0           0            0               0   \n",
       "2              0            1           0            0               0   \n",
       "\n",
       "   impression_count  \n",
       "0                 6  \n",
       "1                84  \n",
       "2                52  "
      ]
     },
     "execution_count": 402,
     "metadata": {},
     "output_type": "execute_result"
    }
   ],
   "source": [
    "df_metrics_series = df_data_series[\"public_metrics\"].apply(pd.Series)\n",
    "\n",
    "df_metrics_series"
   ]
  },
  {
   "cell_type": "code",
   "execution_count": 403,
   "metadata": {},
   "outputs": [],
   "source": [
    "df_data_series = df_data_series.join(df_metrics_series)"
   ]
  },
  {
   "cell_type": "code",
   "execution_count": 405,
   "metadata": {},
   "outputs": [],
   "source": [
    "df_data_series = df_data_series.drop(columns=[\"public_metrics\"])"
   ]
  },
  {
   "cell_type": "markdown",
   "metadata": {},
   "source": [
    "### Spread reference tweets"
   ]
  },
  {
   "cell_type": "code",
   "execution_count": 407,
   "metadata": {},
   "outputs": [
    {
     "data": {
      "text/plain": [
       "0    [{'type': 'quoted', 'id': '1859072685105705311...\n",
       "1    [{'type': 'quoted', 'id': '1587346563805822983'}]\n",
       "2                                                  NaN\n",
       "Name: referenced_tweets, dtype: object"
      ]
     },
     "execution_count": 407,
     "metadata": {},
     "output_type": "execute_result"
    }
   ],
   "source": [
    "df_data_series[\"referenced_tweets\"]"
   ]
  },
  {
   "cell_type": "code",
   "execution_count": 435,
   "metadata": {},
   "outputs": [
    {
     "data": {
      "text/plain": [
       "0    1859072685105705311\n",
       "1    1587346563805822983\n",
       "2                   None\n",
       "Name: referenced_tweets, dtype: object"
      ]
     },
     "execution_count": 435,
     "metadata": {},
     "output_type": "execute_result"
    }
   ],
   "source": [
    "def set_referenced_tweet_type(row, type):\n",
    "  if row is not np.nan:\n",
    "    for item in row:\n",
    "      if type == item[\"type\"]:\n",
    "        return item[\"id\"]\n",
    "\n",
    "df_data_series[\"referenced_tweets\"].apply(\n",
    "  lambda row: set_referenced_tweet_type(row, type=\"quoted\")\n",
    ")"
   ]
  },
  {
   "cell_type": "code",
   "execution_count": 436,
   "metadata": {},
   "outputs": [],
   "source": [
    "df_data_series[\"reference_tweet_id_retweeted\"] = df_data_series[\"referenced_tweets\"].apply(\n",
    "  lambda row: set_referenced_tweet_type(row, type=\"retweeted\")\n",
    ")\n",
    "\n",
    "df_data_series[\"reference_tweet_id_quoted\"] = df_data_series[\"referenced_tweets\"].apply(\n",
    "  lambda row: set_referenced_tweet_type(row, type=\"quoted\")\n",
    ")\n",
    "\n",
    "df_data_series[\"reference_tweet_id_replied_to\"] = df_data_series[\"referenced_tweets\"].apply(\n",
    "  lambda row: set_referenced_tweet_type(row, type=\"replied_to\")\n",
    ")"
   ]
  },
  {
   "cell_type": "code",
   "execution_count": 439,
   "metadata": {},
   "outputs": [],
   "source": [
    "df_data_series = df_data_series.drop(columns=[\"referenced_tweets\"])"
   ]
  },
  {
   "cell_type": "markdown",
   "metadata": {},
   "source": [
    "### Add Geoseries data"
   ]
  },
  {
   "cell_type": "code",
   "execution_count": 448,
   "metadata": {},
   "outputs": [
    {
     "data": {
      "text/html": [
       "<div>\n",
       "<style scoped>\n",
       "    .dataframe tbody tr th:only-of-type {\n",
       "        vertical-align: middle;\n",
       "    }\n",
       "\n",
       "    .dataframe tbody tr th {\n",
       "        vertical-align: top;\n",
       "    }\n",
       "\n",
       "    .dataframe thead th {\n",
       "        text-align: right;\n",
       "    }\n",
       "</style>\n",
       "<table border=\"1\" class=\"dataframe\">\n",
       "  <thead>\n",
       "    <tr style=\"text-align: right;\">\n",
       "      <th></th>\n",
       "      <th>text</th>\n",
       "      <th>author_id</th>\n",
       "      <th>tweet_id</th>\n",
       "      <th>created_at</th>\n",
       "      <th>sensitive</th>\n",
       "      <th>place_id</th>\n",
       "      <th>language_name</th>\n",
       "      <th>language_code</th>\n",
       "      <th>retweet_count</th>\n",
       "      <th>reply_count</th>\n",
       "      <th>like_count</th>\n",
       "      <th>quote_count</th>\n",
       "      <th>bookmark_count</th>\n",
       "      <th>impression_count</th>\n",
       "      <th>reference_tweet_id_retweeted</th>\n",
       "      <th>reference_tweet_id_quoted</th>\n",
       "      <th>reference_tweet_id_replied_to</th>\n",
       "    </tr>\n",
       "  </thead>\n",
       "  <tbody>\n",
       "    <tr>\n",
       "      <th>0</th>\n",
       "      <td>Kota Makassar (ᨀᨚᨈ ᨆᨀᨔᨑ) sebelumnya bernama Uj...</td>\n",
       "      <td>475862742</td>\n",
       "      <td>1896153702140088593</td>\n",
       "      <td>2025-03-02T11:00:46.000Z</td>\n",
       "      <td>False</td>\n",
       "      <td>ec6afdae43138dcd</td>\n",
       "      <td>Indonesian</td>\n",
       "      <td>id</td>\n",
       "      <td>0</td>\n",
       "      <td>0</td>\n",
       "      <td>0</td>\n",
       "      <td>0</td>\n",
       "      <td>0</td>\n",
       "      <td>6</td>\n",
       "      <td>None</td>\n",
       "      <td>1859072685105705311</td>\n",
       "      <td>1894706768649023792</td>\n",
       "    </tr>\n",
       "    <tr>\n",
       "      <th>1</th>\n",
       "      <td>Prambanan is a 9th-century Hindu temple compou...</td>\n",
       "      <td>475862742</td>\n",
       "      <td>1894707636278628411</td>\n",
       "      <td>2025-02-26T11:14:37.000Z</td>\n",
       "      <td>False</td>\n",
       "      <td>1d4c6ad315aabd84</td>\n",
       "      <td>English</td>\n",
       "      <td>en</td>\n",
       "      <td>0</td>\n",
       "      <td>0</td>\n",
       "      <td>0</td>\n",
       "      <td>0</td>\n",
       "      <td>0</td>\n",
       "      <td>84</td>\n",
       "      <td>None</td>\n",
       "      <td>1587346563805822983</td>\n",
       "      <td>None</td>\n",
       "    </tr>\n",
       "    <tr>\n",
       "      <th>2</th>\n",
       "      <td>Borobudur is a 9th-century Mahayana Buddhist t...</td>\n",
       "      <td>475862742</td>\n",
       "      <td>1894706768649023792</td>\n",
       "      <td>2025-02-26T11:11:10.000Z</td>\n",
       "      <td>False</td>\n",
       "      <td>36cb70a6b6dc142a</td>\n",
       "      <td>English</td>\n",
       "      <td>en</td>\n",
       "      <td>0</td>\n",
       "      <td>1</td>\n",
       "      <td>0</td>\n",
       "      <td>0</td>\n",
       "      <td>0</td>\n",
       "      <td>52</td>\n",
       "      <td>None</td>\n",
       "      <td>None</td>\n",
       "      <td>None</td>\n",
       "    </tr>\n",
       "  </tbody>\n",
       "</table>\n",
       "</div>"
      ],
      "text/plain": [
       "                                                text  author_id  \\\n",
       "0  Kota Makassar (ᨀᨚᨈ ᨆᨀᨔᨑ) sebelumnya bernama Uj...  475862742   \n",
       "1  Prambanan is a 9th-century Hindu temple compou...  475862742   \n",
       "2  Borobudur is a 9th-century Mahayana Buddhist t...  475862742   \n",
       "\n",
       "              tweet_id                created_at  sensitive          place_id  \\\n",
       "0  1896153702140088593  2025-03-02T11:00:46.000Z      False  ec6afdae43138dcd   \n",
       "1  1894707636278628411  2025-02-26T11:14:37.000Z      False  1d4c6ad315aabd84   \n",
       "2  1894706768649023792  2025-02-26T11:11:10.000Z      False  36cb70a6b6dc142a   \n",
       "\n",
       "  language_name language_code  retweet_count  reply_count  like_count  \\\n",
       "0    Indonesian            id              0            0           0   \n",
       "1       English            en              0            0           0   \n",
       "2       English            en              0            1           0   \n",
       "\n",
       "   quote_count  bookmark_count  impression_count reference_tweet_id_retweeted  \\\n",
       "0            0               0                 6                         None   \n",
       "1            0               0                84                         None   \n",
       "2            0               0                52                         None   \n",
       "\n",
       "  reference_tweet_id_quoted reference_tweet_id_replied_to  \n",
       "0       1859072685105705311           1894706768649023792  \n",
       "1       1587346563805822983                          None  \n",
       "2                      None                          None  "
      ]
     },
     "execution_count": 448,
     "metadata": {},
     "output_type": "execute_result"
    }
   ],
   "source": [
    "df_data_series"
   ]
  },
  {
   "cell_type": "code",
   "execution_count": 445,
   "metadata": {},
   "outputs": [],
   "source": [
    "df_places = df[\"includes_places\"].explode(\"includes_places\")"
   ]
  },
  {
   "cell_type": "code",
   "execution_count": 451,
   "metadata": {},
   "outputs": [],
   "source": [
    "df_places_series = df_places.apply(pd.Series)"
   ]
  },
  {
   "cell_type": "code",
   "execution_count": 452,
   "metadata": {},
   "outputs": [
    {
     "data": {
      "text/html": [
       "<div>\n",
       "<style scoped>\n",
       "    .dataframe tbody tr th:only-of-type {\n",
       "        vertical-align: middle;\n",
       "    }\n",
       "\n",
       "    .dataframe tbody tr th {\n",
       "        vertical-align: top;\n",
       "    }\n",
       "\n",
       "    .dataframe thead th {\n",
       "        text-align: right;\n",
       "    }\n",
       "</style>\n",
       "<table border=\"1\" class=\"dataframe\">\n",
       "  <thead>\n",
       "    <tr style=\"text-align: right;\">\n",
       "      <th></th>\n",
       "      <th>place_type</th>\n",
       "      <th>id</th>\n",
       "      <th>name</th>\n",
       "      <th>full_name</th>\n",
       "      <th>country</th>\n",
       "      <th>geo</th>\n",
       "      <th>country_code</th>\n",
       "    </tr>\n",
       "  </thead>\n",
       "  <tbody>\n",
       "    <tr>\n",
       "      <th>0</th>\n",
       "      <td>city</td>\n",
       "      <td>ec6afdae43138dcd</td>\n",
       "      <td>Makasar</td>\n",
       "      <td>Makasar, Indonesia</td>\n",
       "      <td>Indonesia</td>\n",
       "      <td>{'type': 'Feature', 'bbox': [106.882369, -6.30...</td>\n",
       "      <td>ID</td>\n",
       "    </tr>\n",
       "    <tr>\n",
       "      <th>1</th>\n",
       "      <td>city</td>\n",
       "      <td>1d4c6ad315aabd84</td>\n",
       "      <td>Prambanan</td>\n",
       "      <td>Prambanan, Indonesia</td>\n",
       "      <td>Indonesia</td>\n",
       "      <td>{'type': 'Feature', 'bbox': [110.464824, -7.83...</td>\n",
       "      <td>ID</td>\n",
       "    </tr>\n",
       "    <tr>\n",
       "      <th>2</th>\n",
       "      <td>city</td>\n",
       "      <td>36cb70a6b6dc142a</td>\n",
       "      <td>Borobudur</td>\n",
       "      <td>Borobudur, Indonesia</td>\n",
       "      <td>Indonesia</td>\n",
       "      <td>{'type': 'Feature', 'bbox': [110.150183, -7.65...</td>\n",
       "      <td>ID</td>\n",
       "    </tr>\n",
       "  </tbody>\n",
       "</table>\n",
       "</div>"
      ],
      "text/plain": [
       "  place_type                id       name             full_name    country  \\\n",
       "0       city  ec6afdae43138dcd    Makasar    Makasar, Indonesia  Indonesia   \n",
       "1       city  1d4c6ad315aabd84  Prambanan  Prambanan, Indonesia  Indonesia   \n",
       "2       city  36cb70a6b6dc142a  Borobudur  Borobudur, Indonesia  Indonesia   \n",
       "\n",
       "                                                 geo country_code  \n",
       "0  {'type': 'Feature', 'bbox': [106.882369, -6.30...           ID  \n",
       "1  {'type': 'Feature', 'bbox': [110.464824, -7.83...           ID  \n",
       "2  {'type': 'Feature', 'bbox': [110.150183, -7.65...           ID  "
      ]
     },
     "execution_count": 452,
     "metadata": {},
     "output_type": "execute_result"
    }
   ],
   "source": [
    "df_places_series"
   ]
  },
  {
   "cell_type": "markdown",
   "metadata": {},
   "source": [
    "### convert bbox into polygon"
   ]
  },
  {
   "cell_type": "code",
   "execution_count": 459,
   "metadata": {},
   "outputs": [
    {
     "data": {
      "text/plain": [
       "0    POLYGON ((106.935071 -6.303373, 106.935071 -6....\n",
       "1    POLYGON ((110.544218 -7.831231, 110.544218 -7....\n",
       "2    POLYGON ((110.250073 -7.653435, 110.250073 -7....\n",
       "Name: geo, dtype: object"
      ]
     },
     "execution_count": 459,
     "metadata": {},
     "output_type": "execute_result"
    }
   ],
   "source": [
    "def convert_bbox_to_polygon(row):\n",
    "  # return row[\"bbox\"]\n",
    "  return box(*row[\"bbox\"])\n",
    "\n",
    "df_places_series[\"geo\"].apply(convert_bbox_to_polygon)"
   ]
  },
  {
   "cell_type": "code",
   "execution_count": 460,
   "metadata": {},
   "outputs": [],
   "source": [
    "df_places_series[\"polygon\"] = df_places_series[\"geo\"].apply(convert_bbox_to_polygon)"
   ]
  },
  {
   "cell_type": "markdown",
   "metadata": {},
   "source": [
    "### Remove place_id and geo"
   ]
  },
  {
   "cell_type": "code",
   "execution_count": 463,
   "metadata": {},
   "outputs": [],
   "source": [
    "df_places_series = df_places_series.drop(columns=[\"id\", \"geo\"])"
   ]
  },
  {
   "cell_type": "markdown",
   "metadata": {},
   "source": [
    "### Add place prefix for geoseries"
   ]
  },
  {
   "cell_type": "code",
   "execution_count": 464,
   "metadata": {},
   "outputs": [
    {
     "data": {
      "text/html": [
       "<div>\n",
       "<style scoped>\n",
       "    .dataframe tbody tr th:only-of-type {\n",
       "        vertical-align: middle;\n",
       "    }\n",
       "\n",
       "    .dataframe tbody tr th {\n",
       "        vertical-align: top;\n",
       "    }\n",
       "\n",
       "    .dataframe thead th {\n",
       "        text-align: right;\n",
       "    }\n",
       "</style>\n",
       "<table border=\"1\" class=\"dataframe\">\n",
       "  <thead>\n",
       "    <tr style=\"text-align: right;\">\n",
       "      <th></th>\n",
       "      <th>place_type</th>\n",
       "      <th>name</th>\n",
       "      <th>full_name</th>\n",
       "      <th>country</th>\n",
       "      <th>country_code</th>\n",
       "      <th>polygon</th>\n",
       "    </tr>\n",
       "  </thead>\n",
       "  <tbody>\n",
       "    <tr>\n",
       "      <th>0</th>\n",
       "      <td>city</td>\n",
       "      <td>Makasar</td>\n",
       "      <td>Makasar, Indonesia</td>\n",
       "      <td>Indonesia</td>\n",
       "      <td>ID</td>\n",
       "      <td>POLYGON ((106.935071 -6.303373, 106.935071 -6....</td>\n",
       "    </tr>\n",
       "    <tr>\n",
       "      <th>1</th>\n",
       "      <td>city</td>\n",
       "      <td>Prambanan</td>\n",
       "      <td>Prambanan, Indonesia</td>\n",
       "      <td>Indonesia</td>\n",
       "      <td>ID</td>\n",
       "      <td>POLYGON ((110.544218 -7.831231, 110.544218 -7....</td>\n",
       "    </tr>\n",
       "    <tr>\n",
       "      <th>2</th>\n",
       "      <td>city</td>\n",
       "      <td>Borobudur</td>\n",
       "      <td>Borobudur, Indonesia</td>\n",
       "      <td>Indonesia</td>\n",
       "      <td>ID</td>\n",
       "      <td>POLYGON ((110.250073 -7.653435, 110.250073 -7....</td>\n",
       "    </tr>\n",
       "  </tbody>\n",
       "</table>\n",
       "</div>"
      ],
      "text/plain": [
       "  place_type       name             full_name    country country_code  \\\n",
       "0       city    Makasar    Makasar, Indonesia  Indonesia           ID   \n",
       "1       city  Prambanan  Prambanan, Indonesia  Indonesia           ID   \n",
       "2       city  Borobudur  Borobudur, Indonesia  Indonesia           ID   \n",
       "\n",
       "                                             polygon  \n",
       "0  POLYGON ((106.935071 -6.303373, 106.935071 -6....  \n",
       "1  POLYGON ((110.544218 -7.831231, 110.544218 -7....  \n",
       "2  POLYGON ((110.250073 -7.653435, 110.250073 -7....  "
      ]
     },
     "execution_count": 464,
     "metadata": {},
     "output_type": "execute_result"
    }
   ],
   "source": [
    "df_places_series"
   ]
  },
  {
   "cell_type": "code",
   "execution_count": 467,
   "metadata": {},
   "outputs": [],
   "source": [
    "df_places_series = df_places_series.rename(columns={\"place_type\": \"type\"})"
   ]
  },
  {
   "cell_type": "code",
   "execution_count": 470,
   "metadata": {},
   "outputs": [],
   "source": [
    "df_places_series = df_places_series.add_prefix(\"place_\")"
   ]
  },
  {
   "cell_type": "markdown",
   "metadata": {},
   "source": [
    "### Merge Data and Place"
   ]
  },
  {
   "cell_type": "code",
   "execution_count": 471,
   "metadata": {},
   "outputs": [
    {
     "data": {
      "text/html": [
       "<div>\n",
       "<style scoped>\n",
       "    .dataframe tbody tr th:only-of-type {\n",
       "        vertical-align: middle;\n",
       "    }\n",
       "\n",
       "    .dataframe tbody tr th {\n",
       "        vertical-align: top;\n",
       "    }\n",
       "\n",
       "    .dataframe thead th {\n",
       "        text-align: right;\n",
       "    }\n",
       "</style>\n",
       "<table border=\"1\" class=\"dataframe\">\n",
       "  <thead>\n",
       "    <tr style=\"text-align: right;\">\n",
       "      <th></th>\n",
       "      <th>text</th>\n",
       "      <th>author_id</th>\n",
       "      <th>tweet_id</th>\n",
       "      <th>created_at</th>\n",
       "      <th>sensitive</th>\n",
       "      <th>place_id</th>\n",
       "      <th>language_name</th>\n",
       "      <th>language_code</th>\n",
       "      <th>retweet_count</th>\n",
       "      <th>reply_count</th>\n",
       "      <th>like_count</th>\n",
       "      <th>quote_count</th>\n",
       "      <th>bookmark_count</th>\n",
       "      <th>impression_count</th>\n",
       "      <th>reference_tweet_id_retweeted</th>\n",
       "      <th>reference_tweet_id_quoted</th>\n",
       "      <th>reference_tweet_id_replied_to</th>\n",
       "    </tr>\n",
       "  </thead>\n",
       "  <tbody>\n",
       "    <tr>\n",
       "      <th>0</th>\n",
       "      <td>Kota Makassar (ᨀᨚᨈ ᨆᨀᨔᨑ) sebelumnya bernama Uj...</td>\n",
       "      <td>475862742</td>\n",
       "      <td>1896153702140088593</td>\n",
       "      <td>2025-03-02T11:00:46.000Z</td>\n",
       "      <td>False</td>\n",
       "      <td>ec6afdae43138dcd</td>\n",
       "      <td>Indonesian</td>\n",
       "      <td>id</td>\n",
       "      <td>0</td>\n",
       "      <td>0</td>\n",
       "      <td>0</td>\n",
       "      <td>0</td>\n",
       "      <td>0</td>\n",
       "      <td>6</td>\n",
       "      <td>None</td>\n",
       "      <td>1859072685105705311</td>\n",
       "      <td>1894706768649023792</td>\n",
       "    </tr>\n",
       "    <tr>\n",
       "      <th>1</th>\n",
       "      <td>Prambanan is a 9th-century Hindu temple compou...</td>\n",
       "      <td>475862742</td>\n",
       "      <td>1894707636278628411</td>\n",
       "      <td>2025-02-26T11:14:37.000Z</td>\n",
       "      <td>False</td>\n",
       "      <td>1d4c6ad315aabd84</td>\n",
       "      <td>English</td>\n",
       "      <td>en</td>\n",
       "      <td>0</td>\n",
       "      <td>0</td>\n",
       "      <td>0</td>\n",
       "      <td>0</td>\n",
       "      <td>0</td>\n",
       "      <td>84</td>\n",
       "      <td>None</td>\n",
       "      <td>1587346563805822983</td>\n",
       "      <td>None</td>\n",
       "    </tr>\n",
       "    <tr>\n",
       "      <th>2</th>\n",
       "      <td>Borobudur is a 9th-century Mahayana Buddhist t...</td>\n",
       "      <td>475862742</td>\n",
       "      <td>1894706768649023792</td>\n",
       "      <td>2025-02-26T11:11:10.000Z</td>\n",
       "      <td>False</td>\n",
       "      <td>36cb70a6b6dc142a</td>\n",
       "      <td>English</td>\n",
       "      <td>en</td>\n",
       "      <td>0</td>\n",
       "      <td>1</td>\n",
       "      <td>0</td>\n",
       "      <td>0</td>\n",
       "      <td>0</td>\n",
       "      <td>52</td>\n",
       "      <td>None</td>\n",
       "      <td>None</td>\n",
       "      <td>None</td>\n",
       "    </tr>\n",
       "  </tbody>\n",
       "</table>\n",
       "</div>"
      ],
      "text/plain": [
       "                                                text  author_id  \\\n",
       "0  Kota Makassar (ᨀᨚᨈ ᨆᨀᨔᨑ) sebelumnya bernama Uj...  475862742   \n",
       "1  Prambanan is a 9th-century Hindu temple compou...  475862742   \n",
       "2  Borobudur is a 9th-century Mahayana Buddhist t...  475862742   \n",
       "\n",
       "              tweet_id                created_at  sensitive          place_id  \\\n",
       "0  1896153702140088593  2025-03-02T11:00:46.000Z      False  ec6afdae43138dcd   \n",
       "1  1894707636278628411  2025-02-26T11:14:37.000Z      False  1d4c6ad315aabd84   \n",
       "2  1894706768649023792  2025-02-26T11:11:10.000Z      False  36cb70a6b6dc142a   \n",
       "\n",
       "  language_name language_code  retweet_count  reply_count  like_count  \\\n",
       "0    Indonesian            id              0            0           0   \n",
       "1       English            en              0            0           0   \n",
       "2       English            en              0            1           0   \n",
       "\n",
       "   quote_count  bookmark_count  impression_count reference_tweet_id_retweeted  \\\n",
       "0            0               0                 6                         None   \n",
       "1            0               0                84                         None   \n",
       "2            0               0                52                         None   \n",
       "\n",
       "  reference_tweet_id_quoted reference_tweet_id_replied_to  \n",
       "0       1859072685105705311           1894706768649023792  \n",
       "1       1587346563805822983                          None  \n",
       "2                      None                          None  "
      ]
     },
     "execution_count": 471,
     "metadata": {},
     "output_type": "execute_result"
    }
   ],
   "source": [
    "df_data_series"
   ]
  },
  {
   "cell_type": "code",
   "execution_count": 472,
   "metadata": {},
   "outputs": [
    {
     "data": {
      "text/html": [
       "<div>\n",
       "<style scoped>\n",
       "    .dataframe tbody tr th:only-of-type {\n",
       "        vertical-align: middle;\n",
       "    }\n",
       "\n",
       "    .dataframe tbody tr th {\n",
       "        vertical-align: top;\n",
       "    }\n",
       "\n",
       "    .dataframe thead th {\n",
       "        text-align: right;\n",
       "    }\n",
       "</style>\n",
       "<table border=\"1\" class=\"dataframe\">\n",
       "  <thead>\n",
       "    <tr style=\"text-align: right;\">\n",
       "      <th></th>\n",
       "      <th>place_type</th>\n",
       "      <th>place_name</th>\n",
       "      <th>place_full_name</th>\n",
       "      <th>place_country</th>\n",
       "      <th>place_country_code</th>\n",
       "      <th>place_polygon</th>\n",
       "    </tr>\n",
       "  </thead>\n",
       "  <tbody>\n",
       "    <tr>\n",
       "      <th>0</th>\n",
       "      <td>city</td>\n",
       "      <td>Makasar</td>\n",
       "      <td>Makasar, Indonesia</td>\n",
       "      <td>Indonesia</td>\n",
       "      <td>ID</td>\n",
       "      <td>POLYGON ((106.935071 -6.303373, 106.935071 -6....</td>\n",
       "    </tr>\n",
       "    <tr>\n",
       "      <th>1</th>\n",
       "      <td>city</td>\n",
       "      <td>Prambanan</td>\n",
       "      <td>Prambanan, Indonesia</td>\n",
       "      <td>Indonesia</td>\n",
       "      <td>ID</td>\n",
       "      <td>POLYGON ((110.544218 -7.831231, 110.544218 -7....</td>\n",
       "    </tr>\n",
       "    <tr>\n",
       "      <th>2</th>\n",
       "      <td>city</td>\n",
       "      <td>Borobudur</td>\n",
       "      <td>Borobudur, Indonesia</td>\n",
       "      <td>Indonesia</td>\n",
       "      <td>ID</td>\n",
       "      <td>POLYGON ((110.250073 -7.653435, 110.250073 -7....</td>\n",
       "    </tr>\n",
       "  </tbody>\n",
       "</table>\n",
       "</div>"
      ],
      "text/plain": [
       "  place_type place_name       place_full_name place_country  \\\n",
       "0       city    Makasar    Makasar, Indonesia     Indonesia   \n",
       "1       city  Prambanan  Prambanan, Indonesia     Indonesia   \n",
       "2       city  Borobudur  Borobudur, Indonesia     Indonesia   \n",
       "\n",
       "  place_country_code                                      place_polygon  \n",
       "0                 ID  POLYGON ((106.935071 -6.303373, 106.935071 -6....  \n",
       "1                 ID  POLYGON ((110.544218 -7.831231, 110.544218 -7....  \n",
       "2                 ID  POLYGON ((110.250073 -7.653435, 110.250073 -7....  "
      ]
     },
     "execution_count": 472,
     "metadata": {},
     "output_type": "execute_result"
    }
   ],
   "source": [
    "df_places_series"
   ]
  },
  {
   "cell_type": "code",
   "execution_count": 474,
   "metadata": {},
   "outputs": [],
   "source": [
    "df_merge = df_data_series.join(df_places_series)"
   ]
  },
  {
   "cell_type": "markdown",
   "metadata": {},
   "source": [
    "### Make the dataframe into geodataframe"
   ]
  },
  {
   "cell_type": "code",
   "execution_count": 479,
   "metadata": {},
   "outputs": [
    {
     "name": "stdout",
     "output_type": "stream",
     "text": [
      "<class 'pandas.core.series.Series'>\n",
      "RangeIndex: 3 entries, 0 to 2\n",
      "Series name: place_polygon\n",
      "Non-Null Count  Dtype \n",
      "--------------  ----- \n",
      "3 non-null      object\n",
      "dtypes: object(1)\n",
      "memory usage: 156.0+ bytes\n"
     ]
    }
   ],
   "source": [
    "df_merge[\"place_polygon\"].info()"
   ]
  },
  {
   "cell_type": "code",
   "execution_count": 541,
   "metadata": {},
   "outputs": [],
   "source": [
    "gdf = gpd.GeoDataFrame(df_merge, geometry=\"place_polygon\", crs=4326)"
   ]
  },
  {
   "cell_type": "code",
   "execution_count": 542,
   "metadata": {},
   "outputs": [
    {
     "name": "stdout",
     "output_type": "stream",
     "text": [
      "<class 'geopandas.geoseries.GeoSeries'>\n",
      "RangeIndex: 3 entries, 0 to 2\n",
      "Series name: place_polygon\n",
      "Non-Null Count  Dtype   \n",
      "--------------  -----   \n",
      "3 non-null      geometry\n",
      "dtypes: geometry(1)\n",
      "memory usage: 156.0 bytes\n"
     ]
    }
   ],
   "source": [
    "gdf[\"place_polygon\"].info()"
   ]
  },
  {
   "cell_type": "code",
   "execution_count": 543,
   "metadata": {},
   "outputs": [
    {
     "data": {
      "text/plain": [
       "<Geographic 2D CRS: EPSG:4326>\n",
       "Name: WGS 84\n",
       "Axis Info [ellipsoidal]:\n",
       "- Lat[north]: Geodetic latitude (degree)\n",
       "- Lon[east]: Geodetic longitude (degree)\n",
       "Area of Use:\n",
       "- name: World.\n",
       "- bounds: (-180.0, -90.0, 180.0, 90.0)\n",
       "Datum: World Geodetic System 1984 ensemble\n",
       "- Ellipsoid: WGS 84\n",
       "- Prime Meridian: Greenwich"
      ]
     },
     "execution_count": 543,
     "metadata": {},
     "output_type": "execute_result"
    }
   ],
   "source": [
    "gdf.crs"
   ]
  },
  {
   "cell_type": "markdown",
   "metadata": {},
   "source": [
    "### Word cleaning"
   ]
  },
  {
   "cell_type": "code",
   "execution_count": 544,
   "metadata": {},
   "outputs": [],
   "source": [
    "raw_words = gdf[\"text\"].apply(lambda row: row.split())"
   ]
  },
  {
   "cell_type": "code",
   "execution_count": 545,
   "metadata": {},
   "outputs": [
    {
     "data": {
      "text/plain": [
       "['Kota',\n",
       " 'Makassar',\n",
       " '(ᨀᨚᨈ',\n",
       " 'ᨆᨀᨔᨑ)',\n",
       " 'sebelumnya',\n",
       " 'bernama',\n",
       " 'Ujung',\n",
       " 'Pandang,',\n",
       " 'adalah',\n",
       " 'ibu',\n",
       " 'kota',\n",
       " 'provinsi',\n",
       " 'Sulawesi',\n",
       " 'Selatan,',\n",
       " 'Indonesia.',\n",
       " '#FaizGeotag',\n",
       " 'https://t.co/i9D72lPthV']"
      ]
     },
     "execution_count": 545,
     "metadata": {},
     "output_type": "execute_result"
    }
   ],
   "source": [
    "raw_words.iloc[0]"
   ]
  },
  {
   "cell_type": "code",
   "execution_count": 546,
   "metadata": {},
   "outputs": [
    {
     "data": {
      "text/plain": [
       "['Kota',\n",
       " 'Makassar',\n",
       " 'ᨀᨚᨈ',\n",
       " 'ᨆᨀᨔᨑ',\n",
       " 'sebelumnya',\n",
       " 'bernama',\n",
       " 'Ujung',\n",
       " 'Pandang',\n",
       " 'adalah',\n",
       " 'ibu',\n",
       " 'kota',\n",
       " 'provinsi',\n",
       " 'Sulawesi',\n",
       " 'Selatan',\n",
       " 'Indonesia',\n",
       " '#FaizGeotag',\n",
       " 'https://t.co/i9D72lPthV']"
      ]
     },
     "execution_count": 546,
     "metadata": {},
     "output_type": "execute_result"
    }
   ],
   "source": [
    "def cleaning_words(row):\n",
    "  trailing_last = [word.rstrip(',.()') for word in row]\n",
    "  trailing_first = [word.lstrip(',.()') for word in trailing_last]\n",
    "  return list(filter(None, trailing_first))\n",
    "\n",
    "raw_words.apply(cleaning_words).iloc[0]"
   ]
  },
  {
   "cell_type": "code",
   "execution_count": 547,
   "metadata": {},
   "outputs": [],
   "source": [
    "cleaned_words = raw_words.apply(cleaning_words)"
   ]
  },
  {
   "cell_type": "code",
   "execution_count": 549,
   "metadata": {},
   "outputs": [],
   "source": [
    "gdf[\"words\"] = cleaned_words"
   ]
  },
  {
   "cell_type": "code",
   "execution_count": 555,
   "metadata": {},
   "outputs": [],
   "source": [
    "gdf[\"word_count\"] = cleaned_words.str.len()"
   ]
  },
  {
   "cell_type": "code",
   "execution_count": 561,
   "metadata": {},
   "outputs": [],
   "source": [
    "gdf = gdf.drop(columns=[\"text\"])"
   ]
  },
  {
   "cell_type": "code",
   "execution_count": 562,
   "metadata": {},
   "outputs": [
    {
     "data": {
      "text/html": [
       "<div>\n",
       "<style scoped>\n",
       "    .dataframe tbody tr th:only-of-type {\n",
       "        vertical-align: middle;\n",
       "    }\n",
       "\n",
       "    .dataframe tbody tr th {\n",
       "        vertical-align: top;\n",
       "    }\n",
       "\n",
       "    .dataframe thead th {\n",
       "        text-align: right;\n",
       "    }\n",
       "</style>\n",
       "<table border=\"1\" class=\"dataframe\">\n",
       "  <thead>\n",
       "    <tr style=\"text-align: right;\">\n",
       "      <th></th>\n",
       "      <th>author_id</th>\n",
       "      <th>tweet_id</th>\n",
       "      <th>created_at</th>\n",
       "      <th>sensitive</th>\n",
       "      <th>place_id</th>\n",
       "      <th>language_name</th>\n",
       "      <th>language_code</th>\n",
       "      <th>retweet_count</th>\n",
       "      <th>reply_count</th>\n",
       "      <th>like_count</th>\n",
       "      <th>...</th>\n",
       "      <th>reference_tweet_id_quoted</th>\n",
       "      <th>reference_tweet_id_replied_to</th>\n",
       "      <th>place_type</th>\n",
       "      <th>place_name</th>\n",
       "      <th>place_full_name</th>\n",
       "      <th>place_country</th>\n",
       "      <th>place_country_code</th>\n",
       "      <th>place_polygon</th>\n",
       "      <th>words</th>\n",
       "      <th>word_count</th>\n",
       "    </tr>\n",
       "  </thead>\n",
       "  <tbody>\n",
       "    <tr>\n",
       "      <th>0</th>\n",
       "      <td>475862742</td>\n",
       "      <td>1896153702140088593</td>\n",
       "      <td>2025-03-02T11:00:46.000Z</td>\n",
       "      <td>False</td>\n",
       "      <td>ec6afdae43138dcd</td>\n",
       "      <td>Indonesian</td>\n",
       "      <td>id</td>\n",
       "      <td>0</td>\n",
       "      <td>0</td>\n",
       "      <td>0</td>\n",
       "      <td>...</td>\n",
       "      <td>1859072685105705311</td>\n",
       "      <td>1894706768649023792</td>\n",
       "      <td>city</td>\n",
       "      <td>Makasar</td>\n",
       "      <td>Makasar, Indonesia</td>\n",
       "      <td>Indonesia</td>\n",
       "      <td>ID</td>\n",
       "      <td>POLYGON ((106.93507 -6.30337, 106.93507 -6.241...</td>\n",
       "      <td>[Kota, Makassar, ᨀᨚᨈ, ᨆᨀᨔᨑ, sebelumnya, bernam...</td>\n",
       "      <td>17</td>\n",
       "    </tr>\n",
       "    <tr>\n",
       "      <th>1</th>\n",
       "      <td>475862742</td>\n",
       "      <td>1894707636278628411</td>\n",
       "      <td>2025-02-26T11:14:37.000Z</td>\n",
       "      <td>False</td>\n",
       "      <td>1d4c6ad315aabd84</td>\n",
       "      <td>English</td>\n",
       "      <td>en</td>\n",
       "      <td>0</td>\n",
       "      <td>0</td>\n",
       "      <td>0</td>\n",
       "      <td>...</td>\n",
       "      <td>1587346563805822983</td>\n",
       "      <td>None</td>\n",
       "      <td>city</td>\n",
       "      <td>Prambanan</td>\n",
       "      <td>Prambanan, Indonesia</td>\n",
       "      <td>Indonesia</td>\n",
       "      <td>ID</td>\n",
       "      <td>POLYGON ((110.54422 -7.83123, 110.54422 -7.711...</td>\n",
       "      <td>[Prambanan, is, a, 9th-century, Hindu, temple,...</td>\n",
       "      <td>38</td>\n",
       "    </tr>\n",
       "    <tr>\n",
       "      <th>2</th>\n",
       "      <td>475862742</td>\n",
       "      <td>1894706768649023792</td>\n",
       "      <td>2025-02-26T11:11:10.000Z</td>\n",
       "      <td>False</td>\n",
       "      <td>36cb70a6b6dc142a</td>\n",
       "      <td>English</td>\n",
       "      <td>en</td>\n",
       "      <td>0</td>\n",
       "      <td>1</td>\n",
       "      <td>0</td>\n",
       "      <td>...</td>\n",
       "      <td>None</td>\n",
       "      <td>None</td>\n",
       "      <td>city</td>\n",
       "      <td>Borobudur</td>\n",
       "      <td>Borobudur, Indonesia</td>\n",
       "      <td>Indonesia</td>\n",
       "      <td>ID</td>\n",
       "      <td>POLYGON ((110.25007 -7.65344, 110.25007 -7.572...</td>\n",
       "      <td>[Borobudur, is, a, 9th-century, Mahayana, Budd...</td>\n",
       "      <td>26</td>\n",
       "    </tr>\n",
       "  </tbody>\n",
       "</table>\n",
       "<p>3 rows × 24 columns</p>\n",
       "</div>"
      ],
      "text/plain": [
       "   author_id             tweet_id                created_at  sensitive  \\\n",
       "0  475862742  1896153702140088593  2025-03-02T11:00:46.000Z      False   \n",
       "1  475862742  1894707636278628411  2025-02-26T11:14:37.000Z      False   \n",
       "2  475862742  1894706768649023792  2025-02-26T11:11:10.000Z      False   \n",
       "\n",
       "           place_id language_name language_code  retweet_count  reply_count  \\\n",
       "0  ec6afdae43138dcd    Indonesian            id              0            0   \n",
       "1  1d4c6ad315aabd84       English            en              0            0   \n",
       "2  36cb70a6b6dc142a       English            en              0            1   \n",
       "\n",
       "   like_count  ...  reference_tweet_id_quoted  reference_tweet_id_replied_to  \\\n",
       "0           0  ...        1859072685105705311            1894706768649023792   \n",
       "1           0  ...        1587346563805822983                           None   \n",
       "2           0  ...                       None                           None   \n",
       "\n",
       "   place_type place_name       place_full_name place_country  \\\n",
       "0        city    Makasar    Makasar, Indonesia     Indonesia   \n",
       "1        city  Prambanan  Prambanan, Indonesia     Indonesia   \n",
       "2        city  Borobudur  Borobudur, Indonesia     Indonesia   \n",
       "\n",
       "  place_country_code                                      place_polygon  \\\n",
       "0                 ID  POLYGON ((106.93507 -6.30337, 106.93507 -6.241...   \n",
       "1                 ID  POLYGON ((110.54422 -7.83123, 110.54422 -7.711...   \n",
       "2                 ID  POLYGON ((110.25007 -7.65344, 110.25007 -7.572...   \n",
       "\n",
       "                                               words word_count  \n",
       "0  [Kota, Makassar, ᨀᨚᨈ, ᨆᨀᨔᨑ, sebelumnya, bernam...         17  \n",
       "1  [Prambanan, is, a, 9th-century, Hindu, temple,...         38  \n",
       "2  [Borobudur, is, a, 9th-century, Mahayana, Budd...         26  \n",
       "\n",
       "[3 rows x 24 columns]"
      ]
     },
     "execution_count": 562,
     "metadata": {},
     "output_type": "execute_result"
    }
   ],
   "source": [
    "gdf"
   ]
  },
  {
   "cell_type": "code",
   "execution_count": 563,
   "metadata": {},
   "outputs": [],
   "source": [
    "gdf = gdf.explode(\"words\")"
   ]
  },
  {
   "cell_type": "code",
   "execution_count": 564,
   "metadata": {},
   "outputs": [],
   "source": [
    "gdf.to_file(\"output/word_counts_geotags.geojson\")"
   ]
  },
  {
   "cell_type": "markdown",
   "metadata": {},
   "source": [
    "## Merge all word counts dataset"
   ]
  },
  {
   "cell_type": "code",
   "execution_count": 565,
   "metadata": {},
   "outputs": [],
   "source": [
    "df1 = pd.read_json(\"output/word_counts_1890992087614808342.json\")"
   ]
  },
  {
   "cell_type": "code",
   "execution_count": 566,
   "metadata": {},
   "outputs": [],
   "source": [
    "df2 = pd.read_json(\"output/word_counts_irwndfrry.json\")"
   ]
  },
  {
   "cell_type": "code",
   "execution_count": 567,
   "metadata": {},
   "outputs": [],
   "source": [
    "df3 = pd.read_json(\"output/word_counts_tempodotco.json\")"
   ]
  },
  {
   "cell_type": "code",
   "execution_count": 568,
   "metadata": {},
   "outputs": [],
   "source": [
    "gdf1 = gpd.read_file(\"output/word_counts_geotags.geojson\")"
   ]
  },
  {
   "cell_type": "markdown",
   "metadata": {},
   "source": [
    "### Concatenate dataframe"
   ]
  },
  {
   "cell_type": "code",
   "execution_count": 569,
   "metadata": {},
   "outputs": [],
   "source": [
    "merge_df = pd.concat([df1, df2, df3, gdf1], ignore_index=True)"
   ]
  },
  {
   "cell_type": "markdown",
   "metadata": {},
   "source": [
    "### Convert it into Geodataframe"
   ]
  },
  {
   "cell_type": "code",
   "execution_count": 570,
   "metadata": {},
   "outputs": [
    {
     "name": "stdout",
     "output_type": "stream",
     "text": [
      "<class 'pandas.core.frame.DataFrame'>\n",
      "RangeIndex: 173 entries, 0 to 172\n",
      "Data columns (total 29 columns):\n",
      " #   Column                         Non-Null Count  Dtype   \n",
      "---  ------                         --------------  -----   \n",
      " 0   tweet_id                       173 non-null    object  \n",
      " 1   author_id                      152 non-null    object  \n",
      " 2   sensitive                      152 non-null    object  \n",
      " 3   word_count                     173 non-null    int64   \n",
      " 4   words                          173 non-null    object  \n",
      " 5   language_name                  152 non-null    object  \n",
      " 6   language_code                  152 non-null    object  \n",
      " 7   created_at                     173 non-null    object  \n",
      " 8   retweet_count                  152 non-null    float64 \n",
      " 9   reply_count                    152 non-null    float64 \n",
      " 10  like_count                     152 non-null    float64 \n",
      " 11  quote_count                    152 non-null    float64 \n",
      " 12  bookmark_count                 152 non-null    float64 \n",
      " 13  impression_count               152 non-null    float64 \n",
      " 14  annotation_0                   71 non-null     object  \n",
      " 15  annotation_1                   71 non-null     object  \n",
      " 16  annotation_2                   71 non-null     object  \n",
      " 17  annotation_3                   71 non-null     object  \n",
      " 18  annotation_4                   71 non-null     object  \n",
      " 19  reference_tweet_id_quoted      98 non-null     object  \n",
      " 20  place_id                       81 non-null     object  \n",
      " 21  reference_tweet_id_retweeted   0 non-null      object  \n",
      " 22  reference_tweet_id_replied_to  17 non-null     object  \n",
      " 23  place_type                     81 non-null     object  \n",
      " 24  place_name                     81 non-null     object  \n",
      " 25  place_full_name                81 non-null     object  \n",
      " 26  place_country                  81 non-null     object  \n",
      " 27  place_country_code             81 non-null     object  \n",
      " 28  geometry                       81 non-null     geometry\n",
      "dtypes: float64(6), geometry(1), int64(1), object(21)\n",
      "memory usage: 39.3+ KB\n"
     ]
    }
   ],
   "source": [
    "merge_df.info()"
   ]
  },
  {
   "cell_type": "code",
   "execution_count": null,
   "metadata": {},
   "outputs": [],
   "source": []
  }
 ],
 "metadata": {
  "kernelspec": {
   "display_name": "venv",
   "language": "python",
   "name": "python3"
  },
  "language_info": {
   "codemirror_mode": {
    "name": "ipython",
    "version": 3
   },
   "file_extension": ".py",
   "mimetype": "text/x-python",
   "name": "python",
   "nbconvert_exporter": "python",
   "pygments_lexer": "ipython3",
   "version": "3.12.6"
  }
 },
 "nbformat": 4,
 "nbformat_minor": 2
}
