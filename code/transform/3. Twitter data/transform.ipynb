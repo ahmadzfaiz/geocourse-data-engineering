{
 "cells": [
  {
   "cell_type": "code",
   "execution_count": 1,
   "metadata": {},
   "outputs": [],
   "source": [
    "import os\n",
    "import csv\n",
    "import json\n",
    "import uuid\n",
    "import pandas as pd\n",
    "import pycountry\n",
    "from datetime import datetime"
   ]
  },
  {
   "cell_type": "markdown",
   "metadata": {},
   "source": [
    "## Tempo tweet"
   ]
  },
  {
   "cell_type": "code",
   "execution_count": 2,
   "metadata": {},
   "outputs": [],
   "source": [
    "file_path = \"../../extract/output/twitter_tweet_tempodotco.json\""
   ]
  },
  {
   "cell_type": "code",
   "execution_count": 3,
   "metadata": {},
   "outputs": [
    {
     "data": {
      "text/html": [
       "<div>\n",
       "<style scoped>\n",
       "    .dataframe tbody tr th:only-of-type {\n",
       "        vertical-align: middle;\n",
       "    }\n",
       "\n",
       "    .dataframe tbody tr th {\n",
       "        vertical-align: top;\n",
       "    }\n",
       "\n",
       "    .dataframe thead th {\n",
       "        text-align: right;\n",
       "    }\n",
       "</style>\n",
       "<table border=\"1\" class=\"dataframe\">\n",
       "  <thead>\n",
       "    <tr style=\"text-align: right;\">\n",
       "      <th></th>\n",
       "      <th>data</th>\n",
       "    </tr>\n",
       "  </thead>\n",
       "  <tbody>\n",
       "    <tr>\n",
       "      <th>text</th>\n",
       "      <td>#TempoThread\\n\\nDanantara adalah kapitalisme a...</td>\n",
       "    </tr>\n",
       "    <tr>\n",
       "      <th>id</th>\n",
       "      <td>1892923628037021960</td>\n",
       "    </tr>\n",
       "    <tr>\n",
       "      <th>edit_history_tweet_ids</th>\n",
       "      <td>[1892923628037021960]</td>\n",
       "    </tr>\n",
       "  </tbody>\n",
       "</table>\n",
       "</div>"
      ],
      "text/plain": [
       "                                                                     data\n",
       "text                    #TempoThread\\n\\nDanantara adalah kapitalisme a...\n",
       "id                                                    1892923628037021960\n",
       "edit_history_tweet_ids                              [1892923628037021960]"
      ]
     },
     "execution_count": 3,
     "metadata": {},
     "output_type": "execute_result"
    }
   ],
   "source": [
    "pd.read_json(file_path)"
   ]
  },
  {
   "cell_type": "markdown",
   "metadata": {},
   "source": [
    "### Word cleaning"
   ]
  },
  {
   "cell_type": "code",
   "execution_count": 4,
   "metadata": {},
   "outputs": [],
   "source": [
    "with open(file_path, \"r\") as f:\n",
    "  data = json.loads(f.read())"
   ]
  },
  {
   "cell_type": "code",
   "execution_count": 5,
   "metadata": {},
   "outputs": [
    {
     "data": {
      "text/plain": [
       "{'data': {'text': '#TempoThread\\n\\nDanantara adalah kapitalisme ala Prabowo, sebuah langkah ambisius untuk mewujudkan cita-cita ayahnya yang sudah dirancang sejak 1980-an.\\n\\nA Thread https://t.co/nUHckLhqrS',\n",
       "  'id': '1892923628037021960',\n",
       "  'edit_history_tweet_ids': ['1892923628037021960']}}"
      ]
     },
     "execution_count": 5,
     "metadata": {},
     "output_type": "execute_result"
    }
   ],
   "source": [
    "data"
   ]
  },
  {
   "cell_type": "code",
   "execution_count": 6,
   "metadata": {},
   "outputs": [
    {
     "data": {
      "text/plain": [
       "{'text': '#TempoThread\\n\\nDanantara adalah kapitalisme ala Prabowo, sebuah langkah ambisius untuk mewujudkan cita-cita ayahnya yang sudah dirancang sejak 1980-an.\\n\\nA Thread https://t.co/nUHckLhqrS',\n",
       " 'id': '1892923628037021960',\n",
       " 'edit_history_tweet_ids': ['1892923628037021960']}"
      ]
     },
     "execution_count": 6,
     "metadata": {},
     "output_type": "execute_result"
    }
   ],
   "source": [
    "data[\"data\"]"
   ]
  },
  {
   "cell_type": "code",
   "execution_count": 7,
   "metadata": {},
   "outputs": [
    {
     "data": {
      "text/plain": [
       "'#TempoThread\\n\\nDanantara adalah kapitalisme ala Prabowo, sebuah langkah ambisius untuk mewujudkan cita-cita ayahnya yang sudah dirancang sejak 1980-an.\\n\\nA Thread https://t.co/nUHckLhqrS'"
      ]
     },
     "execution_count": 7,
     "metadata": {},
     "output_type": "execute_result"
    }
   ],
   "source": [
    "text = data[\"data\"][\"text\"]\n",
    "\n",
    "text"
   ]
  },
  {
   "cell_type": "code",
   "execution_count": 8,
   "metadata": {},
   "outputs": [
    {
     "data": {
      "text/plain": [
       "['#TempoThread',\n",
       " 'Danantara',\n",
       " 'adalah',\n",
       " 'kapitalisme',\n",
       " 'ala',\n",
       " 'Prabowo,',\n",
       " 'sebuah',\n",
       " 'langkah',\n",
       " 'ambisius',\n",
       " 'untuk',\n",
       " 'mewujudkan',\n",
       " 'cita-cita',\n",
       " 'ayahnya',\n",
       " 'yang',\n",
       " 'sudah',\n",
       " 'dirancang',\n",
       " 'sejak',\n",
       " '1980-an.',\n",
       " 'A',\n",
       " 'Thread',\n",
       " 'https://t.co/nUHckLhqrS']"
      ]
     },
     "execution_count": 8,
     "metadata": {},
     "output_type": "execute_result"
    }
   ],
   "source": [
    "raw_words = text.split()\n",
    "\n",
    "raw_words"
   ]
  },
  {
   "cell_type": "code",
   "execution_count": 9,
   "metadata": {},
   "outputs": [
    {
     "data": {
      "text/plain": [
       "'Prabowo,'"
      ]
     },
     "execution_count": 9,
     "metadata": {},
     "output_type": "execute_result"
    }
   ],
   "source": [
    "raw_words[5]"
   ]
  },
  {
   "cell_type": "code",
   "execution_count": 10,
   "metadata": {},
   "outputs": [
    {
     "data": {
      "text/plain": [
       "['#TempoThread',\n",
       " 'Danantara',\n",
       " 'adalah',\n",
       " 'kapitalisme',\n",
       " 'ala',\n",
       " 'Prabowo',\n",
       " 'sebuah',\n",
       " 'langkah',\n",
       " 'ambisius',\n",
       " 'untuk',\n",
       " 'mewujudkan',\n",
       " 'cita-cita',\n",
       " 'ayahnya',\n",
       " 'yang',\n",
       " 'sudah',\n",
       " 'dirancang',\n",
       " 'sejak',\n",
       " '1980-an',\n",
       " 'A',\n",
       " 'Thread',\n",
       " 'https://t.co/nUHckLhqrS']"
      ]
     },
     "execution_count": 10,
     "metadata": {},
     "output_type": "execute_result"
    }
   ],
   "source": [
    "cleaned_words = [word.rstrip(',.') for word in raw_words]\n",
    "\n",
    "cleaned_words"
   ]
  },
  {
   "cell_type": "code",
   "execution_count": 11,
   "metadata": {},
   "outputs": [
    {
     "data": {
      "text/plain": [
       "'Prabowo'"
      ]
     },
     "execution_count": 11,
     "metadata": {},
     "output_type": "execute_result"
    }
   ],
   "source": [
    "cleaned_words[5]"
   ]
  },
  {
   "cell_type": "code",
   "execution_count": 12,
   "metadata": {},
   "outputs": [
    {
     "data": {
      "text/plain": [
       "21"
      ]
     },
     "execution_count": 12,
     "metadata": {},
     "output_type": "execute_result"
    }
   ],
   "source": [
    "len(cleaned_words)"
   ]
  },
  {
   "cell_type": "markdown",
   "metadata": {},
   "source": [
    "### Create datetime"
   ]
  },
  {
   "cell_type": "code",
   "execution_count": 13,
   "metadata": {},
   "outputs": [
    {
     "data": {
      "text/plain": [
       "1740588991.929889"
      ]
     },
     "execution_count": 13,
     "metadata": {},
     "output_type": "execute_result"
    }
   ],
   "source": [
    "created_time = os.path.getctime(file_path)\n",
    "\n",
    "created_time"
   ]
  },
  {
   "cell_type": "code",
   "execution_count": 14,
   "metadata": {},
   "outputs": [
    {
     "data": {
      "text/plain": [
       "datetime.datetime(2025, 2, 26, 23, 56, 31, 929889)"
      ]
     },
     "execution_count": 14,
     "metadata": {},
     "output_type": "execute_result"
    }
   ],
   "source": [
    "created_dt = datetime.fromtimestamp(created_time)\n",
    "\n",
    "created_dt"
   ]
  },
  {
   "cell_type": "markdown",
   "metadata": {},
   "source": [
    "### Save clean data"
   ]
  },
  {
   "cell_type": "code",
   "execution_count": 15,
   "metadata": {},
   "outputs": [],
   "source": [
    "new_data = {\n",
    "  \"tweet_id\": data[\"data\"][\"id\"],\n",
    "  \"word_count\": len(cleaned_words),\n",
    "  \"words\": cleaned_words,\n",
    "  \"created_at\": str(created_dt),\n",
    "}"
   ]
  },
  {
   "cell_type": "code",
   "execution_count": 16,
   "metadata": {},
   "outputs": [],
   "source": [
    "with open(\"output/word_counts_tempodotco.csv\", \"w\", newline=\"\", encoding=\"utf-8\") as f:\n",
    "  field_names = [\"tweet_id\", \"word_count\", \"words\", \"created_at\"]\n",
    "  writer = csv.DictWriter(f, fieldnames=field_names)\n",
    "\n",
    "  if f.tell() == 0:\n",
    "    writer.writeheader()\n",
    "\n",
    "  writer.writerow(new_data)"
   ]
  },
  {
   "cell_type": "code",
   "execution_count": 17,
   "metadata": {},
   "outputs": [
    {
     "data": {
      "text/html": [
       "<div>\n",
       "<style scoped>\n",
       "    .dataframe tbody tr th:only-of-type {\n",
       "        vertical-align: middle;\n",
       "    }\n",
       "\n",
       "    .dataframe tbody tr th {\n",
       "        vertical-align: top;\n",
       "    }\n",
       "\n",
       "    .dataframe thead th {\n",
       "        text-align: right;\n",
       "    }\n",
       "</style>\n",
       "<table border=\"1\" class=\"dataframe\">\n",
       "  <thead>\n",
       "    <tr style=\"text-align: right;\">\n",
       "      <th></th>\n",
       "      <th>tweet_id</th>\n",
       "      <th>word_count</th>\n",
       "      <th>words</th>\n",
       "      <th>created_at</th>\n",
       "    </tr>\n",
       "  </thead>\n",
       "  <tbody>\n",
       "    <tr>\n",
       "      <th>0</th>\n",
       "      <td>1892923628037021960</td>\n",
       "      <td>21</td>\n",
       "      <td>['#TempoThread', 'Danantara', 'adalah', 'kapit...</td>\n",
       "      <td>2025-02-26 23:56:31.929889</td>\n",
       "    </tr>\n",
       "  </tbody>\n",
       "</table>\n",
       "</div>"
      ],
      "text/plain": [
       "              tweet_id  word_count  \\\n",
       "0  1892923628037021960          21   \n",
       "\n",
       "                                               words  \\\n",
       "0  ['#TempoThread', 'Danantara', 'adalah', 'kapit...   \n",
       "\n",
       "                   created_at  \n",
       "0  2025-02-26 23:56:31.929889  "
      ]
     },
     "execution_count": 17,
     "metadata": {},
     "output_type": "execute_result"
    }
   ],
   "source": [
    "df = pd.read_csv(\"output/word_counts_tempodotco.csv\")\n",
    "\n",
    "df"
   ]
  },
  {
   "cell_type": "code",
   "execution_count": 18,
   "metadata": {},
   "outputs": [
    {
     "name": "stdout",
     "output_type": "stream",
     "text": [
      "<class 'pandas.core.frame.DataFrame'>\n",
      "RangeIndex: 1 entries, 0 to 0\n",
      "Data columns (total 4 columns):\n",
      " #   Column      Non-Null Count  Dtype \n",
      "---  ------      --------------  ----- \n",
      " 0   tweet_id    1 non-null      int64 \n",
      " 1   word_count  1 non-null      int64 \n",
      " 2   words       1 non-null      object\n",
      " 3   created_at  1 non-null      object\n",
      "dtypes: int64(2), object(2)\n",
      "memory usage: 164.0+ bytes\n"
     ]
    }
   ],
   "source": [
    "df.info()"
   ]
  },
  {
   "cell_type": "code",
   "execution_count": 19,
   "metadata": {},
   "outputs": [],
   "source": [
    "with open(\"output/word_counts_tempodotco.json\", \"w\", encoding=\"utf-8\") as f:\n",
    "  f.write(json.dumps(new_data, indent=2))"
   ]
  },
  {
   "cell_type": "code",
   "execution_count": 21,
   "metadata": {},
   "outputs": [
    {
     "data": {
      "text/html": [
       "<div>\n",
       "<style scoped>\n",
       "    .dataframe tbody tr th:only-of-type {\n",
       "        vertical-align: middle;\n",
       "    }\n",
       "\n",
       "    .dataframe tbody tr th {\n",
       "        vertical-align: top;\n",
       "    }\n",
       "\n",
       "    .dataframe thead th {\n",
       "        text-align: right;\n",
       "    }\n",
       "</style>\n",
       "<table border=\"1\" class=\"dataframe\">\n",
       "  <thead>\n",
       "    <tr style=\"text-align: right;\">\n",
       "      <th></th>\n",
       "      <th>tweet_id</th>\n",
       "      <th>word_count</th>\n",
       "      <th>words</th>\n",
       "      <th>created_at</th>\n",
       "    </tr>\n",
       "  </thead>\n",
       "  <tbody>\n",
       "    <tr>\n",
       "      <th>0</th>\n",
       "      <td>1892923628037021952</td>\n",
       "      <td>21</td>\n",
       "      <td>#TempoThread</td>\n",
       "      <td>2025-02-26 23:56:31.929889</td>\n",
       "    </tr>\n",
       "    <tr>\n",
       "      <th>1</th>\n",
       "      <td>1892923628037021952</td>\n",
       "      <td>21</td>\n",
       "      <td>Danantara</td>\n",
       "      <td>2025-02-26 23:56:31.929889</td>\n",
       "    </tr>\n",
       "    <tr>\n",
       "      <th>2</th>\n",
       "      <td>1892923628037021952</td>\n",
       "      <td>21</td>\n",
       "      <td>adalah</td>\n",
       "      <td>2025-02-26 23:56:31.929889</td>\n",
       "    </tr>\n",
       "    <tr>\n",
       "      <th>3</th>\n",
       "      <td>1892923628037021952</td>\n",
       "      <td>21</td>\n",
       "      <td>kapitalisme</td>\n",
       "      <td>2025-02-26 23:56:31.929889</td>\n",
       "    </tr>\n",
       "    <tr>\n",
       "      <th>4</th>\n",
       "      <td>1892923628037021952</td>\n",
       "      <td>21</td>\n",
       "      <td>ala</td>\n",
       "      <td>2025-02-26 23:56:31.929889</td>\n",
       "    </tr>\n",
       "  </tbody>\n",
       "</table>\n",
       "</div>"
      ],
      "text/plain": [
       "              tweet_id  word_count         words                 created_at\n",
       "0  1892923628037021952          21  #TempoThread 2025-02-26 23:56:31.929889\n",
       "1  1892923628037021952          21     Danantara 2025-02-26 23:56:31.929889\n",
       "2  1892923628037021952          21        adalah 2025-02-26 23:56:31.929889\n",
       "3  1892923628037021952          21   kapitalisme 2025-02-26 23:56:31.929889\n",
       "4  1892923628037021952          21           ala 2025-02-26 23:56:31.929889"
      ]
     },
     "execution_count": 21,
     "metadata": {},
     "output_type": "execute_result"
    }
   ],
   "source": [
    "df2 = pd.read_json(\"output/word_counts_tempodotco.json\")\n",
    "\n",
    "df2.head()"
   ]
  },
  {
   "cell_type": "code",
   "execution_count": 22,
   "metadata": {},
   "outputs": [
    {
     "name": "stdout",
     "output_type": "stream",
     "text": [
      "<class 'pandas.core.frame.DataFrame'>\n",
      "RangeIndex: 21 entries, 0 to 20\n",
      "Data columns (total 4 columns):\n",
      " #   Column      Non-Null Count  Dtype         \n",
      "---  ------      --------------  -----         \n",
      " 0   tweet_id    21 non-null     int64         \n",
      " 1   word_count  21 non-null     int64         \n",
      " 2   words       21 non-null     object        \n",
      " 3   created_at  21 non-null     datetime64[ns]\n",
      "dtypes: datetime64[ns](1), int64(2), object(1)\n",
      "memory usage: 804.0+ bytes\n"
     ]
    }
   ],
   "source": [
    "df2.info()"
   ]
  },
  {
   "cell_type": "markdown",
   "metadata": {},
   "source": [
    "## Ferry Irwandy tweet"
   ]
  },
  {
   "cell_type": "markdown",
   "metadata": {},
   "source": [
    "Data cleaning with only python"
   ]
  },
  {
   "cell_type": "code",
   "execution_count": 125,
   "metadata": {},
   "outputs": [],
   "source": [
    "file_path = \"../../extract/output/twitter_tweet_irwndfrry.json\""
   ]
  },
  {
   "cell_type": "code",
   "execution_count": 126,
   "metadata": {},
   "outputs": [
    {
     "data": {
      "text/html": [
       "<div>\n",
       "<style scoped>\n",
       "    .dataframe tbody tr th:only-of-type {\n",
       "        vertical-align: middle;\n",
       "    }\n",
       "\n",
       "    .dataframe tbody tr th {\n",
       "        vertical-align: top;\n",
       "    }\n",
       "\n",
       "    .dataframe thead th {\n",
       "        text-align: right;\n",
       "    }\n",
       "</style>\n",
       "<table border=\"1\" class=\"dataframe\">\n",
       "  <thead>\n",
       "    <tr style=\"text-align: right;\">\n",
       "      <th></th>\n",
       "      <th>data</th>\n",
       "      <th>includes</th>\n",
       "    </tr>\n",
       "  </thead>\n",
       "  <tbody>\n",
       "    <tr>\n",
       "      <th>referenced_tweets</th>\n",
       "      <td>[{'type': 'quoted', 'id': '1890992087614808342'}]</td>\n",
       "      <td>NaN</td>\n",
       "    </tr>\n",
       "    <tr>\n",
       "      <th>entities</th>\n",
       "      <td>{'urls': [{'start': 276, 'end': 299, 'url': 'h...</td>\n",
       "      <td>NaN</td>\n",
       "    </tr>\n",
       "    <tr>\n",
       "      <th>text</th>\n",
       "      <td>Banyak yang minta jelasin soal Danatara ini, o...</td>\n",
       "      <td>NaN</td>\n",
       "    </tr>\n",
       "    <tr>\n",
       "      <th>id</th>\n",
       "      <td>1891503790353760292</td>\n",
       "      <td>NaN</td>\n",
       "    </tr>\n",
       "    <tr>\n",
       "      <th>edit_history_tweet_ids</th>\n",
       "      <td>[1891503790353760292]</td>\n",
       "      <td>NaN</td>\n",
       "    </tr>\n",
       "    <tr>\n",
       "      <th>possibly_sensitive</th>\n",
       "      <td>False</td>\n",
       "      <td>NaN</td>\n",
       "    </tr>\n",
       "    <tr>\n",
       "      <th>created_at</th>\n",
       "      <td>2025-02-17T15:03:40.000Z</td>\n",
       "      <td>NaN</td>\n",
       "    </tr>\n",
       "    <tr>\n",
       "      <th>context_annotations</th>\n",
       "      <td>[{'domain': {'id': '46', 'name': 'Business Tax...</td>\n",
       "      <td>NaN</td>\n",
       "    </tr>\n",
       "    <tr>\n",
       "      <th>author_id</th>\n",
       "      <td>251088685</td>\n",
       "      <td>NaN</td>\n",
       "    </tr>\n",
       "    <tr>\n",
       "      <th>public_metrics</th>\n",
       "      <td>{'retweet_count': 36062, 'reply_count': 1299, ...</td>\n",
       "      <td>NaN</td>\n",
       "    </tr>\n",
       "    <tr>\n",
       "      <th>lang</th>\n",
       "      <td>in</td>\n",
       "      <td>NaN</td>\n",
       "    </tr>\n",
       "    <tr>\n",
       "      <th>tweets</th>\n",
       "      <td>NaN</td>\n",
       "      <td>[{'attachments': {'media_keys': ['3_1890991719...</td>\n",
       "    </tr>\n",
       "  </tbody>\n",
       "</table>\n",
       "</div>"
      ],
      "text/plain": [
       "                                                                     data  \\\n",
       "referenced_tweets       [{'type': 'quoted', 'id': '1890992087614808342'}]   \n",
       "entities                {'urls': [{'start': 276, 'end': 299, 'url': 'h...   \n",
       "text                    Banyak yang minta jelasin soal Danatara ini, o...   \n",
       "id                                                    1891503790353760292   \n",
       "edit_history_tweet_ids                              [1891503790353760292]   \n",
       "possibly_sensitive                                                  False   \n",
       "created_at                                       2025-02-17T15:03:40.000Z   \n",
       "context_annotations     [{'domain': {'id': '46', 'name': 'Business Tax...   \n",
       "author_id                                                       251088685   \n",
       "public_metrics          {'retweet_count': 36062, 'reply_count': 1299, ...   \n",
       "lang                                                                   in   \n",
       "tweets                                                                NaN   \n",
       "\n",
       "                                                                 includes  \n",
       "referenced_tweets                                                     NaN  \n",
       "entities                                                              NaN  \n",
       "text                                                                  NaN  \n",
       "id                                                                    NaN  \n",
       "edit_history_tweet_ids                                                NaN  \n",
       "possibly_sensitive                                                    NaN  \n",
       "created_at                                                            NaN  \n",
       "context_annotations                                                   NaN  \n",
       "author_id                                                             NaN  \n",
       "public_metrics                                                        NaN  \n",
       "lang                                                                  NaN  \n",
       "tweets                  [{'attachments': {'media_keys': ['3_1890991719...  "
      ]
     },
     "execution_count": 126,
     "metadata": {},
     "output_type": "execute_result"
    }
   ],
   "source": [
    "pd.read_json(file_path)"
   ]
  },
  {
   "cell_type": "code",
   "execution_count": 127,
   "metadata": {},
   "outputs": [],
   "source": [
    "with open(file_path, \"r\") as f:\n",
    "  data = json.loads(f.read())"
   ]
  },
  {
   "cell_type": "code",
   "execution_count": 128,
   "metadata": {},
   "outputs": [
    {
     "data": {
      "text/plain": [
       "{'referenced_tweets': [{'type': 'quoted', 'id': '1890992087614808342'}],\n",
       " 'entities': {'urls': [{'start': 276,\n",
       "    'end': 299,\n",
       "    'url': 'https://t.co/qqZBckrWoi',\n",
       "    'expanded_url': 'https://twitter.com/tempodotco/status/1890992087614808342',\n",
       "    'display_url': 'x.com/tempodotco/sta…'}]},\n",
       " 'text': 'Banyak yang minta jelasin soal Danatara ini, oke tak jelasin dgn simpel, simak dgn santai , ya\\n\\ndulu BUMN kalau dapat dividen, sebagian dividennya dikasih ke APBN terus duitnya dipake buat belanja\\n\\nNah sekarang Danantara, duitnya gak dipake lgsg untuk belanja, tapi investasi https://t.co/qqZBckrWoi',\n",
       " 'id': '1891503790353760292',\n",
       " 'edit_history_tweet_ids': ['1891503790353760292'],\n",
       " 'possibly_sensitive': False,\n",
       " 'created_at': '2025-02-17T15:03:40.000Z',\n",
       " 'context_annotations': [{'domain': {'id': '46',\n",
       "    'name': 'Business Taxonomy',\n",
       "    'description': 'Categories within Brand Verticals that narrow down the scope of Brands'},\n",
       "   'entity': {'id': '1557696848252391426',\n",
       "    'name': 'Financial Services Business',\n",
       "    'description': 'Brands, companies, advertisers and every non-person handle with the profit intent related to Banks, Credit cards, Insurance, Investments, Stocks '}},\n",
       "  {'domain': {'id': '46',\n",
       "    'name': 'Business Taxonomy',\n",
       "    'description': 'Categories within Brand Verticals that narrow down the scope of Brands'},\n",
       "   'entity': {'id': '1557697218248773632',\n",
       "    'name': 'Retail Business',\n",
       "    'description': 'Brands, companies, advertisers and every non-person handle with the profit intent focused on selling multiple brands such as supermarkets, stores, resellers, delivery apps'}},\n",
       "  {'domain': {'id': '88',\n",
       "    'name': 'Political Body',\n",
       "    'description': 'A section of a government, like The Supreme Court'},\n",
       "   'entity': {'id': '1536331416954253312',\n",
       "    'name': 'Ministry of State Owned Enterprises'}},\n",
       "  {'domain': {'id': '131',\n",
       "    'name': 'Unified Twitter Taxonomy',\n",
       "    'description': 'A taxonomy of user interests. '},\n",
       "   'entity': {'id': '1095391406816784384',\n",
       "    'name': 'Shopping',\n",
       "    'description': 'Shopping'}},\n",
       "  {'domain': {'id': '131',\n",
       "    'name': 'Unified Twitter Taxonomy',\n",
       "    'description': 'A taxonomy of user interests. '},\n",
       "   'entity': {'id': '1536331416954253312',\n",
       "    'name': 'Ministry of State Owned Enterprises'}}],\n",
       " 'author_id': '251088685',\n",
       " 'public_metrics': {'retweet_count': 36062,\n",
       "  'reply_count': 1299,\n",
       "  'like_count': 99718,\n",
       "  'quote_count': 1619,\n",
       "  'bookmark_count': 35057,\n",
       "  'impression_count': 5761847},\n",
       " 'lang': 'in'}"
      ]
     },
     "execution_count": 128,
     "metadata": {},
     "output_type": "execute_result"
    }
   ],
   "source": [
    "data[\"data\"]"
   ]
  },
  {
   "cell_type": "code",
   "execution_count": 27,
   "metadata": {},
   "outputs": [
    {
     "data": {
      "text/plain": [
       "{'tweets': [{'attachments': {'media_keys': ['3_1890991719925350400']},\n",
       "   'entities': {'hashtags': [{'start': 190, 'end': 201, 'tag': 'Tempodotco'},\n",
       "     {'start': 202, 'end': 212, 'tag': 'TempoPlus'}],\n",
       "    'urls': [{'start': 213,\n",
       "      'end': 236,\n",
       "      'url': 'https://t.co/O9f1JbLDBa',\n",
       "      'expanded_url': 'https://x.com/tempodotco/status/1890992087614808342/photo/1',\n",
       "      'display_url': 'pic.x.com/O9f1JbLDBa',\n",
       "      'media_key': '3_1890991719925350400'}]},\n",
       "   'text': 'Bagi Prabowo, Danantara adalah proyek historis.\\n\\nAyahnya, Sumitro Djojohadikusumo, punya ide membangun sebuah lembaga pengelola 1-5 persen laba Badan Usaha Milik Negara pada akhir 1980-an.\\n\\n#Tempodotco #TempoPlus https://t.co/O9f1JbLDBa',\n",
       "   'id': '1890992087614808342',\n",
       "   'edit_history_tweet_ids': ['1890992087614808342'],\n",
       "   'possibly_sensitive': False,\n",
       "   'created_at': '2025-02-16T05:10:21.000Z',\n",
       "   'context_annotations': [{'domain': {'id': '47',\n",
       "      'name': 'Brand',\n",
       "      'description': 'Brands and Companies'},\n",
       "     'entity': {'id': '1194281356999573504',\n",
       "      'name': 'Tempo',\n",
       "      'description': 'an Indonesian weekly magazine that covers news and politics'}},\n",
       "    {'domain': {'id': '88',\n",
       "      'name': 'Political Body',\n",
       "      'description': 'A section of a government, like The Supreme Court'},\n",
       "     'entity': {'id': '1536331416954253312',\n",
       "      'name': 'Ministry of State Owned Enterprises'}},\n",
       "    {'domain': {'id': '131',\n",
       "      'name': 'Unified Twitter Taxonomy',\n",
       "      'description': 'A taxonomy of user interests. '},\n",
       "     'entity': {'id': '1536331416954253312',\n",
       "      'name': 'Ministry of State Owned Enterprises'}},\n",
       "    {'domain': {'id': '69',\n",
       "      'name': 'News Vertical',\n",
       "      'description': 'News Categories like Entertainment or Technology'},\n",
       "     'entity': {'id': '1328727386934820865',\n",
       "      'name': 'Indonesia national news'}},\n",
       "    {'domain': {'id': '131',\n",
       "      'name': 'Unified Twitter Taxonomy',\n",
       "      'description': 'A taxonomy of user interests. '},\n",
       "     'entity': {'id': '1328727386934820865',\n",
       "      'name': 'Indonesia national news'}}],\n",
       "   'author_id': '18129942',\n",
       "   'public_metrics': {'retweet_count': 4343,\n",
       "    'reply_count': 203,\n",
       "    'like_count': 9551,\n",
       "    'quote_count': 790,\n",
       "    'bookmark_count': 2165,\n",
       "    'impression_count': 5823610},\n",
       "   'lang': 'in'}]}"
      ]
     },
     "execution_count": 27,
     "metadata": {},
     "output_type": "execute_result"
    }
   ],
   "source": [
    "data[\"includes\"]"
   ]
  },
  {
   "cell_type": "markdown",
   "metadata": {},
   "source": [
    "### Word cleaning"
   ]
  },
  {
   "cell_type": "code",
   "execution_count": 28,
   "metadata": {},
   "outputs": [
    {
     "data": {
      "text/plain": [
       "['Banyak',\n",
       " 'yang',\n",
       " 'minta',\n",
       " 'jelasin',\n",
       " 'soal',\n",
       " 'Danatara',\n",
       " 'ini,',\n",
       " 'oke',\n",
       " 'tak',\n",
       " 'jelasin',\n",
       " 'dgn',\n",
       " 'simpel,',\n",
       " 'simak',\n",
       " 'dgn',\n",
       " 'santai',\n",
       " ',',\n",
       " 'ya',\n",
       " 'dulu',\n",
       " 'BUMN',\n",
       " 'kalau',\n",
       " 'dapat',\n",
       " 'dividen,',\n",
       " 'sebagian',\n",
       " 'dividennya',\n",
       " 'dikasih',\n",
       " 'ke',\n",
       " 'APBN',\n",
       " 'terus',\n",
       " 'duitnya',\n",
       " 'dipake',\n",
       " 'buat',\n",
       " 'belanja',\n",
       " 'Nah',\n",
       " 'sekarang',\n",
       " 'Danantara,',\n",
       " 'duitnya',\n",
       " 'gak',\n",
       " 'dipake',\n",
       " 'lgsg',\n",
       " 'untuk',\n",
       " 'belanja,',\n",
       " 'tapi',\n",
       " 'investasi',\n",
       " 'https://t.co/qqZBckrWoi']"
      ]
     },
     "execution_count": 28,
     "metadata": {},
     "output_type": "execute_result"
    }
   ],
   "source": [
    "text = data[\"data\"][\"text\"]\n",
    "raw_words = text.split()\n",
    "\n",
    "raw_words"
   ]
  },
  {
   "cell_type": "code",
   "execution_count": 29,
   "metadata": {},
   "outputs": [
    {
     "data": {
      "text/plain": [
       "['Banyak',\n",
       " 'yang',\n",
       " 'minta',\n",
       " 'jelasin',\n",
       " 'soal',\n",
       " 'Danatara',\n",
       " 'ini',\n",
       " 'oke',\n",
       " 'tak',\n",
       " 'jelasin',\n",
       " 'dgn',\n",
       " 'simpel',\n",
       " 'simak',\n",
       " 'dgn',\n",
       " 'santai',\n",
       " '',\n",
       " 'ya',\n",
       " 'dulu',\n",
       " 'BUMN',\n",
       " 'kalau',\n",
       " 'dapat',\n",
       " 'dividen',\n",
       " 'sebagian',\n",
       " 'dividennya',\n",
       " 'dikasih',\n",
       " 'ke',\n",
       " 'APBN',\n",
       " 'terus',\n",
       " 'duitnya',\n",
       " 'dipake',\n",
       " 'buat',\n",
       " 'belanja',\n",
       " 'Nah',\n",
       " 'sekarang',\n",
       " 'Danantara',\n",
       " 'duitnya',\n",
       " 'gak',\n",
       " 'dipake',\n",
       " 'lgsg',\n",
       " 'untuk',\n",
       " 'belanja',\n",
       " 'tapi',\n",
       " 'investasi',\n",
       " 'https://t.co/qqZBckrWoi']"
      ]
     },
     "execution_count": 29,
     "metadata": {},
     "output_type": "execute_result"
    }
   ],
   "source": [
    "uncleaned_words = [word.rstrip(',.') for word in raw_words]\n",
    "\n",
    "uncleaned_words"
   ]
  },
  {
   "cell_type": "code",
   "execution_count": 30,
   "metadata": {},
   "outputs": [
    {
     "data": {
      "text/plain": [
       "''"
      ]
     },
     "execution_count": 30,
     "metadata": {},
     "output_type": "execute_result"
    }
   ],
   "source": [
    "uncleaned_words[15]"
   ]
  },
  {
   "cell_type": "code",
   "execution_count": 31,
   "metadata": {},
   "outputs": [
    {
     "data": {
      "text/plain": [
       "['Banyak',\n",
       " 'yang',\n",
       " 'minta',\n",
       " 'jelasin',\n",
       " 'soal',\n",
       " 'Danatara',\n",
       " 'ini',\n",
       " 'oke',\n",
       " 'tak',\n",
       " 'jelasin',\n",
       " 'dgn',\n",
       " 'simpel',\n",
       " 'simak',\n",
       " 'dgn',\n",
       " 'santai',\n",
       " 'ya',\n",
       " 'dulu',\n",
       " 'BUMN',\n",
       " 'kalau',\n",
       " 'dapat',\n",
       " 'dividen',\n",
       " 'sebagian',\n",
       " 'dividennya',\n",
       " 'dikasih',\n",
       " 'ke',\n",
       " 'APBN',\n",
       " 'terus',\n",
       " 'duitnya',\n",
       " 'dipake',\n",
       " 'buat',\n",
       " 'belanja',\n",
       " 'Nah',\n",
       " 'sekarang',\n",
       " 'Danantara',\n",
       " 'duitnya',\n",
       " 'gak',\n",
       " 'dipake',\n",
       " 'lgsg',\n",
       " 'untuk',\n",
       " 'belanja',\n",
       " 'tapi',\n",
       " 'investasi',\n",
       " 'https://t.co/qqZBckrWoi']"
      ]
     },
     "execution_count": 31,
     "metadata": {},
     "output_type": "execute_result"
    }
   ],
   "source": [
    "cleaned_words = list(filter(None, uncleaned_words))\n",
    "\n",
    "cleaned_words"
   ]
  },
  {
   "cell_type": "markdown",
   "metadata": {},
   "source": [
    "### Context Annotation cleaning"
   ]
  },
  {
   "cell_type": "code",
   "execution_count": 32,
   "metadata": {},
   "outputs": [
    {
     "data": {
      "text/plain": [
       "{'domain': {'id': '46',\n",
       "  'name': 'Business Taxonomy',\n",
       "  'description': 'Categories within Brand Verticals that narrow down the scope of Brands'},\n",
       " 'entity': {'id': '1557696848252391426',\n",
       "  'name': 'Financial Services Business',\n",
       "  'description': 'Brands, companies, advertisers and every non-person handle with the profit intent related to Banks, Credit cards, Insurance, Investments, Stocks '}}"
      ]
     },
     "execution_count": 32,
     "metadata": {},
     "output_type": "execute_result"
    }
   ],
   "source": [
    "data[\"data\"][\"context_annotations\"][0]"
   ]
  },
  {
   "cell_type": "code",
   "execution_count": 33,
   "metadata": {},
   "outputs": [
    {
     "data": {
      "text/plain": [
       "'46'"
      ]
     },
     "execution_count": 33,
     "metadata": {},
     "output_type": "execute_result"
    }
   ],
   "source": [
    "data[\"data\"][\"context_annotations\"][0][\"domain\"][\"id\"]"
   ]
  },
  {
   "cell_type": "code",
   "execution_count": 34,
   "metadata": {},
   "outputs": [
    {
     "data": {
      "text/plain": [
       "'Business Taxonomy'"
      ]
     },
     "execution_count": 34,
     "metadata": {},
     "output_type": "execute_result"
    }
   ],
   "source": [
    "data[\"data\"][\"context_annotations\"][0][\"domain\"][\"name\"]"
   ]
  },
  {
   "cell_type": "code",
   "execution_count": 35,
   "metadata": {},
   "outputs": [
    {
     "data": {
      "text/plain": [
       "'Categories within Brand Verticals that narrow down the scope of Brands'"
      ]
     },
     "execution_count": 35,
     "metadata": {},
     "output_type": "execute_result"
    }
   ],
   "source": [
    "data[\"data\"][\"context_annotations\"][0][\"domain\"][\"description\"]"
   ]
  },
  {
   "cell_type": "code",
   "execution_count": 36,
   "metadata": {},
   "outputs": [
    {
     "data": {
      "text/plain": [
       "'1557696848252391426'"
      ]
     },
     "execution_count": 36,
     "metadata": {},
     "output_type": "execute_result"
    }
   ],
   "source": [
    "data[\"data\"][\"context_annotations\"][0][\"entity\"][\"id\"]"
   ]
  },
  {
   "cell_type": "code",
   "execution_count": 37,
   "metadata": {},
   "outputs": [
    {
     "data": {
      "text/plain": [
       "'Financial Services Business'"
      ]
     },
     "execution_count": 37,
     "metadata": {},
     "output_type": "execute_result"
    }
   ],
   "source": [
    "data[\"data\"][\"context_annotations\"][0][\"entity\"][\"name\"]"
   ]
  },
  {
   "cell_type": "code",
   "execution_count": 38,
   "metadata": {},
   "outputs": [
    {
     "data": {
      "text/plain": [
       "'Brands, companies, advertisers and every non-person handle with the profit intent related to Banks, Credit cards, Insurance, Investments, Stocks '"
      ]
     },
     "execution_count": 38,
     "metadata": {},
     "output_type": "execute_result"
    }
   ],
   "source": [
    "data[\"data\"][\"context_annotations\"][0][\"entity\"][\"description\"]"
   ]
  },
  {
   "cell_type": "code",
   "execution_count": 89,
   "metadata": {},
   "outputs": [
    {
     "name": "stdout",
     "output_type": "stream",
     "text": [
      "1536331416954253312 description is not available\n",
      "1536331416954253312 description is not available\n"
     ]
    }
   ],
   "source": [
    "context_annotations_database = []\n",
    "\n",
    "for annotation in data[\"data\"][\"context_annotations\"]:\n",
    "  domain_id = annotation[\"domain\"][\"id\"]\n",
    "  entity_id = annotation[\"entity\"][\"id\"]\n",
    "  annotation_data = {\n",
    "    \"id\": f\"{domain_id}-{entity_id}\",\n",
    "    \"domain_id\": domain_id,\n",
    "    \"domain_name\": annotation[\"domain\"][\"name\"],\n",
    "    \"entity_id\": entity_id,\n",
    "    \"entity_name\": annotation[\"entity\"][\"name\"],\n",
    "  }\n",
    "\n",
    "  try:\n",
    "    annotation_data[\"domain_description\"] = annotation[\"domain\"][\"description\"]\n",
    "  except:\n",
    "    print(f\"{annotation[\"domain\"][\"id\"]} description is not available\")\n",
    "\n",
    "  try:\n",
    "    annotation_data[\"entity_description\"] = annotation[\"entity\"][\"description\"]\n",
    "  except:\n",
    "    print(f\"{annotation[\"entity\"][\"id\"]} description is not available\")\n",
    "\n",
    "  # For main data\n",
    "  context_annotations_database.append(annotation_data)"
   ]
  },
  {
   "cell_type": "code",
   "execution_count": 81,
   "metadata": {},
   "outputs": [
    {
     "data": {
      "text/plain": [
       "5"
      ]
     },
     "execution_count": 81,
     "metadata": {},
     "output_type": "execute_result"
    }
   ],
   "source": [
    "len(context_annotations_database)"
   ]
  },
  {
   "cell_type": "code",
   "execution_count": 90,
   "metadata": {},
   "outputs": [
    {
     "data": {
      "text/plain": [
       "{'id': '46-1557696848252391426',\n",
       " 'domain_id': '46',\n",
       " 'domain_name': 'Business Taxonomy',\n",
       " 'entity_id': '1557696848252391426',\n",
       " 'entity_name': 'Financial Services Business',\n",
       " 'domain_description': 'Categories within Brand Verticals that narrow down the scope of Brands',\n",
       " 'entity_description': 'Brands, companies, advertisers and every non-person handle with the profit intent related to Banks, Credit cards, Insurance, Investments, Stocks '}"
      ]
     },
     "execution_count": 90,
     "metadata": {},
     "output_type": "execute_result"
    }
   ],
   "source": [
    "context_annotations_database[0]"
   ]
  },
  {
   "cell_type": "code",
   "execution_count": 91,
   "metadata": {},
   "outputs": [],
   "source": [
    "with open(\"output/context_annotations.csv\", \"w\", newline=\"\") as f:\n",
    "  fieldnames = context_annotations_database[0].keys()\n",
    "  writer = csv.DictWriter(f, fieldnames=fieldnames)\n",
    "\n",
    "  if f.tell() == 0:\n",
    "    writer.writeheader()\n",
    "\n",
    "  writer.writerows(context_annotations_database)"
   ]
  },
  {
   "cell_type": "code",
   "execution_count": 92,
   "metadata": {},
   "outputs": [
    {
     "data": {
      "text/plain": [
       "['46-1557696848252391426',\n",
       " '46-1557697218248773632',\n",
       " '88-1536331416954253312',\n",
       " '131-1095391406816784384',\n",
       " '131-1536331416954253312']"
      ]
     },
     "execution_count": 92,
     "metadata": {},
     "output_type": "execute_result"
    }
   ],
   "source": [
    "context_annotations = [context[\"id\"] for context in context_annotations_database]\n",
    "\n",
    "context_annotations"
   ]
  },
  {
   "cell_type": "markdown",
   "metadata": {},
   "source": [
    "### Language cleaning"
   ]
  },
  {
   "cell_type": "code",
   "execution_count": 44,
   "metadata": {},
   "outputs": [
    {
     "data": {
      "text/plain": [
       "'in'"
      ]
     },
     "execution_count": 44,
     "metadata": {},
     "output_type": "execute_result"
    }
   ],
   "source": [
    "data[\"data\"][\"lang\"]"
   ]
  },
  {
   "cell_type": "markdown",
   "metadata": {},
   "source": [
    "language iso-code reference: https://en.wikipedia.org/wiki/List_of_ISO_639_language_codes"
   ]
  },
  {
   "cell_type": "code",
   "execution_count": 45,
   "metadata": {},
   "outputs": [
    {
     "name": "stdout",
     "output_type": "stream",
     "text": [
      "None\n"
     ]
    }
   ],
   "source": [
    "print(\n",
    "  pycountry.languages.get(alpha_2=\"in\")\n",
    ")"
   ]
  },
  {
   "cell_type": "code",
   "execution_count": 46,
   "metadata": {},
   "outputs": [
    {
     "name": "stdout",
     "output_type": "stream",
     "text": [
      "Language(alpha_2='id', alpha_3='ind', name='Indonesian', scope='I', type='L')\n"
     ]
    }
   ],
   "source": [
    "print(\n",
    "  pycountry.languages.get(alpha_2=\"id\")\n",
    ")"
   ]
  },
  {
   "cell_type": "code",
   "execution_count": 47,
   "metadata": {},
   "outputs": [],
   "source": [
    "custom_mapping = {\n",
    "  \"in\": \"id\"\n",
    "}\n",
    "\n",
    "def get_language_name(lang_code):\n",
    "  lang_code = custom_mapping.get(lang_code, lang_code)\n",
    "  \n",
    "  try:\n",
    "    return pycountry.languages.get(alpha_2=lang_code)\n",
    "  except AttributeError:\n",
    "    return None"
   ]
  },
  {
   "cell_type": "code",
   "execution_count": 48,
   "metadata": {},
   "outputs": [
    {
     "data": {
      "text/plain": [
       "Language(alpha_2='id', alpha_3='ind', name='Indonesian', scope='I', type='L')"
      ]
     },
     "execution_count": 48,
     "metadata": {},
     "output_type": "execute_result"
    }
   ],
   "source": [
    "get_language_name(\"id\")"
   ]
  },
  {
   "cell_type": "code",
   "execution_count": 49,
   "metadata": {},
   "outputs": [
    {
     "data": {
      "text/plain": [
       "Language(alpha_2='id', alpha_3='ind', name='Indonesian', scope='I', type='L')"
      ]
     },
     "execution_count": 49,
     "metadata": {},
     "output_type": "execute_result"
    }
   ],
   "source": [
    "get_language_name(\"in\")"
   ]
  },
  {
   "cell_type": "code",
   "execution_count": 50,
   "metadata": {},
   "outputs": [],
   "source": [
    "language = get_language_name(data[\"data\"][\"lang\"])\n",
    "language_name = language.name\n",
    "language_code = language.alpha_2"
   ]
  },
  {
   "cell_type": "code",
   "execution_count": 51,
   "metadata": {},
   "outputs": [
    {
     "name": "stdout",
     "output_type": "stream",
     "text": [
      "Indonesian id\n"
     ]
    }
   ],
   "source": [
    "print(language_name, language_code)"
   ]
  },
  {
   "cell_type": "markdown",
   "metadata": {},
   "source": [
    "### Save clean data"
   ]
  },
  {
   "cell_type": "code",
   "execution_count": null,
   "metadata": {},
   "outputs": [],
   "source": [
    "with open(\"output/word_counts_irwndfrry.json\", \"w\") as f:\n",
    "  new_data = {\n",
    "    \"tweet_id\": data[\"data\"][\"id\"],\n",
    "    \"author_id\": data[\"data\"][\"author_id\"],\n",
    "    \"sensitive\": data[\"data\"][\"possibly_sensitive\"],\n",
    "    \"word_count\": len(cleaned_words),\n",
    "    \"words\": cleaned_words,\n",
    "    \"language_name\": language_name,\n",
    "    \"language_code\": language_code,\n",
    "    \"created_at\": data[\"data\"][\"created_at\"],\n",
    "    \"retweet_count\": data[\"data\"][\"public_metrics\"][\"retweet_count\"],\n",
    "    \"reply_count\": data[\"data\"][\"public_metrics\"][\"reply_count\"],\n",
    "    \"like_count\": data[\"data\"][\"public_metrics\"][\"like_count\"],\n",
    "    \"quote_count\": data[\"data\"][\"public_metrics\"][\"quote_count\"],\n",
    "    \"bookmark_count\": data[\"data\"][\"public_metrics\"][\"bookmark_count\"],\n",
    "    \"impression_count\": data[\"data\"][\"public_metrics\"][\"impression_count\"],\n",
    "  }\n",
    "\n",
    "  for index, context in enumerate(context_annotations):\n",
    "    new_data[f\"annotation_{index}\"] = context\n",
    "\n",
    "  try:\n",
    "    for index, ref_tweet in enumerate(data[\"data\"][\"referenced_tweets\"]):\n",
    "      new_data[f\"reference_tweet_id_{index}\"] = ref_tweet['id']\n",
    "      new_data[f\"reference_tweet_type_{index}\"] = ref_tweet['type']\n",
    "  except:\n",
    "    print(\"no reference tweet\")\n",
    "\n",
    "  f.write(json.dumps(new_data, indent=2))"
   ]
  },
  {
   "cell_type": "code",
   "execution_count": 95,
   "metadata": {},
   "outputs": [
    {
     "data": {
      "text/html": [
       "<div>\n",
       "<style scoped>\n",
       "    .dataframe tbody tr th:only-of-type {\n",
       "        vertical-align: middle;\n",
       "    }\n",
       "\n",
       "    .dataframe tbody tr th {\n",
       "        vertical-align: top;\n",
       "    }\n",
       "\n",
       "    .dataframe thead th {\n",
       "        text-align: right;\n",
       "    }\n",
       "</style>\n",
       "<table border=\"1\" class=\"dataframe\">\n",
       "  <thead>\n",
       "    <tr style=\"text-align: right;\">\n",
       "      <th></th>\n",
       "      <th>tweet_id</th>\n",
       "      <th>author_id</th>\n",
       "      <th>sensitive</th>\n",
       "      <th>word_count</th>\n",
       "      <th>words</th>\n",
       "      <th>language_name</th>\n",
       "      <th>language_code</th>\n",
       "      <th>created_at</th>\n",
       "      <th>retweet_count</th>\n",
       "      <th>reply_count</th>\n",
       "      <th>...</th>\n",
       "      <th>quote_count</th>\n",
       "      <th>bookmark_count</th>\n",
       "      <th>impression_count</th>\n",
       "      <th>annotation_0</th>\n",
       "      <th>annotation_1</th>\n",
       "      <th>annotation_2</th>\n",
       "      <th>annotation_3</th>\n",
       "      <th>annotation_4</th>\n",
       "      <th>reference_tweet_id_0</th>\n",
       "      <th>reference_tweet_type_0</th>\n",
       "    </tr>\n",
       "  </thead>\n",
       "  <tbody>\n",
       "    <tr>\n",
       "      <th>0</th>\n",
       "      <td>1891503790353760256</td>\n",
       "      <td>251088685</td>\n",
       "      <td>False</td>\n",
       "      <td>43</td>\n",
       "      <td>Banyak</td>\n",
       "      <td>Indonesian</td>\n",
       "      <td>id</td>\n",
       "      <td>2025-02-17 15:03:40+00:00</td>\n",
       "      <td>36062</td>\n",
       "      <td>1299</td>\n",
       "      <td>...</td>\n",
       "      <td>1619</td>\n",
       "      <td>35057</td>\n",
       "      <td>5761847</td>\n",
       "      <td>46-1557696848252391426</td>\n",
       "      <td>46-1557697218248773632</td>\n",
       "      <td>88-1536331416954253312</td>\n",
       "      <td>131-1095391406816784384</td>\n",
       "      <td>131-1536331416954253312</td>\n",
       "      <td>1890992087614808320</td>\n",
       "      <td>quoted</td>\n",
       "    </tr>\n",
       "    <tr>\n",
       "      <th>1</th>\n",
       "      <td>1891503790353760256</td>\n",
       "      <td>251088685</td>\n",
       "      <td>False</td>\n",
       "      <td>43</td>\n",
       "      <td>yang</td>\n",
       "      <td>Indonesian</td>\n",
       "      <td>id</td>\n",
       "      <td>2025-02-17 15:03:40+00:00</td>\n",
       "      <td>36062</td>\n",
       "      <td>1299</td>\n",
       "      <td>...</td>\n",
       "      <td>1619</td>\n",
       "      <td>35057</td>\n",
       "      <td>5761847</td>\n",
       "      <td>46-1557696848252391426</td>\n",
       "      <td>46-1557697218248773632</td>\n",
       "      <td>88-1536331416954253312</td>\n",
       "      <td>131-1095391406816784384</td>\n",
       "      <td>131-1536331416954253312</td>\n",
       "      <td>1890992087614808320</td>\n",
       "      <td>quoted</td>\n",
       "    </tr>\n",
       "    <tr>\n",
       "      <th>2</th>\n",
       "      <td>1891503790353760256</td>\n",
       "      <td>251088685</td>\n",
       "      <td>False</td>\n",
       "      <td>43</td>\n",
       "      <td>minta</td>\n",
       "      <td>Indonesian</td>\n",
       "      <td>id</td>\n",
       "      <td>2025-02-17 15:03:40+00:00</td>\n",
       "      <td>36062</td>\n",
       "      <td>1299</td>\n",
       "      <td>...</td>\n",
       "      <td>1619</td>\n",
       "      <td>35057</td>\n",
       "      <td>5761847</td>\n",
       "      <td>46-1557696848252391426</td>\n",
       "      <td>46-1557697218248773632</td>\n",
       "      <td>88-1536331416954253312</td>\n",
       "      <td>131-1095391406816784384</td>\n",
       "      <td>131-1536331416954253312</td>\n",
       "      <td>1890992087614808320</td>\n",
       "      <td>quoted</td>\n",
       "    </tr>\n",
       "    <tr>\n",
       "      <th>3</th>\n",
       "      <td>1891503790353760256</td>\n",
       "      <td>251088685</td>\n",
       "      <td>False</td>\n",
       "      <td>43</td>\n",
       "      <td>jelasin</td>\n",
       "      <td>Indonesian</td>\n",
       "      <td>id</td>\n",
       "      <td>2025-02-17 15:03:40+00:00</td>\n",
       "      <td>36062</td>\n",
       "      <td>1299</td>\n",
       "      <td>...</td>\n",
       "      <td>1619</td>\n",
       "      <td>35057</td>\n",
       "      <td>5761847</td>\n",
       "      <td>46-1557696848252391426</td>\n",
       "      <td>46-1557697218248773632</td>\n",
       "      <td>88-1536331416954253312</td>\n",
       "      <td>131-1095391406816784384</td>\n",
       "      <td>131-1536331416954253312</td>\n",
       "      <td>1890992087614808320</td>\n",
       "      <td>quoted</td>\n",
       "    </tr>\n",
       "    <tr>\n",
       "      <th>4</th>\n",
       "      <td>1891503790353760256</td>\n",
       "      <td>251088685</td>\n",
       "      <td>False</td>\n",
       "      <td>43</td>\n",
       "      <td>soal</td>\n",
       "      <td>Indonesian</td>\n",
       "      <td>id</td>\n",
       "      <td>2025-02-17 15:03:40+00:00</td>\n",
       "      <td>36062</td>\n",
       "      <td>1299</td>\n",
       "      <td>...</td>\n",
       "      <td>1619</td>\n",
       "      <td>35057</td>\n",
       "      <td>5761847</td>\n",
       "      <td>46-1557696848252391426</td>\n",
       "      <td>46-1557697218248773632</td>\n",
       "      <td>88-1536331416954253312</td>\n",
       "      <td>131-1095391406816784384</td>\n",
       "      <td>131-1536331416954253312</td>\n",
       "      <td>1890992087614808320</td>\n",
       "      <td>quoted</td>\n",
       "    </tr>\n",
       "  </tbody>\n",
       "</table>\n",
       "<p>5 rows × 21 columns</p>\n",
       "</div>"
      ],
      "text/plain": [
       "              tweet_id  author_id  sensitive  word_count    words  \\\n",
       "0  1891503790353760256  251088685      False          43   Banyak   \n",
       "1  1891503790353760256  251088685      False          43     yang   \n",
       "2  1891503790353760256  251088685      False          43    minta   \n",
       "3  1891503790353760256  251088685      False          43  jelasin   \n",
       "4  1891503790353760256  251088685      False          43     soal   \n",
       "\n",
       "  language_name language_code                created_at  retweet_count  \\\n",
       "0    Indonesian            id 2025-02-17 15:03:40+00:00          36062   \n",
       "1    Indonesian            id 2025-02-17 15:03:40+00:00          36062   \n",
       "2    Indonesian            id 2025-02-17 15:03:40+00:00          36062   \n",
       "3    Indonesian            id 2025-02-17 15:03:40+00:00          36062   \n",
       "4    Indonesian            id 2025-02-17 15:03:40+00:00          36062   \n",
       "\n",
       "   reply_count  ...  quote_count  bookmark_count  impression_count  \\\n",
       "0         1299  ...         1619           35057           5761847   \n",
       "1         1299  ...         1619           35057           5761847   \n",
       "2         1299  ...         1619           35057           5761847   \n",
       "3         1299  ...         1619           35057           5761847   \n",
       "4         1299  ...         1619           35057           5761847   \n",
       "\n",
       "             annotation_0            annotation_1            annotation_2  \\\n",
       "0  46-1557696848252391426  46-1557697218248773632  88-1536331416954253312   \n",
       "1  46-1557696848252391426  46-1557697218248773632  88-1536331416954253312   \n",
       "2  46-1557696848252391426  46-1557697218248773632  88-1536331416954253312   \n",
       "3  46-1557696848252391426  46-1557697218248773632  88-1536331416954253312   \n",
       "4  46-1557696848252391426  46-1557697218248773632  88-1536331416954253312   \n",
       "\n",
       "              annotation_3             annotation_4 reference_tweet_id_0  \\\n",
       "0  131-1095391406816784384  131-1536331416954253312  1890992087614808320   \n",
       "1  131-1095391406816784384  131-1536331416954253312  1890992087614808320   \n",
       "2  131-1095391406816784384  131-1536331416954253312  1890992087614808320   \n",
       "3  131-1095391406816784384  131-1536331416954253312  1890992087614808320   \n",
       "4  131-1095391406816784384  131-1536331416954253312  1890992087614808320   \n",
       "\n",
       "   reference_tweet_type_0  \n",
       "0                  quoted  \n",
       "1                  quoted  \n",
       "2                  quoted  \n",
       "3                  quoted  \n",
       "4                  quoted  \n",
       "\n",
       "[5 rows x 21 columns]"
      ]
     },
     "execution_count": 95,
     "metadata": {},
     "output_type": "execute_result"
    }
   ],
   "source": [
    "pd.read_json(\"output/word_counts_irwndfrry.json\").head()"
   ]
  },
  {
   "cell_type": "markdown",
   "metadata": {},
   "source": [
    "### Re-cleaning data for the referenced tweet"
   ]
  },
  {
   "cell_type": "code",
   "execution_count": null,
   "metadata": {},
   "outputs": [],
   "source": [
    "data[\"includes\"][\"tweets\"][0]"
   ]
  },
  {
   "cell_type": "code",
   "execution_count": 109,
   "metadata": {},
   "outputs": [],
   "source": [
    "def clean_words(data):\n",
    "  # Word cleaning\n",
    "  text = data[\"text\"]\n",
    "  raw_words = text.split()\n",
    "  uncleaned_words = [word.rstrip(',.') for word in raw_words]\n",
    "  cleaned_words = list(filter(None, uncleaned_words))\n",
    "\n",
    "  return cleaned_words\n",
    "  "
   ]
  },
  {
   "cell_type": "code",
   "execution_count": 108,
   "metadata": {},
   "outputs": [],
   "source": [
    "def clean_context_annotations(data):\n",
    "  context_annotations_database = []\n",
    "\n",
    "  for annotation in data[\"context_annotations\"]:\n",
    "    domain_id = annotation[\"domain\"][\"id\"]\n",
    "    entity_id = annotation[\"entity\"][\"id\"]\n",
    "    annotation_data = {\n",
    "      \"id\": f\"{domain_id}-{entity_id}\",\n",
    "      \"domain_id\": domain_id,\n",
    "      \"domain_name\": annotation[\"domain\"][\"name\"],\n",
    "      \"entity_id\": entity_id,\n",
    "      \"entity_name\": annotation[\"entity\"][\"name\"],\n",
    "    }\n",
    "\n",
    "    try:\n",
    "      annotation_data[\"domain_description\"] = annotation[\"domain\"][\"description\"]\n",
    "    except:\n",
    "      print(f\"{annotation[\"domain\"][\"id\"]} description is not available\")\n",
    "\n",
    "    try:\n",
    "      annotation_data[\"entity_description\"] = annotation[\"entity\"][\"description\"]\n",
    "    except:\n",
    "      print(f\"{annotation[\"entity\"][\"id\"]} description is not available\")\n",
    "\n",
    "    # For main data\n",
    "    context_annotations_database.append(annotation_data)\n",
    "\n",
    "  # Save with append into csv\n",
    "  with open(\"output/context_annotations.csv\", \"a\", newline=\"\") as f:\n",
    "    fieldnames = context_annotations_database[0].keys()\n",
    "    writer = csv.DictWriter(f, fieldnames=fieldnames)\n",
    "\n",
    "    if f.tell() == 0:\n",
    "      writer.writeheader()\n",
    "\n",
    "    writer.writerows(context_annotations_database)\n",
    "\n",
    "  return [context[\"id\"] for context in context_annotations_database]\n",
    "  "
   ]
  },
  {
   "cell_type": "code",
   "execution_count": 107,
   "metadata": {},
   "outputs": [],
   "source": [
    "def clean_language(data):\n",
    "  custom_mapping = {\n",
    "    \"in\": \"id\"\n",
    "  }\n",
    "\n",
    "  def get_language_name(lang_code):\n",
    "    lang_code = custom_mapping.get(lang_code, lang_code)\n",
    "    \n",
    "    try:\n",
    "      return pycountry.languages.get(alpha_2=lang_code)\n",
    "    except AttributeError:\n",
    "      return None\n",
    "  \n",
    "  language = get_language_name(data[\"lang\"])\n",
    "\n",
    "  return (language.name, language.alpha_2)"
   ]
  },
  {
   "cell_type": "code",
   "execution_count": null,
   "metadata": {},
   "outputs": [],
   "source": [
    "def transform_tweet(data):\n",
    "  cleaned_words = clean_words(data)\n",
    "  language_name, language_code = clean_language(data)\n",
    "  context_annotations = clean_context_annotations(data)\n",
    "\n",
    "  with open(f\"output/word_counts_{data[\"id\"]}.json\", \"w\") as f:\n",
    "    new_data = {\n",
    "      \"tweet_id\": data[\"id\"],\n",
    "      \"author_id\": data[\"author_id\"],\n",
    "      \"sensitive\": data[\"possibly_sensitive\"],\n",
    "      \"word_count\": len(cleaned_words),\n",
    "      \"words\": cleaned_words,\n",
    "      \"language_name\": language_name,\n",
    "      \"language_code\": language_code,\n",
    "      \"created_at\": data[\"created_at\"],\n",
    "      \"retweet_count\": data[\"public_metrics\"][\"retweet_count\"],\n",
    "      \"reply_count\": data[\"public_metrics\"][\"reply_count\"],\n",
    "      \"like_count\": data[\"public_metrics\"][\"like_count\"],\n",
    "      \"quote_count\": data[\"public_metrics\"][\"quote_count\"],\n",
    "      \"bookmark_count\": data[\"public_metrics\"][\"bookmark_count\"],\n",
    "      \"impression_count\": data[\"public_metrics\"][\"impression_count\"],\n",
    "    }\n",
    "\n",
    "    for index, context in enumerate(context_annotations):\n",
    "      new_data[f\"annotation_{index}\"] = context\n",
    "\n",
    "    try:\n",
    "      for index, ref_tweet in enumerate(data[\"referenced_tweets\"]):\n",
    "        new_data[f\"reference_tweet_id_{index}\"] = ref_tweet['id']\n",
    "        new_data[f\"reference_tweet_type_{index}\"] = ref_tweet['type']\n",
    "    except:\n",
    "      print(\"No referenced_tweet\")\n",
    "\n",
    "    f.write(json.dumps(new_data, indent=2))"
   ]
  },
  {
   "cell_type": "code",
   "execution_count": null,
   "metadata": {},
   "outputs": [
    {
     "name": "stdout",
     "output_type": "stream",
     "text": [
      "1536331416954253312 description is not available\n",
      "1536331416954253312 description is not available\n",
      "1328727386934820865 description is not available\n",
      "1328727386934820865 description is not available\n",
      "No referenced_tweet\n"
     ]
    }
   ],
   "source": [
    "for item in data[\"includes\"][\"tweets\"]:\n",
    "  transform_tweet(item)"
   ]
  },
  {
   "cell_type": "markdown",
   "metadata": {},
   "source": [
    "## Ferry Irwandi User"
   ]
  },
  {
   "cell_type": "markdown",
   "metadata": {},
   "source": [
    "Flatten data with pandas json normalize"
   ]
  },
  {
   "cell_type": "code",
   "execution_count": 131,
   "metadata": {},
   "outputs": [],
   "source": [
    "file_path = \"../../extract/output/twitter_user_irwndfrry.json\""
   ]
  },
  {
   "cell_type": "code",
   "execution_count": 132,
   "metadata": {},
   "outputs": [
    {
     "data": {
      "text/html": [
       "<div>\n",
       "<style scoped>\n",
       "    .dataframe tbody tr th:only-of-type {\n",
       "        vertical-align: middle;\n",
       "    }\n",
       "\n",
       "    .dataframe tbody tr th {\n",
       "        vertical-align: top;\n",
       "    }\n",
       "\n",
       "    .dataframe thead th {\n",
       "        text-align: right;\n",
       "    }\n",
       "</style>\n",
       "<table border=\"1\" class=\"dataframe\">\n",
       "  <thead>\n",
       "    <tr style=\"text-align: right;\">\n",
       "      <th></th>\n",
       "      <th>data</th>\n",
       "    </tr>\n",
       "  </thead>\n",
       "  <tbody>\n",
       "    <tr>\n",
       "      <th>verified</th>\n",
       "      <td>False</td>\n",
       "    </tr>\n",
       "    <tr>\n",
       "      <th>profile_image_url</th>\n",
       "      <td>https://pbs.twimg.com/profile_images/188894133...</td>\n",
       "    </tr>\n",
       "    <tr>\n",
       "      <th>protected</th>\n",
       "      <td>False</td>\n",
       "    </tr>\n",
       "    <tr>\n",
       "      <th>username</th>\n",
       "      <td>irwndfrry</td>\n",
       "    </tr>\n",
       "    <tr>\n",
       "      <th>pinned_tweet_id</th>\n",
       "      <td>1874839670984753388</td>\n",
       "    </tr>\n",
       "    <tr>\n",
       "      <th>name</th>\n",
       "      <td>Ferry Irwandi</td>\n",
       "    </tr>\n",
       "    <tr>\n",
       "      <th>id</th>\n",
       "      <td>251088685</td>\n",
       "    </tr>\n",
       "    <tr>\n",
       "      <th>created_at</th>\n",
       "      <td>2011-02-12T12:18:46.000Z</td>\n",
       "    </tr>\n",
       "    <tr>\n",
       "      <th>public_metrics</th>\n",
       "      <td>{'followers_count': 208273, 'following_count':...</td>\n",
       "    </tr>\n",
       "    <tr>\n",
       "      <th>description</th>\n",
       "      <td></td>\n",
       "    </tr>\n",
       "  </tbody>\n",
       "</table>\n",
       "</div>"
      ],
      "text/plain": [
       "                                                                data\n",
       "verified                                                       False\n",
       "profile_image_url  https://pbs.twimg.com/profile_images/188894133...\n",
       "protected                                                      False\n",
       "username                                                   irwndfrry\n",
       "pinned_tweet_id                                  1874839670984753388\n",
       "name                                                   Ferry Irwandi\n",
       "id                                                         251088685\n",
       "created_at                                  2011-02-12T12:18:46.000Z\n",
       "public_metrics     {'followers_count': 208273, 'following_count':...\n",
       "description                                                         "
      ]
     },
     "execution_count": 132,
     "metadata": {},
     "output_type": "execute_result"
    }
   ],
   "source": [
    "pd.read_json(file_path)"
   ]
  },
  {
   "cell_type": "code",
   "execution_count": 138,
   "metadata": {},
   "outputs": [],
   "source": [
    "with open(file_path, \"r\") as f:\n",
    "  data = json.loads(f.read())"
   ]
  },
  {
   "cell_type": "code",
   "execution_count": 139,
   "metadata": {},
   "outputs": [
    {
     "data": {
      "text/plain": [
       "{'data': {'verified': False,\n",
       "  'profile_image_url': 'https://pbs.twimg.com/profile_images/1888941332389068800/zDL30fow_normal.jpg',\n",
       "  'protected': False,\n",
       "  'username': 'irwndfrry',\n",
       "  'pinned_tweet_id': '1874839670984753388',\n",
       "  'name': 'Ferry Irwandi',\n",
       "  'id': '251088685',\n",
       "  'created_at': '2011-02-12T12:18:46.000Z',\n",
       "  'public_metrics': {'followers_count': 208273,\n",
       "   'following_count': 1053,\n",
       "   'tweet_count': 33933,\n",
       "   'listed_count': 78,\n",
       "   'like_count': 2027,\n",
       "   'media_count': 1463},\n",
       "  'description': ''}}"
      ]
     },
     "execution_count": 139,
     "metadata": {},
     "output_type": "execute_result"
    }
   ],
   "source": [
    "data"
   ]
  },
  {
   "cell_type": "code",
   "execution_count": 140,
   "metadata": {},
   "outputs": [
    {
     "data": {
      "text/html": [
       "<div>\n",
       "<style scoped>\n",
       "    .dataframe tbody tr th:only-of-type {\n",
       "        vertical-align: middle;\n",
       "    }\n",
       "\n",
       "    .dataframe tbody tr th {\n",
       "        vertical-align: top;\n",
       "    }\n",
       "\n",
       "    .dataframe thead th {\n",
       "        text-align: right;\n",
       "    }\n",
       "</style>\n",
       "<table border=\"1\" class=\"dataframe\">\n",
       "  <thead>\n",
       "    <tr style=\"text-align: right;\">\n",
       "      <th></th>\n",
       "      <th>verified</th>\n",
       "      <th>profile_image_url</th>\n",
       "      <th>protected</th>\n",
       "      <th>username</th>\n",
       "      <th>pinned_tweet_id</th>\n",
       "      <th>name</th>\n",
       "      <th>id</th>\n",
       "      <th>created_at</th>\n",
       "      <th>description</th>\n",
       "      <th>public_metrics_followers_count</th>\n",
       "      <th>public_metrics_following_count</th>\n",
       "      <th>public_metrics_tweet_count</th>\n",
       "      <th>public_metrics_listed_count</th>\n",
       "      <th>public_metrics_like_count</th>\n",
       "      <th>public_metrics_media_count</th>\n",
       "    </tr>\n",
       "  </thead>\n",
       "  <tbody>\n",
       "    <tr>\n",
       "      <th>0</th>\n",
       "      <td>False</td>\n",
       "      <td>https://pbs.twimg.com/profile_images/188894133...</td>\n",
       "      <td>False</td>\n",
       "      <td>irwndfrry</td>\n",
       "      <td>1874839670984753388</td>\n",
       "      <td>Ferry Irwandi</td>\n",
       "      <td>251088685</td>\n",
       "      <td>2011-02-12T12:18:46.000Z</td>\n",
       "      <td></td>\n",
       "      <td>208273</td>\n",
       "      <td>1053</td>\n",
       "      <td>33933</td>\n",
       "      <td>78</td>\n",
       "      <td>2027</td>\n",
       "      <td>1463</td>\n",
       "    </tr>\n",
       "  </tbody>\n",
       "</table>\n",
       "</div>"
      ],
      "text/plain": [
       "   verified                                  profile_image_url  protected  \\\n",
       "0     False  https://pbs.twimg.com/profile_images/188894133...      False   \n",
       "\n",
       "    username      pinned_tweet_id           name         id  \\\n",
       "0  irwndfrry  1874839670984753388  Ferry Irwandi  251088685   \n",
       "\n",
       "                 created_at description  public_metrics_followers_count  \\\n",
       "0  2011-02-12T12:18:46.000Z                                      208273   \n",
       "\n",
       "   public_metrics_following_count  public_metrics_tweet_count  \\\n",
       "0                            1053                       33933   \n",
       "\n",
       "   public_metrics_listed_count  public_metrics_like_count  \\\n",
       "0                           78                       2027   \n",
       "\n",
       "   public_metrics_media_count  \n",
       "0                        1463  "
      ]
     },
     "execution_count": 140,
     "metadata": {},
     "output_type": "execute_result"
    }
   ],
   "source": [
    "df = pd.json_normalize(data[\"data\"], sep='_')\n",
    "\n",
    "df"
   ]
  },
  {
   "cell_type": "code",
   "execution_count": 143,
   "metadata": {},
   "outputs": [],
   "source": [
    "df.to_csv(\"output/users.csv\", index=False)"
   ]
  },
  {
   "cell_type": "markdown",
   "metadata": {},
   "source": [
    "## Tweets with geotag"
   ]
  },
  {
   "cell_type": "code",
   "execution_count": null,
   "metadata": {},
   "outputs": [],
   "source": []
  }
 ],
 "metadata": {
  "kernelspec": {
   "display_name": "venv",
   "language": "python",
   "name": "python3"
  },
  "language_info": {
   "codemirror_mode": {
    "name": "ipython",
    "version": 3
   },
   "file_extension": ".py",
   "mimetype": "text/x-python",
   "name": "python",
   "nbconvert_exporter": "python",
   "pygments_lexer": "ipython3",
   "version": "3.12.6"
  }
 },
 "nbformat": 4,
 "nbformat_minor": 2
}
