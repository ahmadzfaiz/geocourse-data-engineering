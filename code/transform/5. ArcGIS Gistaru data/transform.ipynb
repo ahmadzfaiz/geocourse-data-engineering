{
 "cells": [
  {
   "cell_type": "code",
   "execution_count": 122,
   "metadata": {},
   "outputs": [],
   "source": [
    "import geopandas as gpd\n",
    "from shapely import Polygon, MultiPolygon, Point"
   ]
  },
  {
   "cell_type": "code",
   "execution_count": 2,
   "metadata": {},
   "outputs": [],
   "source": [
    "file_path = \"../../extract/output/arcgis_feature_query.geojson\""
   ]
  },
  {
   "cell_type": "code",
   "execution_count": 3,
   "metadata": {},
   "outputs": [
    {
     "data": {
      "text/html": [
       "<div>\n",
       "<style scoped>\n",
       "    .dataframe tbody tr th:only-of-type {\n",
       "        vertical-align: middle;\n",
       "    }\n",
       "\n",
       "    .dataframe tbody tr th {\n",
       "        vertical-align: top;\n",
       "    }\n",
       "\n",
       "    .dataframe thead th {\n",
       "        text-align: right;\n",
       "    }\n",
       "</style>\n",
       "<table border=\"1\" class=\"dataframe\">\n",
       "  <thead>\n",
       "    <tr style=\"text-align: right;\">\n",
       "      <th></th>\n",
       "      <th>OBJECTID</th>\n",
       "      <th>NAMOBJ</th>\n",
       "      <th>NAMZON</th>\n",
       "      <th>KODZON</th>\n",
       "      <th>NAMSZN</th>\n",
       "      <th>KODSZN</th>\n",
       "      <th>JNSRPR</th>\n",
       "      <th>KODEWP</th>\n",
       "      <th>KODSWP</th>\n",
       "      <th>KODBLK</th>\n",
       "      <th>...</th>\n",
       "      <th>TPZ_00</th>\n",
       "      <th>REMARK</th>\n",
       "      <th>PP</th>\n",
       "      <th>BA</th>\n",
       "      <th>CT</th>\n",
       "      <th>BT</th>\n",
       "      <th>NOTHPR</th>\n",
       "      <th>SHAPE_Length</th>\n",
       "      <th>SHAPE_Area</th>\n",
       "      <th>geometry</th>\n",
       "    </tr>\n",
       "  </thead>\n",
       "  <tbody>\n",
       "    <tr>\n",
       "      <th>0</th>\n",
       "      <td>578</td>\n",
       "      <td>Badan Jalan</td>\n",
       "      <td>Badan Jalan</td>\n",
       "      <td>BJ</td>\n",
       "      <td>Badan Jalan</td>\n",
       "      <td>BJ</td>\n",
       "      <td>Zona Budi Daya</td>\n",
       "      <td>I</td>\n",
       "      <td>A</td>\n",
       "      <td>10</td>\n",
       "      <td>...</td>\n",
       "      <td>Tidak Ada</td>\n",
       "      <td>Tidak Ada</td>\n",
       "      <td>http://gistaru.atrbpn.go.id/repository/Pages/V...</td>\n",
       "      <td>Tidak Ada</td>\n",
       "      <td>http://gistaru.atrbpn.go.id/repository/Pages/V...</td>\n",
       "      <td>http://gistaru.atrbpn.go.id/repository/Pages/V...</td>\n",
       "      <td>Peraturan Bupati Aceh Tengah Nomor 47 Tahun 20...</td>\n",
       "      <td>0.141053</td>\n",
       "      <td>2.425833e-06</td>\n",
       "      <td>POLYGON ((96.84078 4.62257, 96.84078 4.62257, ...</td>\n",
       "    </tr>\n",
       "    <tr>\n",
       "      <th>1</th>\n",
       "      <td>579</td>\n",
       "      <td>Badan Jalan</td>\n",
       "      <td>Badan Jalan</td>\n",
       "      <td>BJ</td>\n",
       "      <td>Badan Jalan</td>\n",
       "      <td>BJ</td>\n",
       "      <td>Zona Budi Daya</td>\n",
       "      <td>I</td>\n",
       "      <td>A</td>\n",
       "      <td>10</td>\n",
       "      <td>...</td>\n",
       "      <td>Tidak Ada</td>\n",
       "      <td>Tidak Ada</td>\n",
       "      <td>http://gistaru.atrbpn.go.id/repository/Pages/V...</td>\n",
       "      <td>Tidak Ada</td>\n",
       "      <td>http://gistaru.atrbpn.go.id/repository/Pages/V...</td>\n",
       "      <td>http://gistaru.atrbpn.go.id/repository/Pages/V...</td>\n",
       "      <td>Peraturan Bupati Aceh Tengah Nomor 47 Tahun 20...</td>\n",
       "      <td>0.008459</td>\n",
       "      <td>1.515184e-07</td>\n",
       "      <td>POLYGON ((96.84039 4.61826, 96.84032 4.61837, ...</td>\n",
       "    </tr>\n",
       "    <tr>\n",
       "      <th>2</th>\n",
       "      <td>580</td>\n",
       "      <td>Badan Jalan</td>\n",
       "      <td>Badan Jalan</td>\n",
       "      <td>BJ</td>\n",
       "      <td>Badan Jalan</td>\n",
       "      <td>BJ</td>\n",
       "      <td>Zona Budi Daya</td>\n",
       "      <td>I</td>\n",
       "      <td>A</td>\n",
       "      <td>11</td>\n",
       "      <td>...</td>\n",
       "      <td>Tidak Ada</td>\n",
       "      <td>Tidak Ada</td>\n",
       "      <td>http://gistaru.atrbpn.go.id/repository/Pages/V...</td>\n",
       "      <td>Tidak Ada</td>\n",
       "      <td>http://gistaru.atrbpn.go.id/repository/Pages/V...</td>\n",
       "      <td>http://gistaru.atrbpn.go.id/repository/Pages/V...</td>\n",
       "      <td>Peraturan Bupati Aceh Tengah Nomor 47 Tahun 20...</td>\n",
       "      <td>0.025818</td>\n",
       "      <td>3.163195e-07</td>\n",
       "      <td>MULTIPOLYGON (((96.84279 4.61965, 96.84278 4.6...</td>\n",
       "    </tr>\n",
       "    <tr>\n",
       "      <th>3</th>\n",
       "      <td>581</td>\n",
       "      <td>Badan Jalan</td>\n",
       "      <td>Badan Jalan</td>\n",
       "      <td>BJ</td>\n",
       "      <td>Badan Jalan</td>\n",
       "      <td>BJ</td>\n",
       "      <td>Zona Budi Daya</td>\n",
       "      <td>I</td>\n",
       "      <td>A</td>\n",
       "      <td>11</td>\n",
       "      <td>...</td>\n",
       "      <td>Tidak Ada</td>\n",
       "      <td>Tidak Ada</td>\n",
       "      <td>http://gistaru.atrbpn.go.id/repository/Pages/V...</td>\n",
       "      <td>Tidak Ada</td>\n",
       "      <td>http://gistaru.atrbpn.go.id/repository/Pages/V...</td>\n",
       "      <td>http://gistaru.atrbpn.go.id/repository/Pages/V...</td>\n",
       "      <td>Peraturan Bupati Aceh Tengah Nomor 47 Tahun 20...</td>\n",
       "      <td>0.038819</td>\n",
       "      <td>5.724688e-07</td>\n",
       "      <td>POLYGON ((96.84294 4.62263, 96.84288 4.62263, ...</td>\n",
       "    </tr>\n",
       "    <tr>\n",
       "      <th>4</th>\n",
       "      <td>582</td>\n",
       "      <td>Badan Jalan</td>\n",
       "      <td>Badan Jalan</td>\n",
       "      <td>BJ</td>\n",
       "      <td>Badan Jalan</td>\n",
       "      <td>BJ</td>\n",
       "      <td>Zona Budi Daya</td>\n",
       "      <td>I</td>\n",
       "      <td>A</td>\n",
       "      <td>11</td>\n",
       "      <td>...</td>\n",
       "      <td>Tidak Ada</td>\n",
       "      <td>Tidak Ada</td>\n",
       "      <td>http://gistaru.atrbpn.go.id/repository/Pages/V...</td>\n",
       "      <td>Tidak Ada</td>\n",
       "      <td>http://gistaru.atrbpn.go.id/repository/Pages/V...</td>\n",
       "      <td>http://gistaru.atrbpn.go.id/repository/Pages/V...</td>\n",
       "      <td>Peraturan Bupati Aceh Tengah Nomor 47 Tahun 20...</td>\n",
       "      <td>0.011531</td>\n",
       "      <td>1.120660e-07</td>\n",
       "      <td>MULTIPOLYGON (((96.84613 4.61912, 96.8461 4.61...</td>\n",
       "    </tr>\n",
       "  </tbody>\n",
       "</table>\n",
       "<p>5 rows × 39 columns</p>\n",
       "</div>"
      ],
      "text/plain": [
       "   OBJECTID       NAMOBJ       NAMZON KODZON       NAMSZN KODSZN  \\\n",
       "0       578  Badan Jalan  Badan Jalan     BJ  Badan Jalan     BJ   \n",
       "1       579  Badan Jalan  Badan Jalan     BJ  Badan Jalan     BJ   \n",
       "2       580  Badan Jalan  Badan Jalan     BJ  Badan Jalan     BJ   \n",
       "3       581  Badan Jalan  Badan Jalan     BJ  Badan Jalan     BJ   \n",
       "4       582  Badan Jalan  Badan Jalan     BJ  Badan Jalan     BJ   \n",
       "\n",
       "           JNSRPR KODEWP KODSWP KODBLK  ...     TPZ_00     REMARK  \\\n",
       "0  Zona Budi Daya      I      A     10  ...  Tidak Ada  Tidak Ada   \n",
       "1  Zona Budi Daya      I      A     10  ...  Tidak Ada  Tidak Ada   \n",
       "2  Zona Budi Daya      I      A     11  ...  Tidak Ada  Tidak Ada   \n",
       "3  Zona Budi Daya      I      A     11  ...  Tidak Ada  Tidak Ada   \n",
       "4  Zona Budi Daya      I      A     11  ...  Tidak Ada  Tidak Ada   \n",
       "\n",
       "                                                  PP         BA  \\\n",
       "0  http://gistaru.atrbpn.go.id/repository/Pages/V...  Tidak Ada   \n",
       "1  http://gistaru.atrbpn.go.id/repository/Pages/V...  Tidak Ada   \n",
       "2  http://gistaru.atrbpn.go.id/repository/Pages/V...  Tidak Ada   \n",
       "3  http://gistaru.atrbpn.go.id/repository/Pages/V...  Tidak Ada   \n",
       "4  http://gistaru.atrbpn.go.id/repository/Pages/V...  Tidak Ada   \n",
       "\n",
       "                                                  CT  \\\n",
       "0  http://gistaru.atrbpn.go.id/repository/Pages/V...   \n",
       "1  http://gistaru.atrbpn.go.id/repository/Pages/V...   \n",
       "2  http://gistaru.atrbpn.go.id/repository/Pages/V...   \n",
       "3  http://gistaru.atrbpn.go.id/repository/Pages/V...   \n",
       "4  http://gistaru.atrbpn.go.id/repository/Pages/V...   \n",
       "\n",
       "                                                  BT  \\\n",
       "0  http://gistaru.atrbpn.go.id/repository/Pages/V...   \n",
       "1  http://gistaru.atrbpn.go.id/repository/Pages/V...   \n",
       "2  http://gistaru.atrbpn.go.id/repository/Pages/V...   \n",
       "3  http://gistaru.atrbpn.go.id/repository/Pages/V...   \n",
       "4  http://gistaru.atrbpn.go.id/repository/Pages/V...   \n",
       "\n",
       "                                              NOTHPR SHAPE_Length  \\\n",
       "0  Peraturan Bupati Aceh Tengah Nomor 47 Tahun 20...     0.141053   \n",
       "1  Peraturan Bupati Aceh Tengah Nomor 47 Tahun 20...     0.008459   \n",
       "2  Peraturan Bupati Aceh Tengah Nomor 47 Tahun 20...     0.025818   \n",
       "3  Peraturan Bupati Aceh Tengah Nomor 47 Tahun 20...     0.038819   \n",
       "4  Peraturan Bupati Aceh Tengah Nomor 47 Tahun 20...     0.011531   \n",
       "\n",
       "     SHAPE_Area                                           geometry  \n",
       "0  2.425833e-06  POLYGON ((96.84078 4.62257, 96.84078 4.62257, ...  \n",
       "1  1.515184e-07  POLYGON ((96.84039 4.61826, 96.84032 4.61837, ...  \n",
       "2  3.163195e-07  MULTIPOLYGON (((96.84279 4.61965, 96.84278 4.6...  \n",
       "3  5.724688e-07  POLYGON ((96.84294 4.62263, 96.84288 4.62263, ...  \n",
       "4  1.120660e-07  MULTIPOLYGON (((96.84613 4.61912, 96.8461 4.61...  \n",
       "\n",
       "[5 rows x 39 columns]"
      ]
     },
     "execution_count": 3,
     "metadata": {},
     "output_type": "execute_result"
    }
   ],
   "source": [
    "gdf = gpd.read_file(file_path)\n",
    "\n",
    "gdf.head()"
   ]
  },
  {
   "cell_type": "code",
   "execution_count": 4,
   "metadata": {},
   "outputs": [
    {
     "data": {
      "text/plain": [
       "0    POLYGON ((96.84078 4.62257, 96.84078 4.62257, ...\n",
       "1    POLYGON ((96.84039 4.61826, 96.84032 4.61837, ...\n",
       "2    MULTIPOLYGON (((96.84279 4.61965, 96.84278 4.6...\n",
       "3    POLYGON ((96.84294 4.62263, 96.84288 4.62263, ...\n",
       "4    MULTIPOLYGON (((96.84613 4.61912, 96.8461 4.61...\n",
       "Name: geometry, dtype: geometry"
      ]
     },
     "execution_count": 4,
     "metadata": {},
     "output_type": "execute_result"
    }
   ],
   "source": [
    "gdf.geometry.head()"
   ]
  },
  {
   "cell_type": "markdown",
   "metadata": {},
   "source": [
    "## Set as multipolygon"
   ]
  },
  {
   "cell_type": "code",
   "execution_count": 5,
   "metadata": {},
   "outputs": [],
   "source": [
    "gdf_multipoly = gdf.copy()"
   ]
  },
  {
   "cell_type": "code",
   "execution_count": 6,
   "metadata": {},
   "outputs": [],
   "source": [
    "gdf_multipoly = gdf_multipoly.geometry.apply(\n",
    "    lambda geom: MultiPolygon([geom]) if isinstance(geom, Polygon) else geom\n",
    ")"
   ]
  },
  {
   "cell_type": "code",
   "execution_count": 7,
   "metadata": {},
   "outputs": [
    {
     "data": {
      "text/plain": [
       "577"
      ]
     },
     "execution_count": 7,
     "metadata": {},
     "output_type": "execute_result"
    }
   ],
   "source": [
    "len(gdf)"
   ]
  },
  {
   "cell_type": "code",
   "execution_count": 8,
   "metadata": {},
   "outputs": [
    {
     "data": {
      "text/plain": [
       "577"
      ]
     },
     "execution_count": 8,
     "metadata": {},
     "output_type": "execute_result"
    }
   ],
   "source": [
    "len(gdf_multipoly)"
   ]
  },
  {
   "cell_type": "code",
   "execution_count": 9,
   "metadata": {},
   "outputs": [
    {
     "data": {
      "text/plain": [
       "MultiPolygon    297\n",
       "Polygon         280\n",
       "Name: count, dtype: int64"
      ]
     },
     "execution_count": 9,
     "metadata": {},
     "output_type": "execute_result"
    }
   ],
   "source": [
    "gdf.geometry.geom_type.value_counts()"
   ]
  },
  {
   "cell_type": "code",
   "execution_count": 10,
   "metadata": {},
   "outputs": [
    {
     "data": {
      "text/plain": [
       "MultiPolygon    577\n",
       "Name: count, dtype: int64"
      ]
     },
     "execution_count": 10,
     "metadata": {},
     "output_type": "execute_result"
    }
   ],
   "source": [
    "gdf_multipoly.geometry.geom_type.value_counts()"
   ]
  },
  {
   "cell_type": "markdown",
   "metadata": {},
   "source": [
    "## Set as polygon"
   ]
  },
  {
   "cell_type": "markdown",
   "metadata": {},
   "source": [
    "### MultiPolygon become separated entities"
   ]
  },
  {
   "cell_type": "code",
   "execution_count": 11,
   "metadata": {},
   "outputs": [],
   "source": [
    "gdf_poly = gdf.copy()"
   ]
  },
  {
   "cell_type": "code",
   "execution_count": 12,
   "metadata": {},
   "outputs": [
    {
     "data": {
      "text/html": [
       "<div>\n",
       "<style scoped>\n",
       "    .dataframe tbody tr th:only-of-type {\n",
       "        vertical-align: middle;\n",
       "    }\n",
       "\n",
       "    .dataframe tbody tr th {\n",
       "        vertical-align: top;\n",
       "    }\n",
       "\n",
       "    .dataframe thead th {\n",
       "        text-align: right;\n",
       "    }\n",
       "</style>\n",
       "<table border=\"1\" class=\"dataframe\">\n",
       "  <thead>\n",
       "    <tr style=\"text-align: right;\">\n",
       "      <th></th>\n",
       "      <th>OBJECTID</th>\n",
       "      <th>NAMOBJ</th>\n",
       "      <th>NAMZON</th>\n",
       "      <th>KODZON</th>\n",
       "      <th>NAMSZN</th>\n",
       "      <th>KODSZN</th>\n",
       "      <th>JNSRPR</th>\n",
       "      <th>KODEWP</th>\n",
       "      <th>KODSWP</th>\n",
       "      <th>KODBLK</th>\n",
       "      <th>...</th>\n",
       "      <th>TPZ_00</th>\n",
       "      <th>REMARK</th>\n",
       "      <th>PP</th>\n",
       "      <th>BA</th>\n",
       "      <th>CT</th>\n",
       "      <th>BT</th>\n",
       "      <th>NOTHPR</th>\n",
       "      <th>SHAPE_Length</th>\n",
       "      <th>SHAPE_Area</th>\n",
       "      <th>geometry</th>\n",
       "    </tr>\n",
       "  </thead>\n",
       "  <tbody>\n",
       "    <tr>\n",
       "      <th>0</th>\n",
       "      <td>578</td>\n",
       "      <td>Badan Jalan</td>\n",
       "      <td>Badan Jalan</td>\n",
       "      <td>BJ</td>\n",
       "      <td>Badan Jalan</td>\n",
       "      <td>BJ</td>\n",
       "      <td>Zona Budi Daya</td>\n",
       "      <td>I</td>\n",
       "      <td>A</td>\n",
       "      <td>10</td>\n",
       "      <td>...</td>\n",
       "      <td>Tidak Ada</td>\n",
       "      <td>Tidak Ada</td>\n",
       "      <td>http://gistaru.atrbpn.go.id/repository/Pages/V...</td>\n",
       "      <td>Tidak Ada</td>\n",
       "      <td>http://gistaru.atrbpn.go.id/repository/Pages/V...</td>\n",
       "      <td>http://gistaru.atrbpn.go.id/repository/Pages/V...</td>\n",
       "      <td>Peraturan Bupati Aceh Tengah Nomor 47 Tahun 20...</td>\n",
       "      <td>0.141053</td>\n",
       "      <td>2.425833e-06</td>\n",
       "      <td>POLYGON ((96.84078 4.62257, 96.84078 4.62257, ...</td>\n",
       "    </tr>\n",
       "    <tr>\n",
       "      <th>1</th>\n",
       "      <td>579</td>\n",
       "      <td>Badan Jalan</td>\n",
       "      <td>Badan Jalan</td>\n",
       "      <td>BJ</td>\n",
       "      <td>Badan Jalan</td>\n",
       "      <td>BJ</td>\n",
       "      <td>Zona Budi Daya</td>\n",
       "      <td>I</td>\n",
       "      <td>A</td>\n",
       "      <td>10</td>\n",
       "      <td>...</td>\n",
       "      <td>Tidak Ada</td>\n",
       "      <td>Tidak Ada</td>\n",
       "      <td>http://gistaru.atrbpn.go.id/repository/Pages/V...</td>\n",
       "      <td>Tidak Ada</td>\n",
       "      <td>http://gistaru.atrbpn.go.id/repository/Pages/V...</td>\n",
       "      <td>http://gistaru.atrbpn.go.id/repository/Pages/V...</td>\n",
       "      <td>Peraturan Bupati Aceh Tengah Nomor 47 Tahun 20...</td>\n",
       "      <td>0.008459</td>\n",
       "      <td>1.515184e-07</td>\n",
       "      <td>POLYGON ((96.84039 4.61826, 96.84032 4.61837, ...</td>\n",
       "    </tr>\n",
       "    <tr>\n",
       "      <th>2</th>\n",
       "      <td>580</td>\n",
       "      <td>Badan Jalan</td>\n",
       "      <td>Badan Jalan</td>\n",
       "      <td>BJ</td>\n",
       "      <td>Badan Jalan</td>\n",
       "      <td>BJ</td>\n",
       "      <td>Zona Budi Daya</td>\n",
       "      <td>I</td>\n",
       "      <td>A</td>\n",
       "      <td>11</td>\n",
       "      <td>...</td>\n",
       "      <td>Tidak Ada</td>\n",
       "      <td>Tidak Ada</td>\n",
       "      <td>http://gistaru.atrbpn.go.id/repository/Pages/V...</td>\n",
       "      <td>Tidak Ada</td>\n",
       "      <td>http://gistaru.atrbpn.go.id/repository/Pages/V...</td>\n",
       "      <td>http://gistaru.atrbpn.go.id/repository/Pages/V...</td>\n",
       "      <td>Peraturan Bupati Aceh Tengah Nomor 47 Tahun 20...</td>\n",
       "      <td>0.025818</td>\n",
       "      <td>3.163195e-07</td>\n",
       "      <td>POLYGON ((96.84279 4.61965, 96.84278 4.61965, ...</td>\n",
       "    </tr>\n",
       "    <tr>\n",
       "      <th>2</th>\n",
       "      <td>580</td>\n",
       "      <td>Badan Jalan</td>\n",
       "      <td>Badan Jalan</td>\n",
       "      <td>BJ</td>\n",
       "      <td>Badan Jalan</td>\n",
       "      <td>BJ</td>\n",
       "      <td>Zona Budi Daya</td>\n",
       "      <td>I</td>\n",
       "      <td>A</td>\n",
       "      <td>11</td>\n",
       "      <td>...</td>\n",
       "      <td>Tidak Ada</td>\n",
       "      <td>Tidak Ada</td>\n",
       "      <td>http://gistaru.atrbpn.go.id/repository/Pages/V...</td>\n",
       "      <td>Tidak Ada</td>\n",
       "      <td>http://gistaru.atrbpn.go.id/repository/Pages/V...</td>\n",
       "      <td>http://gistaru.atrbpn.go.id/repository/Pages/V...</td>\n",
       "      <td>Peraturan Bupati Aceh Tengah Nomor 47 Tahun 20...</td>\n",
       "      <td>0.025818</td>\n",
       "      <td>3.163195e-07</td>\n",
       "      <td>POLYGON ((96.84539 4.61918, 96.84536 4.61918, ...</td>\n",
       "    </tr>\n",
       "    <tr>\n",
       "      <th>2</th>\n",
       "      <td>580</td>\n",
       "      <td>Badan Jalan</td>\n",
       "      <td>Badan Jalan</td>\n",
       "      <td>BJ</td>\n",
       "      <td>Badan Jalan</td>\n",
       "      <td>BJ</td>\n",
       "      <td>Zona Budi Daya</td>\n",
       "      <td>I</td>\n",
       "      <td>A</td>\n",
       "      <td>11</td>\n",
       "      <td>...</td>\n",
       "      <td>Tidak Ada</td>\n",
       "      <td>Tidak Ada</td>\n",
       "      <td>http://gistaru.atrbpn.go.id/repository/Pages/V...</td>\n",
       "      <td>Tidak Ada</td>\n",
       "      <td>http://gistaru.atrbpn.go.id/repository/Pages/V...</td>\n",
       "      <td>http://gistaru.atrbpn.go.id/repository/Pages/V...</td>\n",
       "      <td>Peraturan Bupati Aceh Tengah Nomor 47 Tahun 20...</td>\n",
       "      <td>0.025818</td>\n",
       "      <td>3.163195e-07</td>\n",
       "      <td>POLYGON ((96.84613 4.61912, 96.84607 4.61914, ...</td>\n",
       "    </tr>\n",
       "  </tbody>\n",
       "</table>\n",
       "<p>5 rows × 39 columns</p>\n",
       "</div>"
      ],
      "text/plain": [
       "   OBJECTID       NAMOBJ       NAMZON KODZON       NAMSZN KODSZN  \\\n",
       "0       578  Badan Jalan  Badan Jalan     BJ  Badan Jalan     BJ   \n",
       "1       579  Badan Jalan  Badan Jalan     BJ  Badan Jalan     BJ   \n",
       "2       580  Badan Jalan  Badan Jalan     BJ  Badan Jalan     BJ   \n",
       "2       580  Badan Jalan  Badan Jalan     BJ  Badan Jalan     BJ   \n",
       "2       580  Badan Jalan  Badan Jalan     BJ  Badan Jalan     BJ   \n",
       "\n",
       "           JNSRPR KODEWP KODSWP KODBLK  ...     TPZ_00     REMARK  \\\n",
       "0  Zona Budi Daya      I      A     10  ...  Tidak Ada  Tidak Ada   \n",
       "1  Zona Budi Daya      I      A     10  ...  Tidak Ada  Tidak Ada   \n",
       "2  Zona Budi Daya      I      A     11  ...  Tidak Ada  Tidak Ada   \n",
       "2  Zona Budi Daya      I      A     11  ...  Tidak Ada  Tidak Ada   \n",
       "2  Zona Budi Daya      I      A     11  ...  Tidak Ada  Tidak Ada   \n",
       "\n",
       "                                                  PP         BA  \\\n",
       "0  http://gistaru.atrbpn.go.id/repository/Pages/V...  Tidak Ada   \n",
       "1  http://gistaru.atrbpn.go.id/repository/Pages/V...  Tidak Ada   \n",
       "2  http://gistaru.atrbpn.go.id/repository/Pages/V...  Tidak Ada   \n",
       "2  http://gistaru.atrbpn.go.id/repository/Pages/V...  Tidak Ada   \n",
       "2  http://gistaru.atrbpn.go.id/repository/Pages/V...  Tidak Ada   \n",
       "\n",
       "                                                  CT  \\\n",
       "0  http://gistaru.atrbpn.go.id/repository/Pages/V...   \n",
       "1  http://gistaru.atrbpn.go.id/repository/Pages/V...   \n",
       "2  http://gistaru.atrbpn.go.id/repository/Pages/V...   \n",
       "2  http://gistaru.atrbpn.go.id/repository/Pages/V...   \n",
       "2  http://gistaru.atrbpn.go.id/repository/Pages/V...   \n",
       "\n",
       "                                                  BT  \\\n",
       "0  http://gistaru.atrbpn.go.id/repository/Pages/V...   \n",
       "1  http://gistaru.atrbpn.go.id/repository/Pages/V...   \n",
       "2  http://gistaru.atrbpn.go.id/repository/Pages/V...   \n",
       "2  http://gistaru.atrbpn.go.id/repository/Pages/V...   \n",
       "2  http://gistaru.atrbpn.go.id/repository/Pages/V...   \n",
       "\n",
       "                                              NOTHPR SHAPE_Length  \\\n",
       "0  Peraturan Bupati Aceh Tengah Nomor 47 Tahun 20...     0.141053   \n",
       "1  Peraturan Bupati Aceh Tengah Nomor 47 Tahun 20...     0.008459   \n",
       "2  Peraturan Bupati Aceh Tengah Nomor 47 Tahun 20...     0.025818   \n",
       "2  Peraturan Bupati Aceh Tengah Nomor 47 Tahun 20...     0.025818   \n",
       "2  Peraturan Bupati Aceh Tengah Nomor 47 Tahun 20...     0.025818   \n",
       "\n",
       "     SHAPE_Area                                           geometry  \n",
       "0  2.425833e-06  POLYGON ((96.84078 4.62257, 96.84078 4.62257, ...  \n",
       "1  1.515184e-07  POLYGON ((96.84039 4.61826, 96.84032 4.61837, ...  \n",
       "2  3.163195e-07  POLYGON ((96.84279 4.61965, 96.84278 4.61965, ...  \n",
       "2  3.163195e-07  POLYGON ((96.84539 4.61918, 96.84536 4.61918, ...  \n",
       "2  3.163195e-07  POLYGON ((96.84613 4.61912, 96.84607 4.61914, ...  \n",
       "\n",
       "[5 rows x 39 columns]"
      ]
     },
     "execution_count": 12,
     "metadata": {},
     "output_type": "execute_result"
    }
   ],
   "source": [
    "gdf_poly = gdf_poly.explode(\"geometry\", index_parts=False)\n",
    "\n",
    "gdf_poly.head()"
   ]
  },
  {
   "cell_type": "code",
   "execution_count": 13,
   "metadata": {},
   "outputs": [
    {
     "data": {
      "text/html": [
       "<div>\n",
       "<style scoped>\n",
       "    .dataframe tbody tr th:only-of-type {\n",
       "        vertical-align: middle;\n",
       "    }\n",
       "\n",
       "    .dataframe tbody tr th {\n",
       "        vertical-align: top;\n",
       "    }\n",
       "\n",
       "    .dataframe thead th {\n",
       "        text-align: right;\n",
       "    }\n",
       "</style>\n",
       "<table border=\"1\" class=\"dataframe\">\n",
       "  <thead>\n",
       "    <tr style=\"text-align: right;\">\n",
       "      <th></th>\n",
       "      <th>index</th>\n",
       "      <th>OBJECTID</th>\n",
       "      <th>NAMOBJ</th>\n",
       "      <th>NAMZON</th>\n",
       "      <th>KODZON</th>\n",
       "      <th>NAMSZN</th>\n",
       "      <th>KODSZN</th>\n",
       "      <th>JNSRPR</th>\n",
       "      <th>KODEWP</th>\n",
       "      <th>KODSWP</th>\n",
       "      <th>...</th>\n",
       "      <th>TPZ_00</th>\n",
       "      <th>REMARK</th>\n",
       "      <th>PP</th>\n",
       "      <th>BA</th>\n",
       "      <th>CT</th>\n",
       "      <th>BT</th>\n",
       "      <th>NOTHPR</th>\n",
       "      <th>SHAPE_Length</th>\n",
       "      <th>SHAPE_Area</th>\n",
       "      <th>geometry</th>\n",
       "    </tr>\n",
       "  </thead>\n",
       "  <tbody>\n",
       "    <tr>\n",
       "      <th>0</th>\n",
       "      <td>0</td>\n",
       "      <td>578</td>\n",
       "      <td>Badan Jalan</td>\n",
       "      <td>Badan Jalan</td>\n",
       "      <td>BJ</td>\n",
       "      <td>Badan Jalan</td>\n",
       "      <td>BJ</td>\n",
       "      <td>Zona Budi Daya</td>\n",
       "      <td>I</td>\n",
       "      <td>A</td>\n",
       "      <td>...</td>\n",
       "      <td>Tidak Ada</td>\n",
       "      <td>Tidak Ada</td>\n",
       "      <td>http://gistaru.atrbpn.go.id/repository/Pages/V...</td>\n",
       "      <td>Tidak Ada</td>\n",
       "      <td>http://gistaru.atrbpn.go.id/repository/Pages/V...</td>\n",
       "      <td>http://gistaru.atrbpn.go.id/repository/Pages/V...</td>\n",
       "      <td>Peraturan Bupati Aceh Tengah Nomor 47 Tahun 20...</td>\n",
       "      <td>0.141053</td>\n",
       "      <td>2.425833e-06</td>\n",
       "      <td>POLYGON ((96.84078 4.62257, 96.84078 4.62257, ...</td>\n",
       "    </tr>\n",
       "    <tr>\n",
       "      <th>1</th>\n",
       "      <td>1</td>\n",
       "      <td>579</td>\n",
       "      <td>Badan Jalan</td>\n",
       "      <td>Badan Jalan</td>\n",
       "      <td>BJ</td>\n",
       "      <td>Badan Jalan</td>\n",
       "      <td>BJ</td>\n",
       "      <td>Zona Budi Daya</td>\n",
       "      <td>I</td>\n",
       "      <td>A</td>\n",
       "      <td>...</td>\n",
       "      <td>Tidak Ada</td>\n",
       "      <td>Tidak Ada</td>\n",
       "      <td>http://gistaru.atrbpn.go.id/repository/Pages/V...</td>\n",
       "      <td>Tidak Ada</td>\n",
       "      <td>http://gistaru.atrbpn.go.id/repository/Pages/V...</td>\n",
       "      <td>http://gistaru.atrbpn.go.id/repository/Pages/V...</td>\n",
       "      <td>Peraturan Bupati Aceh Tengah Nomor 47 Tahun 20...</td>\n",
       "      <td>0.008459</td>\n",
       "      <td>1.515184e-07</td>\n",
       "      <td>POLYGON ((96.84039 4.61826, 96.84032 4.61837, ...</td>\n",
       "    </tr>\n",
       "    <tr>\n",
       "      <th>2</th>\n",
       "      <td>2</td>\n",
       "      <td>580</td>\n",
       "      <td>Badan Jalan</td>\n",
       "      <td>Badan Jalan</td>\n",
       "      <td>BJ</td>\n",
       "      <td>Badan Jalan</td>\n",
       "      <td>BJ</td>\n",
       "      <td>Zona Budi Daya</td>\n",
       "      <td>I</td>\n",
       "      <td>A</td>\n",
       "      <td>...</td>\n",
       "      <td>Tidak Ada</td>\n",
       "      <td>Tidak Ada</td>\n",
       "      <td>http://gistaru.atrbpn.go.id/repository/Pages/V...</td>\n",
       "      <td>Tidak Ada</td>\n",
       "      <td>http://gistaru.atrbpn.go.id/repository/Pages/V...</td>\n",
       "      <td>http://gistaru.atrbpn.go.id/repository/Pages/V...</td>\n",
       "      <td>Peraturan Bupati Aceh Tengah Nomor 47 Tahun 20...</td>\n",
       "      <td>0.025818</td>\n",
       "      <td>3.163195e-07</td>\n",
       "      <td>POLYGON ((96.84279 4.61965, 96.84278 4.61965, ...</td>\n",
       "    </tr>\n",
       "    <tr>\n",
       "      <th>3</th>\n",
       "      <td>2</td>\n",
       "      <td>580</td>\n",
       "      <td>Badan Jalan</td>\n",
       "      <td>Badan Jalan</td>\n",
       "      <td>BJ</td>\n",
       "      <td>Badan Jalan</td>\n",
       "      <td>BJ</td>\n",
       "      <td>Zona Budi Daya</td>\n",
       "      <td>I</td>\n",
       "      <td>A</td>\n",
       "      <td>...</td>\n",
       "      <td>Tidak Ada</td>\n",
       "      <td>Tidak Ada</td>\n",
       "      <td>http://gistaru.atrbpn.go.id/repository/Pages/V...</td>\n",
       "      <td>Tidak Ada</td>\n",
       "      <td>http://gistaru.atrbpn.go.id/repository/Pages/V...</td>\n",
       "      <td>http://gistaru.atrbpn.go.id/repository/Pages/V...</td>\n",
       "      <td>Peraturan Bupati Aceh Tengah Nomor 47 Tahun 20...</td>\n",
       "      <td>0.025818</td>\n",
       "      <td>3.163195e-07</td>\n",
       "      <td>POLYGON ((96.84539 4.61918, 96.84536 4.61918, ...</td>\n",
       "    </tr>\n",
       "    <tr>\n",
       "      <th>4</th>\n",
       "      <td>2</td>\n",
       "      <td>580</td>\n",
       "      <td>Badan Jalan</td>\n",
       "      <td>Badan Jalan</td>\n",
       "      <td>BJ</td>\n",
       "      <td>Badan Jalan</td>\n",
       "      <td>BJ</td>\n",
       "      <td>Zona Budi Daya</td>\n",
       "      <td>I</td>\n",
       "      <td>A</td>\n",
       "      <td>...</td>\n",
       "      <td>Tidak Ada</td>\n",
       "      <td>Tidak Ada</td>\n",
       "      <td>http://gistaru.atrbpn.go.id/repository/Pages/V...</td>\n",
       "      <td>Tidak Ada</td>\n",
       "      <td>http://gistaru.atrbpn.go.id/repository/Pages/V...</td>\n",
       "      <td>http://gistaru.atrbpn.go.id/repository/Pages/V...</td>\n",
       "      <td>Peraturan Bupati Aceh Tengah Nomor 47 Tahun 20...</td>\n",
       "      <td>0.025818</td>\n",
       "      <td>3.163195e-07</td>\n",
       "      <td>POLYGON ((96.84613 4.61912, 96.84607 4.61914, ...</td>\n",
       "    </tr>\n",
       "  </tbody>\n",
       "</table>\n",
       "<p>5 rows × 40 columns</p>\n",
       "</div>"
      ],
      "text/plain": [
       "   index  OBJECTID       NAMOBJ       NAMZON KODZON       NAMSZN KODSZN  \\\n",
       "0      0       578  Badan Jalan  Badan Jalan     BJ  Badan Jalan     BJ   \n",
       "1      1       579  Badan Jalan  Badan Jalan     BJ  Badan Jalan     BJ   \n",
       "2      2       580  Badan Jalan  Badan Jalan     BJ  Badan Jalan     BJ   \n",
       "3      2       580  Badan Jalan  Badan Jalan     BJ  Badan Jalan     BJ   \n",
       "4      2       580  Badan Jalan  Badan Jalan     BJ  Badan Jalan     BJ   \n",
       "\n",
       "           JNSRPR KODEWP KODSWP  ...     TPZ_00     REMARK  \\\n",
       "0  Zona Budi Daya      I      A  ...  Tidak Ada  Tidak Ada   \n",
       "1  Zona Budi Daya      I      A  ...  Tidak Ada  Tidak Ada   \n",
       "2  Zona Budi Daya      I      A  ...  Tidak Ada  Tidak Ada   \n",
       "3  Zona Budi Daya      I      A  ...  Tidak Ada  Tidak Ada   \n",
       "4  Zona Budi Daya      I      A  ...  Tidak Ada  Tidak Ada   \n",
       "\n",
       "                                                  PP         BA  \\\n",
       "0  http://gistaru.atrbpn.go.id/repository/Pages/V...  Tidak Ada   \n",
       "1  http://gistaru.atrbpn.go.id/repository/Pages/V...  Tidak Ada   \n",
       "2  http://gistaru.atrbpn.go.id/repository/Pages/V...  Tidak Ada   \n",
       "3  http://gistaru.atrbpn.go.id/repository/Pages/V...  Tidak Ada   \n",
       "4  http://gistaru.atrbpn.go.id/repository/Pages/V...  Tidak Ada   \n",
       "\n",
       "                                                  CT  \\\n",
       "0  http://gistaru.atrbpn.go.id/repository/Pages/V...   \n",
       "1  http://gistaru.atrbpn.go.id/repository/Pages/V...   \n",
       "2  http://gistaru.atrbpn.go.id/repository/Pages/V...   \n",
       "3  http://gistaru.atrbpn.go.id/repository/Pages/V...   \n",
       "4  http://gistaru.atrbpn.go.id/repository/Pages/V...   \n",
       "\n",
       "                                                  BT  \\\n",
       "0  http://gistaru.atrbpn.go.id/repository/Pages/V...   \n",
       "1  http://gistaru.atrbpn.go.id/repository/Pages/V...   \n",
       "2  http://gistaru.atrbpn.go.id/repository/Pages/V...   \n",
       "3  http://gistaru.atrbpn.go.id/repository/Pages/V...   \n",
       "4  http://gistaru.atrbpn.go.id/repository/Pages/V...   \n",
       "\n",
       "                                              NOTHPR SHAPE_Length  \\\n",
       "0  Peraturan Bupati Aceh Tengah Nomor 47 Tahun 20...     0.141053   \n",
       "1  Peraturan Bupati Aceh Tengah Nomor 47 Tahun 20...     0.008459   \n",
       "2  Peraturan Bupati Aceh Tengah Nomor 47 Tahun 20...     0.025818   \n",
       "3  Peraturan Bupati Aceh Tengah Nomor 47 Tahun 20...     0.025818   \n",
       "4  Peraturan Bupati Aceh Tengah Nomor 47 Tahun 20...     0.025818   \n",
       "\n",
       "     SHAPE_Area                                           geometry  \n",
       "0  2.425833e-06  POLYGON ((96.84078 4.62257, 96.84078 4.62257, ...  \n",
       "1  1.515184e-07  POLYGON ((96.84039 4.61826, 96.84032 4.61837, ...  \n",
       "2  3.163195e-07  POLYGON ((96.84279 4.61965, 96.84278 4.61965, ...  \n",
       "3  3.163195e-07  POLYGON ((96.84539 4.61918, 96.84536 4.61918, ...  \n",
       "4  3.163195e-07  POLYGON ((96.84613 4.61912, 96.84607 4.61914, ...  \n",
       "\n",
       "[5 rows x 40 columns]"
      ]
     },
     "execution_count": 13,
     "metadata": {},
     "output_type": "execute_result"
    }
   ],
   "source": [
    "gdf_poly = gdf_poly.reset_index()\n",
    "\n",
    "gdf_poly.head()"
   ]
  },
  {
   "cell_type": "code",
   "execution_count": 14,
   "metadata": {},
   "outputs": [
    {
     "data": {
      "text/plain": [
       "577"
      ]
     },
     "execution_count": 14,
     "metadata": {},
     "output_type": "execute_result"
    }
   ],
   "source": [
    "len(gdf)"
   ]
  },
  {
   "cell_type": "code",
   "execution_count": 15,
   "metadata": {},
   "outputs": [
    {
     "data": {
      "text/plain": [
       "1785"
      ]
     },
     "execution_count": 15,
     "metadata": {},
     "output_type": "execute_result"
    }
   ],
   "source": [
    "len(gdf_poly)"
   ]
  },
  {
   "cell_type": "code",
   "execution_count": 16,
   "metadata": {},
   "outputs": [
    {
     "data": {
      "text/plain": [
       "MultiPolygon    297\n",
       "Polygon         280\n",
       "Name: count, dtype: int64"
      ]
     },
     "execution_count": 16,
     "metadata": {},
     "output_type": "execute_result"
    }
   ],
   "source": [
    "gdf.geometry.geom_type.value_counts()"
   ]
  },
  {
   "cell_type": "code",
   "execution_count": 17,
   "metadata": {},
   "outputs": [
    {
     "data": {
      "text/plain": [
       "Polygon    1785\n",
       "Name: count, dtype: int64"
      ]
     },
     "execution_count": 17,
     "metadata": {},
     "output_type": "execute_result"
    }
   ],
   "source": [
    "gdf_poly.geometry.geom_type.value_counts()"
   ]
  },
  {
   "cell_type": "markdown",
   "metadata": {},
   "source": [
    "### MultiPolygon only extract largest area"
   ]
  },
  {
   "cell_type": "code",
   "execution_count": 18,
   "metadata": {},
   "outputs": [],
   "source": [
    "gdf_poly2 = gdf.copy()"
   ]
  },
  {
   "cell_type": "code",
   "execution_count": 19,
   "metadata": {},
   "outputs": [],
   "source": [
    "def to_polygon_max_area(geom):\n",
    "  if isinstance(geom, Polygon):\n",
    "    return geom\n",
    "  elif isinstance(geom, MultiPolygon):\n",
    "    return max(geom.geoms, key=lambda p: p.area)\n",
    "  else:\n",
    "    return None\n",
    "\n",
    "gdf_poly2.geometry =  gdf_poly2.geometry.apply(to_polygon_max_area)\n"
   ]
  },
  {
   "cell_type": "code",
   "execution_count": 20,
   "metadata": {},
   "outputs": [
    {
     "data": {
      "text/plain": [
       "577"
      ]
     },
     "execution_count": 20,
     "metadata": {},
     "output_type": "execute_result"
    }
   ],
   "source": [
    "len(gdf)"
   ]
  },
  {
   "cell_type": "code",
   "execution_count": 21,
   "metadata": {},
   "outputs": [
    {
     "data": {
      "text/plain": [
       "577"
      ]
     },
     "execution_count": 21,
     "metadata": {},
     "output_type": "execute_result"
    }
   ],
   "source": [
    "len(gdf_poly2)"
   ]
  },
  {
   "cell_type": "code",
   "execution_count": 22,
   "metadata": {},
   "outputs": [
    {
     "data": {
      "text/plain": [
       "MultiPolygon    297\n",
       "Polygon         280\n",
       "Name: count, dtype: int64"
      ]
     },
     "execution_count": 22,
     "metadata": {},
     "output_type": "execute_result"
    }
   ],
   "source": [
    "gdf.geometry.geom_type.value_counts()"
   ]
  },
  {
   "cell_type": "code",
   "execution_count": 23,
   "metadata": {},
   "outputs": [
    {
     "data": {
      "text/plain": [
       "Polygon    577\n",
       "Name: count, dtype: int64"
      ]
     },
     "execution_count": 23,
     "metadata": {},
     "output_type": "execute_result"
    }
   ],
   "source": [
    "gdf_poly2.geometry.geom_type.value_counts()"
   ]
  },
  {
   "cell_type": "code",
   "execution_count": 24,
   "metadata": {},
   "outputs": [
    {
     "name": "stderr",
     "output_type": "stream",
     "text": [
      "/var/folders/x2/fsb9vgcn65d5s9nbfh7b7p2r0000gn/T/ipykernel_84785/2106666390.py:1: UserWarning: Geometry is in a geographic CRS. Results from 'area' are likely incorrect. Use 'GeoSeries.to_crs()' to re-project geometries to a projected CRS before this operation.\n",
      "\n",
      "  gdf.geometry.area.sum()\n"
     ]
    },
    {
     "data": {
      "text/plain": [
       "np.float64(0.0013296449500173409)"
      ]
     },
     "execution_count": 24,
     "metadata": {},
     "output_type": "execute_result"
    }
   ],
   "source": [
    "gdf.geometry.area.sum()"
   ]
  },
  {
   "cell_type": "code",
   "execution_count": 25,
   "metadata": {},
   "outputs": [
    {
     "data": {
      "text/plain": [
       "np.float64(16531053.16484934)"
      ]
     },
     "execution_count": 25,
     "metadata": {},
     "output_type": "execute_result"
    }
   ],
   "source": [
    "gdf.to_crs(3857).geometry.area.sum()"
   ]
  },
  {
   "cell_type": "code",
   "execution_count": 26,
   "metadata": {},
   "outputs": [
    {
     "data": {
      "text/plain": [
       "np.float64(9545502.491369925)"
      ]
     },
     "execution_count": 26,
     "metadata": {},
     "output_type": "execute_result"
    }
   ],
   "source": [
    "gdf_poly2.to_crs(3857).geometry.area.sum()"
   ]
  },
  {
   "cell_type": "code",
   "execution_count": 27,
   "metadata": {},
   "outputs": [
    {
     "data": {
      "text/plain": [
       "<Axes: >"
      ]
     },
     "execution_count": 27,
     "metadata": {},
     "output_type": "execute_result"
    },
    {
     "data": {
      "image/png": "[encoded data removed]",
      "text/plain": [
       "<Figure size 640x480 with 1 Axes>"
      ]
     },
     "metadata": {},
     "output_type": "display_data"
    }
   ],
   "source": [
    "gdf.plot()"
   ]
  },
  {
   "cell_type": "code",
   "execution_count": 28,
   "metadata": {},
   "outputs": [
    {
     "data": {
      "text/plain": [
       "<Axes: >"
      ]
     },
     "execution_count": 28,
     "metadata": {},
     "output_type": "execute_result"
    },
    {
     "data": {
      "image/png": "[encoded data removed]",
      "text/plain": [
       "<Figure size 640x480 with 1 Axes>"
      ]
     },
     "metadata": {},
     "output_type": "display_data"
    }
   ],
   "source": [
    "gdf_poly2.plot()"
   ]
  },
  {
   "cell_type": "markdown",
   "metadata": {},
   "source": [
    "## Set as Point with centroid"
   ]
  },
  {
   "cell_type": "code",
   "execution_count": 33,
   "metadata": {},
   "outputs": [],
   "source": [
    "gdf_point = gdf.copy()"
   ]
  },
  {
   "cell_type": "code",
   "execution_count": 35,
   "metadata": {},
   "outputs": [
    {
     "name": "stderr",
     "output_type": "stream",
     "text": [
      "/var/folders/x2/fsb9vgcn65d5s9nbfh7b7p2r0000gn/T/ipykernel_84785/954821403.py:1: UserWarning: Geometry is in a geographic CRS. Results from 'centroid' are likely incorrect. Use 'GeoSeries.to_crs()' to re-project geometries to a projected CRS before this operation.\n",
      "\n",
      "  gdf_point.geometry = gdf_point.geometry.centroid\n"
     ]
    },
    {
     "data": {
      "text/html": [
       "<div>\n",
       "<style scoped>\n",
       "    .dataframe tbody tr th:only-of-type {\n",
       "        vertical-align: middle;\n",
       "    }\n",
       "\n",
       "    .dataframe tbody tr th {\n",
       "        vertical-align: top;\n",
       "    }\n",
       "\n",
       "    .dataframe thead th {\n",
       "        text-align: right;\n",
       "    }\n",
       "</style>\n",
       "<table border=\"1\" class=\"dataframe\">\n",
       "  <thead>\n",
       "    <tr style=\"text-align: right;\">\n",
       "      <th></th>\n",
       "      <th>OBJECTID</th>\n",
       "      <th>NAMOBJ</th>\n",
       "      <th>NAMZON</th>\n",
       "      <th>KODZON</th>\n",
       "      <th>NAMSZN</th>\n",
       "      <th>KODSZN</th>\n",
       "      <th>JNSRPR</th>\n",
       "      <th>KODEWP</th>\n",
       "      <th>KODSWP</th>\n",
       "      <th>KODBLK</th>\n",
       "      <th>...</th>\n",
       "      <th>TPZ_00</th>\n",
       "      <th>REMARK</th>\n",
       "      <th>PP</th>\n",
       "      <th>BA</th>\n",
       "      <th>CT</th>\n",
       "      <th>BT</th>\n",
       "      <th>NOTHPR</th>\n",
       "      <th>SHAPE_Length</th>\n",
       "      <th>SHAPE_Area</th>\n",
       "      <th>geometry</th>\n",
       "    </tr>\n",
       "  </thead>\n",
       "  <tbody>\n",
       "    <tr>\n",
       "      <th>0</th>\n",
       "      <td>578</td>\n",
       "      <td>Badan Jalan</td>\n",
       "      <td>Badan Jalan</td>\n",
       "      <td>BJ</td>\n",
       "      <td>Badan Jalan</td>\n",
       "      <td>BJ</td>\n",
       "      <td>Zona Budi Daya</td>\n",
       "      <td>I</td>\n",
       "      <td>A</td>\n",
       "      <td>10</td>\n",
       "      <td>...</td>\n",
       "      <td>Tidak Ada</td>\n",
       "      <td>Tidak Ada</td>\n",
       "      <td>http://gistaru.atrbpn.go.id/repository/Pages/V...</td>\n",
       "      <td>Tidak Ada</td>\n",
       "      <td>http://gistaru.atrbpn.go.id/repository/Pages/V...</td>\n",
       "      <td>http://gistaru.atrbpn.go.id/repository/Pages/V...</td>\n",
       "      <td>Peraturan Bupati Aceh Tengah Nomor 47 Tahun 20...</td>\n",
       "      <td>0.141053</td>\n",
       "      <td>2.425833e-06</td>\n",
       "      <td>POINT (96.83802 4.62161)</td>\n",
       "    </tr>\n",
       "    <tr>\n",
       "      <th>1</th>\n",
       "      <td>579</td>\n",
       "      <td>Badan Jalan</td>\n",
       "      <td>Badan Jalan</td>\n",
       "      <td>BJ</td>\n",
       "      <td>Badan Jalan</td>\n",
       "      <td>BJ</td>\n",
       "      <td>Zona Budi Daya</td>\n",
       "      <td>I</td>\n",
       "      <td>A</td>\n",
       "      <td>10</td>\n",
       "      <td>...</td>\n",
       "      <td>Tidak Ada</td>\n",
       "      <td>Tidak Ada</td>\n",
       "      <td>http://gistaru.atrbpn.go.id/repository/Pages/V...</td>\n",
       "      <td>Tidak Ada</td>\n",
       "      <td>http://gistaru.atrbpn.go.id/repository/Pages/V...</td>\n",
       "      <td>http://gistaru.atrbpn.go.id/repository/Pages/V...</td>\n",
       "      <td>Peraturan Bupati Aceh Tengah Nomor 47 Tahun 20...</td>\n",
       "      <td>0.008459</td>\n",
       "      <td>1.515184e-07</td>\n",
       "      <td>POINT (96.83846 4.61891)</td>\n",
       "    </tr>\n",
       "    <tr>\n",
       "      <th>2</th>\n",
       "      <td>580</td>\n",
       "      <td>Badan Jalan</td>\n",
       "      <td>Badan Jalan</td>\n",
       "      <td>BJ</td>\n",
       "      <td>Badan Jalan</td>\n",
       "      <td>BJ</td>\n",
       "      <td>Zona Budi Daya</td>\n",
       "      <td>I</td>\n",
       "      <td>A</td>\n",
       "      <td>11</td>\n",
       "      <td>...</td>\n",
       "      <td>Tidak Ada</td>\n",
       "      <td>Tidak Ada</td>\n",
       "      <td>http://gistaru.atrbpn.go.id/repository/Pages/V...</td>\n",
       "      <td>Tidak Ada</td>\n",
       "      <td>http://gistaru.atrbpn.go.id/repository/Pages/V...</td>\n",
       "      <td>http://gistaru.atrbpn.go.id/repository/Pages/V...</td>\n",
       "      <td>Peraturan Bupati Aceh Tengah Nomor 47 Tahun 20...</td>\n",
       "      <td>0.025818</td>\n",
       "      <td>3.163195e-07</td>\n",
       "      <td>POINT (96.84568 4.61871)</td>\n",
       "    </tr>\n",
       "    <tr>\n",
       "      <th>3</th>\n",
       "      <td>581</td>\n",
       "      <td>Badan Jalan</td>\n",
       "      <td>Badan Jalan</td>\n",
       "      <td>BJ</td>\n",
       "      <td>Badan Jalan</td>\n",
       "      <td>BJ</td>\n",
       "      <td>Zona Budi Daya</td>\n",
       "      <td>I</td>\n",
       "      <td>A</td>\n",
       "      <td>11</td>\n",
       "      <td>...</td>\n",
       "      <td>Tidak Ada</td>\n",
       "      <td>Tidak Ada</td>\n",
       "      <td>http://gistaru.atrbpn.go.id/repository/Pages/V...</td>\n",
       "      <td>Tidak Ada</td>\n",
       "      <td>http://gistaru.atrbpn.go.id/repository/Pages/V...</td>\n",
       "      <td>http://gistaru.atrbpn.go.id/repository/Pages/V...</td>\n",
       "      <td>Peraturan Bupati Aceh Tengah Nomor 47 Tahun 20...</td>\n",
       "      <td>0.038819</td>\n",
       "      <td>5.724688e-07</td>\n",
       "      <td>POINT (96.84404 4.62123)</td>\n",
       "    </tr>\n",
       "    <tr>\n",
       "      <th>4</th>\n",
       "      <td>582</td>\n",
       "      <td>Badan Jalan</td>\n",
       "      <td>Badan Jalan</td>\n",
       "      <td>BJ</td>\n",
       "      <td>Badan Jalan</td>\n",
       "      <td>BJ</td>\n",
       "      <td>Zona Budi Daya</td>\n",
       "      <td>I</td>\n",
       "      <td>A</td>\n",
       "      <td>11</td>\n",
       "      <td>...</td>\n",
       "      <td>Tidak Ada</td>\n",
       "      <td>Tidak Ada</td>\n",
       "      <td>http://gistaru.atrbpn.go.id/repository/Pages/V...</td>\n",
       "      <td>Tidak Ada</td>\n",
       "      <td>http://gistaru.atrbpn.go.id/repository/Pages/V...</td>\n",
       "      <td>http://gistaru.atrbpn.go.id/repository/Pages/V...</td>\n",
       "      <td>Peraturan Bupati Aceh Tengah Nomor 47 Tahun 20...</td>\n",
       "      <td>0.011531</td>\n",
       "      <td>1.120660e-07</td>\n",
       "      <td>POINT (96.84574 4.61957)</td>\n",
       "    </tr>\n",
       "  </tbody>\n",
       "</table>\n",
       "<p>5 rows × 39 columns</p>\n",
       "</div>"
      ],
      "text/plain": [
       "   OBJECTID       NAMOBJ       NAMZON KODZON       NAMSZN KODSZN  \\\n",
       "0       578  Badan Jalan  Badan Jalan     BJ  Badan Jalan     BJ   \n",
       "1       579  Badan Jalan  Badan Jalan     BJ  Badan Jalan     BJ   \n",
       "2       580  Badan Jalan  Badan Jalan     BJ  Badan Jalan     BJ   \n",
       "3       581  Badan Jalan  Badan Jalan     BJ  Badan Jalan     BJ   \n",
       "4       582  Badan Jalan  Badan Jalan     BJ  Badan Jalan     BJ   \n",
       "\n",
       "           JNSRPR KODEWP KODSWP KODBLK  ...     TPZ_00     REMARK  \\\n",
       "0  Zona Budi Daya      I      A     10  ...  Tidak Ada  Tidak Ada   \n",
       "1  Zona Budi Daya      I      A     10  ...  Tidak Ada  Tidak Ada   \n",
       "2  Zona Budi Daya      I      A     11  ...  Tidak Ada  Tidak Ada   \n",
       "3  Zona Budi Daya      I      A     11  ...  Tidak Ada  Tidak Ada   \n",
       "4  Zona Budi Daya      I      A     11  ...  Tidak Ada  Tidak Ada   \n",
       "\n",
       "                                                  PP         BA  \\\n",
       "0  http://gistaru.atrbpn.go.id/repository/Pages/V...  Tidak Ada   \n",
       "1  http://gistaru.atrbpn.go.id/repository/Pages/V...  Tidak Ada   \n",
       "2  http://gistaru.atrbpn.go.id/repository/Pages/V...  Tidak Ada   \n",
       "3  http://gistaru.atrbpn.go.id/repository/Pages/V...  Tidak Ada   \n",
       "4  http://gistaru.atrbpn.go.id/repository/Pages/V...  Tidak Ada   \n",
       "\n",
       "                                                  CT  \\\n",
       "0  http://gistaru.atrbpn.go.id/repository/Pages/V...   \n",
       "1  http://gistaru.atrbpn.go.id/repository/Pages/V...   \n",
       "2  http://gistaru.atrbpn.go.id/repository/Pages/V...   \n",
       "3  http://gistaru.atrbpn.go.id/repository/Pages/V...   \n",
       "4  http://gistaru.atrbpn.go.id/repository/Pages/V...   \n",
       "\n",
       "                                                  BT  \\\n",
       "0  http://gistaru.atrbpn.go.id/repository/Pages/V...   \n",
       "1  http://gistaru.atrbpn.go.id/repository/Pages/V...   \n",
       "2  http://gistaru.atrbpn.go.id/repository/Pages/V...   \n",
       "3  http://gistaru.atrbpn.go.id/repository/Pages/V...   \n",
       "4  http://gistaru.atrbpn.go.id/repository/Pages/V...   \n",
       "\n",
       "                                              NOTHPR SHAPE_Length  \\\n",
       "0  Peraturan Bupati Aceh Tengah Nomor 47 Tahun 20...     0.141053   \n",
       "1  Peraturan Bupati Aceh Tengah Nomor 47 Tahun 20...     0.008459   \n",
       "2  Peraturan Bupati Aceh Tengah Nomor 47 Tahun 20...     0.025818   \n",
       "3  Peraturan Bupati Aceh Tengah Nomor 47 Tahun 20...     0.038819   \n",
       "4  Peraturan Bupati Aceh Tengah Nomor 47 Tahun 20...     0.011531   \n",
       "\n",
       "     SHAPE_Area                  geometry  \n",
       "0  2.425833e-06  POINT (96.83802 4.62161)  \n",
       "1  1.515184e-07  POINT (96.83846 4.61891)  \n",
       "2  3.163195e-07  POINT (96.84568 4.61871)  \n",
       "3  5.724688e-07  POINT (96.84404 4.62123)  \n",
       "4  1.120660e-07  POINT (96.84574 4.61957)  \n",
       "\n",
       "[5 rows x 39 columns]"
      ]
     },
     "execution_count": 35,
     "metadata": {},
     "output_type": "execute_result"
    }
   ],
   "source": [
    "gdf_point.geometry = gdf_point.geometry.centroid\n",
    "\n",
    "gdf_point.head()"
   ]
  },
  {
   "cell_type": "code",
   "execution_count": 36,
   "metadata": {},
   "outputs": [
    {
     "data": {
      "text/plain": [
       "<Axes: >"
      ]
     },
     "execution_count": 36,
     "metadata": {},
     "output_type": "execute_result"
    },
    {
     "data": {
      "image/png": "[encoded data removed]",
      "text/plain": [
       "<Figure size 640x480 with 1 Axes>"
      ]
     },
     "metadata": {},
     "output_type": "display_data"
    }
   ],
   "source": [
    "gdf_point.plot()"
   ]
  },
  {
   "cell_type": "code",
   "execution_count": 37,
   "metadata": {},
   "outputs": [
    {
     "data": {
      "text/plain": [
       "577"
      ]
     },
     "execution_count": 37,
     "metadata": {},
     "output_type": "execute_result"
    }
   ],
   "source": [
    "len(gdf_point)"
   ]
  },
  {
   "cell_type": "markdown",
   "metadata": {},
   "source": [
    "## Set as Multipoint as Centroid"
   ]
  },
  {
   "cell_type": "code",
   "execution_count": 38,
   "metadata": {},
   "outputs": [],
   "source": [
    "gdf_multipoint = gdf.copy()"
   ]
  },
  {
   "cell_type": "code",
   "execution_count": 41,
   "metadata": {},
   "outputs": [
    {
     "data": {
      "text/plain": [
       "1785"
      ]
     },
     "execution_count": 41,
     "metadata": {},
     "output_type": "execute_result"
    }
   ],
   "source": [
    "gdf_multipoint = gdf_multipoint.explode(index_parts=False)\n",
    "\n",
    "len(gdf_multipoint)"
   ]
  },
  {
   "cell_type": "code",
   "execution_count": 51,
   "metadata": {},
   "outputs": [
    {
     "data": {
      "text/html": [
       "<div>\n",
       "<style scoped>\n",
       "    .dataframe tbody tr th:only-of-type {\n",
       "        vertical-align: middle;\n",
       "    }\n",
       "\n",
       "    .dataframe tbody tr th {\n",
       "        vertical-align: top;\n",
       "    }\n",
       "\n",
       "    .dataframe thead th {\n",
       "        text-align: right;\n",
       "    }\n",
       "</style>\n",
       "<table border=\"1\" class=\"dataframe\">\n",
       "  <thead>\n",
       "    <tr style=\"text-align: right;\">\n",
       "      <th></th>\n",
       "      <th>OBJECTID</th>\n",
       "      <th>NAMOBJ</th>\n",
       "      <th>NAMZON</th>\n",
       "      <th>KODZON</th>\n",
       "      <th>NAMSZN</th>\n",
       "      <th>KODSZN</th>\n",
       "      <th>JNSRPR</th>\n",
       "      <th>KODEWP</th>\n",
       "      <th>KODSWP</th>\n",
       "      <th>KODBLK</th>\n",
       "      <th>...</th>\n",
       "      <th>TPZ_00</th>\n",
       "      <th>REMARK</th>\n",
       "      <th>PP</th>\n",
       "      <th>BA</th>\n",
       "      <th>CT</th>\n",
       "      <th>BT</th>\n",
       "      <th>NOTHPR</th>\n",
       "      <th>SHAPE_Length</th>\n",
       "      <th>SHAPE_Area</th>\n",
       "      <th>geometry</th>\n",
       "    </tr>\n",
       "  </thead>\n",
       "  <tbody>\n",
       "    <tr>\n",
       "      <th>0</th>\n",
       "      <td>578</td>\n",
       "      <td>Badan Jalan</td>\n",
       "      <td>Badan Jalan</td>\n",
       "      <td>BJ</td>\n",
       "      <td>Badan Jalan</td>\n",
       "      <td>BJ</td>\n",
       "      <td>Zona Budi Daya</td>\n",
       "      <td>I</td>\n",
       "      <td>A</td>\n",
       "      <td>10</td>\n",
       "      <td>...</td>\n",
       "      <td>Tidak Ada</td>\n",
       "      <td>Tidak Ada</td>\n",
       "      <td>http://gistaru.atrbpn.go.id/repository/Pages/V...</td>\n",
       "      <td>Tidak Ada</td>\n",
       "      <td>http://gistaru.atrbpn.go.id/repository/Pages/V...</td>\n",
       "      <td>http://gistaru.atrbpn.go.id/repository/Pages/V...</td>\n",
       "      <td>Peraturan Bupati Aceh Tengah Nomor 47 Tahun 20...</td>\n",
       "      <td>0.141053</td>\n",
       "      <td>2.425833e-06</td>\n",
       "      <td>POINT (96.83802 4.62161)</td>\n",
       "    </tr>\n",
       "    <tr>\n",
       "      <th>1</th>\n",
       "      <td>579</td>\n",
       "      <td>Badan Jalan</td>\n",
       "      <td>Badan Jalan</td>\n",
       "      <td>BJ</td>\n",
       "      <td>Badan Jalan</td>\n",
       "      <td>BJ</td>\n",
       "      <td>Zona Budi Daya</td>\n",
       "      <td>I</td>\n",
       "      <td>A</td>\n",
       "      <td>10</td>\n",
       "      <td>...</td>\n",
       "      <td>Tidak Ada</td>\n",
       "      <td>Tidak Ada</td>\n",
       "      <td>http://gistaru.atrbpn.go.id/repository/Pages/V...</td>\n",
       "      <td>Tidak Ada</td>\n",
       "      <td>http://gistaru.atrbpn.go.id/repository/Pages/V...</td>\n",
       "      <td>http://gistaru.atrbpn.go.id/repository/Pages/V...</td>\n",
       "      <td>Peraturan Bupati Aceh Tengah Nomor 47 Tahun 20...</td>\n",
       "      <td>0.008459</td>\n",
       "      <td>1.515184e-07</td>\n",
       "      <td>POINT (96.83846 4.61891)</td>\n",
       "    </tr>\n",
       "    <tr>\n",
       "      <th>2</th>\n",
       "      <td>580</td>\n",
       "      <td>Badan Jalan</td>\n",
       "      <td>Badan Jalan</td>\n",
       "      <td>BJ</td>\n",
       "      <td>Badan Jalan</td>\n",
       "      <td>BJ</td>\n",
       "      <td>Zona Budi Daya</td>\n",
       "      <td>I</td>\n",
       "      <td>A</td>\n",
       "      <td>11</td>\n",
       "      <td>...</td>\n",
       "      <td>Tidak Ada</td>\n",
       "      <td>Tidak Ada</td>\n",
       "      <td>http://gistaru.atrbpn.go.id/repository/Pages/V...</td>\n",
       "      <td>Tidak Ada</td>\n",
       "      <td>http://gistaru.atrbpn.go.id/repository/Pages/V...</td>\n",
       "      <td>http://gistaru.atrbpn.go.id/repository/Pages/V...</td>\n",
       "      <td>Peraturan Bupati Aceh Tengah Nomor 47 Tahun 20...</td>\n",
       "      <td>0.025818</td>\n",
       "      <td>3.163195e-07</td>\n",
       "      <td>POINT (96.84567 4.61867)</td>\n",
       "    </tr>\n",
       "    <tr>\n",
       "      <th>2</th>\n",
       "      <td>580</td>\n",
       "      <td>Badan Jalan</td>\n",
       "      <td>Badan Jalan</td>\n",
       "      <td>BJ</td>\n",
       "      <td>Badan Jalan</td>\n",
       "      <td>BJ</td>\n",
       "      <td>Zona Budi Daya</td>\n",
       "      <td>I</td>\n",
       "      <td>A</td>\n",
       "      <td>11</td>\n",
       "      <td>...</td>\n",
       "      <td>Tidak Ada</td>\n",
       "      <td>Tidak Ada</td>\n",
       "      <td>http://gistaru.atrbpn.go.id/repository/Pages/V...</td>\n",
       "      <td>Tidak Ada</td>\n",
       "      <td>http://gistaru.atrbpn.go.id/repository/Pages/V...</td>\n",
       "      <td>http://gistaru.atrbpn.go.id/repository/Pages/V...</td>\n",
       "      <td>Peraturan Bupati Aceh Tengah Nomor 47 Tahun 20...</td>\n",
       "      <td>0.025818</td>\n",
       "      <td>3.163195e-07</td>\n",
       "      <td>POINT (96.84565 4.61915)</td>\n",
       "    </tr>\n",
       "    <tr>\n",
       "      <th>2</th>\n",
       "      <td>580</td>\n",
       "      <td>Badan Jalan</td>\n",
       "      <td>Badan Jalan</td>\n",
       "      <td>BJ</td>\n",
       "      <td>Badan Jalan</td>\n",
       "      <td>BJ</td>\n",
       "      <td>Zona Budi Daya</td>\n",
       "      <td>I</td>\n",
       "      <td>A</td>\n",
       "      <td>11</td>\n",
       "      <td>...</td>\n",
       "      <td>Tidak Ada</td>\n",
       "      <td>Tidak Ada</td>\n",
       "      <td>http://gistaru.atrbpn.go.id/repository/Pages/V...</td>\n",
       "      <td>Tidak Ada</td>\n",
       "      <td>http://gistaru.atrbpn.go.id/repository/Pages/V...</td>\n",
       "      <td>http://gistaru.atrbpn.go.id/repository/Pages/V...</td>\n",
       "      <td>Peraturan Bupati Aceh Tengah Nomor 47 Tahun 20...</td>\n",
       "      <td>0.025818</td>\n",
       "      <td>3.163195e-07</td>\n",
       "      <td>POINT (96.84631 4.61909)</td>\n",
       "    </tr>\n",
       "  </tbody>\n",
       "</table>\n",
       "<p>5 rows × 39 columns</p>\n",
       "</div>"
      ],
      "text/plain": [
       "   OBJECTID       NAMOBJ       NAMZON KODZON       NAMSZN KODSZN  \\\n",
       "0       578  Badan Jalan  Badan Jalan     BJ  Badan Jalan     BJ   \n",
       "1       579  Badan Jalan  Badan Jalan     BJ  Badan Jalan     BJ   \n",
       "2       580  Badan Jalan  Badan Jalan     BJ  Badan Jalan     BJ   \n",
       "2       580  Badan Jalan  Badan Jalan     BJ  Badan Jalan     BJ   \n",
       "2       580  Badan Jalan  Badan Jalan     BJ  Badan Jalan     BJ   \n",
       "\n",
       "           JNSRPR KODEWP KODSWP KODBLK  ...     TPZ_00     REMARK  \\\n",
       "0  Zona Budi Daya      I      A     10  ...  Tidak Ada  Tidak Ada   \n",
       "1  Zona Budi Daya      I      A     10  ...  Tidak Ada  Tidak Ada   \n",
       "2  Zona Budi Daya      I      A     11  ...  Tidak Ada  Tidak Ada   \n",
       "2  Zona Budi Daya      I      A     11  ...  Tidak Ada  Tidak Ada   \n",
       "2  Zona Budi Daya      I      A     11  ...  Tidak Ada  Tidak Ada   \n",
       "\n",
       "                                                  PP         BA  \\\n",
       "0  http://gistaru.atrbpn.go.id/repository/Pages/V...  Tidak Ada   \n",
       "1  http://gistaru.atrbpn.go.id/repository/Pages/V...  Tidak Ada   \n",
       "2  http://gistaru.atrbpn.go.id/repository/Pages/V...  Tidak Ada   \n",
       "2  http://gistaru.atrbpn.go.id/repository/Pages/V...  Tidak Ada   \n",
       "2  http://gistaru.atrbpn.go.id/repository/Pages/V...  Tidak Ada   \n",
       "\n",
       "                                                  CT  \\\n",
       "0  http://gistaru.atrbpn.go.id/repository/Pages/V...   \n",
       "1  http://gistaru.atrbpn.go.id/repository/Pages/V...   \n",
       "2  http://gistaru.atrbpn.go.id/repository/Pages/V...   \n",
       "2  http://gistaru.atrbpn.go.id/repository/Pages/V...   \n",
       "2  http://gistaru.atrbpn.go.id/repository/Pages/V...   \n",
       "\n",
       "                                                  BT  \\\n",
       "0  http://gistaru.atrbpn.go.id/repository/Pages/V...   \n",
       "1  http://gistaru.atrbpn.go.id/repository/Pages/V...   \n",
       "2  http://gistaru.atrbpn.go.id/repository/Pages/V...   \n",
       "2  http://gistaru.atrbpn.go.id/repository/Pages/V...   \n",
       "2  http://gistaru.atrbpn.go.id/repository/Pages/V...   \n",
       "\n",
       "                                              NOTHPR SHAPE_Length  \\\n",
       "0  Peraturan Bupati Aceh Tengah Nomor 47 Tahun 20...     0.141053   \n",
       "1  Peraturan Bupati Aceh Tengah Nomor 47 Tahun 20...     0.008459   \n",
       "2  Peraturan Bupati Aceh Tengah Nomor 47 Tahun 20...     0.025818   \n",
       "2  Peraturan Bupati Aceh Tengah Nomor 47 Tahun 20...     0.025818   \n",
       "2  Peraturan Bupati Aceh Tengah Nomor 47 Tahun 20...     0.025818   \n",
       "\n",
       "     SHAPE_Area                  geometry  \n",
       "0  2.425833e-06  POINT (96.83802 4.62161)  \n",
       "1  1.515184e-07  POINT (96.83846 4.61891)  \n",
       "2  3.163195e-07  POINT (96.84567 4.61867)  \n",
       "2  3.163195e-07  POINT (96.84565 4.61915)  \n",
       "2  3.163195e-07  POINT (96.84631 4.61909)  \n",
       "\n",
       "[5 rows x 39 columns]"
      ]
     },
     "execution_count": 51,
     "metadata": {},
     "output_type": "execute_result"
    }
   ],
   "source": [
    "gdf_multipoint.head()"
   ]
  },
  {
   "cell_type": "code",
   "execution_count": 49,
   "metadata": {},
   "outputs": [
    {
     "name": "stderr",
     "output_type": "stream",
     "text": [
      "/var/folders/x2/fsb9vgcn65d5s9nbfh7b7p2r0000gn/T/ipykernel_84785/3952003779.py:1: UserWarning: Geometry is in a geographic CRS. Results from 'centroid' are likely incorrect. Use 'GeoSeries.to_crs()' to re-project geometries to a projected CRS before this operation.\n",
      "\n",
      "  gdf_multipoint.geometry = gdf_multipoint.geometry.centroid\n"
     ]
    },
    {
     "data": {
      "text/plain": [
       "0    POINT (96.83802 4.62161)\n",
       "1    POINT (96.83846 4.61891)\n",
       "2    POINT (96.84567 4.61867)\n",
       "2    POINT (96.84565 4.61915)\n",
       "2    POINT (96.84631 4.61909)\n",
       "Name: geometry, dtype: geometry"
      ]
     },
     "execution_count": 49,
     "metadata": {},
     "output_type": "execute_result"
    }
   ],
   "source": [
    "gdf_multipoint.geometry = gdf_multipoint.geometry.centroid\n",
    "\n",
    "gdf_multipoint.geometry.head()"
   ]
  },
  {
   "cell_type": "code",
   "execution_count": 54,
   "metadata": {},
   "outputs": [
    {
     "data": {
      "text/html": [
       "<div>\n",
       "<style scoped>\n",
       "    .dataframe tbody tr th:only-of-type {\n",
       "        vertical-align: middle;\n",
       "    }\n",
       "\n",
       "    .dataframe tbody tr th {\n",
       "        vertical-align: top;\n",
       "    }\n",
       "\n",
       "    .dataframe thead th {\n",
       "        text-align: right;\n",
       "    }\n",
       "</style>\n",
       "<table border=\"1\" class=\"dataframe\">\n",
       "  <thead>\n",
       "    <tr style=\"text-align: right;\">\n",
       "      <th></th>\n",
       "      <th>geometry</th>\n",
       "      <th>NAMOBJ</th>\n",
       "      <th>NAMZON</th>\n",
       "      <th>KODZON</th>\n",
       "      <th>NAMSZN</th>\n",
       "      <th>KODSZN</th>\n",
       "      <th>JNSRPR</th>\n",
       "      <th>KODEWP</th>\n",
       "      <th>KODSWP</th>\n",
       "      <th>KODBLK</th>\n",
       "      <th>...</th>\n",
       "      <th>RDBUMI</th>\n",
       "      <th>TPZ_00</th>\n",
       "      <th>REMARK</th>\n",
       "      <th>PP</th>\n",
       "      <th>BA</th>\n",
       "      <th>CT</th>\n",
       "      <th>BT</th>\n",
       "      <th>NOTHPR</th>\n",
       "      <th>SHAPE_Length</th>\n",
       "      <th>SHAPE_Area</th>\n",
       "    </tr>\n",
       "    <tr>\n",
       "      <th>OBJECTID</th>\n",
       "      <th></th>\n",
       "      <th></th>\n",
       "      <th></th>\n",
       "      <th></th>\n",
       "      <th></th>\n",
       "      <th></th>\n",
       "      <th></th>\n",
       "      <th></th>\n",
       "      <th></th>\n",
       "      <th></th>\n",
       "      <th></th>\n",
       "      <th></th>\n",
       "      <th></th>\n",
       "      <th></th>\n",
       "      <th></th>\n",
       "      <th></th>\n",
       "      <th></th>\n",
       "      <th></th>\n",
       "      <th></th>\n",
       "      <th></th>\n",
       "      <th></th>\n",
       "    </tr>\n",
       "  </thead>\n",
       "  <tbody>\n",
       "    <tr>\n",
       "      <th>578</th>\n",
       "      <td>POINT (96.83802 4.62161)</td>\n",
       "      <td>Badan Jalan</td>\n",
       "      <td>Badan Jalan</td>\n",
       "      <td>BJ</td>\n",
       "      <td>Badan Jalan</td>\n",
       "      <td>BJ</td>\n",
       "      <td>Zona Budi Daya</td>\n",
       "      <td>I</td>\n",
       "      <td>A</td>\n",
       "      <td>10</td>\n",
       "      <td>...</td>\n",
       "      <td>Tidak Ada</td>\n",
       "      <td>Tidak Ada</td>\n",
       "      <td>Tidak Ada</td>\n",
       "      <td>http://gistaru.atrbpn.go.id/repository/Pages/V...</td>\n",
       "      <td>Tidak Ada</td>\n",
       "      <td>http://gistaru.atrbpn.go.id/repository/Pages/V...</td>\n",
       "      <td>http://gistaru.atrbpn.go.id/repository/Pages/V...</td>\n",
       "      <td>Peraturan Bupati Aceh Tengah Nomor 47 Tahun 20...</td>\n",
       "      <td>0.141053</td>\n",
       "      <td>2.425833e-06</td>\n",
       "    </tr>\n",
       "    <tr>\n",
       "      <th>579</th>\n",
       "      <td>POINT (96.83846 4.61891)</td>\n",
       "      <td>Badan Jalan</td>\n",
       "      <td>Badan Jalan</td>\n",
       "      <td>BJ</td>\n",
       "      <td>Badan Jalan</td>\n",
       "      <td>BJ</td>\n",
       "      <td>Zona Budi Daya</td>\n",
       "      <td>I</td>\n",
       "      <td>A</td>\n",
       "      <td>10</td>\n",
       "      <td>...</td>\n",
       "      <td>Tidak Ada</td>\n",
       "      <td>Tidak Ada</td>\n",
       "      <td>Tidak Ada</td>\n",
       "      <td>http://gistaru.atrbpn.go.id/repository/Pages/V...</td>\n",
       "      <td>Tidak Ada</td>\n",
       "      <td>http://gistaru.atrbpn.go.id/repository/Pages/V...</td>\n",
       "      <td>http://gistaru.atrbpn.go.id/repository/Pages/V...</td>\n",
       "      <td>Peraturan Bupati Aceh Tengah Nomor 47 Tahun 20...</td>\n",
       "      <td>0.008459</td>\n",
       "      <td>1.515184e-07</td>\n",
       "    </tr>\n",
       "    <tr>\n",
       "      <th>580</th>\n",
       "      <td>MULTIPOINT (96.84509 4.61906, 96.84565 4.61915...</td>\n",
       "      <td>Badan Jalan</td>\n",
       "      <td>Badan Jalan</td>\n",
       "      <td>BJ</td>\n",
       "      <td>Badan Jalan</td>\n",
       "      <td>BJ</td>\n",
       "      <td>Zona Budi Daya</td>\n",
       "      <td>I</td>\n",
       "      <td>A</td>\n",
       "      <td>11</td>\n",
       "      <td>...</td>\n",
       "      <td>Tidak Ada</td>\n",
       "      <td>Tidak Ada</td>\n",
       "      <td>Tidak Ada</td>\n",
       "      <td>http://gistaru.atrbpn.go.id/repository/Pages/V...</td>\n",
       "      <td>Tidak Ada</td>\n",
       "      <td>http://gistaru.atrbpn.go.id/repository/Pages/V...</td>\n",
       "      <td>http://gistaru.atrbpn.go.id/repository/Pages/V...</td>\n",
       "      <td>Peraturan Bupati Aceh Tengah Nomor 47 Tahun 20...</td>\n",
       "      <td>0.025818</td>\n",
       "      <td>3.163195e-07</td>\n",
       "    </tr>\n",
       "    <tr>\n",
       "      <th>581</th>\n",
       "      <td>POINT (96.84404 4.62123)</td>\n",
       "      <td>Badan Jalan</td>\n",
       "      <td>Badan Jalan</td>\n",
       "      <td>BJ</td>\n",
       "      <td>Badan Jalan</td>\n",
       "      <td>BJ</td>\n",
       "      <td>Zona Budi Daya</td>\n",
       "      <td>I</td>\n",
       "      <td>A</td>\n",
       "      <td>11</td>\n",
       "      <td>...</td>\n",
       "      <td>Tidak Ada</td>\n",
       "      <td>Tidak Ada</td>\n",
       "      <td>Tidak Ada</td>\n",
       "      <td>http://gistaru.atrbpn.go.id/repository/Pages/V...</td>\n",
       "      <td>Tidak Ada</td>\n",
       "      <td>http://gistaru.atrbpn.go.id/repository/Pages/V...</td>\n",
       "      <td>http://gistaru.atrbpn.go.id/repository/Pages/V...</td>\n",
       "      <td>Peraturan Bupati Aceh Tengah Nomor 47 Tahun 20...</td>\n",
       "      <td>0.038819</td>\n",
       "      <td>5.724688e-07</td>\n",
       "    </tr>\n",
       "    <tr>\n",
       "      <th>582</th>\n",
       "      <td>MULTIPOINT (96.84527 4.61916, 96.84534 4.61977...</td>\n",
       "      <td>Badan Jalan</td>\n",
       "      <td>Badan Jalan</td>\n",
       "      <td>BJ</td>\n",
       "      <td>Badan Jalan</td>\n",
       "      <td>BJ</td>\n",
       "      <td>Zona Budi Daya</td>\n",
       "      <td>I</td>\n",
       "      <td>A</td>\n",
       "      <td>11</td>\n",
       "      <td>...</td>\n",
       "      <td>Tidak Ada</td>\n",
       "      <td>Tidak Ada</td>\n",
       "      <td>Tidak Ada</td>\n",
       "      <td>http://gistaru.atrbpn.go.id/repository/Pages/V...</td>\n",
       "      <td>Tidak Ada</td>\n",
       "      <td>http://gistaru.atrbpn.go.id/repository/Pages/V...</td>\n",
       "      <td>http://gistaru.atrbpn.go.id/repository/Pages/V...</td>\n",
       "      <td>Peraturan Bupati Aceh Tengah Nomor 47 Tahun 20...</td>\n",
       "      <td>0.011531</td>\n",
       "      <td>1.120660e-07</td>\n",
       "    </tr>\n",
       "  </tbody>\n",
       "</table>\n",
       "<p>5 rows × 38 columns</p>\n",
       "</div>"
      ],
      "text/plain": [
       "                                                   geometry       NAMOBJ  \\\n",
       "OBJECTID                                                                   \n",
       "578                                POINT (96.83802 4.62161)  Badan Jalan   \n",
       "579                                POINT (96.83846 4.61891)  Badan Jalan   \n",
       "580       MULTIPOINT (96.84509 4.61906, 96.84565 4.61915...  Badan Jalan   \n",
       "581                                POINT (96.84404 4.62123)  Badan Jalan   \n",
       "582       MULTIPOINT (96.84527 4.61916, 96.84534 4.61977...  Badan Jalan   \n",
       "\n",
       "               NAMZON KODZON       NAMSZN KODSZN          JNSRPR KODEWP  \\\n",
       "OBJECTID                                                                  \n",
       "578       Badan Jalan     BJ  Badan Jalan     BJ  Zona Budi Daya      I   \n",
       "579       Badan Jalan     BJ  Badan Jalan     BJ  Zona Budi Daya      I   \n",
       "580       Badan Jalan     BJ  Badan Jalan     BJ  Zona Budi Daya      I   \n",
       "581       Badan Jalan     BJ  Badan Jalan     BJ  Zona Budi Daya      I   \n",
       "582       Badan Jalan     BJ  Badan Jalan     BJ  Zona Budi Daya      I   \n",
       "\n",
       "         KODSWP KODBLK  ...     RDBUMI     TPZ_00     REMARK  \\\n",
       "OBJECTID                ...                                    \n",
       "578           A     10  ...  Tidak Ada  Tidak Ada  Tidak Ada   \n",
       "579           A     10  ...  Tidak Ada  Tidak Ada  Tidak Ada   \n",
       "580           A     11  ...  Tidak Ada  Tidak Ada  Tidak Ada   \n",
       "581           A     11  ...  Tidak Ada  Tidak Ada  Tidak Ada   \n",
       "582           A     11  ...  Tidak Ada  Tidak Ada  Tidak Ada   \n",
       "\n",
       "                                                         PP         BA  \\\n",
       "OBJECTID                                                                 \n",
       "578       http://gistaru.atrbpn.go.id/repository/Pages/V...  Tidak Ada   \n",
       "579       http://gistaru.atrbpn.go.id/repository/Pages/V...  Tidak Ada   \n",
       "580       http://gistaru.atrbpn.go.id/repository/Pages/V...  Tidak Ada   \n",
       "581       http://gistaru.atrbpn.go.id/repository/Pages/V...  Tidak Ada   \n",
       "582       http://gistaru.atrbpn.go.id/repository/Pages/V...  Tidak Ada   \n",
       "\n",
       "                                                         CT  \\\n",
       "OBJECTID                                                      \n",
       "578       http://gistaru.atrbpn.go.id/repository/Pages/V...   \n",
       "579       http://gistaru.atrbpn.go.id/repository/Pages/V...   \n",
       "580       http://gistaru.atrbpn.go.id/repository/Pages/V...   \n",
       "581       http://gistaru.atrbpn.go.id/repository/Pages/V...   \n",
       "582       http://gistaru.atrbpn.go.id/repository/Pages/V...   \n",
       "\n",
       "                                                         BT  \\\n",
       "OBJECTID                                                      \n",
       "578       http://gistaru.atrbpn.go.id/repository/Pages/V...   \n",
       "579       http://gistaru.atrbpn.go.id/repository/Pages/V...   \n",
       "580       http://gistaru.atrbpn.go.id/repository/Pages/V...   \n",
       "581       http://gistaru.atrbpn.go.id/repository/Pages/V...   \n",
       "582       http://gistaru.atrbpn.go.id/repository/Pages/V...   \n",
       "\n",
       "                                                     NOTHPR SHAPE_Length  \\\n",
       "OBJECTID                                                                   \n",
       "578       Peraturan Bupati Aceh Tengah Nomor 47 Tahun 20...     0.141053   \n",
       "579       Peraturan Bupati Aceh Tengah Nomor 47 Tahun 20...     0.008459   \n",
       "580       Peraturan Bupati Aceh Tengah Nomor 47 Tahun 20...     0.025818   \n",
       "581       Peraturan Bupati Aceh Tengah Nomor 47 Tahun 20...     0.038819   \n",
       "582       Peraturan Bupati Aceh Tengah Nomor 47 Tahun 20...     0.011531   \n",
       "\n",
       "            SHAPE_Area  \n",
       "OBJECTID                \n",
       "578       2.425833e-06  \n",
       "579       1.515184e-07  \n",
       "580       3.163195e-07  \n",
       "581       5.724688e-07  \n",
       "582       1.120660e-07  \n",
       "\n",
       "[5 rows x 38 columns]"
      ]
     },
     "execution_count": 54,
     "metadata": {},
     "output_type": "execute_result"
    }
   ],
   "source": [
    "gdf_multipoint = gdf_multipoint.dissolve(by=\"OBJECTID\", aggfunc=\"first\")\n",
    "\n",
    "gdf_multipoint.head()"
   ]
  },
  {
   "cell_type": "markdown",
   "metadata": {},
   "source": [
    "## Polygon Simplification"
   ]
  },
  {
   "cell_type": "code",
   "execution_count": 83,
   "metadata": {},
   "outputs": [
    {
     "data": {
      "text/html": [
       "<div>\n",
       "<style scoped>\n",
       "    .dataframe tbody tr th:only-of-type {\n",
       "        vertical-align: middle;\n",
       "    }\n",
       "\n",
       "    .dataframe tbody tr th {\n",
       "        vertical-align: top;\n",
       "    }\n",
       "\n",
       "    .dataframe thead th {\n",
       "        text-align: right;\n",
       "    }\n",
       "</style>\n",
       "<table border=\"1\" class=\"dataframe\">\n",
       "  <thead>\n",
       "    <tr style=\"text-align: right;\">\n",
       "      <th></th>\n",
       "      <th>OBJECTID</th>\n",
       "      <th>NAMOBJ</th>\n",
       "      <th>NAMZON</th>\n",
       "      <th>KODZON</th>\n",
       "      <th>NAMSZN</th>\n",
       "      <th>KODSZN</th>\n",
       "      <th>JNSRPR</th>\n",
       "      <th>KODEWP</th>\n",
       "      <th>KODSWP</th>\n",
       "      <th>KODBLK</th>\n",
       "      <th>...</th>\n",
       "      <th>TPZ_00</th>\n",
       "      <th>REMARK</th>\n",
       "      <th>PP</th>\n",
       "      <th>BA</th>\n",
       "      <th>CT</th>\n",
       "      <th>BT</th>\n",
       "      <th>NOTHPR</th>\n",
       "      <th>SHAPE_Length</th>\n",
       "      <th>SHAPE_Area</th>\n",
       "      <th>geometry</th>\n",
       "    </tr>\n",
       "  </thead>\n",
       "  <tbody>\n",
       "    <tr>\n",
       "      <th>102</th>\n",
       "      <td>680</td>\n",
       "      <td>Perdagangan dan Jasa Skala BWP</td>\n",
       "      <td>Zona Perdagangan dan Jasa</td>\n",
       "      <td>K</td>\n",
       "      <td>Perdagangan dan Jasa Skala BWP</td>\n",
       "      <td>K-2</td>\n",
       "      <td>Zona Budi Daya</td>\n",
       "      <td>I</td>\n",
       "      <td>A</td>\n",
       "      <td>2</td>\n",
       "      <td>...</td>\n",
       "      <td>Tidak Ada</td>\n",
       "      <td>Tidak Ada</td>\n",
       "      <td>http://gistaru.atrbpn.go.id/repository/Pages/V...</td>\n",
       "      <td>Tidak Ada</td>\n",
       "      <td>http://gistaru.atrbpn.go.id/repository/Pages/V...</td>\n",
       "      <td>http://gistaru.atrbpn.go.id/repository/Pages/V...</td>\n",
       "      <td>Peraturan Bupati Aceh Tengah Nomor 47 Tahun 20...</td>\n",
       "      <td>0.029526</td>\n",
       "      <td>4.343623e-06</td>\n",
       "      <td>MULTIPOLYGON (((96.84926 4.62284, 96.84847 4.6...</td>\n",
       "    </tr>\n",
       "    <tr>\n",
       "      <th>103</th>\n",
       "      <td>681</td>\n",
       "      <td>Perdagangan dan Jasa Skala BWP</td>\n",
       "      <td>Zona Perdagangan dan Jasa</td>\n",
       "      <td>K</td>\n",
       "      <td>Perdagangan dan Jasa Skala BWP</td>\n",
       "      <td>K-2</td>\n",
       "      <td>Zona Budi Daya</td>\n",
       "      <td>I</td>\n",
       "      <td>A</td>\n",
       "      <td>2</td>\n",
       "      <td>...</td>\n",
       "      <td>Tidak Ada</td>\n",
       "      <td>Tidak Ada</td>\n",
       "      <td>http://gistaru.atrbpn.go.id/repository/Pages/V...</td>\n",
       "      <td>Tidak Ada</td>\n",
       "      <td>http://gistaru.atrbpn.go.id/repository/Pages/V...</td>\n",
       "      <td>http://gistaru.atrbpn.go.id/repository/Pages/V...</td>\n",
       "      <td>Peraturan Bupati Aceh Tengah Nomor 47 Tahun 20...</td>\n",
       "      <td>0.003071</td>\n",
       "      <td>4.918930e-07</td>\n",
       "      <td>POLYGON ((96.84926 4.62284, 96.84927 4.62287, ...</td>\n",
       "    </tr>\n",
       "  </tbody>\n",
       "</table>\n",
       "<p>2 rows × 39 columns</p>\n",
       "</div>"
      ],
      "text/plain": [
       "     OBJECTID                          NAMOBJ                     NAMZON  \\\n",
       "102       680  Perdagangan dan Jasa Skala BWP  Zona Perdagangan dan Jasa   \n",
       "103       681  Perdagangan dan Jasa Skala BWP  Zona Perdagangan dan Jasa   \n",
       "\n",
       "    KODZON                          NAMSZN KODSZN          JNSRPR KODEWP  \\\n",
       "102      K  Perdagangan dan Jasa Skala BWP    K-2  Zona Budi Daya      I   \n",
       "103      K  Perdagangan dan Jasa Skala BWP    K-2  Zona Budi Daya      I   \n",
       "\n",
       "    KODSWP KODBLK  ...     TPZ_00     REMARK  \\\n",
       "102      A      2  ...  Tidak Ada  Tidak Ada   \n",
       "103      A      2  ...  Tidak Ada  Tidak Ada   \n",
       "\n",
       "                                                    PP         BA  \\\n",
       "102  http://gistaru.atrbpn.go.id/repository/Pages/V...  Tidak Ada   \n",
       "103  http://gistaru.atrbpn.go.id/repository/Pages/V...  Tidak Ada   \n",
       "\n",
       "                                                    CT  \\\n",
       "102  http://gistaru.atrbpn.go.id/repository/Pages/V...   \n",
       "103  http://gistaru.atrbpn.go.id/repository/Pages/V...   \n",
       "\n",
       "                                                    BT  \\\n",
       "102  http://gistaru.atrbpn.go.id/repository/Pages/V...   \n",
       "103  http://gistaru.atrbpn.go.id/repository/Pages/V...   \n",
       "\n",
       "                                                NOTHPR SHAPE_Length  \\\n",
       "102  Peraturan Bupati Aceh Tengah Nomor 47 Tahun 20...     0.029526   \n",
       "103  Peraturan Bupati Aceh Tengah Nomor 47 Tahun 20...     0.003071   \n",
       "\n",
       "       SHAPE_Area                                           geometry  \n",
       "102  4.343623e-06  MULTIPOLYGON (((96.84926 4.62284, 96.84847 4.6...  \n",
       "103  4.918930e-07  POLYGON ((96.84926 4.62284, 96.84927 4.62287, ...  \n",
       "\n",
       "[2 rows x 39 columns]"
      ]
     },
     "execution_count": 83,
     "metadata": {},
     "output_type": "execute_result"
    }
   ],
   "source": [
    "gdf.iloc[102:104]"
   ]
  },
  {
   "cell_type": "code",
   "execution_count": 84,
   "metadata": {},
   "outputs": [
    {
     "data": {
      "text/plain": [
       "<Axes: >"
      ]
     },
     "execution_count": 84,
     "metadata": {},
     "output_type": "execute_result"
    },
    {
     "data": {
      "image/png": "[encoded data removed]",
      "text/plain": [
       "<Figure size 640x480 with 1 Axes>"
      ]
     },
     "metadata": {},
     "output_type": "display_data"
    }
   ],
   "source": [
    "gdf.iloc[102:104].plot()"
   ]
  },
  {
   "cell_type": "code",
   "execution_count": 85,
   "metadata": {},
   "outputs": [
    {
     "data": {
      "text/plain": [
       "<Axes: >"
      ]
     },
     "execution_count": 85,
     "metadata": {},
     "output_type": "execute_result"
    },
    {
     "data": {
      "image/png": "[encoded data removed]",
      "text/plain": [
       "<Figure size 640x480 with 1 Axes>"
      ]
     },
     "metadata": {},
     "output_type": "display_data"
    }
   ],
   "source": [
    "gdf.iloc[102:104].geometry.simplify(0.5).plot()"
   ]
  },
  {
   "cell_type": "markdown",
   "metadata": {},
   "source": [
    "## Geometry Buffer"
   ]
  },
  {
   "cell_type": "code",
   "execution_count": 86,
   "metadata": {},
   "outputs": [
    {
     "name": "stderr",
     "output_type": "stream",
     "text": [
      "/var/folders/x2/fsb9vgcn65d5s9nbfh7b7p2r0000gn/T/ipykernel_84785/3302371734.py:1: UserWarning: Geometry is in a geographic CRS. Results from 'buffer' are likely incorrect. Use 'GeoSeries.to_crs()' to re-project geometries to a projected CRS before this operation.\n",
      "\n",
      "  gdf.iloc[102:104].geometry.buffer(0.0001).plot()\n"
     ]
    },
    {
     "data": {
      "text/plain": [
       "<Axes: >"
      ]
     },
     "execution_count": 86,
     "metadata": {},
     "output_type": "execute_result"
    },
    {
     "data": {
      "image/png": "[encoded data removed]",
      "text/plain": [
       "<Figure size 640x480 with 1 Axes>"
      ]
     },
     "metadata": {},
     "output_type": "display_data"
    }
   ],
   "source": [
    "gdf.iloc[102:104].geometry.buffer(0.0001).plot()"
   ]
  },
  {
   "cell_type": "code",
   "execution_count": 87,
   "metadata": {},
   "outputs": [
    {
     "name": "stderr",
     "output_type": "stream",
     "text": [
      "/var/folders/x2/fsb9vgcn65d5s9nbfh7b7p2r0000gn/T/ipykernel_84785/885605347.py:1: UserWarning: Geometry is in a geographic CRS. Results from 'centroid' are likely incorrect. Use 'GeoSeries.to_crs()' to re-project geometries to a projected CRS before this operation.\n",
      "\n",
      "  gdf.iloc[102:104].geometry.centroid.buffer(0.0001).plot()\n",
      "/var/folders/x2/fsb9vgcn65d5s9nbfh7b7p2r0000gn/T/ipykernel_84785/885605347.py:1: UserWarning: Geometry is in a geographic CRS. Results from 'buffer' are likely incorrect. Use 'GeoSeries.to_crs()' to re-project geometries to a projected CRS before this operation.\n",
      "\n",
      "  gdf.iloc[102:104].geometry.centroid.buffer(0.0001).plot()\n"
     ]
    },
    {
     "data": {
      "text/plain": [
       "<Axes: >"
      ]
     },
     "execution_count": 87,
     "metadata": {},
     "output_type": "execute_result"
    },
    {
     "data": {
      "image/png": "[encoded data removed]",
      "text/plain": [
       "<Figure size 640x480 with 1 Axes>"
      ]
     },
     "metadata": {},
     "output_type": "display_data"
    }
   ],
   "source": [
    "gdf.iloc[102:104].geometry.centroid.buffer(0.0001).plot()"
   ]
  },
  {
   "cell_type": "code",
   "execution_count": 90,
   "metadata": {},
   "outputs": [
    {
     "data": {
      "text/html": [
       "<div>\n",
       "<style scoped>\n",
       "    .dataframe tbody tr th:only-of-type {\n",
       "        vertical-align: middle;\n",
       "    }\n",
       "\n",
       "    .dataframe tbody tr th {\n",
       "        vertical-align: top;\n",
       "    }\n",
       "\n",
       "    .dataframe thead th {\n",
       "        text-align: right;\n",
       "    }\n",
       "</style>\n",
       "<table border=\"1\" class=\"dataframe\">\n",
       "  <thead>\n",
       "    <tr style=\"text-align: right;\">\n",
       "      <th></th>\n",
       "      <th>NAMOBJ</th>\n",
       "      <th>NAMZON</th>\n",
       "      <th>KODZON</th>\n",
       "      <th>NAMSZN</th>\n",
       "      <th>KODSZN</th>\n",
       "      <th>JNSRPR</th>\n",
       "      <th>KODEWP</th>\n",
       "      <th>KODSWP</th>\n",
       "      <th>KODBLK</th>\n",
       "      <th>KODSBL</th>\n",
       "      <th>...</th>\n",
       "      <th>TPZ_00</th>\n",
       "      <th>REMARK</th>\n",
       "      <th>PP</th>\n",
       "      <th>BA</th>\n",
       "      <th>CT</th>\n",
       "      <th>BT</th>\n",
       "      <th>NOTHPR</th>\n",
       "      <th>SHAPE_Length</th>\n",
       "      <th>SHAPE_Area</th>\n",
       "      <th>geometry</th>\n",
       "    </tr>\n",
       "    <tr>\n",
       "      <th>OBJECTID</th>\n",
       "      <th></th>\n",
       "      <th></th>\n",
       "      <th></th>\n",
       "      <th></th>\n",
       "      <th></th>\n",
       "      <th></th>\n",
       "      <th></th>\n",
       "      <th></th>\n",
       "      <th></th>\n",
       "      <th></th>\n",
       "      <th></th>\n",
       "      <th></th>\n",
       "      <th></th>\n",
       "      <th></th>\n",
       "      <th></th>\n",
       "      <th></th>\n",
       "      <th></th>\n",
       "      <th></th>\n",
       "      <th></th>\n",
       "      <th></th>\n",
       "      <th></th>\n",
       "    </tr>\n",
       "  </thead>\n",
       "  <tbody>\n",
       "    <tr>\n",
       "      <th>680</th>\n",
       "      <td>Perdagangan dan Jasa Skala BWP</td>\n",
       "      <td>Zona Perdagangan dan Jasa</td>\n",
       "      <td>K</td>\n",
       "      <td>Perdagangan dan Jasa Skala BWP</td>\n",
       "      <td>K-2</td>\n",
       "      <td>Zona Budi Daya</td>\n",
       "      <td>I</td>\n",
       "      <td>A</td>\n",
       "      <td>2</td>\n",
       "      <td>Tidak Ada</td>\n",
       "      <td>...</td>\n",
       "      <td>Tidak Ada</td>\n",
       "      <td>Tidak Ada</td>\n",
       "      <td>http://gistaru.atrbpn.go.id/repository/Pages/V...</td>\n",
       "      <td>Tidak Ada</td>\n",
       "      <td>http://gistaru.atrbpn.go.id/repository/Pages/V...</td>\n",
       "      <td>http://gistaru.atrbpn.go.id/repository/Pages/V...</td>\n",
       "      <td>Peraturan Bupati Aceh Tengah Nomor 47 Tahun 20...</td>\n",
       "      <td>0.029526</td>\n",
       "      <td>4.343623e-06</td>\n",
       "      <td>POINT (96.84828 4.6215)</td>\n",
       "    </tr>\n",
       "    <tr>\n",
       "      <th>680</th>\n",
       "      <td>Perdagangan dan Jasa Skala BWP</td>\n",
       "      <td>Zona Perdagangan dan Jasa</td>\n",
       "      <td>K</td>\n",
       "      <td>Perdagangan dan Jasa Skala BWP</td>\n",
       "      <td>K-2</td>\n",
       "      <td>Zona Budi Daya</td>\n",
       "      <td>I</td>\n",
       "      <td>A</td>\n",
       "      <td>2</td>\n",
       "      <td>Tidak Ada</td>\n",
       "      <td>...</td>\n",
       "      <td>Tidak Ada</td>\n",
       "      <td>Tidak Ada</td>\n",
       "      <td>http://gistaru.atrbpn.go.id/repository/Pages/V...</td>\n",
       "      <td>Tidak Ada</td>\n",
       "      <td>http://gistaru.atrbpn.go.id/repository/Pages/V...</td>\n",
       "      <td>http://gistaru.atrbpn.go.id/repository/Pages/V...</td>\n",
       "      <td>Peraturan Bupati Aceh Tengah Nomor 47 Tahun 20...</td>\n",
       "      <td>0.029526</td>\n",
       "      <td>4.343623e-06</td>\n",
       "      <td>POINT (96.8485 4.62027)</td>\n",
       "    </tr>\n",
       "    <tr>\n",
       "      <th>680</th>\n",
       "      <td>Perdagangan dan Jasa Skala BWP</td>\n",
       "      <td>Zona Perdagangan dan Jasa</td>\n",
       "      <td>K</td>\n",
       "      <td>Perdagangan dan Jasa Skala BWP</td>\n",
       "      <td>K-2</td>\n",
       "      <td>Zona Budi Daya</td>\n",
       "      <td>I</td>\n",
       "      <td>A</td>\n",
       "      <td>2</td>\n",
       "      <td>Tidak Ada</td>\n",
       "      <td>...</td>\n",
       "      <td>Tidak Ada</td>\n",
       "      <td>Tidak Ada</td>\n",
       "      <td>http://gistaru.atrbpn.go.id/repository/Pages/V...</td>\n",
       "      <td>Tidak Ada</td>\n",
       "      <td>http://gistaru.atrbpn.go.id/repository/Pages/V...</td>\n",
       "      <td>http://gistaru.atrbpn.go.id/repository/Pages/V...</td>\n",
       "      <td>Peraturan Bupati Aceh Tengah Nomor 47 Tahun 20...</td>\n",
       "      <td>0.029526</td>\n",
       "      <td>4.343623e-06</td>\n",
       "      <td>POINT (96.84878 4.6202)</td>\n",
       "    </tr>\n",
       "    <tr>\n",
       "      <th>680</th>\n",
       "      <td>Perdagangan dan Jasa Skala BWP</td>\n",
       "      <td>Zona Perdagangan dan Jasa</td>\n",
       "      <td>K</td>\n",
       "      <td>Perdagangan dan Jasa Skala BWP</td>\n",
       "      <td>K-2</td>\n",
       "      <td>Zona Budi Daya</td>\n",
       "      <td>I</td>\n",
       "      <td>A</td>\n",
       "      <td>2</td>\n",
       "      <td>Tidak Ada</td>\n",
       "      <td>...</td>\n",
       "      <td>Tidak Ada</td>\n",
       "      <td>Tidak Ada</td>\n",
       "      <td>http://gistaru.atrbpn.go.id/repository/Pages/V...</td>\n",
       "      <td>Tidak Ada</td>\n",
       "      <td>http://gistaru.atrbpn.go.id/repository/Pages/V...</td>\n",
       "      <td>http://gistaru.atrbpn.go.id/repository/Pages/V...</td>\n",
       "      <td>Peraturan Bupati Aceh Tengah Nomor 47 Tahun 20...</td>\n",
       "      <td>0.029526</td>\n",
       "      <td>4.343623e-06</td>\n",
       "      <td>POINT (96.84889 4.62249)</td>\n",
       "    </tr>\n",
       "    <tr>\n",
       "      <th>680</th>\n",
       "      <td>Perdagangan dan Jasa Skala BWP</td>\n",
       "      <td>Zona Perdagangan dan Jasa</td>\n",
       "      <td>K</td>\n",
       "      <td>Perdagangan dan Jasa Skala BWP</td>\n",
       "      <td>K-2</td>\n",
       "      <td>Zona Budi Daya</td>\n",
       "      <td>I</td>\n",
       "      <td>A</td>\n",
       "      <td>2</td>\n",
       "      <td>Tidak Ada</td>\n",
       "      <td>...</td>\n",
       "      <td>Tidak Ada</td>\n",
       "      <td>Tidak Ada</td>\n",
       "      <td>http://gistaru.atrbpn.go.id/repository/Pages/V...</td>\n",
       "      <td>Tidak Ada</td>\n",
       "      <td>http://gistaru.atrbpn.go.id/repository/Pages/V...</td>\n",
       "      <td>http://gistaru.atrbpn.go.id/repository/Pages/V...</td>\n",
       "      <td>Peraturan Bupati Aceh Tengah Nomor 47 Tahun 20...</td>\n",
       "      <td>0.029526</td>\n",
       "      <td>4.343623e-06</td>\n",
       "      <td>POINT (96.84891 4.6212)</td>\n",
       "    </tr>\n",
       "    <tr>\n",
       "      <th>680</th>\n",
       "      <td>Perdagangan dan Jasa Skala BWP</td>\n",
       "      <td>Zona Perdagangan dan Jasa</td>\n",
       "      <td>K</td>\n",
       "      <td>Perdagangan dan Jasa Skala BWP</td>\n",
       "      <td>K-2</td>\n",
       "      <td>Zona Budi Daya</td>\n",
       "      <td>I</td>\n",
       "      <td>A</td>\n",
       "      <td>2</td>\n",
       "      <td>Tidak Ada</td>\n",
       "      <td>...</td>\n",
       "      <td>Tidak Ada</td>\n",
       "      <td>Tidak Ada</td>\n",
       "      <td>http://gistaru.atrbpn.go.id/repository/Pages/V...</td>\n",
       "      <td>Tidak Ada</td>\n",
       "      <td>http://gistaru.atrbpn.go.id/repository/Pages/V...</td>\n",
       "      <td>http://gistaru.atrbpn.go.id/repository/Pages/V...</td>\n",
       "      <td>Peraturan Bupati Aceh Tengah Nomor 47 Tahun 20...</td>\n",
       "      <td>0.029526</td>\n",
       "      <td>4.343623e-06</td>\n",
       "      <td>POINT (96.849 4.62032)</td>\n",
       "    </tr>\n",
       "    <tr>\n",
       "      <th>680</th>\n",
       "      <td>Perdagangan dan Jasa Skala BWP</td>\n",
       "      <td>Zona Perdagangan dan Jasa</td>\n",
       "      <td>K</td>\n",
       "      <td>Perdagangan dan Jasa Skala BWP</td>\n",
       "      <td>K-2</td>\n",
       "      <td>Zona Budi Daya</td>\n",
       "      <td>I</td>\n",
       "      <td>A</td>\n",
       "      <td>2</td>\n",
       "      <td>Tidak Ada</td>\n",
       "      <td>...</td>\n",
       "      <td>Tidak Ada</td>\n",
       "      <td>Tidak Ada</td>\n",
       "      <td>http://gistaru.atrbpn.go.id/repository/Pages/V...</td>\n",
       "      <td>Tidak Ada</td>\n",
       "      <td>http://gistaru.atrbpn.go.id/repository/Pages/V...</td>\n",
       "      <td>http://gistaru.atrbpn.go.id/repository/Pages/V...</td>\n",
       "      <td>Peraturan Bupati Aceh Tengah Nomor 47 Tahun 20...</td>\n",
       "      <td>0.029526</td>\n",
       "      <td>4.343623e-06</td>\n",
       "      <td>POINT (96.84916 4.62143)</td>\n",
       "    </tr>\n",
       "    <tr>\n",
       "      <th>680</th>\n",
       "      <td>Perdagangan dan Jasa Skala BWP</td>\n",
       "      <td>Zona Perdagangan dan Jasa</td>\n",
       "      <td>K</td>\n",
       "      <td>Perdagangan dan Jasa Skala BWP</td>\n",
       "      <td>K-2</td>\n",
       "      <td>Zona Budi Daya</td>\n",
       "      <td>I</td>\n",
       "      <td>A</td>\n",
       "      <td>2</td>\n",
       "      <td>Tidak Ada</td>\n",
       "      <td>...</td>\n",
       "      <td>Tidak Ada</td>\n",
       "      <td>Tidak Ada</td>\n",
       "      <td>http://gistaru.atrbpn.go.id/repository/Pages/V...</td>\n",
       "      <td>Tidak Ada</td>\n",
       "      <td>http://gistaru.atrbpn.go.id/repository/Pages/V...</td>\n",
       "      <td>http://gistaru.atrbpn.go.id/repository/Pages/V...</td>\n",
       "      <td>Peraturan Bupati Aceh Tengah Nomor 47 Tahun 20...</td>\n",
       "      <td>0.029526</td>\n",
       "      <td>4.343623e-06</td>\n",
       "      <td>POINT (96.8492 4.62171)</td>\n",
       "    </tr>\n",
       "    <tr>\n",
       "      <th>681</th>\n",
       "      <td>Perdagangan dan Jasa Skala BWP</td>\n",
       "      <td>Zona Perdagangan dan Jasa</td>\n",
       "      <td>K</td>\n",
       "      <td>Perdagangan dan Jasa Skala BWP</td>\n",
       "      <td>K-2</td>\n",
       "      <td>Zona Budi Daya</td>\n",
       "      <td>I</td>\n",
       "      <td>A</td>\n",
       "      <td>2</td>\n",
       "      <td>Tidak Ada</td>\n",
       "      <td>...</td>\n",
       "      <td>Tidak Ada</td>\n",
       "      <td>Tidak Ada</td>\n",
       "      <td>http://gistaru.atrbpn.go.id/repository/Pages/V...</td>\n",
       "      <td>Tidak Ada</td>\n",
       "      <td>http://gistaru.atrbpn.go.id/repository/Pages/V...</td>\n",
       "      <td>http://gistaru.atrbpn.go.id/repository/Pages/V...</td>\n",
       "      <td>Peraturan Bupati Aceh Tengah Nomor 47 Tahun 20...</td>\n",
       "      <td>0.003071</td>\n",
       "      <td>4.918930e-07</td>\n",
       "      <td>POINT (96.84897 4.62313)</td>\n",
       "    </tr>\n",
       "  </tbody>\n",
       "</table>\n",
       "<p>9 rows × 38 columns</p>\n",
       "</div>"
      ],
      "text/plain": [
       "                                  NAMOBJ                     NAMZON KODZON  \\\n",
       "OBJECTID                                                                     \n",
       "680       Perdagangan dan Jasa Skala BWP  Zona Perdagangan dan Jasa      K   \n",
       "680       Perdagangan dan Jasa Skala BWP  Zona Perdagangan dan Jasa      K   \n",
       "680       Perdagangan dan Jasa Skala BWP  Zona Perdagangan dan Jasa      K   \n",
       "680       Perdagangan dan Jasa Skala BWP  Zona Perdagangan dan Jasa      K   \n",
       "680       Perdagangan dan Jasa Skala BWP  Zona Perdagangan dan Jasa      K   \n",
       "680       Perdagangan dan Jasa Skala BWP  Zona Perdagangan dan Jasa      K   \n",
       "680       Perdagangan dan Jasa Skala BWP  Zona Perdagangan dan Jasa      K   \n",
       "680       Perdagangan dan Jasa Skala BWP  Zona Perdagangan dan Jasa      K   \n",
       "681       Perdagangan dan Jasa Skala BWP  Zona Perdagangan dan Jasa      K   \n",
       "\n",
       "                                  NAMSZN KODSZN          JNSRPR KODEWP KODSWP  \\\n",
       "OBJECTID                                                                        \n",
       "680       Perdagangan dan Jasa Skala BWP    K-2  Zona Budi Daya      I      A   \n",
       "680       Perdagangan dan Jasa Skala BWP    K-2  Zona Budi Daya      I      A   \n",
       "680       Perdagangan dan Jasa Skala BWP    K-2  Zona Budi Daya      I      A   \n",
       "680       Perdagangan dan Jasa Skala BWP    K-2  Zona Budi Daya      I      A   \n",
       "680       Perdagangan dan Jasa Skala BWP    K-2  Zona Budi Daya      I      A   \n",
       "680       Perdagangan dan Jasa Skala BWP    K-2  Zona Budi Daya      I      A   \n",
       "680       Perdagangan dan Jasa Skala BWP    K-2  Zona Budi Daya      I      A   \n",
       "680       Perdagangan dan Jasa Skala BWP    K-2  Zona Budi Daya      I      A   \n",
       "681       Perdagangan dan Jasa Skala BWP    K-2  Zona Budi Daya      I      A   \n",
       "\n",
       "         KODBLK     KODSBL  ...     TPZ_00     REMARK  \\\n",
       "OBJECTID                    ...                         \n",
       "680           2  Tidak Ada  ...  Tidak Ada  Tidak Ada   \n",
       "680           2  Tidak Ada  ...  Tidak Ada  Tidak Ada   \n",
       "680           2  Tidak Ada  ...  Tidak Ada  Tidak Ada   \n",
       "680           2  Tidak Ada  ...  Tidak Ada  Tidak Ada   \n",
       "680           2  Tidak Ada  ...  Tidak Ada  Tidak Ada   \n",
       "680           2  Tidak Ada  ...  Tidak Ada  Tidak Ada   \n",
       "680           2  Tidak Ada  ...  Tidak Ada  Tidak Ada   \n",
       "680           2  Tidak Ada  ...  Tidak Ada  Tidak Ada   \n",
       "681           2  Tidak Ada  ...  Tidak Ada  Tidak Ada   \n",
       "\n",
       "                                                         PP         BA  \\\n",
       "OBJECTID                                                                 \n",
       "680       http://gistaru.atrbpn.go.id/repository/Pages/V...  Tidak Ada   \n",
       "680       http://gistaru.atrbpn.go.id/repository/Pages/V...  Tidak Ada   \n",
       "680       http://gistaru.atrbpn.go.id/repository/Pages/V...  Tidak Ada   \n",
       "680       http://gistaru.atrbpn.go.id/repository/Pages/V...  Tidak Ada   \n",
       "680       http://gistaru.atrbpn.go.id/repository/Pages/V...  Tidak Ada   \n",
       "680       http://gistaru.atrbpn.go.id/repository/Pages/V...  Tidak Ada   \n",
       "680       http://gistaru.atrbpn.go.id/repository/Pages/V...  Tidak Ada   \n",
       "680       http://gistaru.atrbpn.go.id/repository/Pages/V...  Tidak Ada   \n",
       "681       http://gistaru.atrbpn.go.id/repository/Pages/V...  Tidak Ada   \n",
       "\n",
       "                                                         CT  \\\n",
       "OBJECTID                                                      \n",
       "680       http://gistaru.atrbpn.go.id/repository/Pages/V...   \n",
       "680       http://gistaru.atrbpn.go.id/repository/Pages/V...   \n",
       "680       http://gistaru.atrbpn.go.id/repository/Pages/V...   \n",
       "680       http://gistaru.atrbpn.go.id/repository/Pages/V...   \n",
       "680       http://gistaru.atrbpn.go.id/repository/Pages/V...   \n",
       "680       http://gistaru.atrbpn.go.id/repository/Pages/V...   \n",
       "680       http://gistaru.atrbpn.go.id/repository/Pages/V...   \n",
       "680       http://gistaru.atrbpn.go.id/repository/Pages/V...   \n",
       "681       http://gistaru.atrbpn.go.id/repository/Pages/V...   \n",
       "\n",
       "                                                         BT  \\\n",
       "OBJECTID                                                      \n",
       "680       http://gistaru.atrbpn.go.id/repository/Pages/V...   \n",
       "680       http://gistaru.atrbpn.go.id/repository/Pages/V...   \n",
       "680       http://gistaru.atrbpn.go.id/repository/Pages/V...   \n",
       "680       http://gistaru.atrbpn.go.id/repository/Pages/V...   \n",
       "680       http://gistaru.atrbpn.go.id/repository/Pages/V...   \n",
       "680       http://gistaru.atrbpn.go.id/repository/Pages/V...   \n",
       "680       http://gistaru.atrbpn.go.id/repository/Pages/V...   \n",
       "680       http://gistaru.atrbpn.go.id/repository/Pages/V...   \n",
       "681       http://gistaru.atrbpn.go.id/repository/Pages/V...   \n",
       "\n",
       "                                                     NOTHPR SHAPE_Length  \\\n",
       "OBJECTID                                                                   \n",
       "680       Peraturan Bupati Aceh Tengah Nomor 47 Tahun 20...     0.029526   \n",
       "680       Peraturan Bupati Aceh Tengah Nomor 47 Tahun 20...     0.029526   \n",
       "680       Peraturan Bupati Aceh Tengah Nomor 47 Tahun 20...     0.029526   \n",
       "680       Peraturan Bupati Aceh Tengah Nomor 47 Tahun 20...     0.029526   \n",
       "680       Peraturan Bupati Aceh Tengah Nomor 47 Tahun 20...     0.029526   \n",
       "680       Peraturan Bupati Aceh Tengah Nomor 47 Tahun 20...     0.029526   \n",
       "680       Peraturan Bupati Aceh Tengah Nomor 47 Tahun 20...     0.029526   \n",
       "680       Peraturan Bupati Aceh Tengah Nomor 47 Tahun 20...     0.029526   \n",
       "681       Peraturan Bupati Aceh Tengah Nomor 47 Tahun 20...     0.003071   \n",
       "\n",
       "            SHAPE_Area                  geometry  \n",
       "OBJECTID                                          \n",
       "680       4.343623e-06   POINT (96.84828 4.6215)  \n",
       "680       4.343623e-06   POINT (96.8485 4.62027)  \n",
       "680       4.343623e-06   POINT (96.84878 4.6202)  \n",
       "680       4.343623e-06  POINT (96.84889 4.62249)  \n",
       "680       4.343623e-06   POINT (96.84891 4.6212)  \n",
       "680       4.343623e-06    POINT (96.849 4.62032)  \n",
       "680       4.343623e-06  POINT (96.84916 4.62143)  \n",
       "680       4.343623e-06   POINT (96.8492 4.62171)  \n",
       "681       4.918930e-07  POINT (96.84897 4.62313)  \n",
       "\n",
       "[9 rows x 38 columns]"
      ]
     },
     "execution_count": 90,
     "metadata": {},
     "output_type": "execute_result"
    }
   ],
   "source": [
    "gdf_multipoint.iloc[102:104].explode(\"geometry\")"
   ]
  },
  {
   "cell_type": "code",
   "execution_count": 91,
   "metadata": {},
   "outputs": [
    {
     "name": "stderr",
     "output_type": "stream",
     "text": [
      "/var/folders/x2/fsb9vgcn65d5s9nbfh7b7p2r0000gn/T/ipykernel_84785/1777709344.py:1: UserWarning: Geometry is in a geographic CRS. Results from 'centroid' are likely incorrect. Use 'GeoSeries.to_crs()' to re-project geometries to a projected CRS before this operation.\n",
      "\n",
      "  gdf_multipoint.iloc[102:104].explode(\"geometry\").centroid.buffer(0.0001).plot()\n",
      "/var/folders/x2/fsb9vgcn65d5s9nbfh7b7p2r0000gn/T/ipykernel_84785/1777709344.py:1: UserWarning: Geometry is in a geographic CRS. Results from 'buffer' are likely incorrect. Use 'GeoSeries.to_crs()' to re-project geometries to a projected CRS before this operation.\n",
      "\n",
      "  gdf_multipoint.iloc[102:104].explode(\"geometry\").centroid.buffer(0.0001).plot()\n"
     ]
    },
    {
     "data": {
      "text/plain": [
       "<Axes: >"
      ]
     },
     "execution_count": 91,
     "metadata": {},
     "output_type": "execute_result"
    },
    {
     "data": {
      "image/png": "[encoded data removed]",
      "text/plain": [
       "<Figure size 640x480 with 1 Axes>"
      ]
     },
     "metadata": {},
     "output_type": "display_data"
    }
   ],
   "source": [
    "gdf_multipoint.iloc[102:104].explode(\"geometry\").centroid.buffer(0.0001).plot()"
   ]
  },
  {
   "cell_type": "markdown",
   "metadata": {},
   "source": [
    "### Partitioned Geometry"
   ]
  },
  {
   "cell_type": "code",
   "execution_count": 134,
   "metadata": {},
   "outputs": [
    {
     "data": {
      "text/plain": [
       "102    MULTIPOLYGON (((96.84926 4.62284, 96.84847 4.6...\n",
       "103    POLYGON ((96.84926 4.62284, 96.84927 4.62287, ...\n",
       "Name: geometry, dtype: geometry"
      ]
     },
     "execution_count": 134,
     "metadata": {},
     "output_type": "execute_result"
    }
   ],
   "source": [
    "parts = gdf.iloc[102:104].geometry\n",
    "\n",
    "parts"
   ]
  },
  {
   "cell_type": "code",
   "execution_count": 135,
   "metadata": {},
   "outputs": [
    {
     "data": {
      "text/plain": [
       "<Axes: >"
      ]
     },
     "execution_count": 135,
     "metadata": {},
     "output_type": "execute_result"
    },
    {
     "data": {
      "image/png": "[encoded data removed]",
      "text/plain": [
       "<Figure size 640x480 with 1 Axes>"
      ]
     },
     "metadata": {},
     "output_type": "display_data"
    }
   ],
   "source": [
    "parts.plot()"
   ]
  },
  {
   "cell_type": "code",
   "execution_count": 136,
   "metadata": {},
   "outputs": [
    {
     "data": {
      "text/plain": [
       "102    [POINT (96.84926212200008 4.622843517000035), ...\n",
       "103    [POINT (96.84926212200008 4.622843517000035), ...\n",
       "Name: geometry, dtype: object"
      ]
     },
     "execution_count": 136,
     "metadata": {},
     "output_type": "execute_result"
    }
   ],
   "source": [
    "def extract_vertices(geom):\n",
    "  if isinstance(geom, Polygon):\n",
    "    data = []\n",
    "    for coord in geom.exterior.coords:\n",
    "      data.append(Point(coord))\n",
    "    return data\n",
    "  elif isinstance(geom, MultiPolygon):\n",
    "    data = []\n",
    "    for poly in geom.geoms:\n",
    "      for coord in poly.exterior.coords:\n",
    "        data.append(Point(coord))\n",
    "    return data\n",
    "  else:\n",
    "    return None\n",
    "\n",
    "parts = parts.apply(extract_vertices)\n",
    "\n",
    "parts"
   ]
  },
  {
   "cell_type": "code",
   "execution_count": 137,
   "metadata": {},
   "outputs": [
    {
     "data": {
      "text/plain": [
       "102    POINT (96.84926212200008 4.622843517000035)\n",
       "102    POINT (96.84847047000005 4.622947206000049)\n",
       "102    POINT (96.84844149100007 4.622868328000038)\n",
       "102    POINT (96.84839384200006 4.622859214000073)\n",
       "102    POINT (96.84829553000009 4.622852935000026)\n",
       "                          ...                     \n",
       "103    POINT (96.84845230900004 4.623233132000053)\n",
       "103    POINT (96.84849443000007 4.623098713000047)\n",
       "103    POINT (96.84848877800005 4.622997038000051)\n",
       "103    POINT (96.84847047000005 4.622947206000049)\n",
       "103    POINT (96.84926212200008 4.622843517000035)\n",
       "Name: geometry, Length: 456, dtype: object"
      ]
     },
     "execution_count": 137,
     "metadata": {},
     "output_type": "execute_result"
    }
   ],
   "source": [
    "parts = parts.explode()\n",
    "\n",
    "parts"
   ]
  },
  {
   "cell_type": "code",
   "execution_count": 138,
   "metadata": {},
   "outputs": [
    {
     "data": {
      "text/plain": [
       "456"
      ]
     },
     "execution_count": 138,
     "metadata": {},
     "output_type": "execute_result"
    }
   ],
   "source": [
    "len(parts)"
   ]
  },
  {
   "cell_type": "code",
   "execution_count": 139,
   "metadata": {},
   "outputs": [
    {
     "ename": "TypeError",
     "evalue": "no numeric data to plot",
     "output_type": "error",
     "traceback": [
      "\u001b[0;31m---------------------------------------------------------------------------\u001b[0m",
      "\u001b[0;31mTypeError\u001b[0m                                 Traceback (most recent call last)",
      "Cell \u001b[0;32mIn[139], line 1\u001b[0m\n\u001b[0;32m----> 1\u001b[0m \u001b[43mparts\u001b[49m\u001b[38;5;241;43m.\u001b[39;49m\u001b[43mplot\u001b[49m\u001b[43m(\u001b[49m\u001b[43m)\u001b[49m\n",
      "File \u001b[0;32m~/Documents/Faiz/GitHub/Personal Project/geocourse-data-engineering/venv/lib/python3.13/site-packages/pandas/plotting/_core.py:1030\u001b[0m, in \u001b[0;36mPlotAccessor.__call__\u001b[0;34m(self, *args, **kwargs)\u001b[0m\n\u001b[1;32m   1027\u001b[0m             label_name \u001b[38;5;241m=\u001b[39m label_kw \u001b[38;5;129;01mor\u001b[39;00m data\u001b[38;5;241m.\u001b[39mcolumns\n\u001b[1;32m   1028\u001b[0m             data\u001b[38;5;241m.\u001b[39mcolumns \u001b[38;5;241m=\u001b[39m label_name\n\u001b[0;32m-> 1030\u001b[0m \u001b[38;5;28;01mreturn\u001b[39;00m \u001b[43mplot_backend\u001b[49m\u001b[38;5;241;43m.\u001b[39;49m\u001b[43mplot\u001b[49m\u001b[43m(\u001b[49m\u001b[43mdata\u001b[49m\u001b[43m,\u001b[49m\u001b[43m \u001b[49m\u001b[43mkind\u001b[49m\u001b[38;5;241;43m=\u001b[39;49m\u001b[43mkind\u001b[49m\u001b[43m,\u001b[49m\u001b[43m \u001b[49m\u001b[38;5;241;43m*\u001b[39;49m\u001b[38;5;241;43m*\u001b[39;49m\u001b[43mkwargs\u001b[49m\u001b[43m)\u001b[49m\n",
      "File \u001b[0;32m~/Documents/Faiz/GitHub/Personal Project/geocourse-data-engineering/venv/lib/python3.13/site-packages/pandas/plotting/_matplotlib/__init__.py:71\u001b[0m, in \u001b[0;36mplot\u001b[0;34m(data, kind, **kwargs)\u001b[0m\n\u001b[1;32m     69\u001b[0m         kwargs[\u001b[38;5;124m\"\u001b[39m\u001b[38;5;124max\u001b[39m\u001b[38;5;124m\"\u001b[39m] \u001b[38;5;241m=\u001b[39m \u001b[38;5;28mgetattr\u001b[39m(ax, \u001b[38;5;124m\"\u001b[39m\u001b[38;5;124mleft_ax\u001b[39m\u001b[38;5;124m\"\u001b[39m, ax)\n\u001b[1;32m     70\u001b[0m plot_obj \u001b[38;5;241m=\u001b[39m PLOT_CLASSES[kind](data, \u001b[38;5;241m*\u001b[39m\u001b[38;5;241m*\u001b[39mkwargs)\n\u001b[0;32m---> 71\u001b[0m \u001b[43mplot_obj\u001b[49m\u001b[38;5;241;43m.\u001b[39;49m\u001b[43mgenerate\u001b[49m\u001b[43m(\u001b[49m\u001b[43m)\u001b[49m\n\u001b[1;32m     72\u001b[0m plot_obj\u001b[38;5;241m.\u001b[39mdraw()\n\u001b[1;32m     73\u001b[0m \u001b[38;5;28;01mreturn\u001b[39;00m plot_obj\u001b[38;5;241m.\u001b[39mresult\n",
      "File \u001b[0;32m~/Documents/Faiz/GitHub/Personal Project/geocourse-data-engineering/venv/lib/python3.13/site-packages/pandas/plotting/_matplotlib/core.py:499\u001b[0m, in \u001b[0;36mMPLPlot.generate\u001b[0;34m(self)\u001b[0m\n\u001b[1;32m    497\u001b[0m \u001b[38;5;129m@final\u001b[39m\n\u001b[1;32m    498\u001b[0m \u001b[38;5;28;01mdef\u001b[39;00m\u001b[38;5;250m \u001b[39m\u001b[38;5;21mgenerate\u001b[39m(\u001b[38;5;28mself\u001b[39m) \u001b[38;5;241m-\u001b[39m\u001b[38;5;241m>\u001b[39m \u001b[38;5;28;01mNone\u001b[39;00m:\n\u001b[0;32m--> 499\u001b[0m     \u001b[38;5;28;43mself\u001b[39;49m\u001b[38;5;241;43m.\u001b[39;49m\u001b[43m_compute_plot_data\u001b[49m\u001b[43m(\u001b[49m\u001b[43m)\u001b[49m\n\u001b[1;32m    500\u001b[0m     fig \u001b[38;5;241m=\u001b[39m \u001b[38;5;28mself\u001b[39m\u001b[38;5;241m.\u001b[39mfig\n\u001b[1;32m    501\u001b[0m     \u001b[38;5;28mself\u001b[39m\u001b[38;5;241m.\u001b[39m_make_plot(fig)\n",
      "File \u001b[0;32m~/Documents/Faiz/GitHub/Personal Project/geocourse-data-engineering/venv/lib/python3.13/site-packages/pandas/plotting/_matplotlib/core.py:698\u001b[0m, in \u001b[0;36mMPLPlot._compute_plot_data\u001b[0;34m(self)\u001b[0m\n\u001b[1;32m    696\u001b[0m \u001b[38;5;66;03m# no non-numeric frames or series allowed\u001b[39;00m\n\u001b[1;32m    697\u001b[0m \u001b[38;5;28;01mif\u001b[39;00m is_empty:\n\u001b[0;32m--> 698\u001b[0m     \u001b[38;5;28;01mraise\u001b[39;00m \u001b[38;5;167;01mTypeError\u001b[39;00m(\u001b[38;5;124m\"\u001b[39m\u001b[38;5;124mno numeric data to plot\u001b[39m\u001b[38;5;124m\"\u001b[39m)\n\u001b[1;32m    700\u001b[0m \u001b[38;5;28mself\u001b[39m\u001b[38;5;241m.\u001b[39mdata \u001b[38;5;241m=\u001b[39m numeric_data\u001b[38;5;241m.\u001b[39mapply(\u001b[38;5;28mtype\u001b[39m(\u001b[38;5;28mself\u001b[39m)\u001b[38;5;241m.\u001b[39m_convert_to_ndarray)\n",
      "\u001b[0;31mTypeError\u001b[0m: no numeric data to plot"
     ]
    }
   ],
   "source": [
    "parts.plot()"
   ]
  },
  {
   "cell_type": "code",
   "execution_count": 153,
   "metadata": {},
   "outputs": [],
   "source": [
    "gdf_parts = gpd.GeoDataFrame(geometry=parts, crs=4326)"
   ]
  },
  {
   "cell_type": "code",
   "execution_count": 154,
   "metadata": {},
   "outputs": [
    {
     "data": {
      "text/html": [
       "<div>\n",
       "<style scoped>\n",
       "    .dataframe tbody tr th:only-of-type {\n",
       "        vertical-align: middle;\n",
       "    }\n",
       "\n",
       "    .dataframe tbody tr th {\n",
       "        vertical-align: top;\n",
       "    }\n",
       "\n",
       "    .dataframe thead th {\n",
       "        text-align: right;\n",
       "    }\n",
       "</style>\n",
       "<table border=\"1\" class=\"dataframe\">\n",
       "  <thead>\n",
       "    <tr style=\"text-align: right;\">\n",
       "      <th></th>\n",
       "      <th>geometry</th>\n",
       "    </tr>\n",
       "  </thead>\n",
       "  <tbody>\n",
       "    <tr>\n",
       "      <th>102</th>\n",
       "      <td>POINT (96.84926 4.62284)</td>\n",
       "    </tr>\n",
       "    <tr>\n",
       "      <th>102</th>\n",
       "      <td>POINT (96.84847 4.62295)</td>\n",
       "    </tr>\n",
       "    <tr>\n",
       "      <th>102</th>\n",
       "      <td>POINT (96.84844 4.62287)</td>\n",
       "    </tr>\n",
       "    <tr>\n",
       "      <th>102</th>\n",
       "      <td>POINT (96.84839 4.62286)</td>\n",
       "    </tr>\n",
       "    <tr>\n",
       "      <th>102</th>\n",
       "      <td>POINT (96.8483 4.62285)</td>\n",
       "    </tr>\n",
       "    <tr>\n",
       "      <th>...</th>\n",
       "      <td>...</td>\n",
       "    </tr>\n",
       "    <tr>\n",
       "      <th>103</th>\n",
       "      <td>POINT (96.84845 4.62323)</td>\n",
       "    </tr>\n",
       "    <tr>\n",
       "      <th>103</th>\n",
       "      <td>POINT (96.84849 4.6231)</td>\n",
       "    </tr>\n",
       "    <tr>\n",
       "      <th>103</th>\n",
       "      <td>POINT (96.84849 4.623)</td>\n",
       "    </tr>\n",
       "    <tr>\n",
       "      <th>103</th>\n",
       "      <td>POINT (96.84847 4.62295)</td>\n",
       "    </tr>\n",
       "    <tr>\n",
       "      <th>103</th>\n",
       "      <td>POINT (96.84926 4.62284)</td>\n",
       "    </tr>\n",
       "  </tbody>\n",
       "</table>\n",
       "<p>456 rows × 1 columns</p>\n",
       "</div>"
      ],
      "text/plain": [
       "                     geometry\n",
       "102  POINT (96.84926 4.62284)\n",
       "102  POINT (96.84847 4.62295)\n",
       "102  POINT (96.84844 4.62287)\n",
       "102  POINT (96.84839 4.62286)\n",
       "102   POINT (96.8483 4.62285)\n",
       "..                        ...\n",
       "103  POINT (96.84845 4.62323)\n",
       "103   POINT (96.84849 4.6231)\n",
       "103    POINT (96.84849 4.623)\n",
       "103  POINT (96.84847 4.62295)\n",
       "103  POINT (96.84926 4.62284)\n",
       "\n",
       "[456 rows x 1 columns]"
      ]
     },
     "execution_count": 154,
     "metadata": {},
     "output_type": "execute_result"
    }
   ],
   "source": [
    "gdf_parts"
   ]
  },
  {
   "cell_type": "code",
   "execution_count": 155,
   "metadata": {},
   "outputs": [
    {
     "data": {
      "text/plain": [
       "<Axes: >"
      ]
     },
     "execution_count": 155,
     "metadata": {},
     "output_type": "execute_result"
    },
    {
     "data": {
      "image/png": "[encoded data removed]",
      "text/plain": [
       "<Figure size 640x480 with 1 Axes>"
      ]
     },
     "metadata": {},
     "output_type": "display_data"
    }
   ],
   "source": [
    "gdf_parts.plot()"
   ]
  },
  {
   "cell_type": "markdown",
   "metadata": {},
   "source": [
    "## Export"
   ]
  },
  {
   "cell_type": "code",
   "execution_count": 148,
   "metadata": {},
   "outputs": [],
   "source": [
    "gdf_poly.iloc[102:104].to_file(\"../output.gpkg\", layer=\"rdtr_takengon\")"
   ]
  },
  {
   "cell_type": "code",
   "execution_count": 156,
   "metadata": {},
   "outputs": [],
   "source": [
    "gdf_parts.to_file(\"../output.gpkg\", layer=\"rdtr_takengon_vertices\")"
   ]
  },
  {
   "cell_type": "code",
   "execution_count": null,
   "metadata": {},
   "outputs": [],
   "source": []
  }
 ],
 "metadata": {
  "kernelspec": {
   "display_name": "venv",
   "language": "python",
   "name": "python3"
  },
  "language_info": {
   "codemirror_mode": {
    "name": "ipython",
    "version": 3
   },
   "file_extension": ".py",
   "mimetype": "text/x-python",
   "name": "python",
   "nbconvert_exporter": "python",
   "pygments_lexer": "ipython3",
   "version": "3.13.2"
  }
 },
 "nbformat": 4,
 "nbformat_minor": 2
}
