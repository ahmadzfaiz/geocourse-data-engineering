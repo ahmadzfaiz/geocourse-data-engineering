{
 "cells": [
  {
   "cell_type": "code",
   "execution_count": 66,
   "metadata": {},
   "outputs": [],
   "source": [
    "import re\n",
    "import pandas as pd\n",
    "import geopandas as gpd\n",
    "from shapely import Point, Polygon, make_valid\n",
    "from shapely.ops import transform\n",
    "from pyproj import Transformer"
   ]
  },
  {
   "cell_type": "markdown",
   "metadata": {},
   "source": [
    "## Converting DMS coordinates into Shapely geometry"
   ]
  },
  {
   "cell_type": "code",
   "execution_count": 2,
   "metadata": {},
   "outputs": [],
   "source": [
    "file_path = \"../../extract/output/web_wikipedia_city.csv\""
   ]
  },
  {
   "cell_type": "code",
   "execution_count": 17,
   "metadata": {},
   "outputs": [],
   "source": [
    "df = pd.read_csv(file_path)"
   ]
  },
  {
   "cell_type": "code",
   "execution_count": 14,
   "metadata": {},
   "outputs": [
    {
     "data": {
      "text/plain": [
       "98.6738888888889"
      ]
     },
     "execution_count": 14,
     "metadata": {},
     "output_type": "execute_result"
    }
   ],
   "source": [
    "def dms_to_dd(dms_str):\n",
    "  match = re.match(r\"(\\d+)°(\\d+)′([\\d.]+)″?([NSEW])\", dms_str.strip())\n",
    "  degrees, minutes, seconds, direction = match.groups()\n",
    "  dd = float(degrees) + float(minutes) / 60 + float(seconds) / 3600\n",
    "\n",
    "  if direction in \"SW\":\n",
    "    dd = -dd\n",
    "\n",
    "  return dd\n",
    "\n",
    "dms_to_dd(\"98°40′26″E\")"
   ]
  },
  {
   "cell_type": "code",
   "execution_count": 18,
   "metadata": {},
   "outputs": [],
   "source": [
    "def clean_coordinate(row):\n",
    "  lon = dms_to_dd(row[\"longitude\"])\n",
    "  lat = dms_to_dd(row[\"latitude\"])\n",
    "  return Point(lon, lat)\n",
    "\n",
    "df[\"geometry\"] = df.apply(clean_coordinate, axis=1)"
   ]
  },
  {
   "cell_type": "code",
   "execution_count": 19,
   "metadata": {},
   "outputs": [
    {
     "data": {
      "text/html": [
       "<div>\n",
       "<style scoped>\n",
       "    .dataframe tbody tr th:only-of-type {\n",
       "        vertical-align: middle;\n",
       "    }\n",
       "\n",
       "    .dataframe tbody tr th {\n",
       "        vertical-align: top;\n",
       "    }\n",
       "\n",
       "    .dataframe thead th {\n",
       "        text-align: right;\n",
       "    }\n",
       "</style>\n",
       "<table border=\"1\" class=\"dataframe\">\n",
       "  <thead>\n",
       "    <tr style=\"text-align: right;\">\n",
       "      <th></th>\n",
       "      <th>id</th>\n",
       "      <th>name</th>\n",
       "      <th>full_name</th>\n",
       "      <th>category</th>\n",
       "      <th>longitude</th>\n",
       "      <th>latitude</th>\n",
       "      <th>url</th>\n",
       "      <th>geometry</th>\n",
       "    </tr>\n",
       "  </thead>\n",
       "  <tbody>\n",
       "    <tr>\n",
       "      <th>0</th>\n",
       "      <td>2299e298-ce37-4f4f-9882-13a18825582f</td>\n",
       "      <td>Jakarta</td>\n",
       "      <td>Daerah Khusus Ibukota Jakarta</td>\n",
       "      <td>Special capital region</td>\n",
       "      <td>106°49′39″E</td>\n",
       "      <td>6°10′30″S</td>\n",
       "      <td>https://en.wikipedia.org/wiki/Jakarta</td>\n",
       "      <td>POINT (106.8275 -6.175000000000001)</td>\n",
       "    </tr>\n",
       "    <tr>\n",
       "      <th>1</th>\n",
       "      <td>87a60f91-a525-4aeb-a336-0089d58b46c2</td>\n",
       "      <td>Medan</td>\n",
       "      <td>Kota Medan</td>\n",
       "      <td>City</td>\n",
       "      <td>98°40′26″E</td>\n",
       "      <td>03°35′22″N</td>\n",
       "      <td>https://en.wikipedia.org/wiki/Medan</td>\n",
       "      <td>POINT (98.6738888888889 3.5894444444444447)</td>\n",
       "    </tr>\n",
       "    <tr>\n",
       "      <th>2</th>\n",
       "      <td>fab8a7e7-037e-4957-a7d6-e0b6986578d2</td>\n",
       "      <td>Makassar</td>\n",
       "      <td>Kota Makassar</td>\n",
       "      <td>City</td>\n",
       "      <td>119°24′49″E</td>\n",
       "      <td>5°7′59″S</td>\n",
       "      <td>https://en.wikipedia.org/wiki/Makassar</td>\n",
       "      <td>POINT (119.41361111111112 -5.133055555555555)</td>\n",
       "    </tr>\n",
       "    <tr>\n",
       "      <th>3</th>\n",
       "      <td>5aebf54a-bd66-4d67-ae80-0caa18b32610</td>\n",
       "      <td>Denpasar</td>\n",
       "      <td>Kota Denpasar</td>\n",
       "      <td>City</td>\n",
       "      <td>115°14′2″E</td>\n",
       "      <td>8°40′18″S</td>\n",
       "      <td>https://en.wikipedia.org/wiki/Denpasar</td>\n",
       "      <td>POINT (115.23388888888888 -8.671666666666667)</td>\n",
       "    </tr>\n",
       "    <tr>\n",
       "      <th>4</th>\n",
       "      <td>297d638a-e655-4b54-b18b-4d9179a14cd0</td>\n",
       "      <td>Ambon</td>\n",
       "      <td>Kota Ambon</td>\n",
       "      <td>City</td>\n",
       "      <td>128°10′42″E</td>\n",
       "      <td>3°41′48″S</td>\n",
       "      <td>https://en.wikipedia.org/wiki/Ambon,_Maluku</td>\n",
       "      <td>POINT (128.1783333333333 -3.6966666666666668)</td>\n",
       "    </tr>\n",
       "    <tr>\n",
       "      <th>5</th>\n",
       "      <td>c01becf1-514b-4d62-af3b-a47da7cae0da</td>\n",
       "      <td>Jayapura</td>\n",
       "      <td>Kota Jayapura</td>\n",
       "      <td>City</td>\n",
       "      <td>140°43′1.2″E</td>\n",
       "      <td>2°31′58.8″S</td>\n",
       "      <td>https://en.wikipedia.org/wiki/Jayapura</td>\n",
       "      <td>POINT (140.717 -2.533)</td>\n",
       "    </tr>\n",
       "  </tbody>\n",
       "</table>\n",
       "</div>"
      ],
      "text/plain": [
       "                                     id      name  \\\n",
       "0  2299e298-ce37-4f4f-9882-13a18825582f   Jakarta   \n",
       "1  87a60f91-a525-4aeb-a336-0089d58b46c2     Medan   \n",
       "2  fab8a7e7-037e-4957-a7d6-e0b6986578d2  Makassar   \n",
       "3  5aebf54a-bd66-4d67-ae80-0caa18b32610  Denpasar   \n",
       "4  297d638a-e655-4b54-b18b-4d9179a14cd0     Ambon   \n",
       "5  c01becf1-514b-4d62-af3b-a47da7cae0da  Jayapura   \n",
       "\n",
       "                       full_name                category     longitude  \\\n",
       "0  Daerah Khusus Ibukota Jakarta  Special capital region   106°49′39″E   \n",
       "1                     Kota Medan                    City    98°40′26″E   \n",
       "2                  Kota Makassar                    City   119°24′49″E   \n",
       "3                  Kota Denpasar                    City    115°14′2″E   \n",
       "4                     Kota Ambon                    City   128°10′42″E   \n",
       "5                  Kota Jayapura                    City  140°43′1.2″E   \n",
       "\n",
       "      latitude                                          url  \\\n",
       "0    6°10′30″S        https://en.wikipedia.org/wiki/Jakarta   \n",
       "1   03°35′22″N          https://en.wikipedia.org/wiki/Medan   \n",
       "2     5°7′59″S       https://en.wikipedia.org/wiki/Makassar   \n",
       "3    8°40′18″S       https://en.wikipedia.org/wiki/Denpasar   \n",
       "4    3°41′48″S  https://en.wikipedia.org/wiki/Ambon,_Maluku   \n",
       "5  2°31′58.8″S       https://en.wikipedia.org/wiki/Jayapura   \n",
       "\n",
       "                                        geometry  \n",
       "0            POINT (106.8275 -6.175000000000001)  \n",
       "1    POINT (98.6738888888889 3.5894444444444447)  \n",
       "2  POINT (119.41361111111112 -5.133055555555555)  \n",
       "3  POINT (115.23388888888888 -8.671666666666667)  \n",
       "4  POINT (128.1783333333333 -3.6966666666666668)  \n",
       "5                         POINT (140.717 -2.533)  "
      ]
     },
     "execution_count": 19,
     "metadata": {},
     "output_type": "execute_result"
    }
   ],
   "source": [
    "df"
   ]
  },
  {
   "cell_type": "code",
   "execution_count": 22,
   "metadata": {},
   "outputs": [
    {
     "data": {
      "text/html": [
       "<div>\n",
       "<style scoped>\n",
       "    .dataframe tbody tr th:only-of-type {\n",
       "        vertical-align: middle;\n",
       "    }\n",
       "\n",
       "    .dataframe tbody tr th {\n",
       "        vertical-align: top;\n",
       "    }\n",
       "\n",
       "    .dataframe thead th {\n",
       "        text-align: right;\n",
       "    }\n",
       "</style>\n",
       "<table border=\"1\" class=\"dataframe\">\n",
       "  <thead>\n",
       "    <tr style=\"text-align: right;\">\n",
       "      <th></th>\n",
       "      <th>id</th>\n",
       "      <th>name</th>\n",
       "      <th>full_name</th>\n",
       "      <th>category</th>\n",
       "      <th>longitude</th>\n",
       "      <th>latitude</th>\n",
       "      <th>url</th>\n",
       "      <th>geometry</th>\n",
       "    </tr>\n",
       "  </thead>\n",
       "  <tbody>\n",
       "    <tr>\n",
       "      <th>0</th>\n",
       "      <td>2299e298-ce37-4f4f-9882-13a18825582f</td>\n",
       "      <td>Jakarta</td>\n",
       "      <td>Daerah Khusus Ibukota Jakarta</td>\n",
       "      <td>Special capital region</td>\n",
       "      <td>106°49′39″E</td>\n",
       "      <td>6°10′30″S</td>\n",
       "      <td>https://en.wikipedia.org/wiki/Jakarta</td>\n",
       "      <td>POINT (106.8275 -6.175)</td>\n",
       "    </tr>\n",
       "    <tr>\n",
       "      <th>1</th>\n",
       "      <td>87a60f91-a525-4aeb-a336-0089d58b46c2</td>\n",
       "      <td>Medan</td>\n",
       "      <td>Kota Medan</td>\n",
       "      <td>City</td>\n",
       "      <td>98°40′26″E</td>\n",
       "      <td>03°35′22″N</td>\n",
       "      <td>https://en.wikipedia.org/wiki/Medan</td>\n",
       "      <td>POINT (98.67389 3.58944)</td>\n",
       "    </tr>\n",
       "    <tr>\n",
       "      <th>2</th>\n",
       "      <td>fab8a7e7-037e-4957-a7d6-e0b6986578d2</td>\n",
       "      <td>Makassar</td>\n",
       "      <td>Kota Makassar</td>\n",
       "      <td>City</td>\n",
       "      <td>119°24′49″E</td>\n",
       "      <td>5°7′59″S</td>\n",
       "      <td>https://en.wikipedia.org/wiki/Makassar</td>\n",
       "      <td>POINT (119.41361 -5.13306)</td>\n",
       "    </tr>\n",
       "    <tr>\n",
       "      <th>3</th>\n",
       "      <td>5aebf54a-bd66-4d67-ae80-0caa18b32610</td>\n",
       "      <td>Denpasar</td>\n",
       "      <td>Kota Denpasar</td>\n",
       "      <td>City</td>\n",
       "      <td>115°14′2″E</td>\n",
       "      <td>8°40′18″S</td>\n",
       "      <td>https://en.wikipedia.org/wiki/Denpasar</td>\n",
       "      <td>POINT (115.23389 -8.67167)</td>\n",
       "    </tr>\n",
       "    <tr>\n",
       "      <th>4</th>\n",
       "      <td>297d638a-e655-4b54-b18b-4d9179a14cd0</td>\n",
       "      <td>Ambon</td>\n",
       "      <td>Kota Ambon</td>\n",
       "      <td>City</td>\n",
       "      <td>128°10′42″E</td>\n",
       "      <td>3°41′48″S</td>\n",
       "      <td>https://en.wikipedia.org/wiki/Ambon,_Maluku</td>\n",
       "      <td>POINT (128.17833 -3.69667)</td>\n",
       "    </tr>\n",
       "    <tr>\n",
       "      <th>5</th>\n",
       "      <td>c01becf1-514b-4d62-af3b-a47da7cae0da</td>\n",
       "      <td>Jayapura</td>\n",
       "      <td>Kota Jayapura</td>\n",
       "      <td>City</td>\n",
       "      <td>140°43′1.2″E</td>\n",
       "      <td>2°31′58.8″S</td>\n",
       "      <td>https://en.wikipedia.org/wiki/Jayapura</td>\n",
       "      <td>POINT (140.717 -2.533)</td>\n",
       "    </tr>\n",
       "  </tbody>\n",
       "</table>\n",
       "</div>"
      ],
      "text/plain": [
       "                                     id      name  \\\n",
       "0  2299e298-ce37-4f4f-9882-13a18825582f   Jakarta   \n",
       "1  87a60f91-a525-4aeb-a336-0089d58b46c2     Medan   \n",
       "2  fab8a7e7-037e-4957-a7d6-e0b6986578d2  Makassar   \n",
       "3  5aebf54a-bd66-4d67-ae80-0caa18b32610  Denpasar   \n",
       "4  297d638a-e655-4b54-b18b-4d9179a14cd0     Ambon   \n",
       "5  c01becf1-514b-4d62-af3b-a47da7cae0da  Jayapura   \n",
       "\n",
       "                       full_name                category     longitude  \\\n",
       "0  Daerah Khusus Ibukota Jakarta  Special capital region   106°49′39″E   \n",
       "1                     Kota Medan                    City    98°40′26″E   \n",
       "2                  Kota Makassar                    City   119°24′49″E   \n",
       "3                  Kota Denpasar                    City    115°14′2″E   \n",
       "4                     Kota Ambon                    City   128°10′42″E   \n",
       "5                  Kota Jayapura                    City  140°43′1.2″E   \n",
       "\n",
       "      latitude                                          url  \\\n",
       "0    6°10′30″S        https://en.wikipedia.org/wiki/Jakarta   \n",
       "1   03°35′22″N          https://en.wikipedia.org/wiki/Medan   \n",
       "2     5°7′59″S       https://en.wikipedia.org/wiki/Makassar   \n",
       "3    8°40′18″S       https://en.wikipedia.org/wiki/Denpasar   \n",
       "4    3°41′48″S  https://en.wikipedia.org/wiki/Ambon,_Maluku   \n",
       "5  2°31′58.8″S       https://en.wikipedia.org/wiki/Jayapura   \n",
       "\n",
       "                     geometry  \n",
       "0     POINT (106.8275 -6.175)  \n",
       "1    POINT (98.67389 3.58944)  \n",
       "2  POINT (119.41361 -5.13306)  \n",
       "3  POINT (115.23389 -8.67167)  \n",
       "4  POINT (128.17833 -3.69667)  \n",
       "5      POINT (140.717 -2.533)  "
      ]
     },
     "execution_count": 22,
     "metadata": {},
     "output_type": "execute_result"
    }
   ],
   "source": [
    "gdf = gpd.GeoDataFrame(df, geometry=\"geometry\", crs=4326)\n",
    "\n",
    "gdf"
   ]
  },
  {
   "cell_type": "code",
   "execution_count": 23,
   "metadata": {},
   "outputs": [
    {
     "data": {
      "text/plain": [
       "<Axes: >"
      ]
     },
     "execution_count": 23,
     "metadata": {},
     "output_type": "execute_result"
    },
    {
     "data": {
      "image/png": "[encoded data removed]",
      "text/plain": [
       "<Figure size 640x480 with 1 Axes>"
      ]
     },
     "metadata": {},
     "output_type": "display_data"
    }
   ],
   "source": [
    "gdf.plot()"
   ]
  },
  {
   "cell_type": "code",
   "execution_count": 24,
   "metadata": {},
   "outputs": [],
   "source": [
    "gdf.to_file(\"../output.gpkg\", layer=\"indonesian_cities\")"
   ]
  },
  {
   "cell_type": "markdown",
   "metadata": {},
   "source": [
    "## Calculate distance"
   ]
  },
  {
   "cell_type": "code",
   "execution_count": 30,
   "metadata": {},
   "outputs": [
    {
     "name": "stderr",
     "output_type": "stream",
     "text": [
      "/var/folders/x2/fsb9vgcn65d5s9nbfh7b7p2r0000gn/T/ipykernel_95439/1264625262.py:1: UserWarning: Geometry is in a geographic CRS. Results from 'distance' are likely incorrect. Use 'GeoSeries.to_crs()' to re-project geometries to a projected CRS before this operation.\n",
      "\n",
      "  distance_matrix = gdf.geometry.apply(lambda geom: gdf.distance(geom))\n"
     ]
    },
    {
     "data": {
      "text/html": [
       "<div>\n",
       "<style scoped>\n",
       "    .dataframe tbody tr th:only-of-type {\n",
       "        vertical-align: middle;\n",
       "    }\n",
       "\n",
       "    .dataframe tbody tr th {\n",
       "        vertical-align: top;\n",
       "    }\n",
       "\n",
       "    .dataframe thead th {\n",
       "        text-align: right;\n",
       "    }\n",
       "</style>\n",
       "<table border=\"1\" class=\"dataframe\">\n",
       "  <thead>\n",
       "    <tr style=\"text-align: right;\">\n",
       "      <th></th>\n",
       "      <th>0</th>\n",
       "      <th>1</th>\n",
       "      <th>2</th>\n",
       "      <th>3</th>\n",
       "      <th>4</th>\n",
       "      <th>5</th>\n",
       "    </tr>\n",
       "  </thead>\n",
       "  <tbody>\n",
       "    <tr>\n",
       "      <th>0</th>\n",
       "      <td>0.000000</td>\n",
       "      <td>12.721075</td>\n",
       "      <td>12.629166</td>\n",
       "      <td>8.769305</td>\n",
       "      <td>21.494190</td>\n",
       "      <td>34.084635</td>\n",
       "    </tr>\n",
       "    <tr>\n",
       "      <th>1</th>\n",
       "      <td>12.721075</td>\n",
       "      <td>0.000000</td>\n",
       "      <td>22.499291</td>\n",
       "      <td>20.605059</td>\n",
       "      <td>30.390782</td>\n",
       "      <td>42.486557</td>\n",
       "    </tr>\n",
       "    <tr>\n",
       "      <th>2</th>\n",
       "      <td>12.629166</td>\n",
       "      <td>22.499291</td>\n",
       "      <td>0.000000</td>\n",
       "      <td>5.476481</td>\n",
       "      <td>8.881642</td>\n",
       "      <td>21.461469</td>\n",
       "    </tr>\n",
       "    <tr>\n",
       "      <th>3</th>\n",
       "      <td>8.769305</td>\n",
       "      <td>20.605059</td>\n",
       "      <td>5.476481</td>\n",
       "      <td>0.000000</td>\n",
       "      <td>13.867562</td>\n",
       "      <td>26.212062</td>\n",
       "    </tr>\n",
       "    <tr>\n",
       "      <th>4</th>\n",
       "      <td>21.494190</td>\n",
       "      <td>30.390782</td>\n",
       "      <td>8.881642</td>\n",
       "      <td>13.867562</td>\n",
       "      <td>0.000000</td>\n",
       "      <td>12.592549</td>\n",
       "    </tr>\n",
       "    <tr>\n",
       "      <th>5</th>\n",
       "      <td>34.084635</td>\n",
       "      <td>42.486557</td>\n",
       "      <td>21.461469</td>\n",
       "      <td>26.212062</td>\n",
       "      <td>12.592549</td>\n",
       "      <td>0.000000</td>\n",
       "    </tr>\n",
       "  </tbody>\n",
       "</table>\n",
       "</div>"
      ],
      "text/plain": [
       "           0          1          2          3          4          5\n",
       "0   0.000000  12.721075  12.629166   8.769305  21.494190  34.084635\n",
       "1  12.721075   0.000000  22.499291  20.605059  30.390782  42.486557\n",
       "2  12.629166  22.499291   0.000000   5.476481   8.881642  21.461469\n",
       "3   8.769305  20.605059   5.476481   0.000000  13.867562  26.212062\n",
       "4  21.494190  30.390782   8.881642  13.867562   0.000000  12.592549\n",
       "5  34.084635  42.486557  21.461469  26.212062  12.592549   0.000000"
      ]
     },
     "execution_count": 30,
     "metadata": {},
     "output_type": "execute_result"
    }
   ],
   "source": [
    "distance_matrix = gdf.geometry.apply(lambda geom: gdf.distance(geom))\n",
    "\n",
    "distance_matrix"
   ]
  },
  {
   "cell_type": "code",
   "execution_count": 32,
   "metadata": {},
   "outputs": [
    {
     "data": {
      "text/html": [
       "<div>\n",
       "<style scoped>\n",
       "    .dataframe tbody tr th:only-of-type {\n",
       "        vertical-align: middle;\n",
       "    }\n",
       "\n",
       "    .dataframe tbody tr th {\n",
       "        vertical-align: top;\n",
       "    }\n",
       "\n",
       "    .dataframe thead th {\n",
       "        text-align: right;\n",
       "    }\n",
       "</style>\n",
       "<table border=\"1\" class=\"dataframe\">\n",
       "  <thead>\n",
       "    <tr style=\"text-align: right;\">\n",
       "      <th></th>\n",
       "      <th>0</th>\n",
       "      <th>1</th>\n",
       "      <th>2</th>\n",
       "      <th>3</th>\n",
       "      <th>4</th>\n",
       "      <th>5</th>\n",
       "    </tr>\n",
       "    <tr>\n",
       "      <th>name</th>\n",
       "      <th></th>\n",
       "      <th></th>\n",
       "      <th></th>\n",
       "      <th></th>\n",
       "      <th></th>\n",
       "      <th></th>\n",
       "    </tr>\n",
       "  </thead>\n",
       "  <tbody>\n",
       "    <tr>\n",
       "      <th>Jakarta</th>\n",
       "      <td>0.000000</td>\n",
       "      <td>12.721075</td>\n",
       "      <td>12.629166</td>\n",
       "      <td>8.769305</td>\n",
       "      <td>21.494190</td>\n",
       "      <td>34.084635</td>\n",
       "    </tr>\n",
       "    <tr>\n",
       "      <th>Medan</th>\n",
       "      <td>12.721075</td>\n",
       "      <td>0.000000</td>\n",
       "      <td>22.499291</td>\n",
       "      <td>20.605059</td>\n",
       "      <td>30.390782</td>\n",
       "      <td>42.486557</td>\n",
       "    </tr>\n",
       "    <tr>\n",
       "      <th>Makassar</th>\n",
       "      <td>12.629166</td>\n",
       "      <td>22.499291</td>\n",
       "      <td>0.000000</td>\n",
       "      <td>5.476481</td>\n",
       "      <td>8.881642</td>\n",
       "      <td>21.461469</td>\n",
       "    </tr>\n",
       "    <tr>\n",
       "      <th>Denpasar</th>\n",
       "      <td>8.769305</td>\n",
       "      <td>20.605059</td>\n",
       "      <td>5.476481</td>\n",
       "      <td>0.000000</td>\n",
       "      <td>13.867562</td>\n",
       "      <td>26.212062</td>\n",
       "    </tr>\n",
       "    <tr>\n",
       "      <th>Ambon</th>\n",
       "      <td>21.494190</td>\n",
       "      <td>30.390782</td>\n",
       "      <td>8.881642</td>\n",
       "      <td>13.867562</td>\n",
       "      <td>0.000000</td>\n",
       "      <td>12.592549</td>\n",
       "    </tr>\n",
       "    <tr>\n",
       "      <th>Jayapura</th>\n",
       "      <td>34.084635</td>\n",
       "      <td>42.486557</td>\n",
       "      <td>21.461469</td>\n",
       "      <td>26.212062</td>\n",
       "      <td>12.592549</td>\n",
       "      <td>0.000000</td>\n",
       "    </tr>\n",
       "  </tbody>\n",
       "</table>\n",
       "</div>"
      ],
      "text/plain": [
       "                  0          1          2          3          4          5\n",
       "name                                                                      \n",
       "Jakarta    0.000000  12.721075  12.629166   8.769305  21.494190  34.084635\n",
       "Medan     12.721075   0.000000  22.499291  20.605059  30.390782  42.486557\n",
       "Makassar  12.629166  22.499291   0.000000   5.476481   8.881642  21.461469\n",
       "Denpasar   8.769305  20.605059   5.476481   0.000000  13.867562  26.212062\n",
       "Ambon     21.494190  30.390782   8.881642  13.867562   0.000000  12.592549\n",
       "Jayapura  34.084635  42.486557  21.461469  26.212062  12.592549   0.000000"
      ]
     },
     "execution_count": 32,
     "metadata": {},
     "output_type": "execute_result"
    }
   ],
   "source": [
    "distance_df = distance_matrix.set_index(gdf[\"name\"])\n",
    "\n",
    "distance_df"
   ]
  },
  {
   "cell_type": "code",
   "execution_count": 33,
   "metadata": {},
   "outputs": [],
   "source": [
    "distance_df.columns = gdf[\"name\"]"
   ]
  },
  {
   "cell_type": "code",
   "execution_count": 34,
   "metadata": {},
   "outputs": [
    {
     "data": {
      "text/html": [
       "<div>\n",
       "<style scoped>\n",
       "    .dataframe tbody tr th:only-of-type {\n",
       "        vertical-align: middle;\n",
       "    }\n",
       "\n",
       "    .dataframe tbody tr th {\n",
       "        vertical-align: top;\n",
       "    }\n",
       "\n",
       "    .dataframe thead th {\n",
       "        text-align: right;\n",
       "    }\n",
       "</style>\n",
       "<table border=\"1\" class=\"dataframe\">\n",
       "  <thead>\n",
       "    <tr style=\"text-align: right;\">\n",
       "      <th>name</th>\n",
       "      <th>Jakarta</th>\n",
       "      <th>Medan</th>\n",
       "      <th>Makassar</th>\n",
       "      <th>Denpasar</th>\n",
       "      <th>Ambon</th>\n",
       "      <th>Jayapura</th>\n",
       "    </tr>\n",
       "    <tr>\n",
       "      <th>name</th>\n",
       "      <th></th>\n",
       "      <th></th>\n",
       "      <th></th>\n",
       "      <th></th>\n",
       "      <th></th>\n",
       "      <th></th>\n",
       "    </tr>\n",
       "  </thead>\n",
       "  <tbody>\n",
       "    <tr>\n",
       "      <th>Jakarta</th>\n",
       "      <td>0.000000</td>\n",
       "      <td>12.721075</td>\n",
       "      <td>12.629166</td>\n",
       "      <td>8.769305</td>\n",
       "      <td>21.494190</td>\n",
       "      <td>34.084635</td>\n",
       "    </tr>\n",
       "    <tr>\n",
       "      <th>Medan</th>\n",
       "      <td>12.721075</td>\n",
       "      <td>0.000000</td>\n",
       "      <td>22.499291</td>\n",
       "      <td>20.605059</td>\n",
       "      <td>30.390782</td>\n",
       "      <td>42.486557</td>\n",
       "    </tr>\n",
       "    <tr>\n",
       "      <th>Makassar</th>\n",
       "      <td>12.629166</td>\n",
       "      <td>22.499291</td>\n",
       "      <td>0.000000</td>\n",
       "      <td>5.476481</td>\n",
       "      <td>8.881642</td>\n",
       "      <td>21.461469</td>\n",
       "    </tr>\n",
       "    <tr>\n",
       "      <th>Denpasar</th>\n",
       "      <td>8.769305</td>\n",
       "      <td>20.605059</td>\n",
       "      <td>5.476481</td>\n",
       "      <td>0.000000</td>\n",
       "      <td>13.867562</td>\n",
       "      <td>26.212062</td>\n",
       "    </tr>\n",
       "    <tr>\n",
       "      <th>Ambon</th>\n",
       "      <td>21.494190</td>\n",
       "      <td>30.390782</td>\n",
       "      <td>8.881642</td>\n",
       "      <td>13.867562</td>\n",
       "      <td>0.000000</td>\n",
       "      <td>12.592549</td>\n",
       "    </tr>\n",
       "    <tr>\n",
       "      <th>Jayapura</th>\n",
       "      <td>34.084635</td>\n",
       "      <td>42.486557</td>\n",
       "      <td>21.461469</td>\n",
       "      <td>26.212062</td>\n",
       "      <td>12.592549</td>\n",
       "      <td>0.000000</td>\n",
       "    </tr>\n",
       "  </tbody>\n",
       "</table>\n",
       "</div>"
      ],
      "text/plain": [
       "name        Jakarta      Medan   Makassar   Denpasar      Ambon   Jayapura\n",
       "name                                                                      \n",
       "Jakarta    0.000000  12.721075  12.629166   8.769305  21.494190  34.084635\n",
       "Medan     12.721075   0.000000  22.499291  20.605059  30.390782  42.486557\n",
       "Makassar  12.629166  22.499291   0.000000   5.476481   8.881642  21.461469\n",
       "Denpasar   8.769305  20.605059   5.476481   0.000000  13.867562  26.212062\n",
       "Ambon     21.494190  30.390782   8.881642  13.867562   0.000000  12.592549\n",
       "Jayapura  34.084635  42.486557  21.461469  26.212062  12.592549   0.000000"
      ]
     },
     "execution_count": 34,
     "metadata": {},
     "output_type": "execute_result"
    }
   ],
   "source": [
    "distance_df"
   ]
  },
  {
   "cell_type": "markdown",
   "metadata": {},
   "source": [
    "### Using metric units"
   ]
  },
  {
   "cell_type": "code",
   "execution_count": 44,
   "metadata": {},
   "outputs": [
    {
     "name": "stderr",
     "output_type": "stream",
     "text": [
      "/var/folders/x2/fsb9vgcn65d5s9nbfh7b7p2r0000gn/T/ipykernel_95439/3257439098.py:1: UserWarning: Geometry is in a geographic CRS. Results from 'distance' are likely incorrect. Use 'GeoSeries.to_crs()' to re-project geometries to a projected CRS before this operation.\n",
      "\n",
      "  distance_matrix_metric = gdf.to_crs(3857).geometry.apply(lambda geom: gdf.distance(geom) / 1_000_000)\n"
     ]
    },
    {
     "data": {
      "text/html": [
       "<div>\n",
       "<style scoped>\n",
       "    .dataframe tbody tr th:only-of-type {\n",
       "        vertical-align: middle;\n",
       "    }\n",
       "\n",
       "    .dataframe tbody tr th {\n",
       "        vertical-align: top;\n",
       "    }\n",
       "\n",
       "    .dataframe thead th {\n",
       "        text-align: right;\n",
       "    }\n",
       "</style>\n",
       "<table border=\"1\" class=\"dataframe\">\n",
       "  <thead>\n",
       "    <tr style=\"text-align: right;\">\n",
       "      <th></th>\n",
       "      <th>0</th>\n",
       "      <th>1</th>\n",
       "      <th>2</th>\n",
       "      <th>3</th>\n",
       "      <th>4</th>\n",
       "      <th>5</th>\n",
       "    </tr>\n",
       "  </thead>\n",
       "  <tbody>\n",
       "    <tr>\n",
       "      <th>0</th>\n",
       "      <td>11.911803</td>\n",
       "      <td>11.911812</td>\n",
       "      <td>11.911791</td>\n",
       "      <td>11.911795</td>\n",
       "      <td>11.911782</td>\n",
       "      <td>11.911770</td>\n",
       "    </tr>\n",
       "    <tr>\n",
       "      <th>1</th>\n",
       "      <td>10.991495</td>\n",
       "      <td>10.991503</td>\n",
       "      <td>10.991483</td>\n",
       "      <td>10.991487</td>\n",
       "      <td>10.991474</td>\n",
       "      <td>10.991461</td>\n",
       "    </tr>\n",
       "    <tr>\n",
       "      <th>2</th>\n",
       "      <td>13.305264</td>\n",
       "      <td>13.305272</td>\n",
       "      <td>13.305251</td>\n",
       "      <td>13.305255</td>\n",
       "      <td>13.305243</td>\n",
       "      <td>13.305230</td>\n",
       "    </tr>\n",
       "    <tr>\n",
       "      <th>3</th>\n",
       "      <td>12.864220</td>\n",
       "      <td>12.864229</td>\n",
       "      <td>12.864207</td>\n",
       "      <td>12.864211</td>\n",
       "      <td>12.864199</td>\n",
       "      <td>12.864186</td>\n",
       "    </tr>\n",
       "    <tr>\n",
       "      <th>4</th>\n",
       "      <td>14.274581</td>\n",
       "      <td>14.274589</td>\n",
       "      <td>14.274568</td>\n",
       "      <td>14.274572</td>\n",
       "      <td>14.274560</td>\n",
       "      <td>14.274547</td>\n",
       "    </tr>\n",
       "    <tr>\n",
       "      <th>5</th>\n",
       "      <td>15.666977</td>\n",
       "      <td>15.666985</td>\n",
       "      <td>15.666965</td>\n",
       "      <td>15.666969</td>\n",
       "      <td>15.666956</td>\n",
       "      <td>15.666943</td>\n",
       "    </tr>\n",
       "  </tbody>\n",
       "</table>\n",
       "</div>"
      ],
      "text/plain": [
       "           0          1          2          3          4          5\n",
       "0  11.911803  11.911812  11.911791  11.911795  11.911782  11.911770\n",
       "1  10.991495  10.991503  10.991483  10.991487  10.991474  10.991461\n",
       "2  13.305264  13.305272  13.305251  13.305255  13.305243  13.305230\n",
       "3  12.864220  12.864229  12.864207  12.864211  12.864199  12.864186\n",
       "4  14.274581  14.274589  14.274568  14.274572  14.274560  14.274547\n",
       "5  15.666977  15.666985  15.666965  15.666969  15.666956  15.666943"
      ]
     },
     "execution_count": 44,
     "metadata": {},
     "output_type": "execute_result"
    }
   ],
   "source": [
    "distance_matrix_metric = gdf.to_crs(3857).geometry.apply(lambda geom: gdf.distance(geom) / 1_000_000)\n",
    "\n",
    "distance_matrix_metric"
   ]
  },
  {
   "cell_type": "code",
   "execution_count": 45,
   "metadata": {},
   "outputs": [],
   "source": [
    "pd.options.display.float_format = \"{:.2f}\".format"
   ]
  },
  {
   "cell_type": "code",
   "execution_count": 46,
   "metadata": {},
   "outputs": [
    {
     "data": {
      "text/html": [
       "<div>\n",
       "<style scoped>\n",
       "    .dataframe tbody tr th:only-of-type {\n",
       "        vertical-align: middle;\n",
       "    }\n",
       "\n",
       "    .dataframe tbody tr th {\n",
       "        vertical-align: top;\n",
       "    }\n",
       "\n",
       "    .dataframe thead th {\n",
       "        text-align: right;\n",
       "    }\n",
       "</style>\n",
       "<table border=\"1\" class=\"dataframe\">\n",
       "  <thead>\n",
       "    <tr style=\"text-align: right;\">\n",
       "      <th></th>\n",
       "      <th>0</th>\n",
       "      <th>1</th>\n",
       "      <th>2</th>\n",
       "      <th>3</th>\n",
       "      <th>4</th>\n",
       "      <th>5</th>\n",
       "    </tr>\n",
       "  </thead>\n",
       "  <tbody>\n",
       "    <tr>\n",
       "      <th>0</th>\n",
       "      <td>11.91</td>\n",
       "      <td>11.91</td>\n",
       "      <td>11.91</td>\n",
       "      <td>11.91</td>\n",
       "      <td>11.91</td>\n",
       "      <td>11.91</td>\n",
       "    </tr>\n",
       "    <tr>\n",
       "      <th>1</th>\n",
       "      <td>10.99</td>\n",
       "      <td>10.99</td>\n",
       "      <td>10.99</td>\n",
       "      <td>10.99</td>\n",
       "      <td>10.99</td>\n",
       "      <td>10.99</td>\n",
       "    </tr>\n",
       "    <tr>\n",
       "      <th>2</th>\n",
       "      <td>13.31</td>\n",
       "      <td>13.31</td>\n",
       "      <td>13.31</td>\n",
       "      <td>13.31</td>\n",
       "      <td>13.31</td>\n",
       "      <td>13.31</td>\n",
       "    </tr>\n",
       "    <tr>\n",
       "      <th>3</th>\n",
       "      <td>12.86</td>\n",
       "      <td>12.86</td>\n",
       "      <td>12.86</td>\n",
       "      <td>12.86</td>\n",
       "      <td>12.86</td>\n",
       "      <td>12.86</td>\n",
       "    </tr>\n",
       "    <tr>\n",
       "      <th>4</th>\n",
       "      <td>14.27</td>\n",
       "      <td>14.27</td>\n",
       "      <td>14.27</td>\n",
       "      <td>14.27</td>\n",
       "      <td>14.27</td>\n",
       "      <td>14.27</td>\n",
       "    </tr>\n",
       "    <tr>\n",
       "      <th>5</th>\n",
       "      <td>15.67</td>\n",
       "      <td>15.67</td>\n",
       "      <td>15.67</td>\n",
       "      <td>15.67</td>\n",
       "      <td>15.67</td>\n",
       "      <td>15.67</td>\n",
       "    </tr>\n",
       "  </tbody>\n",
       "</table>\n",
       "</div>"
      ],
      "text/plain": [
       "      0     1     2     3     4     5\n",
       "0 11.91 11.91 11.91 11.91 11.91 11.91\n",
       "1 10.99 10.99 10.99 10.99 10.99 10.99\n",
       "2 13.31 13.31 13.31 13.31 13.31 13.31\n",
       "3 12.86 12.86 12.86 12.86 12.86 12.86\n",
       "4 14.27 14.27 14.27 14.27 14.27 14.27\n",
       "5 15.67 15.67 15.67 15.67 15.67 15.67"
      ]
     },
     "execution_count": 46,
     "metadata": {},
     "output_type": "execute_result"
    }
   ],
   "source": [
    "distance_matrix_metric"
   ]
  },
  {
   "cell_type": "code",
   "execution_count": 47,
   "metadata": {},
   "outputs": [
    {
     "data": {
      "text/html": [
       "<div>\n",
       "<style scoped>\n",
       "    .dataframe tbody tr th:only-of-type {\n",
       "        vertical-align: middle;\n",
       "    }\n",
       "\n",
       "    .dataframe tbody tr th {\n",
       "        vertical-align: top;\n",
       "    }\n",
       "\n",
       "    .dataframe thead th {\n",
       "        text-align: right;\n",
       "    }\n",
       "</style>\n",
       "<table border=\"1\" class=\"dataframe\">\n",
       "  <thead>\n",
       "    <tr style=\"text-align: right;\">\n",
       "      <th>name</th>\n",
       "      <th>Jakarta</th>\n",
       "      <th>Medan</th>\n",
       "      <th>Makassar</th>\n",
       "      <th>Denpasar</th>\n",
       "      <th>Ambon</th>\n",
       "      <th>Jayapura</th>\n",
       "    </tr>\n",
       "    <tr>\n",
       "      <th>name</th>\n",
       "      <th></th>\n",
       "      <th></th>\n",
       "      <th></th>\n",
       "      <th></th>\n",
       "      <th></th>\n",
       "      <th></th>\n",
       "    </tr>\n",
       "  </thead>\n",
       "  <tbody>\n",
       "    <tr>\n",
       "      <th>Jakarta</th>\n",
       "      <td>0.00</td>\n",
       "      <td>12.72</td>\n",
       "      <td>12.63</td>\n",
       "      <td>8.77</td>\n",
       "      <td>21.49</td>\n",
       "      <td>34.08</td>\n",
       "    </tr>\n",
       "    <tr>\n",
       "      <th>Medan</th>\n",
       "      <td>12.72</td>\n",
       "      <td>0.00</td>\n",
       "      <td>22.50</td>\n",
       "      <td>20.61</td>\n",
       "      <td>30.39</td>\n",
       "      <td>42.49</td>\n",
       "    </tr>\n",
       "    <tr>\n",
       "      <th>Makassar</th>\n",
       "      <td>12.63</td>\n",
       "      <td>22.50</td>\n",
       "      <td>0.00</td>\n",
       "      <td>5.48</td>\n",
       "      <td>8.88</td>\n",
       "      <td>21.46</td>\n",
       "    </tr>\n",
       "    <tr>\n",
       "      <th>Denpasar</th>\n",
       "      <td>8.77</td>\n",
       "      <td>20.61</td>\n",
       "      <td>5.48</td>\n",
       "      <td>0.00</td>\n",
       "      <td>13.87</td>\n",
       "      <td>26.21</td>\n",
       "    </tr>\n",
       "    <tr>\n",
       "      <th>Ambon</th>\n",
       "      <td>21.49</td>\n",
       "      <td>30.39</td>\n",
       "      <td>8.88</td>\n",
       "      <td>13.87</td>\n",
       "      <td>0.00</td>\n",
       "      <td>12.59</td>\n",
       "    </tr>\n",
       "    <tr>\n",
       "      <th>Jayapura</th>\n",
       "      <td>34.08</td>\n",
       "      <td>42.49</td>\n",
       "      <td>21.46</td>\n",
       "      <td>26.21</td>\n",
       "      <td>12.59</td>\n",
       "      <td>0.00</td>\n",
       "    </tr>\n",
       "  </tbody>\n",
       "</table>\n",
       "</div>"
      ],
      "text/plain": [
       "name      Jakarta  Medan  Makassar  Denpasar  Ambon  Jayapura\n",
       "name                                                         \n",
       "Jakarta      0.00  12.72     12.63      8.77  21.49     34.08\n",
       "Medan       12.72   0.00     22.50     20.61  30.39     42.49\n",
       "Makassar    12.63  22.50      0.00      5.48   8.88     21.46\n",
       "Denpasar     8.77  20.61      5.48      0.00  13.87     26.21\n",
       "Ambon       21.49  30.39      8.88     13.87   0.00     12.59\n",
       "Jayapura    34.08  42.49     21.46     26.21  12.59      0.00"
      ]
     },
     "execution_count": 47,
     "metadata": {},
     "output_type": "execute_result"
    }
   ],
   "source": [
    "distance_df = distance_matrix.set_index(gdf[\"name\"])\n",
    "distance_df.columns = gdf[\"name\"]\n",
    "\n",
    "distance_df"
   ]
  },
  {
   "cell_type": "markdown",
   "metadata": {},
   "source": [
    "## Calculate cities travel distance with perimeter"
   ]
  },
  {
   "cell_type": "code",
   "execution_count": null,
   "metadata": {},
   "outputs": [
    {
     "data": {
      "image/svg+xml": [
       "<svg xmlns=\"http://www.w3.org/2000/svg\" xmlns:xlink=\"http://www.w3.org/1999/xlink\" width=\"100.0\" height=\"100.0\" viewBox=\"96.99216444444446 -10.353391111111112 45.40656000000001 15.62456\" preserveAspectRatio=\"xMinYMin meet\"><g transform=\"matrix(1,0,0,-1,0,-5.082222222222223)\"><path fill-rule=\"evenodd\" fill=\"#ff3333\" stroke=\"#555555\" stroke-width=\"0.9081312000000002\" opacity=\"0.6\" d=\"M 106.8275,-6.175000000000001 L 98.6738888888889,3.5894444444444447 L 119.41361111111112,-5.133055555555555 L 115.23388888888888,-8.671666666666667 L 128.1783333333333,-3.6966666666666668 L 140.717,-2.533 L 106.8275,-6.175000000000001 z\" /></g></svg>"
      ],
      "text/plain": [
       "<POLYGON ((106.828 -6.175, 98.674 3.589, 119.414 -5.133, 115.234 -8.672, 128...>"
      ]
     },
     "execution_count": 51,
     "metadata": {},
     "output_type": "execute_result"
    }
   ],
   "source": [
    "Polygon(gdf.geometry.tolist())"
   ]
  },
  {
   "cell_type": "code",
   "execution_count": 52,
   "metadata": {},
   "outputs": [],
   "source": [
    "cities_travel_poly = Polygon(gdf.geometry.tolist())"
   ]
  },
  {
   "cell_type": "code",
   "execution_count": 53,
   "metadata": {},
   "outputs": [
    {
     "data": {
      "text/plain": [
       "101.24159277281578"
      ]
     },
     "execution_count": 53,
     "metadata": {},
     "output_type": "execute_result"
    }
   ],
   "source": [
    "cities_travel_poly.length"
   ]
  },
  {
   "cell_type": "markdown",
   "metadata": {},
   "source": [
    "### Calculate using metric (km) distance"
   ]
  },
  {
   "cell_type": "code",
   "execution_count": 56,
   "metadata": {},
   "outputs": [
    {
     "data": {
      "text/plain": [
       "<Concatenated Operation Transformer: pipeline>\n",
       "Description: axis order change (2D) + Popular Visualisation Pseudo-Mercator\n",
       "Area of Use:\n",
       "- name: World\n",
       "- bounds: (-180.0, -90.0, 180.0, 90.0)"
      ]
     },
     "execution_count": 56,
     "metadata": {},
     "output_type": "execute_result"
    }
   ],
   "source": [
    "transformer = Transformer.from_crs(\"EPSG:4326\", \"EPSG:3857\", always_xy=True)\n",
    "\n",
    "transformer"
   ]
  },
  {
   "cell_type": "code",
   "execution_count": 75,
   "metadata": {},
   "outputs": [],
   "source": [
    "polygon_projected = transform(transformer.transform, cities_travel_poly)"
   ]
  },
  {
   "cell_type": "code",
   "execution_count": 76,
   "metadata": {},
   "outputs": [
    {
     "name": "stdout",
     "output_type": "stream",
     "text": [
      "POLYGON ((106.8275 -6.175000000000001, 98.6738888888889 3.5894444444444447, 119.41361111111112 -5.133055555555555, 115.23388888888888 -8.671666666666667, 128.1783333333333 -3.6966666666666668, 140.717 -2.533, 106.8275 -6.175000000000001))\n",
      "POLYGON ((11891982.902718432 -688732.449508249, 10984327.065703167 399836.75493146083, 13293062.382674886 -572175.0361374062, 12827777.833239777 -969032.1452182971, 14268746.797397148 -411796.8480814372, 15664544.78595708 -282064.16531770246, 11891982.902718432 -688732.449508249))\n"
     ]
    }
   ],
   "source": [
    "print(cities_travel_poly)\n",
    "print(polygon_projected)"
   ]
  },
  {
   "cell_type": "code",
   "execution_count": 78,
   "metadata": {},
   "outputs": [
    {
     "data": {
      "text/plain": [
       "11275.07238292075"
      ]
     },
     "execution_count": 78,
     "metadata": {},
     "output_type": "execute_result"
    }
   ],
   "source": [
    "travel_distance = polygon_projected.length / 1_000\n",
    "\n",
    "travel_distance"
   ]
  },
  {
   "cell_type": "code",
   "execution_count": 83,
   "metadata": {},
   "outputs": [
    {
     "data": {
      "text/plain": [
       "'11,275.07 km'"
      ]
     },
     "execution_count": 83,
     "metadata": {},
     "output_type": "execute_result"
    }
   ],
   "source": [
    "\"{:,.2f} km\".format(travel_distance)"
   ]
  },
  {
   "cell_type": "code",
   "execution_count": null,
   "metadata": {},
   "outputs": [],
   "source": []
  }
 ],
 "metadata": {
  "kernelspec": {
   "display_name": "venv",
   "language": "python",
   "name": "python3"
  },
  "language_info": {
   "codemirror_mode": {
    "name": "ipython",
    "version": 3
   },
   "file_extension": ".py",
   "mimetype": "text/x-python",
   "name": "python",
   "nbconvert_exporter": "python",
   "pygments_lexer": "ipython3",
   "version": "3.13.2"
  }
 },
 "nbformat": 4,
 "nbformat_minor": 2
}
